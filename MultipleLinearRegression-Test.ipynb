{
 "cells": [
  {
   "cell_type": "markdown",
   "metadata": {},
   "source": [
    "## Machine Machine Learning with Multiple Linear Regression"
   ]
  },
  {
   "cell_type": "markdown",
   "metadata": {},
   "source": [
    "In this project, I will use multiple linear regression to predict the Fuel Used (in Liters) based upon Loaded Travel Distances (in Km), per Empty Travel Distance (Km) and Payload Weight.To test for the effects of interactions on the significance of any one variable in a linear regression model a technique known as step-wise regression. I will be Using step-wise regression you add or remove variables from the model and assess the statistical significance of each variable on the resultant model."
   ]
  },
  {
   "cell_type": "markdown",
   "metadata": {},
   "source": [
    "### Importing the Libraries"
   ]
  },
  {
   "cell_type": "code",
   "execution_count": 163,
   "metadata": {},
   "outputs": [],
   "source": [
    "import pandas as pd \n",
    "import numpy as np\n",
    "import matplotlib.pyplot as plt \n",
    "import seaborn as sns\n",
    "%matplotlib inline \n",
    "from sklearn import preprocessing\n",
    "from math import sqrt\n",
    "from sklearn.linear_model import LinearRegression\n",
    "from sklearn.model_selection import train_test_split\n",
    "from sklearn.model_selection import KFold\n",
    "pd.set_option('display.max_colwidth', -1)"
   ]
  },
  {
   "cell_type": "markdown",
   "metadata": {},
   "source": [
    "### Dataset"
   ]
  },
  {
   "cell_type": "code",
   "execution_count": 192,
   "metadata": {},
   "outputs": [
    {
     "data": {
      "text/html": [
       "<div>\n",
       "<style scoped>\n",
       "    .dataframe tbody tr th:only-of-type {\n",
       "        vertical-align: middle;\n",
       "    }\n",
       "\n",
       "    .dataframe tbody tr th {\n",
       "        vertical-align: top;\n",
       "    }\n",
       "\n",
       "    .dataframe thead th {\n",
       "        text-align: right;\n",
       "    }\n",
       "</style>\n",
       "<table border=\"1\" class=\"dataframe\">\n",
       "  <thead>\n",
       "    <tr style=\"text-align: right;\">\n",
       "      <th></th>\n",
       "      <th>MACH_SER_NO</th>\n",
       "      <th>OCUR_TS_Date</th>\n",
       "      <th>OCUR_TS_Time</th>\n",
       "      <th>PAYLD_WT</th>\n",
       "      <th>LD_TM</th>\n",
       "      <th>EMTY_STOP_TM</th>\n",
       "      <th>EMTY_TRAV_TM</th>\n",
       "      <th>EMTY_TRAV_DSTNC</th>\n",
       "      <th>LD_STOP_TM</th>\n",
       "      <th>LD_TRAV_TM</th>\n",
       "      <th>LD_TRAV_DSTNC</th>\n",
       "      <th>LD_PASS_CT</th>\n",
       "      <th>FUEL_USED_IN_CYC</th>\n",
       "      <th>SHFT_CT</th>\n",
       "      <th>OCUR_TS_LOCAL</th>\n",
       "    </tr>\n",
       "  </thead>\n",
       "  <tbody>\n",
       "    <tr>\n",
       "      <td>0</td>\n",
       "      <td>Truck 1</td>\n",
       "      <td>22-Jul-16</td>\n",
       "      <td>05.44.52.000000000 AM</td>\n",
       "      <td>349.7</td>\n",
       "      <td>193.0</td>\n",
       "      <td>454.0</td>\n",
       "      <td>711.0</td>\n",
       "      <td>3.6</td>\n",
       "      <td>648.0</td>\n",
       "      <td>610.0</td>\n",
       "      <td>2.8</td>\n",
       "      <td>5.0</td>\n",
       "      <td>77.600942</td>\n",
       "      <td>79.0</td>\n",
       "      <td>22-JUL-16 12.44.52.000000000 AM</td>\n",
       "    </tr>\n",
       "    <tr>\n",
       "      <td>1</td>\n",
       "      <td>Truck 1</td>\n",
       "      <td>22-Jul-16</td>\n",
       "      <td>06.30.20.000000000 AM</td>\n",
       "      <td>336.5</td>\n",
       "      <td>323.0</td>\n",
       "      <td>99.0</td>\n",
       "      <td>177.0</td>\n",
       "      <td>0.6</td>\n",
       "      <td>56.0</td>\n",
       "      <td>1225.0</td>\n",
       "      <td>6.8</td>\n",
       "      <td>6.0</td>\n",
       "      <td>177.914355</td>\n",
       "      <td>73.0</td>\n",
       "      <td>22-JUL-16 01.30.20.000000000 AM</td>\n",
       "    </tr>\n",
       "    <tr>\n",
       "      <td>2</td>\n",
       "      <td>Truck 1</td>\n",
       "      <td>22-Jul-16</td>\n",
       "      <td>07.02.59.000000000 AM</td>\n",
       "      <td>356.3</td>\n",
       "      <td>321.0</td>\n",
       "      <td>864.0</td>\n",
       "      <td>867.0</td>\n",
       "      <td>5.7</td>\n",
       "      <td>61.0</td>\n",
       "      <td>857.0</td>\n",
       "      <td>4.6</td>\n",
       "      <td>4.0</td>\n",
       "      <td>138.167531</td>\n",
       "      <td>100.0</td>\n",
       "      <td>22-JUL-16 02.02.59.000000000 AM</td>\n",
       "    </tr>\n",
       "    <tr>\n",
       "      <td>3</td>\n",
       "      <td>Truck 1</td>\n",
       "      <td>22-Jul-16</td>\n",
       "      <td>07.54.33.000000000 AM</td>\n",
       "      <td>343.1</td>\n",
       "      <td>361.0</td>\n",
       "      <td>594.0</td>\n",
       "      <td>667.0</td>\n",
       "      <td>4.6</td>\n",
       "      <td>63.0</td>\n",
       "      <td>871.0</td>\n",
       "      <td>4.6</td>\n",
       "      <td>4.0</td>\n",
       "      <td>140.060237</td>\n",
       "      <td>99.0</td>\n",
       "      <td>22-JUL-16 02.54.33.000000000 AM</td>\n",
       "    </tr>\n",
       "    <tr>\n",
       "      <td>4</td>\n",
       "      <td>Truck 1</td>\n",
       "      <td>22-Jul-16</td>\n",
       "      <td>08.38.55.000000000 AM</td>\n",
       "      <td>379.3</td>\n",
       "      <td>218.0</td>\n",
       "      <td>689.0</td>\n",
       "      <td>894.0</td>\n",
       "      <td>6.4</td>\n",
       "      <td>3725.0</td>\n",
       "      <td>1130.0</td>\n",
       "      <td>4.4</td>\n",
       "      <td>5.0</td>\n",
       "      <td>219.080709</td>\n",
       "      <td>103.0</td>\n",
       "      <td>22-JUL-16 03.38.55.000000000 AM</td>\n",
       "    </tr>\n",
       "  </tbody>\n",
       "</table>\n",
       "</div>"
      ],
      "text/plain": [
       "  MACH_SER_NO OCUR_TS_Date           OCUR_TS_Time  PAYLD_WT  LD_TM  \\\n",
       "0  Truck 1     22-Jul-16    05.44.52.000000000 AM  349.7     193.0   \n",
       "1  Truck 1     22-Jul-16    06.30.20.000000000 AM  336.5     323.0   \n",
       "2  Truck 1     22-Jul-16    07.02.59.000000000 AM  356.3     321.0   \n",
       "3  Truck 1     22-Jul-16    07.54.33.000000000 AM  343.1     361.0   \n",
       "4  Truck 1     22-Jul-16    08.38.55.000000000 AM  379.3     218.0   \n",
       "\n",
       "   EMTY_STOP_TM  EMTY_TRAV_TM  EMTY_TRAV_DSTNC  LD_STOP_TM  LD_TRAV_TM  \\\n",
       "0  454.0         711.0         3.6              648.0       610.0        \n",
       "1  99.0          177.0         0.6              56.0        1225.0       \n",
       "2  864.0         867.0         5.7              61.0        857.0        \n",
       "3  594.0         667.0         4.6              63.0        871.0        \n",
       "4  689.0         894.0         6.4              3725.0      1130.0       \n",
       "\n",
       "   LD_TRAV_DSTNC  LD_PASS_CT  FUEL_USED_IN_CYC  SHFT_CT  \\\n",
       "0  2.8            5.0         77.600942         79.0      \n",
       "1  6.8            6.0         177.914355        73.0      \n",
       "2  4.6            4.0         138.167531        100.0     \n",
       "3  4.6            4.0         140.060237        99.0      \n",
       "4  4.4            5.0         219.080709        103.0     \n",
       "\n",
       "                     OCUR_TS_LOCAL  \n",
       "0  22-JUL-16 12.44.52.000000000 AM  \n",
       "1  22-JUL-16 01.30.20.000000000 AM  \n",
       "2  22-JUL-16 02.02.59.000000000 AM  \n",
       "3  22-JUL-16 02.54.33.000000000 AM  \n",
       "4  22-JUL-16 03.38.55.000000000 AM  "
      ]
     },
     "execution_count": 192,
     "metadata": {},
     "output_type": "execute_result"
    }
   ],
   "source": [
    "#Load the dataset\n",
    "dataset = pd.read_csv(\"../machine/Payload trucks 1_10 updated.csv\")\n",
    "dataset.head()"
   ]
  },
  {
   "cell_type": "code",
   "execution_count": 193,
   "metadata": {},
   "outputs": [],
   "source": [
    "dataset.drop(['OCUR_TS_LOCAL', 'OCUR_TS_Time', \n",
    "                'OCUR_TS_Date', 'MACH_SER_NO'], axis=1, inplace=True)"
   ]
  },
  {
   "cell_type": "code",
   "execution_count": 194,
   "metadata": {},
   "outputs": [
    {
     "data": {
      "text/html": [
       "<div>\n",
       "<style scoped>\n",
       "    .dataframe tbody tr th:only-of-type {\n",
       "        vertical-align: middle;\n",
       "    }\n",
       "\n",
       "    .dataframe tbody tr th {\n",
       "        vertical-align: top;\n",
       "    }\n",
       "\n",
       "    .dataframe thead th {\n",
       "        text-align: right;\n",
       "    }\n",
       "</style>\n",
       "<table border=\"1\" class=\"dataframe\">\n",
       "  <thead>\n",
       "    <tr style=\"text-align: right;\">\n",
       "      <th></th>\n",
       "      <th>PAYLD_WT</th>\n",
       "      <th>LD_TM</th>\n",
       "      <th>EMTY_STOP_TM</th>\n",
       "      <th>EMTY_TRAV_TM</th>\n",
       "      <th>EMTY_TRAV_DSTNC</th>\n",
       "      <th>LD_STOP_TM</th>\n",
       "      <th>LD_TRAV_TM</th>\n",
       "      <th>LD_TRAV_DSTNC</th>\n",
       "      <th>LD_PASS_CT</th>\n",
       "      <th>FUEL_USED_IN_CYC</th>\n",
       "      <th>SHFT_CT</th>\n",
       "    </tr>\n",
       "  </thead>\n",
       "  <tbody>\n",
       "    <tr>\n",
       "      <td>0</td>\n",
       "      <td>349.7</td>\n",
       "      <td>193.0</td>\n",
       "      <td>454.0</td>\n",
       "      <td>711.0</td>\n",
       "      <td>3.6</td>\n",
       "      <td>648.0</td>\n",
       "      <td>610.0</td>\n",
       "      <td>2.8</td>\n",
       "      <td>5.0</td>\n",
       "      <td>77.600942</td>\n",
       "      <td>79.0</td>\n",
       "    </tr>\n",
       "    <tr>\n",
       "      <td>1</td>\n",
       "      <td>336.5</td>\n",
       "      <td>323.0</td>\n",
       "      <td>99.0</td>\n",
       "      <td>177.0</td>\n",
       "      <td>0.6</td>\n",
       "      <td>56.0</td>\n",
       "      <td>1225.0</td>\n",
       "      <td>6.8</td>\n",
       "      <td>6.0</td>\n",
       "      <td>177.914355</td>\n",
       "      <td>73.0</td>\n",
       "    </tr>\n",
       "    <tr>\n",
       "      <td>2</td>\n",
       "      <td>356.3</td>\n",
       "      <td>321.0</td>\n",
       "      <td>864.0</td>\n",
       "      <td>867.0</td>\n",
       "      <td>5.7</td>\n",
       "      <td>61.0</td>\n",
       "      <td>857.0</td>\n",
       "      <td>4.6</td>\n",
       "      <td>4.0</td>\n",
       "      <td>138.167531</td>\n",
       "      <td>100.0</td>\n",
       "    </tr>\n",
       "    <tr>\n",
       "      <td>3</td>\n",
       "      <td>343.1</td>\n",
       "      <td>361.0</td>\n",
       "      <td>594.0</td>\n",
       "      <td>667.0</td>\n",
       "      <td>4.6</td>\n",
       "      <td>63.0</td>\n",
       "      <td>871.0</td>\n",
       "      <td>4.6</td>\n",
       "      <td>4.0</td>\n",
       "      <td>140.060237</td>\n",
       "      <td>99.0</td>\n",
       "    </tr>\n",
       "    <tr>\n",
       "      <td>4</td>\n",
       "      <td>379.3</td>\n",
       "      <td>218.0</td>\n",
       "      <td>689.0</td>\n",
       "      <td>894.0</td>\n",
       "      <td>6.4</td>\n",
       "      <td>3725.0</td>\n",
       "      <td>1130.0</td>\n",
       "      <td>4.4</td>\n",
       "      <td>5.0</td>\n",
       "      <td>219.080709</td>\n",
       "      <td>103.0</td>\n",
       "    </tr>\n",
       "    <tr>\n",
       "      <td>...</td>\n",
       "      <td>...</td>\n",
       "      <td>...</td>\n",
       "      <td>...</td>\n",
       "      <td>...</td>\n",
       "      <td>...</td>\n",
       "      <td>...</td>\n",
       "      <td>...</td>\n",
       "      <td>...</td>\n",
       "      <td>...</td>\n",
       "      <td>...</td>\n",
       "      <td>...</td>\n",
       "    </tr>\n",
       "    <tr>\n",
       "      <td>70648</td>\n",
       "      <td>NaN</td>\n",
       "      <td>NaN</td>\n",
       "      <td>NaN</td>\n",
       "      <td>NaN</td>\n",
       "      <td>NaN</td>\n",
       "      <td>NaN</td>\n",
       "      <td>NaN</td>\n",
       "      <td>NaN</td>\n",
       "      <td>NaN</td>\n",
       "      <td>NaN</td>\n",
       "      <td>NaN</td>\n",
       "    </tr>\n",
       "    <tr>\n",
       "      <td>70649</td>\n",
       "      <td>NaN</td>\n",
       "      <td>NaN</td>\n",
       "      <td>NaN</td>\n",
       "      <td>NaN</td>\n",
       "      <td>NaN</td>\n",
       "      <td>NaN</td>\n",
       "      <td>NaN</td>\n",
       "      <td>NaN</td>\n",
       "      <td>NaN</td>\n",
       "      <td>NaN</td>\n",
       "      <td>NaN</td>\n",
       "    </tr>\n",
       "    <tr>\n",
       "      <td>70650</td>\n",
       "      <td>NaN</td>\n",
       "      <td>NaN</td>\n",
       "      <td>NaN</td>\n",
       "      <td>NaN</td>\n",
       "      <td>NaN</td>\n",
       "      <td>NaN</td>\n",
       "      <td>NaN</td>\n",
       "      <td>NaN</td>\n",
       "      <td>NaN</td>\n",
       "      <td>NaN</td>\n",
       "      <td>NaN</td>\n",
       "    </tr>\n",
       "    <tr>\n",
       "      <td>70651</td>\n",
       "      <td>NaN</td>\n",
       "      <td>NaN</td>\n",
       "      <td>NaN</td>\n",
       "      <td>NaN</td>\n",
       "      <td>NaN</td>\n",
       "      <td>NaN</td>\n",
       "      <td>NaN</td>\n",
       "      <td>NaN</td>\n",
       "      <td>NaN</td>\n",
       "      <td>NaN</td>\n",
       "      <td>NaN</td>\n",
       "    </tr>\n",
       "    <tr>\n",
       "      <td>70652</td>\n",
       "      <td>NaN</td>\n",
       "      <td>NaN</td>\n",
       "      <td>NaN</td>\n",
       "      <td>NaN</td>\n",
       "      <td>NaN</td>\n",
       "      <td>NaN</td>\n",
       "      <td>NaN</td>\n",
       "      <td>NaN</td>\n",
       "      <td>NaN</td>\n",
       "      <td>NaN</td>\n",
       "      <td>NaN</td>\n",
       "    </tr>\n",
       "  </tbody>\n",
       "</table>\n",
       "<p>70653 rows × 11 columns</p>\n",
       "</div>"
      ],
      "text/plain": [
       "       PAYLD_WT  LD_TM  EMTY_STOP_TM  EMTY_TRAV_TM  EMTY_TRAV_DSTNC  \\\n",
       "0      349.7     193.0  454.0         711.0         3.6               \n",
       "1      336.5     323.0  99.0          177.0         0.6               \n",
       "2      356.3     321.0  864.0         867.0         5.7               \n",
       "3      343.1     361.0  594.0         667.0         4.6               \n",
       "4      379.3     218.0  689.0         894.0         6.4               \n",
       "...      ...       ...    ...           ...         ...               \n",
       "70648 NaN       NaN    NaN           NaN           NaN                \n",
       "70649 NaN       NaN    NaN           NaN           NaN                \n",
       "70650 NaN       NaN    NaN           NaN           NaN                \n",
       "70651 NaN       NaN    NaN           NaN           NaN                \n",
       "70652 NaN       NaN    NaN           NaN           NaN                \n",
       "\n",
       "       LD_STOP_TM  LD_TRAV_TM  LD_TRAV_DSTNC  LD_PASS_CT  FUEL_USED_IN_CYC  \\\n",
       "0      648.0       610.0       2.8            5.0         77.600942          \n",
       "1      56.0        1225.0      6.8            6.0         177.914355         \n",
       "2      61.0        857.0       4.6            4.0         138.167531         \n",
       "3      63.0        871.0       4.6            4.0         140.060237         \n",
       "4      3725.0      1130.0      4.4            5.0         219.080709         \n",
       "...       ...         ...      ...            ...                ...         \n",
       "70648 NaN         NaN         NaN            NaN         NaN                 \n",
       "70649 NaN         NaN         NaN            NaN         NaN                 \n",
       "70650 NaN         NaN         NaN            NaN         NaN                 \n",
       "70651 NaN         NaN         NaN            NaN         NaN                 \n",
       "70652 NaN         NaN         NaN            NaN         NaN                 \n",
       "\n",
       "       SHFT_CT  \n",
       "0      79.0     \n",
       "1      73.0     \n",
       "2      100.0    \n",
       "3      99.0     \n",
       "4      103.0    \n",
       "...      ...    \n",
       "70648 NaN       \n",
       "70649 NaN       \n",
       "70650 NaN       \n",
       "70651 NaN       \n",
       "70652 NaN       \n",
       "\n",
       "[70653 rows x 11 columns]"
      ]
     },
     "execution_count": 194,
     "metadata": {},
     "output_type": "execute_result"
    }
   ],
   "source": [
    "dataset"
   ]
  },
  {
   "cell_type": "code",
   "execution_count": 195,
   "metadata": {},
   "outputs": [
    {
     "data": {
      "text/plain": [
       "PAYLD_WT            66249\n",
       "LD_TM               66249\n",
       "EMTY_STOP_TM        66249\n",
       "EMTY_TRAV_TM        66249\n",
       "EMTY_TRAV_DSTNC     66249\n",
       "LD_STOP_TM          66249\n",
       "LD_TRAV_TM          66249\n",
       "LD_TRAV_DSTNC       66249\n",
       "LD_PASS_CT          66249\n",
       "FUEL_USED_IN_CYC    66249\n",
       "SHFT_CT             66249\n",
       "dtype: int64"
      ]
     },
     "execution_count": 195,
     "metadata": {},
     "output_type": "execute_result"
    }
   ],
   "source": [
    "dataset.isnull().sum()"
   ]
  },
  {
   "cell_type": "code",
   "execution_count": 196,
   "metadata": {},
   "outputs": [
    {
     "data": {
      "text/html": [
       "<div>\n",
       "<style scoped>\n",
       "    .dataframe tbody tr th:only-of-type {\n",
       "        vertical-align: middle;\n",
       "    }\n",
       "\n",
       "    .dataframe tbody tr th {\n",
       "        vertical-align: top;\n",
       "    }\n",
       "\n",
       "    .dataframe thead th {\n",
       "        text-align: right;\n",
       "    }\n",
       "</style>\n",
       "<table border=\"1\" class=\"dataframe\">\n",
       "  <thead>\n",
       "    <tr style=\"text-align: right;\">\n",
       "      <th></th>\n",
       "      <th>PAYLD_WT</th>\n",
       "      <th>LD_TM</th>\n",
       "      <th>EMTY_STOP_TM</th>\n",
       "      <th>EMTY_TRAV_TM</th>\n",
       "      <th>EMTY_TRAV_DSTNC</th>\n",
       "      <th>LD_STOP_TM</th>\n",
       "      <th>LD_TRAV_TM</th>\n",
       "      <th>LD_TRAV_DSTNC</th>\n",
       "      <th>LD_PASS_CT</th>\n",
       "      <th>FUEL_USED_IN_CYC</th>\n",
       "      <th>SHFT_CT</th>\n",
       "    </tr>\n",
       "  </thead>\n",
       "  <tbody>\n",
       "    <tr>\n",
       "      <td>count</td>\n",
       "      <td>4404.000000</td>\n",
       "      <td>4404.000000</td>\n",
       "      <td>4404.000000</td>\n",
       "      <td>4404.000000</td>\n",
       "      <td>4404.000000</td>\n",
       "      <td>4404.000000</td>\n",
       "      <td>4404.000000</td>\n",
       "      <td>4404.000000</td>\n",
       "      <td>4404.000000</td>\n",
       "      <td>4404.000000</td>\n",
       "      <td>4404.000000</td>\n",
       "    </tr>\n",
       "    <tr>\n",
       "      <td>mean</td>\n",
       "      <td>333.875477</td>\n",
       "      <td>181.831290</td>\n",
       "      <td>454.724796</td>\n",
       "      <td>652.557902</td>\n",
       "      <td>3.844460</td>\n",
       "      <td>494.990463</td>\n",
       "      <td>860.663261</td>\n",
       "      <td>4.116894</td>\n",
       "      <td>4.123751</td>\n",
       "      <td>140.974035</td>\n",
       "      <td>93.418256</td>\n",
       "    </tr>\n",
       "    <tr>\n",
       "      <td>std</td>\n",
       "      <td>58.505307</td>\n",
       "      <td>109.133516</td>\n",
       "      <td>683.359213</td>\n",
       "      <td>275.309613</td>\n",
       "      <td>1.855567</td>\n",
       "      <td>751.357734</td>\n",
       "      <td>290.729274</td>\n",
       "      <td>1.604505</td>\n",
       "      <td>0.923801</td>\n",
       "      <td>45.905858</td>\n",
       "      <td>30.371788</td>\n",
       "    </tr>\n",
       "    <tr>\n",
       "      <td>min</td>\n",
       "      <td>0.000000</td>\n",
       "      <td>4.000000</td>\n",
       "      <td>0.000000</td>\n",
       "      <td>0.000000</td>\n",
       "      <td>0.000000</td>\n",
       "      <td>42.000000</td>\n",
       "      <td>30.000000</td>\n",
       "      <td>0.000000</td>\n",
       "      <td>1.000000</td>\n",
       "      <td>4.258588</td>\n",
       "      <td>2.000000</td>\n",
       "    </tr>\n",
       "    <tr>\n",
       "      <td>25%</td>\n",
       "      <td>320.800000</td>\n",
       "      <td>129.000000</td>\n",
       "      <td>54.000000</td>\n",
       "      <td>469.750000</td>\n",
       "      <td>2.400000</td>\n",
       "      <td>73.000000</td>\n",
       "      <td>675.000000</td>\n",
       "      <td>2.800000</td>\n",
       "      <td>4.000000</td>\n",
       "      <td>112.616002</td>\n",
       "      <td>72.000000</td>\n",
       "    </tr>\n",
       "    <tr>\n",
       "      <td>50%</td>\n",
       "      <td>344.300000</td>\n",
       "      <td>155.000000</td>\n",
       "      <td>196.000000</td>\n",
       "      <td>635.000000</td>\n",
       "      <td>3.800000</td>\n",
       "      <td>174.500000</td>\n",
       "      <td>845.000000</td>\n",
       "      <td>4.000000</td>\n",
       "      <td>4.000000</td>\n",
       "      <td>137.694355</td>\n",
       "      <td>90.000000</td>\n",
       "    </tr>\n",
       "    <tr>\n",
       "      <td>75%</td>\n",
       "      <td>364.425000</td>\n",
       "      <td>202.000000</td>\n",
       "      <td>520.250000</td>\n",
       "      <td>808.000000</td>\n",
       "      <td>5.100000</td>\n",
       "      <td>618.000000</td>\n",
       "      <td>1005.000000</td>\n",
       "      <td>5.200000</td>\n",
       "      <td>5.000000</td>\n",
       "      <td>169.397179</td>\n",
       "      <td>110.000000</td>\n",
       "    </tr>\n",
       "    <tr>\n",
       "      <td>max</td>\n",
       "      <td>548.700000</td>\n",
       "      <td>2378.000000</td>\n",
       "      <td>6556.000000</td>\n",
       "      <td>2382.000000</td>\n",
       "      <td>16.000000</td>\n",
       "      <td>9186.000000</td>\n",
       "      <td>3339.000000</td>\n",
       "      <td>16.600000</td>\n",
       "      <td>9.000000</td>\n",
       "      <td>412.136712</td>\n",
       "      <td>244.000000</td>\n",
       "    </tr>\n",
       "  </tbody>\n",
       "</table>\n",
       "</div>"
      ],
      "text/plain": [
       "          PAYLD_WT        LD_TM  EMTY_STOP_TM  EMTY_TRAV_TM  EMTY_TRAV_DSTNC  \\\n",
       "count  4404.000000  4404.000000  4404.000000   4404.000000   4404.000000       \n",
       "mean   333.875477   181.831290   454.724796    652.557902    3.844460          \n",
       "std    58.505307    109.133516   683.359213    275.309613    1.855567          \n",
       "min    0.000000     4.000000     0.000000      0.000000      0.000000          \n",
       "25%    320.800000   129.000000   54.000000     469.750000    2.400000          \n",
       "50%    344.300000   155.000000   196.000000    635.000000    3.800000          \n",
       "75%    364.425000   202.000000   520.250000    808.000000    5.100000          \n",
       "max    548.700000   2378.000000  6556.000000   2382.000000   16.000000         \n",
       "\n",
       "        LD_STOP_TM   LD_TRAV_TM  LD_TRAV_DSTNC   LD_PASS_CT  FUEL_USED_IN_CYC  \\\n",
       "count  4404.000000  4404.000000  4404.000000    4404.000000  4404.000000        \n",
       "mean   494.990463   860.663261   4.116894       4.123751     140.974035         \n",
       "std    751.357734   290.729274   1.604505       0.923801     45.905858          \n",
       "min    42.000000    30.000000    0.000000       1.000000     4.258588           \n",
       "25%    73.000000    675.000000   2.800000       4.000000     112.616002         \n",
       "50%    174.500000   845.000000   4.000000       4.000000     137.694355         \n",
       "75%    618.000000   1005.000000  5.200000       5.000000     169.397179         \n",
       "max    9186.000000  3339.000000  16.600000      9.000000     412.136712         \n",
       "\n",
       "           SHFT_CT  \n",
       "count  4404.000000  \n",
       "mean   93.418256    \n",
       "std    30.371788    \n",
       "min    2.000000     \n",
       "25%    72.000000    \n",
       "50%    90.000000    \n",
       "75%    110.000000   \n",
       "max    244.000000   "
      ]
     },
     "execution_count": 196,
     "metadata": {},
     "output_type": "execute_result"
    }
   ],
   "source": [
    "# descriptions\n",
    "dataset.describe()"
   ]
  },
  {
   "cell_type": "markdown",
   "metadata": {},
   "source": [
    "As you can see from the image above, we have two ‘nan’s, in each columns. We need to calculate the values for these cells. For this example, we’ll be using the strategy ‘mean’ and imputing along the columns, as imputing along the rows makes no sense here. The code for this is as follows:"
   ]
  },
  {
   "cell_type": "code",
   "execution_count": 197,
   "metadata": {},
   "outputs": [],
   "source": [
    "# imputing the columns\n",
    "from sklearn.impute import SimpleImputer\n",
    "impute = SimpleImputer(missing_values=np.nan, strategy='mean')\n",
    "imp = impute.fit(dataset)\n",
    "imp =impute.transform(dataset)"
   ]
  },
  {
   "cell_type": "code",
   "execution_count": 198,
   "metadata": {},
   "outputs": [
    {
     "data": {
      "text/plain": [
       "array([[349.7       , 193.        , 454.        , ...,   5.        ,\n",
       "         77.60094226,  79.        ],\n",
       "       [336.5       , 323.        ,  99.        , ...,   6.        ,\n",
       "        177.9143554 ,  73.        ],\n",
       "       [356.3       , 321.        , 864.        , ...,   4.        ,\n",
       "        138.1675313 , 100.        ],\n",
       "       ...,\n",
       "       [333.87547684, 181.83128974, 454.72479564, ...,   4.12375114,\n",
       "        140.97403516,  93.41825613],\n",
       "       [333.87547684, 181.83128974, 454.72479564, ...,   4.12375114,\n",
       "        140.97403516,  93.41825613],\n",
       "       [333.87547684, 181.83128974, 454.72479564, ...,   4.12375114,\n",
       "        140.97403516,  93.41825613]])"
      ]
     },
     "execution_count": 198,
     "metadata": {},
     "output_type": "execute_result"
    }
   ],
   "source": [
    "imp"
   ]
  },
  {
   "cell_type": "markdown",
   "metadata": {},
   "source": [
    "- Scaling the Data\n",
    "\n",
    "If you look at the dataset you'll notice that it is not scaled well. For instance the \"EMTY_TRAV_DSTNC\" and \"SHFT_CT\" column have values between 2 and 39, while most of the rest of the columns have higher values. Therefore, before training the algorithm, we will need to scale our data down."
   ]
  },
  {
   "cell_type": "code",
   "execution_count": 199,
   "metadata": {},
   "outputs": [
    {
     "data": {
      "text/plain": [
       "array([[0.63732459, 0.07961247, 0.06924954, ..., 0.5       , 0.17981439,\n",
       "        0.31818182],\n",
       "       [0.61326772, 0.13437237, 0.01510067, ..., 0.625     , 0.42575406,\n",
       "        0.29338843],\n",
       "       [0.64935302, 0.13352991, 0.13178768, ..., 0.375     , 0.32830626,\n",
       "        0.40495868],\n",
       "       ...,\n",
       "       [0.60848456, 0.07490787, 0.0693601 , ..., 0.39046889, 0.33518701,\n",
       "        0.37776139],\n",
       "       [0.60848456, 0.07490787, 0.0693601 , ..., 0.39046889, 0.33518701,\n",
       "        0.37776139],\n",
       "       [0.60848456, 0.07490787, 0.0693601 , ..., 0.39046889, 0.33518701,\n",
       "        0.37776139]])"
      ]
     },
     "execution_count": 199,
     "metadata": {},
     "output_type": "execute_result"
    }
   ],
   "source": [
    "#scaling to unit variance\n",
    "from sklearn.preprocessing import StandardScaler\n",
    "from sklearn.preprocessing import MinMaxScaler\n",
    "scaler = MinMaxScaler()\n",
    "scaler_df = scaler.fit_transform(imp)\n",
    "scaler_df"
   ]
  },
  {
   "cell_type": "code",
   "execution_count": 200,
   "metadata": {},
   "outputs": [],
   "source": [
    "# create Pandas Dataframe\n",
    "principal = pd.DataFrame(scaler_df \n",
    "             , columns = ['PAYLD_WT', 'LD_TM', 'EMTY_STOP_TM', 'EMTY_TRAV_TM', 'EMTY_TRAV_DSTNC',\n",
    "       'LD_STOP_TM', 'LD_TRAV_TM', 'LD_TRAV_DSTNC', 'LD_PASS_CT',\n",
    "       'FUEL_USED_IN_CYC', 'SHFT_CT'])"
   ]
  },
  {
   "cell_type": "code",
   "execution_count": 201,
   "metadata": {},
   "outputs": [
    {
     "data": {
      "text/html": [
       "<div>\n",
       "<style scoped>\n",
       "    .dataframe tbody tr th:only-of-type {\n",
       "        vertical-align: middle;\n",
       "    }\n",
       "\n",
       "    .dataframe tbody tr th {\n",
       "        vertical-align: top;\n",
       "    }\n",
       "\n",
       "    .dataframe thead th {\n",
       "        text-align: right;\n",
       "    }\n",
       "</style>\n",
       "<table border=\"1\" class=\"dataframe\">\n",
       "  <thead>\n",
       "    <tr style=\"text-align: right;\">\n",
       "      <th></th>\n",
       "      <th>PAYLD_WT</th>\n",
       "      <th>LD_TM</th>\n",
       "      <th>EMTY_STOP_TM</th>\n",
       "      <th>EMTY_TRAV_TM</th>\n",
       "      <th>EMTY_TRAV_DSTNC</th>\n",
       "      <th>LD_STOP_TM</th>\n",
       "      <th>LD_TRAV_TM</th>\n",
       "      <th>LD_TRAV_DSTNC</th>\n",
       "      <th>LD_PASS_CT</th>\n",
       "      <th>FUEL_USED_IN_CYC</th>\n",
       "      <th>SHFT_CT</th>\n",
       "    </tr>\n",
       "  </thead>\n",
       "  <tbody>\n",
       "    <tr>\n",
       "      <td>0</td>\n",
       "      <td>0.637325</td>\n",
       "      <td>0.079612</td>\n",
       "      <td>0.069250</td>\n",
       "      <td>0.298489</td>\n",
       "      <td>0.225000</td>\n",
       "      <td>0.066273</td>\n",
       "      <td>0.175280</td>\n",
       "      <td>0.168675</td>\n",
       "      <td>0.500000</td>\n",
       "      <td>0.179814</td>\n",
       "      <td>0.318182</td>\n",
       "    </tr>\n",
       "    <tr>\n",
       "      <td>1</td>\n",
       "      <td>0.613268</td>\n",
       "      <td>0.134372</td>\n",
       "      <td>0.015101</td>\n",
       "      <td>0.074307</td>\n",
       "      <td>0.037500</td>\n",
       "      <td>0.001531</td>\n",
       "      <td>0.361136</td>\n",
       "      <td>0.409639</td>\n",
       "      <td>0.625000</td>\n",
       "      <td>0.425754</td>\n",
       "      <td>0.293388</td>\n",
       "    </tr>\n",
       "    <tr>\n",
       "      <td>2</td>\n",
       "      <td>0.649353</td>\n",
       "      <td>0.133530</td>\n",
       "      <td>0.131788</td>\n",
       "      <td>0.363980</td>\n",
       "      <td>0.356250</td>\n",
       "      <td>0.002078</td>\n",
       "      <td>0.249924</td>\n",
       "      <td>0.277108</td>\n",
       "      <td>0.375000</td>\n",
       "      <td>0.328306</td>\n",
       "      <td>0.404959</td>\n",
       "    </tr>\n",
       "    <tr>\n",
       "      <td>3</td>\n",
       "      <td>0.625296</td>\n",
       "      <td>0.150379</td>\n",
       "      <td>0.090604</td>\n",
       "      <td>0.280017</td>\n",
       "      <td>0.287500</td>\n",
       "      <td>0.002297</td>\n",
       "      <td>0.254155</td>\n",
       "      <td>0.277108</td>\n",
       "      <td>0.375000</td>\n",
       "      <td>0.332947</td>\n",
       "      <td>0.400826</td>\n",
       "    </tr>\n",
       "    <tr>\n",
       "      <td>4</td>\n",
       "      <td>0.691270</td>\n",
       "      <td>0.090143</td>\n",
       "      <td>0.105095</td>\n",
       "      <td>0.375315</td>\n",
       "      <td>0.400000</td>\n",
       "      <td>0.402778</td>\n",
       "      <td>0.332427</td>\n",
       "      <td>0.265060</td>\n",
       "      <td>0.500000</td>\n",
       "      <td>0.526682</td>\n",
       "      <td>0.417355</td>\n",
       "    </tr>\n",
       "    <tr>\n",
       "      <td>...</td>\n",
       "      <td>...</td>\n",
       "      <td>...</td>\n",
       "      <td>...</td>\n",
       "      <td>...</td>\n",
       "      <td>...</td>\n",
       "      <td>...</td>\n",
       "      <td>...</td>\n",
       "      <td>...</td>\n",
       "      <td>...</td>\n",
       "      <td>...</td>\n",
       "      <td>...</td>\n",
       "    </tr>\n",
       "    <tr>\n",
       "      <td>70648</td>\n",
       "      <td>0.608485</td>\n",
       "      <td>0.074908</td>\n",
       "      <td>0.069360</td>\n",
       "      <td>0.273954</td>\n",
       "      <td>0.240279</td>\n",
       "      <td>0.049540</td>\n",
       "      <td>0.251032</td>\n",
       "      <td>0.248006</td>\n",
       "      <td>0.390469</td>\n",
       "      <td>0.335187</td>\n",
       "      <td>0.377761</td>\n",
       "    </tr>\n",
       "    <tr>\n",
       "      <td>70649</td>\n",
       "      <td>0.608485</td>\n",
       "      <td>0.074908</td>\n",
       "      <td>0.069360</td>\n",
       "      <td>0.273954</td>\n",
       "      <td>0.240279</td>\n",
       "      <td>0.049540</td>\n",
       "      <td>0.251032</td>\n",
       "      <td>0.248006</td>\n",
       "      <td>0.390469</td>\n",
       "      <td>0.335187</td>\n",
       "      <td>0.377761</td>\n",
       "    </tr>\n",
       "    <tr>\n",
       "      <td>70650</td>\n",
       "      <td>0.608485</td>\n",
       "      <td>0.074908</td>\n",
       "      <td>0.069360</td>\n",
       "      <td>0.273954</td>\n",
       "      <td>0.240279</td>\n",
       "      <td>0.049540</td>\n",
       "      <td>0.251032</td>\n",
       "      <td>0.248006</td>\n",
       "      <td>0.390469</td>\n",
       "      <td>0.335187</td>\n",
       "      <td>0.377761</td>\n",
       "    </tr>\n",
       "    <tr>\n",
       "      <td>70651</td>\n",
       "      <td>0.608485</td>\n",
       "      <td>0.074908</td>\n",
       "      <td>0.069360</td>\n",
       "      <td>0.273954</td>\n",
       "      <td>0.240279</td>\n",
       "      <td>0.049540</td>\n",
       "      <td>0.251032</td>\n",
       "      <td>0.248006</td>\n",
       "      <td>0.390469</td>\n",
       "      <td>0.335187</td>\n",
       "      <td>0.377761</td>\n",
       "    </tr>\n",
       "    <tr>\n",
       "      <td>70652</td>\n",
       "      <td>0.608485</td>\n",
       "      <td>0.074908</td>\n",
       "      <td>0.069360</td>\n",
       "      <td>0.273954</td>\n",
       "      <td>0.240279</td>\n",
       "      <td>0.049540</td>\n",
       "      <td>0.251032</td>\n",
       "      <td>0.248006</td>\n",
       "      <td>0.390469</td>\n",
       "      <td>0.335187</td>\n",
       "      <td>0.377761</td>\n",
       "    </tr>\n",
       "  </tbody>\n",
       "</table>\n",
       "<p>70653 rows × 11 columns</p>\n",
       "</div>"
      ],
      "text/plain": [
       "       PAYLD_WT     LD_TM  EMTY_STOP_TM  EMTY_TRAV_TM  EMTY_TRAV_DSTNC  \\\n",
       "0      0.637325  0.079612  0.069250      0.298489      0.225000          \n",
       "1      0.613268  0.134372  0.015101      0.074307      0.037500          \n",
       "2      0.649353  0.133530  0.131788      0.363980      0.356250          \n",
       "3      0.625296  0.150379  0.090604      0.280017      0.287500          \n",
       "4      0.691270  0.090143  0.105095      0.375315      0.400000          \n",
       "...         ...       ...       ...           ...           ...          \n",
       "70648  0.608485  0.074908  0.069360      0.273954      0.240279          \n",
       "70649  0.608485  0.074908  0.069360      0.273954      0.240279          \n",
       "70650  0.608485  0.074908  0.069360      0.273954      0.240279          \n",
       "70651  0.608485  0.074908  0.069360      0.273954      0.240279          \n",
       "70652  0.608485  0.074908  0.069360      0.273954      0.240279          \n",
       "\n",
       "       LD_STOP_TM  LD_TRAV_TM  LD_TRAV_DSTNC  LD_PASS_CT  FUEL_USED_IN_CYC  \\\n",
       "0      0.066273    0.175280    0.168675       0.500000    0.179814           \n",
       "1      0.001531    0.361136    0.409639       0.625000    0.425754           \n",
       "2      0.002078    0.249924    0.277108       0.375000    0.328306           \n",
       "3      0.002297    0.254155    0.277108       0.375000    0.332947           \n",
       "4      0.402778    0.332427    0.265060       0.500000    0.526682           \n",
       "...         ...         ...         ...            ...         ...           \n",
       "70648  0.049540    0.251032    0.248006       0.390469    0.335187           \n",
       "70649  0.049540    0.251032    0.248006       0.390469    0.335187           \n",
       "70650  0.049540    0.251032    0.248006       0.390469    0.335187           \n",
       "70651  0.049540    0.251032    0.248006       0.390469    0.335187           \n",
       "70652  0.049540    0.251032    0.248006       0.390469    0.335187           \n",
       "\n",
       "        SHFT_CT  \n",
       "0      0.318182  \n",
       "1      0.293388  \n",
       "2      0.404959  \n",
       "3      0.400826  \n",
       "4      0.417355  \n",
       "...         ...  \n",
       "70648  0.377761  \n",
       "70649  0.377761  \n",
       "70650  0.377761  \n",
       "70651  0.377761  \n",
       "70652  0.377761  \n",
       "\n",
       "[70653 rows x 11 columns]"
      ]
     },
     "execution_count": 201,
     "metadata": {},
     "output_type": "execute_result"
    }
   ],
   "source": [
    "principal"
   ]
  },
  {
   "cell_type": "markdown",
   "metadata": {},
   "source": [
    "### Exploratory Data Analysis"
   ]
  },
  {
   "cell_type": "markdown",
   "metadata": {},
   "source": [
    "To see statistical details of the dataset, we'll use the describe() command again"
   ]
  },
  {
   "cell_type": "code",
   "execution_count": 202,
   "metadata": {},
   "outputs": [
    {
     "data": {
      "text/html": [
       "<div>\n",
       "<style scoped>\n",
       "    .dataframe tbody tr th:only-of-type {\n",
       "        vertical-align: middle;\n",
       "    }\n",
       "\n",
       "    .dataframe tbody tr th {\n",
       "        vertical-align: top;\n",
       "    }\n",
       "\n",
       "    .dataframe thead th {\n",
       "        text-align: right;\n",
       "    }\n",
       "</style>\n",
       "<table border=\"1\" class=\"dataframe\">\n",
       "  <thead>\n",
       "    <tr style=\"text-align: right;\">\n",
       "      <th></th>\n",
       "      <th>PAYLD_WT</th>\n",
       "      <th>LD_TM</th>\n",
       "      <th>EMTY_STOP_TM</th>\n",
       "      <th>EMTY_TRAV_TM</th>\n",
       "      <th>EMTY_TRAV_DSTNC</th>\n",
       "      <th>LD_STOP_TM</th>\n",
       "      <th>LD_TRAV_TM</th>\n",
       "      <th>LD_TRAV_DSTNC</th>\n",
       "      <th>LD_PASS_CT</th>\n",
       "      <th>FUEL_USED_IN_CYC</th>\n",
       "      <th>SHFT_CT</th>\n",
       "    </tr>\n",
       "  </thead>\n",
       "  <tbody>\n",
       "    <tr>\n",
       "      <td>count</td>\n",
       "      <td>70653.000000</td>\n",
       "      <td>70653.000000</td>\n",
       "      <td>70653.000000</td>\n",
       "      <td>70653.000000</td>\n",
       "      <td>70653.000000</td>\n",
       "      <td>70653.000000</td>\n",
       "      <td>70653.000000</td>\n",
       "      <td>70653.000000</td>\n",
       "      <td>70653.000000</td>\n",
       "      <td>70653.000000</td>\n",
       "      <td>70653.000000</td>\n",
       "    </tr>\n",
       "    <tr>\n",
       "      <td>mean</td>\n",
       "      <td>0.608485</td>\n",
       "      <td>0.074908</td>\n",
       "      <td>0.069360</td>\n",
       "      <td>0.273954</td>\n",
       "      <td>0.240279</td>\n",
       "      <td>0.049540</td>\n",
       "      <td>0.251032</td>\n",
       "      <td>0.248006</td>\n",
       "      <td>0.390469</td>\n",
       "      <td>0.335187</td>\n",
       "      <td>0.377761</td>\n",
       "    </tr>\n",
       "    <tr>\n",
       "      <td>std</td>\n",
       "      <td>0.026618</td>\n",
       "      <td>0.011476</td>\n",
       "      <td>0.026021</td>\n",
       "      <td>0.028853</td>\n",
       "      <td>0.028951</td>\n",
       "      <td>0.020513</td>\n",
       "      <td>0.021933</td>\n",
       "      <td>0.024129</td>\n",
       "      <td>0.028827</td>\n",
       "      <td>0.028096</td>\n",
       "      <td>0.031330</td>\n",
       "    </tr>\n",
       "    <tr>\n",
       "      <td>min</td>\n",
       "      <td>0.000000</td>\n",
       "      <td>0.000000</td>\n",
       "      <td>0.000000</td>\n",
       "      <td>0.000000</td>\n",
       "      <td>0.000000</td>\n",
       "      <td>0.000000</td>\n",
       "      <td>0.000000</td>\n",
       "      <td>0.000000</td>\n",
       "      <td>0.000000</td>\n",
       "      <td>0.000000</td>\n",
       "      <td>0.000000</td>\n",
       "    </tr>\n",
       "    <tr>\n",
       "      <td>25%</td>\n",
       "      <td>0.608485</td>\n",
       "      <td>0.074908</td>\n",
       "      <td>0.069360</td>\n",
       "      <td>0.273954</td>\n",
       "      <td>0.240279</td>\n",
       "      <td>0.049540</td>\n",
       "      <td>0.251032</td>\n",
       "      <td>0.248006</td>\n",
       "      <td>0.390469</td>\n",
       "      <td>0.335187</td>\n",
       "      <td>0.377761</td>\n",
       "    </tr>\n",
       "    <tr>\n",
       "      <td>50%</td>\n",
       "      <td>0.608485</td>\n",
       "      <td>0.074908</td>\n",
       "      <td>0.069360</td>\n",
       "      <td>0.273954</td>\n",
       "      <td>0.240279</td>\n",
       "      <td>0.049540</td>\n",
       "      <td>0.251032</td>\n",
       "      <td>0.248006</td>\n",
       "      <td>0.390469</td>\n",
       "      <td>0.335187</td>\n",
       "      <td>0.377761</td>\n",
       "    </tr>\n",
       "    <tr>\n",
       "      <td>75%</td>\n",
       "      <td>0.608485</td>\n",
       "      <td>0.074908</td>\n",
       "      <td>0.069360</td>\n",
       "      <td>0.273954</td>\n",
       "      <td>0.240279</td>\n",
       "      <td>0.049540</td>\n",
       "      <td>0.251032</td>\n",
       "      <td>0.248006</td>\n",
       "      <td>0.390469</td>\n",
       "      <td>0.335187</td>\n",
       "      <td>0.377761</td>\n",
       "    </tr>\n",
       "    <tr>\n",
       "      <td>max</td>\n",
       "      <td>1.000000</td>\n",
       "      <td>1.000000</td>\n",
       "      <td>1.000000</td>\n",
       "      <td>1.000000</td>\n",
       "      <td>1.000000</td>\n",
       "      <td>1.000000</td>\n",
       "      <td>1.000000</td>\n",
       "      <td>1.000000</td>\n",
       "      <td>1.000000</td>\n",
       "      <td>1.000000</td>\n",
       "      <td>1.000000</td>\n",
       "    </tr>\n",
       "  </tbody>\n",
       "</table>\n",
       "</div>"
      ],
      "text/plain": [
       "           PAYLD_WT         LD_TM  EMTY_STOP_TM  EMTY_TRAV_TM  \\\n",
       "count  70653.000000  70653.000000  70653.000000  70653.000000   \n",
       "mean   0.608485      0.074908      0.069360      0.273954       \n",
       "std    0.026618      0.011476      0.026021      0.028853       \n",
       "min    0.000000      0.000000      0.000000      0.000000       \n",
       "25%    0.608485      0.074908      0.069360      0.273954       \n",
       "50%    0.608485      0.074908      0.069360      0.273954       \n",
       "75%    0.608485      0.074908      0.069360      0.273954       \n",
       "max    1.000000      1.000000      1.000000      1.000000       \n",
       "\n",
       "       EMTY_TRAV_DSTNC    LD_STOP_TM    LD_TRAV_TM  LD_TRAV_DSTNC  \\\n",
       "count  70653.000000     70653.000000  70653.000000  70653.000000    \n",
       "mean   0.240279         0.049540      0.251032      0.248006        \n",
       "std    0.028951         0.020513      0.021933      0.024129        \n",
       "min    0.000000         0.000000      0.000000      0.000000        \n",
       "25%    0.240279         0.049540      0.251032      0.248006        \n",
       "50%    0.240279         0.049540      0.251032      0.248006        \n",
       "75%    0.240279         0.049540      0.251032      0.248006        \n",
       "max    1.000000         1.000000      1.000000      1.000000        \n",
       "\n",
       "         LD_PASS_CT  FUEL_USED_IN_CYC       SHFT_CT  \n",
       "count  70653.000000  70653.000000      70653.000000  \n",
       "mean   0.390469      0.335187          0.377761      \n",
       "std    0.028827      0.028096          0.031330      \n",
       "min    0.000000      0.000000          0.000000      \n",
       "25%    0.390469      0.335187          0.377761      \n",
       "50%    0.390469      0.335187          0.377761      \n",
       "75%    0.390469      0.335187          0.377761      \n",
       "max    1.000000      1.000000          1.000000      "
      ]
     },
     "execution_count": 202,
     "metadata": {},
     "output_type": "execute_result"
    }
   ],
   "source": [
    "principal.describe()"
   ]
  },
  {
   "cell_type": "code",
   "execution_count": 203,
   "metadata": {},
   "outputs": [
    {
     "data": {
      "text/plain": [
       "PAYLD_WT            0\n",
       "LD_TM               0\n",
       "EMTY_STOP_TM        0\n",
       "EMTY_TRAV_TM        0\n",
       "EMTY_TRAV_DSTNC     0\n",
       "LD_STOP_TM          0\n",
       "LD_TRAV_TM          0\n",
       "LD_TRAV_DSTNC       0\n",
       "LD_PASS_CT          0\n",
       "FUEL_USED_IN_CYC    0\n",
       "SHFT_CT             0\n",
       "dtype: int64"
      ]
     },
     "execution_count": 203,
     "metadata": {},
     "output_type": "execute_result"
    }
   ],
   "source": [
    "principal.isnull().sum()"
   ]
  },
  {
   "cell_type": "markdown",
   "metadata": {},
   "source": [
    "### Preparing the Data"
   ]
  },
  {
   "cell_type": "markdown",
   "metadata": {},
   "source": [
    "##### Selecting Features for our Model"
   ]
  },
  {
   "cell_type": "markdown",
   "metadata": {},
   "source": [
    "Pearson correlation coefficient"
   ]
  },
  {
   "cell_type": "code",
   "execution_count": 204,
   "metadata": {},
   "outputs": [
    {
     "data": {
      "text/html": [
       "<div>\n",
       "<style scoped>\n",
       "    .dataframe tbody tr th:only-of-type {\n",
       "        vertical-align: middle;\n",
       "    }\n",
       "\n",
       "    .dataframe tbody tr th {\n",
       "        vertical-align: top;\n",
       "    }\n",
       "\n",
       "    .dataframe thead th {\n",
       "        text-align: right;\n",
       "    }\n",
       "</style>\n",
       "<table border=\"1\" class=\"dataframe\">\n",
       "  <thead>\n",
       "    <tr style=\"text-align: right;\">\n",
       "      <th></th>\n",
       "      <th>FUEL_USED_IN_CYC</th>\n",
       "    </tr>\n",
       "  </thead>\n",
       "  <tbody>\n",
       "    <tr>\n",
       "      <td>LD_PASS_CT</td>\n",
       "      <td>-0.123988</td>\n",
       "    </tr>\n",
       "    <tr>\n",
       "      <td>LD_TM</td>\n",
       "      <td>-0.060620</td>\n",
       "    </tr>\n",
       "    <tr>\n",
       "      <td>PAYLD_WT</td>\n",
       "      <td>-0.033612</td>\n",
       "    </tr>\n",
       "    <tr>\n",
       "      <td>EMTY_STOP_TM</td>\n",
       "      <td>0.189587</td>\n",
       "    </tr>\n",
       "    <tr>\n",
       "      <td>LD_STOP_TM</td>\n",
       "      <td>0.255879</td>\n",
       "    </tr>\n",
       "    <tr>\n",
       "      <td>EMTY_TRAV_DSTNC</td>\n",
       "      <td>0.487604</td>\n",
       "    </tr>\n",
       "    <tr>\n",
       "      <td>EMTY_TRAV_TM</td>\n",
       "      <td>0.504923</td>\n",
       "    </tr>\n",
       "    <tr>\n",
       "      <td>SHFT_CT</td>\n",
       "      <td>0.509525</td>\n",
       "    </tr>\n",
       "    <tr>\n",
       "      <td>LD_TRAV_DSTNC</td>\n",
       "      <td>0.655796</td>\n",
       "    </tr>\n",
       "    <tr>\n",
       "      <td>LD_TRAV_TM</td>\n",
       "      <td>0.822201</td>\n",
       "    </tr>\n",
       "    <tr>\n",
       "      <td>FUEL_USED_IN_CYC</td>\n",
       "      <td>1.000000</td>\n",
       "    </tr>\n",
       "  </tbody>\n",
       "</table>\n",
       "</div>"
      ],
      "text/plain": [
       "                  FUEL_USED_IN_CYC\n",
       "LD_PASS_CT       -0.123988        \n",
       "LD_TM            -0.060620        \n",
       "PAYLD_WT         -0.033612        \n",
       "EMTY_STOP_TM      0.189587        \n",
       "LD_STOP_TM        0.255879        \n",
       "EMTY_TRAV_DSTNC   0.487604        \n",
       "EMTY_TRAV_TM      0.504923        \n",
       "SHFT_CT           0.509525        \n",
       "LD_TRAV_DSTNC     0.655796        \n",
       "LD_TRAV_TM        0.822201        \n",
       "FUEL_USED_IN_CYC  1.000000        "
      ]
     },
     "execution_count": 204,
     "metadata": {},
     "output_type": "execute_result"
    }
   ],
   "source": [
    "#To assess the correlation in this data I will call the corr() method of the Pandas DataFrame objec\n",
    "principal.corr()[['FUEL_USED_IN_CYC']].sort_values('FUEL_USED_IN_CYC')"
   ]
  },
  {
   "cell_type": "markdown",
   "metadata": {},
   "source": [
    "In selecting features to include in this linear regression model, I would like to error on the side of being slightly less permissive in including variables with moderate or lower correlation coefficients. So I will be removing the features that have correlation values less than the absolute value of 0.6. "
   ]
  },
  {
   "cell_type": "markdown",
   "metadata": {},
   "source": [
    "With this information, I can now create a new DataFrame that only contains my variables of interest."
   ]
  },
  {
   "cell_type": "code",
   "execution_count": 205,
   "metadata": {},
   "outputs": [],
   "source": [
    "predictors = ['LD_TRAV_TM',  'LD_TRAV_DSTNC']\n",
    "data = principal[['FUEL_USED_IN_CYC'] + predictors]"
   ]
  },
  {
   "cell_type": "code",
   "execution_count": 206,
   "metadata": {},
   "outputs": [
    {
     "data": {
      "image/png": "[encoded data removed]",
      "text/plain": [
       "<Figure size 540x540 with 12 Axes>"
      ]
     },
     "metadata": {
      "needs_background": "light"
     },
     "output_type": "display_data"
    }
   ],
   "source": [
    "# pairplot matrix\n",
    "sns.pairplot(data);"
   ]
  },
  {
   "cell_type": "markdown",
   "metadata": {},
   "source": [
    "From the plots above it is recognizable that all the remaining predictor variables show a good linear relationship with the response variable (\"FUEL_USED_IN_CYC\"). Additionally, it is also worth noting that the relationships all look uniformly randomly distributed"
   ]
  },
  {
   "cell_type": "code",
   "execution_count": 207,
   "metadata": {},
   "outputs": [
    {
     "data": {
      "text/plain": [
       "<matplotlib.axes._subplots.AxesSubplot at 0x21ccee37c48>"
      ]
     },
     "execution_count": 207,
     "metadata": {},
     "output_type": "execute_result"
    },
    {
     "data": {
      "image/png": "[encoded data removed]",
      "text/plain": [
       "<Figure size 720x576 with 2 Axes>"
      ]
     },
     "metadata": {
      "needs_background": "light"
     },
     "output_type": "display_data"
    }
   ],
   "source": [
    "correlation_matrix = data.corr().round(2)\n",
    "# annot = True to print the values inside the square\n",
    "fig, ax = plt.subplots(figsize=(10,8)) \n",
    "sns.heatmap(data=correlation_matrix, annot=True, linewidths=.5, ax=ax)"
   ]
  },
  {
   "cell_type": "markdown",
   "metadata": {},
   "source": [
    "A correlation matrix provides a bit more evidence to the previous graphical analysis. We see that FUEL_USED_IN_CYC and LD_TRAV_TM are perfectly correlated."
   ]
  },
  {
   "cell_type": "markdown",
   "metadata": {},
   "source": [
    "#### Create a Validation Dataset"
   ]
  },
  {
   "cell_type": "markdown",
   "metadata": {},
   "source": [
    "- Preparing the Data\n",
    "- The next step is to divide the data into attributes and labels\n",
    "- Divide data into training and test sets"
   ]
  },
  {
   "cell_type": "code",
   "execution_count": 208,
   "metadata": {},
   "outputs": [],
   "source": [
    "#to split your loaded data into input variables (X) and the output variable (y).\n",
    "import sklearn\n",
    "principal = sklearn.utils.shuffle(principal) #Resample to do random permutations of the collections. always shuffle your data to avoid any biases that may emerge b/c of some order.\n",
    "X = data.drop([\"FUEL_USED_IN_CYC\"],axis=1)\n",
    "y = data.FUEL_USED_IN_CYC\n",
    "X_train, X_test, y_train, y_test = train_test_split(X, y, test_size=0.2, random_state=15)"
   ]
  },
  {
   "cell_type": "code",
   "execution_count": 209,
   "metadata": {},
   "outputs": [
    {
     "name": "stdout",
     "output_type": "stream",
     "text": [
      "(56522, 2)\n",
      "(14131, 2)\n",
      "(56522,)\n",
      "(14131,)\n"
     ]
    }
   ],
   "source": [
    "#Print the split dataset\n",
    "print(X_train.shape)\n",
    "print(X_test.shape)\n",
    "print(y_train.shape)\n",
    "print(y_test.shape)"
   ]
  },
  {
   "cell_type": "code",
   "execution_count": 213,
   "metadata": {},
   "outputs": [
    {
     "name": "stdout",
     "output_type": "stream",
     "text": [
      "                                 OLS Regression Results                                \n",
      "=======================================================================================\n",
      "Dep. Variable:       FUEL_USED_IN_CYC   R-squared (uncentered):                   0.998\n",
      "Model:                            OLS   Adj. R-squared (uncentered):              0.998\n",
      "Method:                 Least Squares   F-statistic:                          1.423e+07\n",
      "Date:                Sun, 21 Jun 2020   Prob (F-statistic):                        0.00\n",
      "Time:                        18:11:35   Log-Likelihood:                      1.8872e+05\n",
      "No. Observations:               70653   AIC:                                 -3.774e+05\n",
      "Df Residuals:                   70651   BIC:                                 -3.774e+05\n",
      "Df Model:                           2                                                  \n",
      "Covariance Type:            nonrobust                                                  \n",
      "=================================================================================\n",
      "                    coef    std err          t      P>|t|      [0.025      0.975]\n",
      "---------------------------------------------------------------------------------\n",
      "LD_TRAV_TM        1.6485      0.005    305.068      0.000       1.638       1.659\n",
      "LD_TRAV_DSTNC    -0.3193      0.005    -58.432      0.000      -0.330      -0.309\n",
      "==============================================================================\n",
      "Omnibus:                    50492.043   Durbin-Watson:                   1.822\n",
      "Prob(Omnibus):                  0.000   Jarque-Bera (JB):         39092246.262\n",
      "Skew:                          -2.117   Prob(JB):                         0.00\n",
      "Kurtosis:                     118.158   Cond. No.                         43.2\n",
      "==============================================================================\n",
      "\n",
      "Warnings:\n",
      "[1] Standard Errors assume that the covariance matrix of the errors is correctly specified.\n"
     ]
    }
   ],
   "source": [
    "# (1) select a significance value\n",
    "alpha = 0.05\n",
    "model = sm.OLS(y, X)\n",
    "results = model.fit()\n",
    "print(results.summary())"
   ]
  },
  {
   "cell_type": "markdown",
   "metadata": {},
   "source": [
    "You can see from the output that all the remaining predictors have a p-values significantly below our Α of 0.05\n",
    "Two things to note here are (1) the R-squared and Adj. R-squared values are both equal which suggests there is minimal risk that our model is being over fitted by excessive variables and (2) the value of 0.9 is interpreted such that our final model explains about 90% of the observed variation in the outcome variable, the \"FUEL_USED_IN_CYC\"."
   ]
  },
  {
   "cell_type": "code",
   "execution_count": 214,
   "metadata": {},
   "outputs": [
    {
     "name": "stdout",
     "output_type": "stream",
     "text": [
      "Parameters:  LD_TRAV_TM       1.648516\n",
      "LD_TRAV_DSTNC   -0.319314\n",
      "dtype: float64\n",
      "R2:  0.9975235869055764\n"
     ]
    }
   ],
   "source": [
    "print('Parameters: ', results.params)\n",
    "print('R2: ', results.rsquared)"
   ]
  },
  {
   "cell_type": "markdown",
   "metadata": {},
   "source": [
    "### Training the Algorithm"
   ]
  },
  {
   "cell_type": "code",
   "execution_count": 54,
   "metadata": {},
   "outputs": [
    {
     "data": {
      "text/plain": [
       "LinearRegression(copy_X=True, fit_intercept=True, n_jobs=None, normalize=False)"
      ]
     },
     "execution_count": 54,
     "metadata": {},
     "output_type": "execute_result"
    }
   ],
   "source": [
    "# Train the algorithm using fit()\n",
    "from sklearn.linear_model import LinearRegression\n",
    "regressor = LinearRegression()\n",
    "regressor.fit(X_train, y_train)"
   ]
  },
  {
   "cell_type": "markdown",
   "metadata": {},
   "source": [
    "### Finds the best value for the intercept and slope"
   ]
  },
  {
   "cell_type": "code",
   "execution_count": 55,
   "metadata": {},
   "outputs": [
    {
     "name": "stdout",
     "output_type": "stream",
     "text": [
      "0.07210076661339904\n"
     ]
    }
   ],
   "source": [
    "# Retrieve the intercept value\n",
    "print(regressor.intercept_)"
   ]
  },
  {
   "cell_type": "code",
   "execution_count": 56,
   "metadata": {},
   "outputs": [
    {
     "name": "stdout",
     "output_type": "stream",
     "text": [
      "[ 1.36203297 -0.31788905]\n"
     ]
    }
   ],
   "source": [
    "# Retrieving the slope (coefficient of x)\n",
    "print(regressor.coef_)"
   ]
  },
  {
   "cell_type": "markdown",
   "metadata": {},
   "source": [
    "###  Coefficients of regression model"
   ]
  },
  {
   "cell_type": "code",
   "execution_count": 57,
   "metadata": {},
   "outputs": [
    {
     "data": {
      "text/html": [
       "<div>\n",
       "<style scoped>\n",
       "    .dataframe tbody tr th:only-of-type {\n",
       "        vertical-align: middle;\n",
       "    }\n",
       "\n",
       "    .dataframe tbody tr th {\n",
       "        vertical-align: top;\n",
       "    }\n",
       "\n",
       "    .dataframe thead th {\n",
       "        text-align: right;\n",
       "    }\n",
       "</style>\n",
       "<table border=\"1\" class=\"dataframe\">\n",
       "  <thead>\n",
       "    <tr style=\"text-align: right;\">\n",
       "      <th></th>\n",
       "      <th>Coefficient</th>\n",
       "    </tr>\n",
       "  </thead>\n",
       "  <tbody>\n",
       "    <tr>\n",
       "      <td>LD_TRAV_TM</td>\n",
       "      <td>1.362033</td>\n",
       "    </tr>\n",
       "    <tr>\n",
       "      <td>LD_TRAV_DSTNC</td>\n",
       "      <td>-0.317889</td>\n",
       "    </tr>\n",
       "  </tbody>\n",
       "</table>\n",
       "</div>"
      ],
      "text/plain": [
       "               Coefficient\n",
       "LD_TRAV_TM     1.362033   \n",
       "LD_TRAV_DSTNC -0.317889   "
      ]
     },
     "execution_count": 57,
     "metadata": {},
     "output_type": "execute_result"
    }
   ],
   "source": [
    "coeff_df = pd.DataFrame(regressor.coef_, X.columns, columns=['Coefficient'])\n",
    "coeff_df"
   ]
  },
  {
   "cell_type": "markdown",
   "metadata": {},
   "source": [
    "This means that for a unit increase in \"LD_TRAV_DSTNC\", there is a decrease of -0.177006 in Km. Similarly, a unit increase in LD_TRAV_TM results in an increase of 1.135279 in second. We can see that \"LD_PASS_CT\" and \"LD_TM\" have a very little effect on the Fuel Used."
   ]
  },
  {
   "cell_type": "markdown",
   "metadata": {},
   "source": [
    "Let's plot our data points on 2-D graph to eyeball our dataset and see if we can manually find any relationship between the data"
   ]
  },
  {
   "cell_type": "code",
   "execution_count": 58,
   "metadata": {},
   "outputs": [
    {
     "data": {
      "image/png": "[encoded data removed]",
      "text/plain": [
       "<Figure size 432x288 with 1 Axes>"
      ]
     },
     "metadata": {
      "needs_background": "light"
     },
     "output_type": "display_data"
    }
   ],
   "source": [
    "principal.plot( x = \"FUEL_USED_IN_CYC\", y = \"LD_TRAV_TM\",style='o')\n",
    "plt.title(\"FUEL_USED_IN_CYC vs LD_TRAV_TM\")\n",
    "plt.xlabel(\"FUEL_USED_IN_CYC\")\n",
    "plt.ylabel(\"LD_TRAV_TM\")\n",
    "plt.show()"
   ]
  },
  {
   "cell_type": "markdown",
   "metadata": {},
   "source": [
    "From the graph above, we can clearly see that there is a positive linear relation between the FUEL_USED_IN_CYC and LD_TRAV_TM."
   ]
  },
  {
   "cell_type": "markdown",
   "metadata": {},
   "source": [
    "### Making Predictions"
   ]
  },
  {
   "cell_type": "code",
   "execution_count": 59,
   "metadata": {},
   "outputs": [],
   "source": [
    "# predictions\n",
    "y_pred = regressor.predict(X_test)"
   ]
  },
  {
   "cell_type": "markdown",
   "metadata": {},
   "source": [
    "Compare the actual output values for X_test with the predicted values"
   ]
  },
  {
   "cell_type": "code",
   "execution_count": 60,
   "metadata": {},
   "outputs": [
    {
     "data": {
      "text/html": [
       "<div>\n",
       "<style scoped>\n",
       "    .dataframe tbody tr th:only-of-type {\n",
       "        vertical-align: middle;\n",
       "    }\n",
       "\n",
       "    .dataframe tbody tr th {\n",
       "        vertical-align: top;\n",
       "    }\n",
       "\n",
       "    .dataframe thead th {\n",
       "        text-align: right;\n",
       "    }\n",
       "</style>\n",
       "<table border=\"1\" class=\"dataframe\">\n",
       "  <thead>\n",
       "    <tr style=\"text-align: right;\">\n",
       "      <th></th>\n",
       "      <th>Actual</th>\n",
       "      <th>Predicted</th>\n",
       "    </tr>\n",
       "  </thead>\n",
       "  <tbody>\n",
       "    <tr>\n",
       "      <td>1041</td>\n",
       "      <td>0.365429</td>\n",
       "      <td>0.398023</td>\n",
       "    </tr>\n",
       "    <tr>\n",
       "      <td>55950</td>\n",
       "      <td>0.335187</td>\n",
       "      <td>0.335176</td>\n",
       "    </tr>\n",
       "    <tr>\n",
       "      <td>42671</td>\n",
       "      <td>0.335187</td>\n",
       "      <td>0.335176</td>\n",
       "    </tr>\n",
       "    <tr>\n",
       "      <td>68052</td>\n",
       "      <td>0.335187</td>\n",
       "      <td>0.335176</td>\n",
       "    </tr>\n",
       "    <tr>\n",
       "      <td>43760</td>\n",
       "      <td>0.335187</td>\n",
       "      <td>0.335176</td>\n",
       "    </tr>\n",
       "    <tr>\n",
       "      <td>...</td>\n",
       "      <td>...</td>\n",
       "      <td>...</td>\n",
       "    </tr>\n",
       "    <tr>\n",
       "      <td>58624</td>\n",
       "      <td>0.335187</td>\n",
       "      <td>0.335176</td>\n",
       "    </tr>\n",
       "    <tr>\n",
       "      <td>19030</td>\n",
       "      <td>0.335187</td>\n",
       "      <td>0.335176</td>\n",
       "    </tr>\n",
       "    <tr>\n",
       "      <td>27360</td>\n",
       "      <td>0.335187</td>\n",
       "      <td>0.335176</td>\n",
       "    </tr>\n",
       "    <tr>\n",
       "      <td>15027</td>\n",
       "      <td>0.335187</td>\n",
       "      <td>0.335176</td>\n",
       "    </tr>\n",
       "    <tr>\n",
       "      <td>64586</td>\n",
       "      <td>0.335187</td>\n",
       "      <td>0.335176</td>\n",
       "    </tr>\n",
       "  </tbody>\n",
       "</table>\n",
       "<p>14131 rows × 2 columns</p>\n",
       "</div>"
      ],
      "text/plain": [
       "         Actual  Predicted\n",
       "1041   0.365429  0.398023 \n",
       "55950  0.335187  0.335176 \n",
       "42671  0.335187  0.335176 \n",
       "68052  0.335187  0.335176 \n",
       "43760  0.335187  0.335176 \n",
       "...         ...       ... \n",
       "58624  0.335187  0.335176 \n",
       "19030  0.335187  0.335176 \n",
       "27360  0.335187  0.335176 \n",
       "15027  0.335187  0.335176 \n",
       "64586  0.335187  0.335176 \n",
       "\n",
       "[14131 rows x 2 columns]"
      ]
     },
     "execution_count": 60,
     "metadata": {},
     "output_type": "execute_result"
    }
   ],
   "source": [
    "df = pd.DataFrame({'Actual': y_test, 'Predicted': y_pred})\n",
    "df"
   ]
  },
  {
   "cell_type": "markdown",
   "metadata": {},
   "source": [
    "- We can also visualize comparison result as a bar graph using the below script :\n",
    "- Note: As the number of records is huge, for representation purpose I’m taking just 25 records."
   ]
  },
  {
   "cell_type": "code",
   "execution_count": 61,
   "metadata": {},
   "outputs": [
    {
     "data": {
      "image/png": "[encoded data removed]",
      "text/plain": [
       "<Figure size 1152x720 with 1 Axes>"
      ]
     },
     "metadata": {
      "needs_background": "light"
     },
     "output_type": "display_data"
    }
   ],
   "source": [
    "df1 = df.head(25)\n",
    "df1.plot(kind='bar',figsize=(16,10))\n",
    "plt.grid(which='major', linestyle='-', linewidth='0.5', color='green')\n",
    "plt.grid(which='minor', linestyle=':', linewidth='0.5', color='black')\n",
    "plt.show()"
   ]
  },
  {
   "cell_type": "markdown",
   "metadata": {},
   "source": [
    "- The predicted percentages are close to the actual ones"
   ]
  },
  {
   "cell_type": "markdown",
   "metadata": {},
   "source": [
    "### Evaluating the Algorithm"
   ]
  },
  {
   "cell_type": "markdown",
   "metadata": {},
   "source": [
    "The final step is to evaluate the performance of algorithm. We'll do this by finding the values for MAE, MSE and RMSE."
   ]
  },
  {
   "cell_type": "code",
   "execution_count": 114,
   "metadata": {},
   "outputs": [
    {
     "name": "stdout",
     "output_type": "stream",
     "text": [
      "Mean Absolute Error: 0.0028297595113348636\n",
      "Mean Squared Error: 0.00023387470224704178\n",
      "Root Mean Squared Error: 0.015292962507213629\n"
     ]
    }
   ],
   "source": [
    "from sklearn import metrics\n",
    "print('Mean Absolute Error:', metrics.mean_absolute_error(y_test, y_pred))\n",
    "print('Mean Squared Error:', metrics.mean_squared_error(y_test, y_pred))\n",
    "print('Root Mean Squared Error:', np.sqrt(metrics.mean_squared_error(y_test, y_pred)))\n"
   ]
  },
  {
   "cell_type": "markdown",
   "metadata": {},
   "source": [
    "You can see that the value of root mean squared error is 0.015 means the difference between actual values and predicted values of my machine learning model.Value of 0.015 for RMSE indicates a perfect fit to the data."
   ]
  }
 ],
 "metadata": {
  "kernelspec": {
   "display_name": "Python 3",
   "language": "python",
   "name": "python3"
  },
  "language_info": {
   "codemirror_mode": {
    "name": "ipython",
    "version": 3
   },
   "file_extension": ".py",
   "mimetype": "text/x-python",
   "name": "python",
   "nbconvert_exporter": "python",
   "pygments_lexer": "ipython3",
   "version": "3.7.4"
  }
 },
 "nbformat": 4,
 "nbformat_minor": 4
}
