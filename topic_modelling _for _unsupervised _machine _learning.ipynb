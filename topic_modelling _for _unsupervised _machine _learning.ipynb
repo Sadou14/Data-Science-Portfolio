{
 "cells": [
  {
   "cell_type": "markdown",
   "metadata": {},
   "source": [
    "This projet is a topic modelling for unsupervised machine learning identity which topic is discussed in a document, called topic modelling social media data analytics.in this projet I will demonstrate several steps or phases: business understanding, data collection & understanding, data (text) preprocessing (feature engineering), descriptive analytics, model building (e.g., classification, topic modeling), and storytelling."
   ]
  },
  {
   "cell_type": "markdown",
   "metadata": {},
   "source": [
    "- First thing first, load all the necessary libraries:"
   ]
  },
  {
   "cell_type": "code",
   "execution_count": 553,
   "metadata": {},
   "outputs": [],
   "source": [
    "# -*- coding: utf-8 -*-\n",
    "# import packages for text processing\n",
    "import nltk\n",
    "from nltk.corpus import stopwords\n",
    "from nltk.stem.wordnet import WordNetLemmatizer\n",
    "from nltk.stem.porter import PorterStemmer\n",
    "import re\n",
    "import numpy as np \n",
    "from nltk import FreqDist\n",
    "# gensim for topic modeling\n",
    "import gensim\n",
    "from gensim.corpora import Dictionary\n",
    "from gensim.models import ldamodel\n",
    "from gensim import corpora, models, similarities\n",
    "from gensim.models.coherencemodel import CoherenceModel\n",
    "from gensim.models.wrappers import LdaVowpalWabbit, LdaMallet\n",
    "from gensim.models import CoherenceModel, LdaModel, LsiModel, HdpModel\n",
    "\n",
    "import csv\n",
    "import pandas as pd\n",
    "import numpy\n",
    "import matplotlib.pyplot as plt\n",
    "%matplotlib inline\n",
    "\n",
    "from wordcloud import WordCloud, STOPWORDS\n",
    "import matplotlib.colors as mcolors\n",
    "\n",
    "# show images\n",
    "from IPython.display import Image\n",
    "from IPython.core.display import HTML \n",
    "\n",
    "# suppress error messages\n",
    "import warnings\n",
    "warnings.filterwarnings('ignore')  # To ignore all warnings that arise here to enhance clarity\n"
   ]
  },
  {
   "cell_type": "markdown",
   "metadata": {},
   "source": [
    "## 1 First, data collection and preparation."
   ]
  },
  {
   "cell_type": "markdown",
   "metadata": {},
   "source": [
    "- Import fake news Text Data"
   ]
  },
  {
   "cell_type": "code",
   "execution_count": 439,
   "metadata": {
    "scrolled": true
   },
   "outputs": [
    {
     "data": {
      "text/html": [
       "<div>\n",
       "<style scoped>\n",
       "    .dataframe tbody tr th:only-of-type {\n",
       "        vertical-align: middle;\n",
       "    }\n",
       "\n",
       "    .dataframe tbody tr th {\n",
       "        vertical-align: top;\n",
       "    }\n",
       "\n",
       "    .dataframe thead th {\n",
       "        text-align: right;\n",
       "    }\n",
       "</style>\n",
       "<table border=\"1\" class=\"dataframe\">\n",
       "  <thead>\n",
       "    <tr style=\"text-align: right;\">\n",
       "      <th></th>\n",
       "      <th>uuid</th>\n",
       "      <th>ord_in_thread</th>\n",
       "      <th>author</th>\n",
       "      <th>published</th>\n",
       "      <th>title</th>\n",
       "      <th>text</th>\n",
       "      <th>language</th>\n",
       "      <th>crawled</th>\n",
       "      <th>site_url</th>\n",
       "      <th>country</th>\n",
       "      <th>domain_rank</th>\n",
       "      <th>thread_title</th>\n",
       "      <th>spam_score</th>\n",
       "      <th>main_img_url</th>\n",
       "      <th>replies_count</th>\n",
       "      <th>participants_count</th>\n",
       "      <th>likes</th>\n",
       "      <th>comments</th>\n",
       "      <th>shares</th>\n",
       "      <th>type</th>\n",
       "    </tr>\n",
       "  </thead>\n",
       "  <tbody>\n",
       "    <tr>\n",
       "      <td>0</td>\n",
       "      <td>6a175f46bcd24d39b3e962ad0f29936721db70db</td>\n",
       "      <td>0</td>\n",
       "      <td>Barracuda Brigade</td>\n",
       "      <td>2016-10-26T21:41:00.000+03:00</td>\n",
       "      <td>Muslims BUSTED: They Stole Millions In Gov’t Benefits</td>\n",
       "      <td>Print They should pay all the back all the money plus interest. The entire family and everyone who came in with them need to be deported asap. Why did it take two years to bust them? \\nHere we go again …another group stealing from the government and taxpayers! A group of Somalis stole over four million in government benefits over just 10 months! \\nWe’ve reported on numerous cases like this one where the Muslim refugees/immigrants commit fraud by scamming our system…It’s way out of control! More Related</td>\n",
       "      <td>english</td>\n",
       "      <td>2016-10-27T01:49:27.168+03:00</td>\n",
       "      <td>100percentfedup.com</td>\n",
       "      <td>US</td>\n",
       "      <td>25689.0</td>\n",
       "      <td>Muslims BUSTED: They Stole Millions In Gov’t Benefits</td>\n",
       "      <td>0.0</td>\n",
       "      <td>http://bb4sp.com/wp-content/uploads/2016/10/Fullscreen-capture-10262016-83501-AM.bmp.jpg</td>\n",
       "      <td>0</td>\n",
       "      <td>1</td>\n",
       "      <td>0</td>\n",
       "      <td>0</td>\n",
       "      <td>0</td>\n",
       "      <td>bias</td>\n",
       "    </tr>\n",
       "    <tr>\n",
       "      <td>1</td>\n",
       "      <td>2bdc29d12605ef9cf3f09f9875040a7113be5d5b</td>\n",
       "      <td>0</td>\n",
       "      <td>reasoning with facts</td>\n",
       "      <td>2016-10-29T08:47:11.259+03:00</td>\n",
       "      <td>Re: Why Did Attorney General Loretta Lynch Plead The Fifth?</td>\n",
       "      <td>Why Did Attorney General Loretta Lynch Plead The Fifth? Barracuda Brigade 2016-10-28 Print The administration is blocking congressional probe into cash payments to Iran. Of course she needs to plead the 5th. She either can’t recall, refuses to answer, or just plain deflects the question. Straight up corruption at its finest! \\n100percentfedUp.com ; Talk about covering your ass! Loretta Lynch did just that when she plead the Fifth to avoid incriminating herself over payments to Iran…Corrupt to the core! Attorney General Loretta Lynch is declining to comply with an investigation by leading members of Congress about the Obama administration’s secret efforts to send Iran $1.7 billion in cash earlier this year, prompting accusations that Lynch has “pleaded the Fifth” Amendment to avoid incriminating herself over these payments, according to lawmakers and communications exclusively obtained by the Washington Free Beacon. \\nSen. Marco Rubio (R., Fla.) and Rep. Mike Pompeo (R., Kan.) initially presented Lynch in October with a series of questions about how the cash payment to Iran was approved and delivered. \\nIn an Oct. 24 response, Assistant Attorney General Peter Kadzik responded on Lynch’s behalf, refusing to answer the questions and informing the lawmakers that they are barred from publicly disclosing any details about the cash payment, which was bound up in a ransom deal aimed at freeing several American hostages from Iran. \\nThe response from the attorney general’s office is “unacceptable” and provides evidence that Lynch has chosen to “essentially plead the fifth and refuse to respond to inquiries regarding [her]role in providing cash to the world’s foremost state sponsor of terrorism,” Rubio and Pompeo wrote on Friday in a follow-up letter to Lynch. More Related</td>\n",
       "      <td>english</td>\n",
       "      <td>2016-10-29T08:47:11.259+03:00</td>\n",
       "      <td>100percentfedup.com</td>\n",
       "      <td>US</td>\n",
       "      <td>25689.0</td>\n",
       "      <td>Re: Why Did Attorney General Loretta Lynch Plead The Fifth?</td>\n",
       "      <td>0.0</td>\n",
       "      <td>http://bb4sp.com/wp-content/uploads/2016/10/Fullscreen-capture-10282016-102616-PM.bmp.jpg</td>\n",
       "      <td>0</td>\n",
       "      <td>1</td>\n",
       "      <td>0</td>\n",
       "      <td>0</td>\n",
       "      <td>0</td>\n",
       "      <td>bias</td>\n",
       "    </tr>\n",
       "  </tbody>\n",
       "</table>\n",
       "</div>"
      ],
      "text/plain": [
       "                                       uuid  ord_in_thread  \\\n",
       "0  6a175f46bcd24d39b3e962ad0f29936721db70db  0               \n",
       "1  2bdc29d12605ef9cf3f09f9875040a7113be5d5b  0               \n",
       "\n",
       "                 author                      published  \\\n",
       "0  Barracuda Brigade     2016-10-26T21:41:00.000+03:00   \n",
       "1  reasoning with facts  2016-10-29T08:47:11.259+03:00   \n",
       "\n",
       "                                                         title  \\\n",
       "0  Muslims BUSTED: They Stole Millions In Gov’t Benefits         \n",
       "1  Re: Why Did Attorney General Loretta Lynch Plead The Fifth?   \n",
       "\n",
       "                                                                                                                                                                                                                                                                                                                                                                                                                                                                                                                                                                                                                                                                                                                                                                                                                                                                                                                                                                                                                                                                                                                                                                                                                                                                                                                                                                                                                                                                                                                                                                                                                                                                                                                                                                                                                                                                text  \\\n",
       "0  Print They should pay all the back all the money plus interest. The entire family and everyone who came in with them need to be deported asap. Why did it take two years to bust them? \\nHere we go again …another group stealing from the government and taxpayers! A group of Somalis stole over four million in government benefits over just 10 months! \\nWe’ve reported on numerous cases like this one where the Muslim refugees/immigrants commit fraud by scamming our system…It’s way out of control! More Related                                                                                                                                                                                                                                                                                                                                                                                                                                                                                                                                                                                                                                                                                                                                                                                                                                                                                                                                                                                                                                                                                                                                                                                                                                                                                                                                         \n",
       "1  Why Did Attorney General Loretta Lynch Plead The Fifth? Barracuda Brigade 2016-10-28 Print The administration is blocking congressional probe into cash payments to Iran. Of course she needs to plead the 5th. She either can’t recall, refuses to answer, or just plain deflects the question. Straight up corruption at its finest! \\n100percentfedUp.com ; Talk about covering your ass! Loretta Lynch did just that when she plead the Fifth to avoid incriminating herself over payments to Iran…Corrupt to the core! Attorney General Loretta Lynch is declining to comply with an investigation by leading members of Congress about the Obama administration’s secret efforts to send Iran $1.7 billion in cash earlier this year, prompting accusations that Lynch has “pleaded the Fifth” Amendment to avoid incriminating herself over these payments, according to lawmakers and communications exclusively obtained by the Washington Free Beacon. \\nSen. Marco Rubio (R., Fla.) and Rep. Mike Pompeo (R., Kan.) initially presented Lynch in October with a series of questions about how the cash payment to Iran was approved and delivered. \\nIn an Oct. 24 response, Assistant Attorney General Peter Kadzik responded on Lynch’s behalf, refusing to answer the questions and informing the lawmakers that they are barred from publicly disclosing any details about the cash payment, which was bound up in a ransom deal aimed at freeing several American hostages from Iran. \\nThe response from the attorney general’s office is “unacceptable” and provides evidence that Lynch has chosen to “essentially plead the fifth and refuse to respond to inquiries regarding [her]role in providing cash to the world’s foremost state sponsor of terrorism,” Rubio and Pompeo wrote on Friday in a follow-up letter to Lynch. More Related   \n",
       "\n",
       "  language                        crawled             site_url country  \\\n",
       "0  english  2016-10-27T01:49:27.168+03:00  100percentfedup.com  US       \n",
       "1  english  2016-10-29T08:47:11.259+03:00  100percentfedup.com  US       \n",
       "\n",
       "   domain_rank                                                 thread_title  \\\n",
       "0  25689.0      Muslims BUSTED: They Stole Millions In Gov’t Benefits         \n",
       "1  25689.0      Re: Why Did Attorney General Loretta Lynch Plead The Fifth?   \n",
       "\n",
       "   spam_score  \\\n",
       "0  0.0          \n",
       "1  0.0          \n",
       "\n",
       "                                                                                main_img_url  \\\n",
       "0  http://bb4sp.com/wp-content/uploads/2016/10/Fullscreen-capture-10262016-83501-AM.bmp.jpg    \n",
       "1  http://bb4sp.com/wp-content/uploads/2016/10/Fullscreen-capture-10282016-102616-PM.bmp.jpg   \n",
       "\n",
       "   replies_count  participants_count  likes  comments  shares  type  \n",
       "0  0              1                   0      0         0       bias  \n",
       "1  0              1                   0      0         0       bias  "
      ]
     },
     "execution_count": 439,
     "metadata": {},
     "output_type": "execute_result"
    }
   ],
   "source": [
    "#Loading Data\n",
    "df = pd.read_csv('..//Topic_Modeling/hw_kaggle_fake_sample.csv', encoding = \"utf8\") \n",
    "df.head(2)"
   ]
  },
  {
   "cell_type": "code",
   "execution_count": 440,
   "metadata": {},
   "outputs": [
    {
     "data": {
      "text/plain": [
       "(1500, 20)"
      ]
     },
     "execution_count": 440,
     "metadata": {},
     "output_type": "execute_result"
    }
   ],
   "source": [
    "df.shape"
   ]
  },
  {
   "cell_type": "code",
   "execution_count": 441,
   "metadata": {},
   "outputs": [
    {
     "data": {
      "text/plain": [
       "Index(['uuid', 'ord_in_thread', 'author', 'published', 'title', 'text',\n",
       "       'language', 'crawled', 'site_url', 'country', 'domain_rank',\n",
       "       'thread_title', 'spam_score', 'main_img_url', 'replies_count',\n",
       "       'participants_count', 'likes', 'comments', 'shares', 'type'],\n",
       "      dtype='object')"
      ]
     },
     "execution_count": 441,
     "metadata": {},
     "output_type": "execute_result"
    }
   ],
   "source": [
    "df.columns"
   ]
  },
  {
   "cell_type": "markdown",
   "metadata": {},
   "source": [
    "- I will be using fake news dataset for this. This version of the dataset contains 1500 observations and 20 columns. This is available on https://www.kaggle.com/mrisdal/fake-news#.\n"
   ]
  },
  {
   "cell_type": "code",
   "execution_count": 442,
   "metadata": {},
   "outputs": [
    {
     "data": {
      "text/html": [
       "<div>\n",
       "<style scoped>\n",
       "    .dataframe tbody tr th:only-of-type {\n",
       "        vertical-align: middle;\n",
       "    }\n",
       "\n",
       "    .dataframe tbody tr th {\n",
       "        vertical-align: top;\n",
       "    }\n",
       "\n",
       "    .dataframe thead th {\n",
       "        text-align: right;\n",
       "    }\n",
       "</style>\n",
       "<table border=\"1\" class=\"dataframe\">\n",
       "  <thead>\n",
       "    <tr style=\"text-align: right;\">\n",
       "      <th></th>\n",
       "      <th>text</th>\n",
       "    </tr>\n",
       "  </thead>\n",
       "  <tbody>\n",
       "    <tr>\n",
       "      <td>0</td>\n",
       "      <td>Print They should pay all the back all the money plus interest. The entire family and everyone who came in with them need to be deported asap. Why did it take two years to bust them? \\nHere we go again …another group stealing from the government and taxpayers! A group of Somalis stole over four million in government benefits over just 10 months! \\nWe’ve reported on numerous cases like this one where the Muslim refugees/immigrants commit fraud by scamming our system…It’s way out of control! More Related</td>\n",
       "    </tr>\n",
       "    <tr>\n",
       "      <td>1</td>\n",
       "      <td>Why Did Attorney General Loretta Lynch Plead The Fifth? Barracuda Brigade 2016-10-28 Print The administration is blocking congressional probe into cash payments to Iran. Of course she needs to plead the 5th. She either can’t recall, refuses to answer, or just plain deflects the question. Straight up corruption at its finest! \\n100percentfedUp.com ; Talk about covering your ass! Loretta Lynch did just that when she plead the Fifth to avoid incriminating herself over payments to Iran…Corrupt to the core! Attorney General Loretta Lynch is declining to comply with an investigation by leading members of Congress about the Obama administration’s secret efforts to send Iran $1.7 billion in cash earlier this year, prompting accusations that Lynch has “pleaded the Fifth” Amendment to avoid incriminating herself over these payments, according to lawmakers and communications exclusively obtained by the Washington Free Beacon. \\nSen. Marco Rubio (R., Fla.) and Rep. Mike Pompeo (R., Kan.) initially presented Lynch in October with a series of questions about how the cash payment to Iran was approved and delivered. \\nIn an Oct. 24 response, Assistant Attorney General Peter Kadzik responded on Lynch’s behalf, refusing to answer the questions and informing the lawmakers that they are barred from publicly disclosing any details about the cash payment, which was bound up in a ransom deal aimed at freeing several American hostages from Iran. \\nThe response from the attorney general’s office is “unacceptable” and provides evidence that Lynch has chosen to “essentially plead the fifth and refuse to respond to inquiries regarding [her]role in providing cash to the world’s foremost state sponsor of terrorism,” Rubio and Pompeo wrote on Friday in a follow-up letter to Lynch. More Related</td>\n",
       "    </tr>\n",
       "    <tr>\n",
       "      <td>2</td>\n",
       "      <td>Red State : \\nFox News Sunday reported this morning that Anthony Weiner is cooperating with the FBI, which has re-opened (yes, lefties: “re-opened”) the investigation into Hillary Clinton’s classified emails. Watch as Chris Wallace reports the breaking news during the panel segment near the end of the show: \\nAnd the news is breaking while we’re on the air. Our colleague Bret Baier has just sent us an e-mail saying he has two sources who say that Anthony Weiner, who also had co-ownership of that laptop with his estranged wife Huma Abedin, is cooperating with the FBI investigation, had given them the laptop, so therefore they didn’t need a warrant to get in to see the contents of said laptop. Pretty interesting development. \\nTargets of federal investigations will often cooperate, hoping that they will get consideration from a judge at sentencing. Given Weiner’s well-known penchant for lying, it’s hard to believe that a prosecutor would give Weiner a deal based on an agreement to testify, unless his testimony were very strongly corroborated by hard evidence. But cooperation can take many forms — and, as Wallace indicated on this morning’s show, one of those forms could be signing a consent form to allow   the contents of devices that they could probably get a warrant for anyway. We’ll see if Weiner’s cooperation extends beyond that. More Related</td>\n",
       "    </tr>\n",
       "    <tr>\n",
       "      <td>3</td>\n",
       "      <td>Email Kayla Mueller was a prisoner and tortured by ISIS while no chance of release…a horrific story. Her father gave a pin drop speech that was so heartfelt you want to give him a hug. Carl Mueller believes Donald Trump will be a great president…Epic speech! 9.0K shares</td>\n",
       "    </tr>\n",
       "    <tr>\n",
       "      <td>4</td>\n",
       "      <td>Email HEALTHCARE REFORM TO MAKE AMERICA GREAT AGAIN \\nSince March of 2010, the American people have had to suffer under the incredible economic burden of the Affordable Care Act—Obamacare. This legislation, passed by totally partisan votes in the House and Senate and signed into law by the most divisive and partisan President in American history, has tragically but predictably resulted in runaway costs, websites that don’t work, greater rationing of care, higher premiums, less competition and fewer choices. Obamacare has raised the economic uncertainty of every single person residing in this country. As it appears Obamacare is certain to collapse of its own weight, the damage done by the Democrats and President Obama, and abetted by the Supreme Court, will be difficult to repair unless the next President and a Republican congress lead the effort to bring much-needed free market reforms to the healthcare industry. \\nCongress must act. Our elected representatives in the House and Senate must: \\n1. Completely repeal Obamacare. Our elected representatives must eliminate the individual mandate. No person should be required to buy insurance unless he or she wants to. \\n2. Modify existing law that inhibits the sale of health insurance across state lines. As long as the plan purchased complies with state requirements, any vendor ought to be able to offer insurance in any state. By allowing full competition in this market, insurance costs will go down and consumer satisfaction will go up. \\n3. Allow individuals to fully deduct health insurance premium payments from their tax returns under the current tax system. Businesses are allowed to take these deductions so why wouldn’t Congress allow individuals the same exemptions? As we allow the free market to provide insurance coverage opportunities to companies and individuals, we must also make sure that no one slips through the cracks simply because they cannot afford insurance. We must review basic options for Medicaid and work with states to ensure that those who want healthcare coverage can have it. TRENDING ON 100% Fed Up</td>\n",
       "    </tr>\n",
       "    <tr>\n",
       "      <td>...</td>\n",
       "      <td>...</td>\n",
       "    </tr>\n",
       "    <tr>\n",
       "      <td>1495</td>\n",
       "      <td>What a completely worthless organization, UNESCO. Israel has an undisputed claim to the land. God said so.</td>\n",
       "    </tr>\n",
       "    <tr>\n",
       "      <td>1496</td>\n",
       "      <td>BC and AD mean nothing to these idiots. Seventh century founded religion has priority and historical significance over Judaism and Christianity which predate 0 year and centuries earlier? Again, the UN should go the way of the League of Nations.</td>\n",
       "    </tr>\n",
       "    <tr>\n",
       "      <td>1497</td>\n",
       "      <td>For that Statement alone I hope someone brings UNESCO'S building DOWN with all its members in it. Please, there is someone out there.</td>\n",
       "    </tr>\n",
       "    <tr>\n",
       "      <td>1498</td>\n",
       "      <td>UNESCO has never been a champion of the truth. Just another agitprop org.</td>\n",
       "    </tr>\n",
       "    <tr>\n",
       "      <td>1499</td>\n",
       "      <td>out of america \\ngood bye</td>\n",
       "    </tr>\n",
       "  </tbody>\n",
       "</table>\n",
       "<p>1500 rows × 1 columns</p>\n",
       "</div>"
      ],
      "text/plain": [
       "                                                                                                                                                                                                                                                                                                                                                                                                                                                                                                                                                                                                                                                                                                                                                                                                                                                                                                                                                                                                                                                                                                                                                                                                                                                                                                                                                                                                                                                                                                                                                                                                                                                                                                                                                                                                                                                                                                                                                                                                                                                                                                                                                                                      text\n",
       "0     Print They should pay all the back all the money plus interest. The entire family and everyone who came in with them need to be deported asap. Why did it take two years to bust them? \\nHere we go again …another group stealing from the government and taxpayers! A group of Somalis stole over four million in government benefits over just 10 months! \\nWe’ve reported on numerous cases like this one where the Muslim refugees/immigrants commit fraud by scamming our system…It’s way out of control! More Related                                                                                                                                                                                                                                                                                                                                                                                                                                                                                                                                                                                                                                                                                                                                                                                                                                                                                                                                                                                                                                                                                                                                                                                                                                                                                                                                                                                                                                                                                                                                                                                                                                                         \n",
       "1     Why Did Attorney General Loretta Lynch Plead The Fifth? Barracuda Brigade 2016-10-28 Print The administration is blocking congressional probe into cash payments to Iran. Of course she needs to plead the 5th. She either can’t recall, refuses to answer, or just plain deflects the question. Straight up corruption at its finest! \\n100percentfedUp.com ; Talk about covering your ass! Loretta Lynch did just that when she plead the Fifth to avoid incriminating herself over payments to Iran…Corrupt to the core! Attorney General Loretta Lynch is declining to comply with an investigation by leading members of Congress about the Obama administration’s secret efforts to send Iran $1.7 billion in cash earlier this year, prompting accusations that Lynch has “pleaded the Fifth” Amendment to avoid incriminating herself over these payments, according to lawmakers and communications exclusively obtained by the Washington Free Beacon. \\nSen. Marco Rubio (R., Fla.) and Rep. Mike Pompeo (R., Kan.) initially presented Lynch in October with a series of questions about how the cash payment to Iran was approved and delivered. \\nIn an Oct. 24 response, Assistant Attorney General Peter Kadzik responded on Lynch’s behalf, refusing to answer the questions and informing the lawmakers that they are barred from publicly disclosing any details about the cash payment, which was bound up in a ransom deal aimed at freeing several American hostages from Iran. \\nThe response from the attorney general’s office is “unacceptable” and provides evidence that Lynch has chosen to “essentially plead the fifth and refuse to respond to inquiries regarding [her]role in providing cash to the world’s foremost state sponsor of terrorism,” Rubio and Pompeo wrote on Friday in a follow-up letter to Lynch. More Related                                                                                                                                                                                                                                                                                                                   \n",
       "2     Red State : \\nFox News Sunday reported this morning that Anthony Weiner is cooperating with the FBI, which has re-opened (yes, lefties: “re-opened”) the investigation into Hillary Clinton’s classified emails. Watch as Chris Wallace reports the breaking news during the panel segment near the end of the show: \\nAnd the news is breaking while we’re on the air. Our colleague Bret Baier has just sent us an e-mail saying he has two sources who say that Anthony Weiner, who also had co-ownership of that laptop with his estranged wife Huma Abedin, is cooperating with the FBI investigation, had given them the laptop, so therefore they didn’t need a warrant to get in to see the contents of said laptop. Pretty interesting development. \\nTargets of federal investigations will often cooperate, hoping that they will get consideration from a judge at sentencing. Given Weiner’s well-known penchant for lying, it’s hard to believe that a prosecutor would give Weiner a deal based on an agreement to testify, unless his testimony were very strongly corroborated by hard evidence. But cooperation can take many forms — and, as Wallace indicated on this morning’s show, one of those forms could be signing a consent form to allow   the contents of devices that they could probably get a warrant for anyway. We’ll see if Weiner’s cooperation extends beyond that. More Related                                                                                                                                                                                                                                                                                                                                                                                                                                                                                                                                                                                                                                                                                                                                                              \n",
       "3     Email Kayla Mueller was a prisoner and tortured by ISIS while no chance of release…a horrific story. Her father gave a pin drop speech that was so heartfelt you want to give him a hug. Carl Mueller believes Donald Trump will be a great president…Epic speech! 9.0K shares                                                                                                                                                                                                                                                                                                                                                                                                                                                                                                                                                                                                                                                                                                                                                                                                                                                                                                                                                                                                                                                                                                                                                                                                                                                                                                                                                                                                                                                                                                                                                                                                                                                                                                                                                                                                                                                                                                      \n",
       "4     Email HEALTHCARE REFORM TO MAKE AMERICA GREAT AGAIN \\nSince March of 2010, the American people have had to suffer under the incredible economic burden of the Affordable Care Act—Obamacare. This legislation, passed by totally partisan votes in the House and Senate and signed into law by the most divisive and partisan President in American history, has tragically but predictably resulted in runaway costs, websites that don’t work, greater rationing of care, higher premiums, less competition and fewer choices. Obamacare has raised the economic uncertainty of every single person residing in this country. As it appears Obamacare is certain to collapse of its own weight, the damage done by the Democrats and President Obama, and abetted by the Supreme Court, will be difficult to repair unless the next President and a Republican congress lead the effort to bring much-needed free market reforms to the healthcare industry. \\nCongress must act. Our elected representatives in the House and Senate must: \\n1. Completely repeal Obamacare. Our elected representatives must eliminate the individual mandate. No person should be required to buy insurance unless he or she wants to. \\n2. Modify existing law that inhibits the sale of health insurance across state lines. As long as the plan purchased complies with state requirements, any vendor ought to be able to offer insurance in any state. By allowing full competition in this market, insurance costs will go down and consumer satisfaction will go up. \\n3. Allow individuals to fully deduct health insurance premium payments from their tax returns under the current tax system. Businesses are allowed to take these deductions so why wouldn’t Congress allow individuals the same exemptions? As we allow the free market to provide insurance coverage opportunities to companies and individuals, we must also make sure that no one slips through the cracks simply because they cannot afford insurance. We must review basic options for Medicaid and work with states to ensure that those who want healthcare coverage can have it. TRENDING ON 100% Fed Up \n",
       "...                                                                                                                                                                                                                                                                                                                                                                                                                                                                                                                                                                                                                                                                                                                                                                                                                                                                                                                                                                                                                                                                                                                                                                                                                                                                                                                                                                                                                                                                                                                                                                                                                                                                                                                                                                                                                                                                                                                                                                                                                                                                                                                                                                                    ...\n",
       "1495  What a completely worthless organization, UNESCO. Israel has an undisputed claim to the land. God said so.                                                                                                                                                                                                                                                                                                                                                                                                                                                                                                                                                                                                                                                                                                                                                                                                                                                                                                                                                                                                                                                                                                                                                                                                                                                                                                                                                                                                                                                                                                                                                                                                                                                                                                                                                                                                                                                                                                                                                                                                                                                                          \n",
       "1496  BC and AD mean nothing to these idiots. Seventh century founded religion has priority and historical significance over Judaism and Christianity which predate 0 year and centuries earlier? Again, the UN should go the way of the League of Nations.                                                                                                                                                                                                                                                                                                                                                                                                                                                                                                                                                                                                                                                                                                                                                                                                                                                                                                                                                                                                                                                                                                                                                                                                                                                                                                                                                                                                                                                                                                                                                                                                                                                                                                                                                                                                                                                                                                                               \n",
       "1497  For that Statement alone I hope someone brings UNESCO'S building DOWN with all its members in it. Please, there is someone out there.                                                                                                                                                                                                                                                                                                                                                                                                                                                                                                                                                                                                                                                                                                                                                                                                                                                                                                                                                                                                                                                                                                                                                                                                                                                                                                                                                                                                                                                                                                                                                                                                                                                                                                                                                                                                                                                                                                                                                                                                                                               \n",
       "1498  UNESCO has never been a champion of the truth. Just another agitprop org.                                                                                                                                                                                                                                                                                                                                                                                                                                                                                                                                                                                                                                                                                                                                                                                                                                                                                                                                                                                                                                                                                                                                                                                                                                                                                                                                                                                                                                                                                                                                                                                                                                                                                                                                                                                                                                                                                                                                                                                                                                                                                                           \n",
       "1499  out of america \\ngood bye                                                                                                                                                                                                                                                                                                                                                                                                                                                                                                                                                                                                                                                                                                                                                                                                                                                                                                                                                                                                                                                                                                                                                                                                                                                                                                                                                                                                                                                                                                                                                                                                                                                                                                                                                                                                                                                                                                                                                                                                                                                                                                                                                           \n",
       "\n",
       "[1500 rows x 1 columns]"
      ]
     },
     "execution_count": 442,
     "metadata": {},
     "output_type": "execute_result"
    }
   ],
   "source": [
    "# drop columns \n",
    "df.drop(columns =['uuid', 'ord_in_thread', 'author', 'published', 'title',\n",
    "       'language', 'crawled', 'site_url', 'country', 'domain_rank',\n",
    "       'thread_title', 'spam_score', 'main_img_url', 'replies_count',\n",
    "       'participants_count', 'likes', 'comments', 'shares', 'type']) "
   ]
  },
  {
   "cell_type": "markdown",
   "metadata": {},
   "source": [
    "## 2 Second, text preprocessing and feature engineering."
   ]
  },
  {
   "cell_type": "markdown",
   "metadata": {},
   "source": [
    "- You can see many newline characters and extra spaces in the text and it is quite distracting. Let’s get rid of them using regular expressions and stop words."
   ]
  },
  {
   "cell_type": "code",
   "execution_count": 443,
   "metadata": {},
   "outputs": [
    {
     "data": {
      "text/html": [
       "<div>\n",
       "<style scoped>\n",
       "    .dataframe tbody tr th:only-of-type {\n",
       "        vertical-align: middle;\n",
       "    }\n",
       "\n",
       "    .dataframe tbody tr th {\n",
       "        vertical-align: top;\n",
       "    }\n",
       "\n",
       "    .dataframe thead th {\n",
       "        text-align: right;\n",
       "    }\n",
       "</style>\n",
       "<table border=\"1\" class=\"dataframe\">\n",
       "  <thead>\n",
       "    <tr style=\"text-align: right;\">\n",
       "      <th></th>\n",
       "      <th>text</th>\n",
       "    </tr>\n",
       "  </thead>\n",
       "  <tbody>\n",
       "    <tr>\n",
       "      <td>0</td>\n",
       "      <td>Print They should pay all the back all the money plus interest. The entire family and everyone who came in with them need to be deported asap. Why did it take two years to bust them? \\nHere we go again …another group stealing from the government and taxpayers! A group of Somalis stole over four million in government benefits over just 10 months! \\nWe’ve reported on numerous cases like this one where the Muslim refugees/immigrants commit fraud by scamming our system…It’s way out of control! More Related</td>\n",
       "    </tr>\n",
       "    <tr>\n",
       "      <td>1</td>\n",
       "      <td>Why Did Attorney General Loretta Lynch Plead The Fifth? Barracuda Brigade 2016-10-28 Print The administration is blocking congressional probe into cash payments to Iran. Of course she needs to plead the 5th. She either can’t recall, refuses to answer, or just plain deflects the question. Straight up corruption at its finest! \\n100percentfedUp.com ; Talk about covering your ass! Loretta Lynch did just that when she plead the Fifth to avoid incriminating herself over payments to Iran…Corrupt to the core! Attorney General Loretta Lynch is declining to comply with an investigation by leading members of Congress about the Obama administration’s secret efforts to send Iran $1.7 billion in cash earlier this year, prompting accusations that Lynch has “pleaded the Fifth” Amendment to avoid incriminating herself over these payments, according to lawmakers and communications exclusively obtained by the Washington Free Beacon. \\nSen. Marco Rubio (R., Fla.) and Rep. Mike Pompeo (R., Kan.) initially presented Lynch in October with a series of questions about how the cash payment to Iran was approved and delivered. \\nIn an Oct. 24 response, Assistant Attorney General Peter Kadzik responded on Lynch’s behalf, refusing to answer the questions and informing the lawmakers that they are barred from publicly disclosing any details about the cash payment, which was bound up in a ransom deal aimed at freeing several American hostages from Iran. \\nThe response from the attorney general’s office is “unacceptable” and provides evidence that Lynch has chosen to “essentially plead the fifth and refuse to respond to inquiries regarding [her]role in providing cash to the world’s foremost state sponsor of terrorism,” Rubio and Pompeo wrote on Friday in a follow-up letter to Lynch. More Related</td>\n",
       "    </tr>\n",
       "    <tr>\n",
       "      <td>2</td>\n",
       "      <td>Red State : \\nFox News Sunday reported this morning that Anthony Weiner is cooperating with the FBI, which has re-opened (yes, lefties: “re-opened”) the investigation into Hillary Clinton’s classified emails. Watch as Chris Wallace reports the breaking news during the panel segment near the end of the show: \\nAnd the news is breaking while we’re on the air. Our colleague Bret Baier has just sent us an e-mail saying he has two sources who say that Anthony Weiner, who also had co-ownership of that laptop with his estranged wife Huma Abedin, is cooperating with the FBI investigation, had given them the laptop, so therefore they didn’t need a warrant to get in to see the contents of said laptop. Pretty interesting development. \\nTargets of federal investigations will often cooperate, hoping that they will get consideration from a judge at sentencing. Given Weiner’s well-known penchant for lying, it’s hard to believe that a prosecutor would give Weiner a deal based on an agreement to testify, unless his testimony were very strongly corroborated by hard evidence. But cooperation can take many forms — and, as Wallace indicated on this morning’s show, one of those forms could be signing a consent form to allow   the contents of devices that they could probably get a warrant for anyway. We’ll see if Weiner’s cooperation extends beyond that. More Related</td>\n",
       "    </tr>\n",
       "    <tr>\n",
       "      <td>3</td>\n",
       "      <td>Email Kayla Mueller was a prisoner and tortured by ISIS while no chance of release…a horrific story. Her father gave a pin drop speech that was so heartfelt you want to give him a hug. Carl Mueller believes Donald Trump will be a great president…Epic speech! 9.0K shares</td>\n",
       "    </tr>\n",
       "    <tr>\n",
       "      <td>4</td>\n",
       "      <td>Email HEALTHCARE REFORM TO MAKE AMERICA GREAT AGAIN \\nSince March of 2010, the American people have had to suffer under the incredible economic burden of the Affordable Care Act—Obamacare. This legislation, passed by totally partisan votes in the House and Senate and signed into law by the most divisive and partisan President in American history, has tragically but predictably resulted in runaway costs, websites that don’t work, greater rationing of care, higher premiums, less competition and fewer choices. Obamacare has raised the economic uncertainty of every single person residing in this country. As it appears Obamacare is certain to collapse of its own weight, the damage done by the Democrats and President Obama, and abetted by the Supreme Court, will be difficult to repair unless the next President and a Republican congress lead the effort to bring much-needed free market reforms to the healthcare industry. \\nCongress must act. Our elected representatives in the House and Senate must: \\n1. Completely repeal Obamacare. Our elected representatives must eliminate the individual mandate. No person should be required to buy insurance unless he or she wants to. \\n2. Modify existing law that inhibits the sale of health insurance across state lines. As long as the plan purchased complies with state requirements, any vendor ought to be able to offer insurance in any state. By allowing full competition in this market, insurance costs will go down and consumer satisfaction will go up. \\n3. Allow individuals to fully deduct health insurance premium payments from their tax returns under the current tax system. Businesses are allowed to take these deductions so why wouldn’t Congress allow individuals the same exemptions? As we allow the free market to provide insurance coverage opportunities to companies and individuals, we must also make sure that no one slips through the cracks simply because they cannot afford insurance. We must review basic options for Medicaid and work with states to ensure that those who want healthcare coverage can have it. TRENDING ON 100% Fed Up</td>\n",
       "    </tr>\n",
       "  </tbody>\n",
       "</table>\n",
       "</div>"
      ],
      "text/plain": [
       "                                                                                                                                                                                                                                                                                                                                                                                                                                                                                                                                                                                                                                                                                                                                                                                                                                                                                                                                                                                                                                                                                                                                                                                                                                                                                                                                                                                                                                                                                                                                                                                                                                                                                                                                                                                                                                                                                                                                                                                                                                                                                                                                                                                   text\n",
       "0  Print They should pay all the back all the money plus interest. The entire family and everyone who came in with them need to be deported asap. Why did it take two years to bust them? \\nHere we go again …another group stealing from the government and taxpayers! A group of Somalis stole over four million in government benefits over just 10 months! \\nWe’ve reported on numerous cases like this one where the Muslim refugees/immigrants commit fraud by scamming our system…It’s way out of control! More Related                                                                                                                                                                                                                                                                                                                                                                                                                                                                                                                                                                                                                                                                                                                                                                                                                                                                                                                                                                                                                                                                                                                                                                                                                                                                                                                                                                                                                                                                                                                                                                                                                                                         \n",
       "1  Why Did Attorney General Loretta Lynch Plead The Fifth? Barracuda Brigade 2016-10-28 Print The administration is blocking congressional probe into cash payments to Iran. Of course she needs to plead the 5th. She either can’t recall, refuses to answer, or just plain deflects the question. Straight up corruption at its finest! \\n100percentfedUp.com ; Talk about covering your ass! Loretta Lynch did just that when she plead the Fifth to avoid incriminating herself over payments to Iran…Corrupt to the core! Attorney General Loretta Lynch is declining to comply with an investigation by leading members of Congress about the Obama administration’s secret efforts to send Iran $1.7 billion in cash earlier this year, prompting accusations that Lynch has “pleaded the Fifth” Amendment to avoid incriminating herself over these payments, according to lawmakers and communications exclusively obtained by the Washington Free Beacon. \\nSen. Marco Rubio (R., Fla.) and Rep. Mike Pompeo (R., Kan.) initially presented Lynch in October with a series of questions about how the cash payment to Iran was approved and delivered. \\nIn an Oct. 24 response, Assistant Attorney General Peter Kadzik responded on Lynch’s behalf, refusing to answer the questions and informing the lawmakers that they are barred from publicly disclosing any details about the cash payment, which was bound up in a ransom deal aimed at freeing several American hostages from Iran. \\nThe response from the attorney general’s office is “unacceptable” and provides evidence that Lynch has chosen to “essentially plead the fifth and refuse to respond to inquiries regarding [her]role in providing cash to the world’s foremost state sponsor of terrorism,” Rubio and Pompeo wrote on Friday in a follow-up letter to Lynch. More Related                                                                                                                                                                                                                                                                                                                   \n",
       "2  Red State : \\nFox News Sunday reported this morning that Anthony Weiner is cooperating with the FBI, which has re-opened (yes, lefties: “re-opened”) the investigation into Hillary Clinton’s classified emails. Watch as Chris Wallace reports the breaking news during the panel segment near the end of the show: \\nAnd the news is breaking while we’re on the air. Our colleague Bret Baier has just sent us an e-mail saying he has two sources who say that Anthony Weiner, who also had co-ownership of that laptop with his estranged wife Huma Abedin, is cooperating with the FBI investigation, had given them the laptop, so therefore they didn’t need a warrant to get in to see the contents of said laptop. Pretty interesting development. \\nTargets of federal investigations will often cooperate, hoping that they will get consideration from a judge at sentencing. Given Weiner’s well-known penchant for lying, it’s hard to believe that a prosecutor would give Weiner a deal based on an agreement to testify, unless his testimony were very strongly corroborated by hard evidence. But cooperation can take many forms — and, as Wallace indicated on this morning’s show, one of those forms could be signing a consent form to allow   the contents of devices that they could probably get a warrant for anyway. We’ll see if Weiner’s cooperation extends beyond that. More Related                                                                                                                                                                                                                                                                                                                                                                                                                                                                                                                                                                                                                                                                                                                                                              \n",
       "3  Email Kayla Mueller was a prisoner and tortured by ISIS while no chance of release…a horrific story. Her father gave a pin drop speech that was so heartfelt you want to give him a hug. Carl Mueller believes Donald Trump will be a great president…Epic speech! 9.0K shares                                                                                                                                                                                                                                                                                                                                                                                                                                                                                                                                                                                                                                                                                                                                                                                                                                                                                                                                                                                                                                                                                                                                                                                                                                                                                                                                                                                                                                                                                                                                                                                                                                                                                                                                                                                                                                                                                                      \n",
       "4  Email HEALTHCARE REFORM TO MAKE AMERICA GREAT AGAIN \\nSince March of 2010, the American people have had to suffer under the incredible economic burden of the Affordable Care Act—Obamacare. This legislation, passed by totally partisan votes in the House and Senate and signed into law by the most divisive and partisan President in American history, has tragically but predictably resulted in runaway costs, websites that don’t work, greater rationing of care, higher premiums, less competition and fewer choices. Obamacare has raised the economic uncertainty of every single person residing in this country. As it appears Obamacare is certain to collapse of its own weight, the damage done by the Democrats and President Obama, and abetted by the Supreme Court, will be difficult to repair unless the next President and a Republican congress lead the effort to bring much-needed free market reforms to the healthcare industry. \\nCongress must act. Our elected representatives in the House and Senate must: \\n1. Completely repeal Obamacare. Our elected representatives must eliminate the individual mandate. No person should be required to buy insurance unless he or she wants to. \\n2. Modify existing law that inhibits the sale of health insurance across state lines. As long as the plan purchased complies with state requirements, any vendor ought to be able to offer insurance in any state. By allowing full competition in this market, insurance costs will go down and consumer satisfaction will go up. \\n3. Allow individuals to fully deduct health insurance premium payments from their tax returns under the current tax system. Businesses are allowed to take these deductions so why wouldn’t Congress allow individuals the same exemptions? As we allow the free market to provide insurance coverage opportunities to companies and individuals, we must also make sure that no one slips through the cracks simply because they cannot afford insurance. We must review basic options for Medicaid and work with states to ensure that those who want healthcare coverage can have it. TRENDING ON 100% Fed Up "
      ]
     },
     "execution_count": 443,
     "metadata": {},
     "output_type": "execute_result"
    }
   ],
   "source": [
    "# convert list to data frame (excel-like)\n",
    "pd.set_option('display.max_colwidth', -1)\n",
    "df = pd.DataFrame(df['text'])\n",
    "df.head()"
   ]
  },
  {
   "cell_type": "code",
   "execution_count": 444,
   "metadata": {},
   "outputs": [
    {
     "name": "stdout",
     "output_type": "stream",
     "text": [
      "<class 'pandas.core.frame.DataFrame'>\n",
      "RangeIndex: 1500 entries, 0 to 1499\n",
      "Data columns (total 1 columns):\n",
      "text    1500 non-null object\n",
      "dtypes: object(1)\n",
      "memory usage: 11.8+ KB\n"
     ]
    }
   ],
   "source": [
    "df.info()"
   ]
  },
  {
   "cell_type": "code",
   "execution_count": 445,
   "metadata": {},
   "outputs": [
    {
     "data": {
      "text/html": [
       "<div>\n",
       "<style scoped>\n",
       "    .dataframe tbody tr th:only-of-type {\n",
       "        vertical-align: middle;\n",
       "    }\n",
       "\n",
       "    .dataframe tbody tr th {\n",
       "        vertical-align: top;\n",
       "    }\n",
       "\n",
       "    .dataframe thead th {\n",
       "        text-align: right;\n",
       "    }\n",
       "</style>\n",
       "<table border=\"1\" class=\"dataframe\">\n",
       "  <thead>\n",
       "    <tr style=\"text-align: right;\">\n",
       "      <th></th>\n",
       "      <th>text</th>\n",
       "    </tr>\n",
       "  </thead>\n",
       "  <tbody>\n",
       "    <tr>\n",
       "      <td>count</td>\n",
       "      <td>1500</td>\n",
       "    </tr>\n",
       "    <tr>\n",
       "      <td>unique</td>\n",
       "      <td>1352</td>\n",
       "    </tr>\n",
       "    <tr>\n",
       "      <td>top</td>\n",
       "      <td>Notify me of follow-up comments by email. Notify me of new posts by email. PLEASE DONATE TO KEEP BARE NAKED ISLAM UP AND RUNNING. Choose DONATE for one-time donation or SUBSCRIBE for monthly donations Payment Options GET ALL NEW BNI POSTS/LINKS ON TWITTER Subscribe to Blog via Email \\nEnter your email address to subscribe to this blog and receive notifications of new posts by email. Email Address</td>\n",
       "    </tr>\n",
       "    <tr>\n",
       "      <td>freq</td>\n",
       "      <td>11</td>\n",
       "    </tr>\n",
       "  </tbody>\n",
       "</table>\n",
       "</div>"
      ],
      "text/plain": [
       "                                                                                                                                                                                                                                                                                                                                                                                                                   text\n",
       "count   1500                                                                                                                                                                                                                                                                                                                                                                                                           \n",
       "unique  1352                                                                                                                                                                                                                                                                                                                                                                                                           \n",
       "top     Notify me of follow-up comments by email. Notify me of new posts by email. PLEASE DONATE TO KEEP BARE NAKED ISLAM UP AND RUNNING. Choose DONATE for one-time donation or SUBSCRIBE for monthly donations Payment Options GET ALL NEW BNI POSTS/LINKS ON TWITTER Subscribe to Blog via Email \\nEnter your email address to subscribe to this blog and receive notifications of new posts by email. Email Address\n",
       "freq    11                                                                                                                                                                                                                                                                                                                                                                                                             "
      ]
     },
     "execution_count": 445,
     "metadata": {},
     "output_type": "execute_result"
    }
   ],
   "source": [
    "df.describe()"
   ]
  },
  {
   "cell_type": "code",
   "execution_count": 446,
   "metadata": {},
   "outputs": [
    {
     "data": {
      "text/plain": [
       "Notify me of follow-up comments by email. Notify me of new posts by email. PLEASE DONATE TO KEEP BARE NAKED ISLAM UP AND RUNNING. Choose DONATE for one-time donation or SUBSCRIBE for monthly donations Payment Options GET ALL NEW BNI POSTS/LINKS ON TWITTER Subscribe to Blog via Email \\nEnter your email address to subscribe to this blog and receive notifications of new posts by email. Email Address                                                                                                                                                                                                                                                                                                                                                                                                                                                                                                                                                                                                                                                                                                                                                                                                                                                                                                                                                                                                                                                                                                                                                                                                                                                                                                                                                                                                                                                                                                                                                                                                                                                                                                                                                                                                                                                                                                                                                                                                                                                                                                                                                                                                                                                                                                                                                                                                                                                                                                                                                                                                                                                                                                                                                                                                                                                                                                                                                                                                                                                                                                                                                                                                                                                                                                                                                                                                                                                                                                                                                                                                                                                                                                                                                                                                                                                                                                                                                                                                                                                                                                                                                                                                                                                                                                                                                                                                                                                                                                                                                                                                                                                                                                                                                                                                                                                                                                                                                                                                                                                                                                                                                                                                                                                                                                                                                                                                                                                                                                                                                                                                                                                                                                                                                                                                                                                                                                                                                                                                                                                                                                                                                                                                                                                                                                                                                                                                                                                                                                                                                                                                                                                                                                                                                                                                                                                                                                                                                                                                                                                                                                                                                                                                                                                                                                                                                                                                                                                                                                                                                                                                                                     11\n",
       "A leading US senator: US Supporting War in Syria\\nA leading US senator said the war in Syria would have been over by now if the US had put an end to its intervention when Russia entered the war-ravaged country.\\n“If the United States had just stayed out of it at that point, the war would be over by now; people would be rebuilding, refugees would be returning back to Syria, but the United States rushed anti-Tank missiles, and we used these so-called moderate rebels as a conduit to supply al-Nusra Front (also known as Fatah al-Sham Front), which is al-Qaeda in Syria,” republican member of the Virginia State in US Senate, Richard Hayden Black said in an exclusive interview with Press TV.\\n“If we were not supporting the war in Syria, I believe that the Syrians, combined with their allied forces from Iran, Lebanon and Russia… would move very steadily and restore the borders of Syria.”\\nThe senate member, who visited Syria in April, refused to distinguish between militants and terrorists fighting the government of President Bashar al-Assad, saying, the two are “thoroughly integrated.”\\n“They really are one and the same, they’re part of the same army,” he said, citing a US defense intelligence agency’s investigation in 2013, which showed Washington’s ties with the terror group.\\nThe outspoken state senator referred to plans by the CIA to transfer arms from Libya to Turkey and from there to Syria to supply the militants, noting that the move “evolved into an indiscriminate program of supplying all militant groups, including specifically ISIL and al-Qaeda.”\\n“We do it indirectly because it’s unlawful to do it directly,” he said, adding that the US keeps “extremely violent organizations… off the terrorist watch list because these are the agents that take our weapons and then distribute them to ISIL and al-Qaeda.”\\nIn response to a question on why Iran and Russia are portrayed as the “bad guys,” while they are the ones really fighting terrorism there, as put recently by GOP presidential candidate Donald Trump, Black said the Republican candidate has a “clear understanding of what’s happening over there.”\\n“Sometimes, his rhetoric has to match the political mood of the moment… but I know a number of his advisers and they believe that our determination to topple the government in Syria is suicidal, that it threatens not only the entire Middle East but literally the entire world.”\\nHe further warned that the US itself could be “threatened,” arguing that, “if Syria falls, it will be dominated by some al-Qaeda-related organization; Lebanon will fall; Jordan will fall and the entire area will be destabilized.”\\nThe Vietnam war veteran also elaborated on his personal definition of the Middle East “axis of evil,” naming Qatar, Saudi Arabia, and “particularly” Turkey over their support for terrorism.\\n“Probably, three quarters of the rebels are not Syrian at all, they are mercenaries recruited by Turkey, Qatar and Saudi Arabia,” he asserted, describing the three countries as “the primary force behind the terrorist movement.”\\n“Turkey has invaded Iraq and Syria with heavy military forces. Turkey has really become a rogue nation,” he added, referring to a 1923 treaty that set the border between Turkey and Greece, saying that was even being questioned by President Rececp Tayyip Erdogan.\\n“And now you see this emerging threat against Western Europe by Turkey,” he noted, further adding that Erdogan “has made it clear that he looks to resurrection of the Ottoman Empire.”\\n“He has become more and more aggressive; he’s crushed the military, the free press; every powerful institution of the Turkish government has come under his iron fist and he’s now a total dictator. He’s a man who has said that he wants the constitution amended so that he will have power similar to those of Adolf Hilter… This is our great ally; we’re allied with a man who would be Hitler.”\\nHe also blasted Washington’s alliance with Saudi Arabia, “where women are not allowed to walk out in the front yard to pick up the newspaper without a man’s permission; they can’t drive a car!”\\n“Somehow, this is part of the liberalization that we seek to impose on the Middle East,” he said ironically, calling it “bizarre.”\\nHe also praised the resistance against the Saudi aggression by the people of Yemen, saying, “God bless them! The Yemenis are giving the Saudis a bloody nose,” despite being a “tiny little, poor nation.”\\n“I think the world recognizes that Saudi Arabia has just embarked in massive war crimes in Yemen,” he said, voicing regret over the US support for the monarchy.\\n“We don’t pay too much attention to them while engaged in war crimes because they’re our good allies,” he said, concluding that Washington is on a “suicidal course of action.”\\n“Saudi money pays the very top politicians in many Western nations. And they really have co-opted the American military into acting as mercenaries for Wahhabism.”Black referred to the Western media’s portrayal of Iran as a supporter of terrorism, saying, “The fact of the matter is that if you really look at global terrorism, it all emanates from Saudi Arabia.”\\nHe exemplified various terrorists attack, including the 9/11, the Boston bombing, and the Brussels attacks, noting that they are all a “reflection of the Wahhabi philosophy.”                                                                                                                                                                                                                                                                                                                                                                                                                                                                                                                                                                                                                                                                                                                                                                                                                                                                                                                                                                                                                                                                                                                                                                                                                                                                                                                                                                                                                                                                                                                                                                                                                                                                                                                                                                                                                                                                                                                                                                                                                                                                                                                                                                                                                                                                                                                                                                                                                                                                                                                     10\n",
       "Same people all the time , i dont know how you can fix this corruption http://www.fromthewilderness.com/free/ww3/10_09_01_krongard.html                                                                                                                                                                                                                                                                                                                                                                                                                                                                                                                                                                                                                                                                                                                                                                                                                                                                                                                                                                                                                                                                                                                                                                                                                                                                                                                                                                                                                                                                                                                                                                                                                                                                                                                                                                                                                                                                                                                                                                                                                                                                                                                                                                                                                                                                                                                                                                                                                                                                                                                                                                                                                                                                                                                                                                                                                                                                                                                                                                                                                                                                                                                                                                                                                                                                                                                                                                                                                                                                                                                                                                                                                                                                                                                                                                                                                                                                                                                                                                                                                                                                                                                                                                                                                                                                                                                                                                                                                                                                                                                                                                                                                                                                                                                                                                                                                                                                                                                                                                                                                                                                                                                                                                                                                                                                                                                                                                                                                                                                                                                                                                                                                                                                                                                                                                                                                                                                                                                                                                                                                                                                                                                                                                                                                                                                                                                                                                                                                                                                                                                                                                                                                                                                                                                                                                                                                                                                                                                                                                                                                                                                                                                                                                                                                                                                                                                                                                                                                                                                                                                                                                                                                                                                                                                                                                                                                                                                                                             7 \n",
       "Notify me of follow-up comments by email. Notify me of new posts by email. PLEASE DONATE TO KEEP BARE NAKED ISLAM UP AND RUNNING. Choose DONATE for one-time donation or SUBSCRIBE for monthly donations Payment Options GET ALL NEW BNI POSTS/LINKS ON TWITTER Subscribe to Blog via Email \\nEnter your email address to subscribe to this blog and receive notifications of new posts by email. Email Address CONTACT: barenakedislam@gmail.com Top Posts                                                                                                                                                                                                                                                                                                                                                                                                                                                                                                                                                                                                                                                                                                                                                                                                                                                                                                                                                                                                                                                                                                                                                                                                                                                                                                                                                                                                                                                                                                                                                                                                                                                                                                                                                                                                                                                                                                                                                                                                                                                                                                                                                                                                                                                                                                                                                                                                                                                                                                                                                                                                                                                                                                                                                                                                                                                                                                                                                                                                                                                                                                                                                                                                                                                                                                                                                                                                                                                                                                                                                                                                                                                                                                                                                                                                                                                                                                                                                                                                                                                                                                                                                                                                                                                                                                                                                                                                                                                                                                                                                                                                                                                                                                                                                                                                                                                                                                                                                                                                                                                                                                                                                                                                                                                                                                                                                                                                                                                                                                                                                                                                                                                                                                                                                                                                                                                                                                                                                                                                                                                                                                                                                                                                                                                                                                                                                                                                                                                                                                                                                                                                                                                                                                                                                                                                                                                                                                                                                                                                                                                                                                                                                                                                                                                                                                                                                                                                                                                                                                                                                                                         7 \n",
       "The second video (bottom one ) proves what Trump is sayng is true , corruption with the Clinton gang is rife , he could use this in his arguments . http://www.opb.org/news/series/burns-oregon-standoff-bundy-militia-news-updates/ammon-bundy-verdict-oregon-standoff-malheur-court/   And lets not forget there were 15 undercover FBI infrmants doing the provications = set up .                                                                                                                                                                                                                                                                                                                                                                                                                                                                                                                                                                                                                                                                                                                                                                                                                                                                                                                                                                                                                                                                                                                                                                                                                                                                                                                                                                                                                                                                                                                                                                                                                                                                                                                                                                                                                                                                                                                                                                                                                                                                                                                                                                                                                                                                                                                                                                                                                                                                                                                                                                                                                                                                                                                                                                                                                                                                                                                                                                                                                                                                                                                                                                                                                                                                                                                                                                                                                                                                                                                                                                                                                                                                                                                                                                                                                                                                                                                                                                                                                                                                                                                                                                                                                                                                                                                                                                                                                                                                                                                                                                                                                                                                                                                                                                                                                                                                                                                                                                                                                                                                                                                                                                                                                                                                                                                                                                                                                                                                                                                                                                                                                                                                                                                                                                                                                                                                                                                                                                                                                                                                                                                                                                                                                                                                                                                                                                                                                                                                                                                                                                                                                                                                                                                                                                                                                                                                                                                                                                                                                                                                                                                                                                                                                                                                                                                                                                                                                                                                                                                                                                                                                                                               5 \n",
       "                                                                                                                                                                                                                                                                                                                                                                                                                                                                                                                                                                                                                                                                                                                                                                                                                                                                                                                                                                                                                                                                                                                                                                                                                                                                                                                                                                                                                                                                                                                                                                                                                                                                                                                                                                                                                                                                                                                                                                                                                                                                                                                                                                                                                                                                                                                                                                                                                                                                                                                                                                                                                                                                                                                                                                                                                                                                                                                                                                                                                                                                                                                                                                                                                                                                                                                                                                                                                                                                                                                                                                                                                                                                                                                                                                                                                                                                                                                                                                                                                                                                                                                                                                                                                                                                                                                                                                                                                                                                                                                                                                                                                                                                                                                                                                                                                                                                                                                                                                                                                                                                                                                                                                                                                                                                                                                                                                                                                                                                                                                                                                                                                                                                                                                                                                                                                                                                                                                                                                                                                                                                                                                                                                                                                                                                                                                                                                                                                                                                                                                                                                                                                                                                                                                                                                                                                                                                                                                                                                                                                                                                                                                                                                                                                                                                                                                                                                                                                                                                                                                                                                                                                                                                                                                                                                                                                                                                                                                                                                                                                                                   .. \n",
       "New State Department Documents Reveal More Clinton-Abedin Email Exchanges of Classified Information on Unsecure Server Published:   Judicial Watch \\nEmails Also Reveal Special Favor for Top Clinton Foundation Donor, Distribution of Clinton State Department Schedule to Foundation Staff \\n( Washington, DC ) – Judicial Watch today released 323 pages of new Department of State documents, including previously unreleased email exchanges in which Clinton and top aide Huma Abedin sent classified information over Clinton’s clintonemail.com unsecure email system. According to Freedom of Information Act (FOIA) exemptions cited in the documents obtained by Judicial Watch, three of the Clinton-Abedin email exchanges contained material “classified to protect national security.” \\nAlso included in the newly obtained documents is an additional instance of the State Department doing special favors for a high-dollar Clinton Foundation donor. And the documents include instances of the distribution by State Department officials of Clinton’s government schedule to members of the Clinton Foundation staff. \\nThe documents contain emails not previously turned over to the State Department, bringing the known total to date of such emails uncovered by Judicial Watch to 238 new Clinton emails (not part of the 55,000 pages of emails that Clinton turned over to the State Department). These records further appear to contradict statements by Clinton that, “ as far as she knew ,” all of her government emails were turned over to the State Department. \\nThe new records include three separate Clinton-Abedin email exchanges withheld in part from Judicial Watch under the State Department’s “B1” FOIA exemption, applying to “information that is classified to protect national security”: \\nSent: Thu Oct 08 [8:08:03] 2009 \\nSubject: Fw: Memo on latest N.I. negotiations; yr trip; from Shaun W Sid \\nCONFIDENTIAL \\nFrom: Sid \\nRe: Latest/N. Ireland \\nAfter five hours of talk at Downing Street tonight, Thursday, October 8, Shaun Woodward tells me that it seems Gordon Brown has brokered a financial package with Peter Robinson and Martin McGuinness that may in turn break the deadlock of devolution of policing and justice. They have covered the major issues in stage two in their discussions. On Monday, Brown will formally set out the details in a letter to Robinson and McGuinness. Gordon will share these with you when you meet with him on Sunday at Chequers. Shaun says that both Robinson and McGuinness, subject to some minor details, should be in a position to recommend to Unionists and Nationalists that this is a strong deal. The letter will confirm the details. [Redacted due to information “kept secret in the interest of national defense or foreign policy;”“foreign relations or foreign activities of the US, including confidential sources”] I hope that’s right. \\nFrom: H \\nSent: Thu Oct 08 [8:08:04] 2009 \\nSubject : Fw: Memo on latest N.I. negotiations; yr trip; from Shaun W Sid \\nPls print. \\nSent: Thursday, October 08, 2009 8:10:04 PM \\nTo: Humamabedin[Redacted] \\nSubject: Fw: Memo on latest N.I. [Northern Ireland] negotiations; yr trip; from Shaun W Sid \\nAttachments: hrc memo n. ireland 100809.docx \\n*** \\nSent: Sun Oct 11 [8:46:43] 2009 \\nSubject: Memo on your speech meeting on Monday, Sid \\nCONFIDENTIAL \\nFrom: Sid \\nRe: Your speech and meeting on Monday \\nI have not seen your speech obviously that you will deliver Monday morning at Stormont. Shaun tells me that it’s a good speech, and you’re right not to instruct the parties what to do but to encourage them to address why completing devolution needs to be done [Redacted due to information “kept secret in the interest of national defense or foreign policy;”“foreign relations or foreign activities of the US, including confidential sources”] That’s it. \\nFrom: H \\nSent: Monday Oct 12 02:06:15 2009 \\nSubject: Fw: H: Memo on your speech meeting on Monday, Sid \\nPls print \\nSent: Monday, October 12, 2009 2:11:38 AM \\nTo: humamabedin[Redacted] \\nSubject: Fw: H: Memo on your speech meeting on Monday, Sid \\nAttachments: hrc memo ni [sic] meeting 101209 docx \\n*** \\nSent: Sun Oct 25 11:13:17 2009 \\nSubject : Re: Honduras \\nFirst, Tom’s travel date hasn’t been set – will be Tuesday or Wednesday we think. He is coordinating with Don Restrepo to see if they can go together [Redacted due to information “kept secret in the interest of national defense or foreign policy”] So that’s where we are. We’ll have more to report tomorrow. \\n*** \\nSent: Sun Oct 25 [11:49:45] 2009 \\nSubject: Re: Honduras \\nSounds good. \\nThere will be those who take a hard line on the elections, but perhaps some fence-sitting countries could be persuaded on conditional recognition. I’ll flag it for Tom and Craig. \\nFrom: H \\nSent: Mon Oct 26 07:27:12 2009 \\nSubject: Fw: Honduras \\nAll of this did not print last night, It stopped after Fourth! [Redacted due to information “kept secret in the interest of national defense or foreign policy;”“foreign relations or foreign activities of the US, including confidential sources”] \\nFrom: Huma Abedin [Huma@clintonemail.com] \\nSent: Monday, October 26, 2009 8:06:12 AM \\nTo: humaabedin [Redacted] \\nSubject: Fw: Honduras \\nThe emails also include an exchange between Abedin, Clinton personal assistant Lauren Jiloty, and Iris Anaya, the assistant to sugar magnate and Clinton Foundation donor Alfonso Fanjul concerning a request for special access to Clinton. On October 13, 2009, Anaya emailed Abedin seeking to arrange a meeting between Fanjul, the CEO of Florida Crystals, and Clinton. Jiloty responded the next day, asking that Anaya talk with Clinton scheduler Lona Valmoro about “setting up a meeting.” Fanjul donated more than $100,000 to the Clinton Foundation and was a Bill Clinton co-chairman in Florida. \\nIn an October 26, 2009, email exchange, power attorney and Hillary Clinton financial supporter, Charlie Ann Syprett, contacted Doug Band, apparently seeking help in getting around U.S. Office of Foreign Asset Control (OFAC) restrictions on U.S. citizens’ ability to travel to Cuba. Syprett ostensibly wanted a waiver from the restrictions to enable people from her organization, SYC Charitable Foundation, to travel to Cuba, noting “we are not asking for something out of the ordinary.” \\nThe emails also show that Valmoro sent Clinton’s government schedule to the unsecure email addresses of numerous members of the Clinton Foundation staff on October 16, 2009, again on October 18, 2009, and on October 25, 2009. The emails also include discussions of personnel matters and appointments on Clinton’s unsecure account, which may run afoul of federal privacy law. \\nThis is the thirteenth set of records produced for Judicial Watch by the State Department from the non-state.gov email accounts of Huma Abedin. The documents were produced under a court order in a May 5, 2015, Freedom of Information Act (FOIA) lawsuit against the State Department requiring the agency to produce “all emails of official State Department business received or sent by former Deputy Chief of Staff Huma Abedin from January 1, 2009 through February 1, 2013, using a ‘non-state’.gov email address” ( Judicial Watch, Inc. v. U.S. Department of State (No. 1:15-cv-00684)). Previous records releases documented special Clinton State Department consideration for Clinton Foundation supporters (see here , here , and here .) \\n“We’ve once again uncovered classified information in Hillary Clinton’s and Huma Abedin’s emails,” said Judicial Watch President Tom Fitton. “It is frankly remarkable that the FBI and Justice Department are only now investigating Abedin’s connection to Clinton’s mishandling of classified information.” \\n###    1 \n",
       "(Before It's News)\\nAs Rome directs the NATO movements on a global scale and the earthquakes under her troops so she is feeling the Judgments of God. It won’t be long before the Hand of God has had enough of this New World Order and One World Religion.\\nFrom Central Video:\\nAt least 247 killed in earthquake in central Italy\\nSaletta, Italy (CNN)\\nAt least 247 people were killed after a 6.2-magnitude earthquake struck central Italy Wednesday, according to Italy’s Civil Protection Department. In the small Italian towns hit hard by a magnitude-6.2 earthquake that struck in the middle of the night, rescuers feverishly dug through the rubble of downed homes and apartments looking for survivors. In one such rescue, shown on CNN affiliate Sky TG24, a firefighter in Amatrice clawed at the rubble, trying to get to a little girl. He pulled back bricks and other debris as his co-workers and other men leaned in. Suddenly there was a foot, and leg, then the other leg. Several people wriggle in to help the firefighter. The firefighter clutches a girl, said to be 8 years old, and walks her out of the huge pile of rubble as a volley of cheers erupts. The girl silently holds on. It is impossible to tell what color clothes she is wearing because she is coated in gray dust. “Bella ragazza!” one bystander says as the girl is carried to safety. “Beautiful girl!” Read More                                                                                                                                                                                                                                                                                                                                                                                                                                                                                                                                                                                                                                                                                                                                                                                                                                                                                                                                                                                                                                                                                                                                                                                                                                                                                                                                                                                                                                                                                                                                                                                                                                                                                                                                                                                                                                                                                                                                                                                                                                                                                                                                                                                                                                                                                                                                                                                                                                                                                                                                                                                                                                                                                                                                                                                                                                                                                                                                                                                                                                                                                                                                                                                                                                                                                                                                                                                                                                                                                                                                                                                                                                                                                                                                                                                                                                                                                                                                                                                                                                                                                                                                                                                                                                                                                                                                                                                                                                                                                                                                                                                                                                                                                                                                                                                                                                                                                                                                                                                                                                                                                                                                                                                                                                                                                                                                                                                                                                                                                                                                                                                                                                                                                                                                                                                                                                                                                                                                                                                                                                                                                                                                                                                                                                                                                                                                                                                                                                                                                                                                                                                                                       1 \n",
       "Kids being made to vote for President in School page: 1 link I live in West Virginia. My kids came home today from school and was talking about voting at school for the next President. They explained something similar to a ballot. Where they had to put a check mark beside who they wanted as President along with their home address and signature. I have never heard of this , as my kids have never had to do this before or was I notified that my kids would be voting. My kids are age 11 and 9, 1 in grade school and another in middle / jr high school. I asked them if they were given any documentation from school about the nominees. They showed me 1 paper that spoke about all of Hillary's achievements and on the back it shows Trumps. However the paper seemed biased speaking of Hillary's accomplishments and barely spoke of Trump other than he built a few buildings and was on a tv show. I do not own a actual camera other than my phone. So the pic is bit blurry. Picture of Document Again sorry for the blurry picture. My kids have been going to school here all their lives. I have never seen this before, might be something new. Has anyone else seen this before? edit on pmp20162016-10-26T18:08:54-05:0036 by apoc36 because: (no reason given) link originally posted by: apoc36 I live in West Virginia. My kids came home today from school and was talking about voting at school for the next President. They explained something similar to a ballot. Where they had to put a check mark beside who they wanted as President along with their home address and signature. I have never heard of this , as my kids have never had to do this before or was I notified that my kids would be voting. My kids are age 11 and 9, 1 in grade school and another in middle / jr high school. I asked them if they were given any documentation from school about the nominees. They showed me 1 paper that spoke about all of Hillary's achievements and on the back it shows Trumps. However the paper seemed biased speaking of Hillary's accomplishments and barely spoke of Trump other than he built a few buildings and was on a tv show. I do not own a actual camera other than my phone. So the pic is bit blurry. [url=http://postimg.org/image/v35tvwykv/]Blurry Picture of _/url] Again sorry for the blurry picture. My kids have been going to school here all their lives. I have never seen this before, might be something new. Has anyone else seen this before? This has been done for years. I remember it happening when I was in 2nd grade more than 40 years ago. I have heard that polling grade school children on Presidential elections is actually more accurate than 'scientific polls'. Children tend to hear what their parents opinions are on the subject without all the filters. They subconsciously 'vote' the way their parents will vote (supposedly).                                                                                                                                                                                                                                                                                                                                                                                                                                                                                                                                                                                                                                                                                                                                                                                                                                                                                                                                                                                                                                                                                                                                                                                                                                                                                                                                                                                                                                                                                                                                                                                                                                                                                                                                                                                                                                                                                                                                                                                                                                                                                                                                                                                                                                                                                                                                                                                                                                                                                                                                                                                                                                                                                                                                                                                                                                                                                                                                                                                                                                                                                                                                                                                                                                                                                                                                                                                                                                                                                                                                                                                                                                                                                                                                                                                                                                                                                                                                                                                                                                                                                                                                                                                                                                                                                                                                                                                                                                                                                                                                                                                                                                                                                                                                                                                                                                                                                                                                                                                                                                                                                                        1 \n",
       "An online vigilante group in the United Kingdom, the Internet Interceptors, has helped the law deal with a 33-year-old pedophile who was planning to lure a 14-year-old girl to have sex with him in north London. The pedophile, Richard Ganyata, is said to be a Rugby player at Saracens Amateur RFC. It’s thought that he had met the underage 14-year-old girl online, proposing to have sex with her at his residence.\\nIn a video chat with the supposed underage girl, Ganyata claimed to be 23-years-old. He told the girl that he lived at the club house of his rugby team. He then proposed that the girl visit him for sex, instructing the girl that if she arrives at the club house, she should pretend she was just his little sister’s friend.\\nHe also told the girl how he planned to lay with her on the sofa, describing in detail what he would do to her during sex. The positive response from the girl excited Ganyata, who was looking forward to having a good time with the underage girl.\\nBut unbeknownst to the pedophile, he had spoken to members of the Internet Interceptors instead – the team who dedicate their time to hunting down pedophiles on the Internet.\\nWhen the day came for the pedophile to meet the girl as planned, he went to pick her up, but rather than meet with her, he was confronted by members of the Internet Interceptors, who immediately called the police. The vigilante group filmed their meeting with the pedophile on camera.\\nA member of the group asked the pedophile: “You’re here to meet a 14-year-girl aren’t you, Richard?”\\nHe replied: “I wasn’t really sure about it.”                                                                                                                                                                                                                                                                                                                                                                                                                                                                                                                                                                                                                                                                                                                                                                                                                                                                                                                                                                                                                                                                                                                                                                                                                                                                                                                                                                                                                                                                                                                                                                                                                                                                                                                                                                                                                                                                                                                                                                                                                                                                                                                                                                                                                                                                                                                                                                                                                                                                                                                                                                                                                                                                                                                                                                                                                                                                                                                                                                                                                                                                                                                                                                                                                                                                                                                                                                                                                                                                                                                                                                                                                                                                                                                                                                                                                                                                                                                                                                                                                                                                                                                                                                                                                                                                                                                                                                                                                                                                                                                                                                                                                                                                                                                                                                                                                                                                                                                                                                                                                                                                                                                                                                                                                                                                                                                                                                                                                                                                                                                                                                                                                                                                                                                                                                                                                                                                                                                                                                                                                                                                                                                                                                                                                                                                                                                                                                                           1 \n",
       "\\n21st Century Wire says… \\nAs western media outlets like the New York Times, Washington Post, CNN and the BBC continue to hurl viral images of ‘child victims of Aleppo,’ western and gulf-backed terrorists in East Aleppo continue to fire mortars, ‘ hell cannon ‘ and use snipers to target civilians and children in government-protected West Aleppo. The level of information fraud and propaganda being perpetrated by the western mainstream media and politicians like John Kerry and Samantha Power is unprecedented – even by traditional low US standards. \\nRT International interviews Syrian peace campaigner Mother Agnes-Mariam and independent researcher and journalist Vanessa Beeley . Watch: \\n.                                                                                                                                                                                                                                                                                                                                                                                                                                                                                                                                                                                                                                                                                                                                                                                                                                                                                                                                                                                                                                                                                                                                                                                                                                                                                                                                                                                                                                                                                                                                                                                                                                                                                                                                                                                                                                                                                                                                                                                                                                                                                                                                                                                                                                                                                                                                                                                                                                                                                                                                                                                                                                                                                                                                                                                                                                                                                                                                                                                                                                                                                                                                                                                                                                                                                                                                                                                                                                                                                                                                                                                                                                                                                                                                                                                                                                                                                                                                                                                                                                                                                                                                                                                                                                                                                                                                                                                                                                                                                                                                                                                                                                                                                                                                                                                                                                                                                                                                                                                                                                                                                                                                                                                                                                                                                                                                                                                                                                                                                                                                                                                                                                                                                                                                                                                                                                                                                                                                                                                                                                                                                                                                                                                                                                                                                                                                                                                                                                                                                                                                                                                                                                                                                                                                                                                                                                                                                                                                                                                                                                                                                                                                                                                                                                                                                                                            1 \n",
       "Name: text, Length: 1352, dtype: int64"
      ]
     },
     "execution_count": 446,
     "metadata": {},
     "output_type": "execute_result"
    }
   ],
   "source": [
    "df['text'].value_counts()"
   ]
  },
  {
   "cell_type": "markdown",
   "metadata": {},
   "source": [
    "- a. All major text processing tasks (e.g., tokenization)"
   ]
  },
  {
   "cell_type": "code",
   "execution_count": 447,
   "metadata": {},
   "outputs": [
    {
     "data": {
      "text/html": [
       "<div>\n",
       "<style scoped>\n",
       "    .dataframe tbody tr th:only-of-type {\n",
       "        vertical-align: middle;\n",
       "    }\n",
       "\n",
       "    .dataframe tbody tr th {\n",
       "        vertical-align: top;\n",
       "    }\n",
       "\n",
       "    .dataframe thead th {\n",
       "        text-align: right;\n",
       "    }\n",
       "</style>\n",
       "<table border=\"1\" class=\"dataframe\">\n",
       "  <thead>\n",
       "    <tr style=\"text-align: right;\">\n",
       "      <th></th>\n",
       "      <th>text</th>\n",
       "    </tr>\n",
       "  </thead>\n",
       "  <tbody>\n",
       "    <tr>\n",
       "      <td>0</td>\n",
       "      <td>Print They should pay all the back all the money plus interest. The entire family and everyone who came in with them need to be deported asap. Why did it take two years to bust them?  Here we go again …another group stealing from the government and taxpayers! A group of Somalis stole over four million in government benefits over just 10 months!  We’ve reported on numerous cases like this one where the Muslim refugees/immigrants commit fraud by scamming our system…It’s way out of control! More Related</td>\n",
       "    </tr>\n",
       "    <tr>\n",
       "      <td>1</td>\n",
       "      <td>Why Did Attorney General Loretta Lynch Plead The Fifth? Barracuda Brigade 2016-10-28 Print The administration is blocking congressional probe into cash payments to Iran. Of course she needs to plead the 5th. She either can’t recall, refuses to answer, or just plain deflects the question. Straight up corruption at its finest!  100percentfedUp.com ; Talk about covering your ass! Loretta Lynch did just that when she plead the Fifth to avoid incriminating herself over payments to Iran…Corrupt to the core! Attorney General Loretta Lynch is declining to comply with an investigation by leading members of Congress about the Obama administration’s secret efforts to send Iran $1.7 billion in cash earlier this year, prompting accusations that Lynch has “pleaded the Fifth” Amendment to avoid incriminating herself over these payments, according to lawmakers and communications exclusively obtained by the Washington Free Beacon.  Sen. Marco Rubio (R., Fla.) and Rep. Mike Pompeo (R., Kan.) initially presented Lynch in October with a series of questions about how the cash payment to Iran was approved and delivered.  In an Oct. 24 response, Assistant Attorney General Peter Kadzik responded on Lynch’s behalf, refusing to answer the questions and informing the lawmakers that they are barred from publicly disclosing any details about the cash payment, which was bound up in a ransom deal aimed at freeing several American hostages from Iran.  The response from the attorney general’s office is “unacceptable” and provides evidence that Lynch has chosen to “essentially plead the fifth and refuse to respond to inquiries regarding [her]role in providing cash to the world’s foremost state sponsor of terrorism,” Rubio and Pompeo wrote on Friday in a follow-up letter to Lynch. More Related</td>\n",
       "    </tr>\n",
       "    <tr>\n",
       "      <td>2</td>\n",
       "      <td>Red State :  Fox News Sunday reported this morning that Anthony Weiner is cooperating with the FBI, which has re-opened (yes, lefties: “re-opened”) the investigation into Hillary Clinton’s classified emails. Watch as Chris Wallace reports the breaking news during the panel segment near the end of the show:  And the news is breaking while we’re on the air. Our colleague Bret Baier has just sent us an e-mail saying he has two sources who say that Anthony Weiner, who also had co-ownership of that laptop with his estranged wife Huma Abedin, is cooperating with the FBI investigation, had given them the laptop, so therefore they didn’t need a warrant to get in to see the contents of said laptop. Pretty interesting development.  Targets of federal investigations will often cooperate, hoping that they will get consideration from a judge at sentencing. Given Weiner’s well-known penchant for lying, it’s hard to believe that a prosecutor would give Weiner a deal based on an agreement to testify, unless his testimony were very strongly corroborated by hard evidence. But cooperation can take many forms — and, as Wallace indicated on this morning’s show, one of those forms could be signing a consent form to allow   the contents of devices that they could probably get a warrant for anyway. We’ll see if Weiner’s cooperation extends beyond that. More Related</td>\n",
       "    </tr>\n",
       "    <tr>\n",
       "      <td>3</td>\n",
       "      <td>Email Kayla Mueller was a prisoner and tortured by ISIS while no chance of release…a horrific story. Her father gave a pin drop speech that was so heartfelt you want to give him a hug. Carl Mueller believes Donald Trump will be a great president…Epic speech! 9.0K shares</td>\n",
       "    </tr>\n",
       "    <tr>\n",
       "      <td>4</td>\n",
       "      <td>Email HEALTHCARE REFORM TO MAKE AMERICA GREAT AGAIN  Since March of 2010, the American people have had to suffer under the incredible economic burden of the Affordable Care Act—Obamacare. This legislation, passed by totally partisan votes in the House and Senate and signed into law by the most divisive and partisan President in American history, has tragically but predictably resulted in runaway costs, websites that don’t work, greater rationing of care, higher premiums, less competition and fewer choices. Obamacare has raised the economic uncertainty of every single person residing in this country. As it appears Obamacare is certain to collapse of its own weight, the damage done by the Democrats and President Obama, and abetted by the Supreme Court, will be difficult to repair unless the next President and a Republican congress lead the effort to bring much-needed free market reforms to the healthcare industry.  Congress must act. Our elected representatives in the House and Senate must:  1. Completely repeal Obamacare. Our elected representatives must eliminate the individual mandate. No person should be required to buy insurance unless he or she wants to.  2. Modify existing law that inhibits the sale of health insurance across state lines. As long as the plan purchased complies with state requirements, any vendor ought to be able to offer insurance in any state. By allowing full competition in this market, insurance costs will go down and consumer satisfaction will go up.  3. Allow individuals to fully deduct health insurance premium payments from their tax returns under the current tax system. Businesses are allowed to take these deductions so why wouldn’t Congress allow individuals the same exemptions? As we allow the free market to provide insurance coverage opportunities to companies and individuals, we must also make sure that no one slips through the cracks simply because they cannot afford insurance. We must review basic options for Medicaid and work with states to ensure that those who want healthcare coverage can have it. TRENDING ON 100% Fed Up</td>\n",
       "    </tr>\n",
       "    <tr>\n",
       "      <td>...</td>\n",
       "      <td>...</td>\n",
       "    </tr>\n",
       "    <tr>\n",
       "      <td>1495</td>\n",
       "      <td>What a completely worthless organization, UNESCO. Israel has an undisputed claim to the land. God said so.</td>\n",
       "    </tr>\n",
       "    <tr>\n",
       "      <td>1496</td>\n",
       "      <td>BC and AD mean nothing to these idiots. Seventh century founded religion has priority and historical significance over Judaism and Christianity which predate 0 year and centuries earlier? Again, the UN should go the way of the League of Nations.</td>\n",
       "    </tr>\n",
       "    <tr>\n",
       "      <td>1497</td>\n",
       "      <td>For that Statement alone I hope someone brings UNESCO'S building DOWN with all its members in it. Please, there is someone out there.</td>\n",
       "    </tr>\n",
       "    <tr>\n",
       "      <td>1498</td>\n",
       "      <td>UNESCO has never been a champion of the truth. Just another agitprop org.</td>\n",
       "    </tr>\n",
       "    <tr>\n",
       "      <td>1499</td>\n",
       "      <td>out of america  good bye</td>\n",
       "    </tr>\n",
       "  </tbody>\n",
       "</table>\n",
       "<p>1500 rows × 1 columns</p>\n",
       "</div>"
      ],
      "text/plain": [
       "                                                                                                                                                                                                                                                                                                                                                                                                                                                                                                                                                                                                                                                                                                                                                                                                                                                                                                                                                                                                                                                                                                                                                                                                                                                                                                                                                                                                                                                                                                                                                                                                                                                                                                                                                                                                                                                                                                                                                                                                                                                                                                                                                                                 text\n",
       "0     Print They should pay all the back all the money plus interest. The entire family and everyone who came in with them need to be deported asap. Why did it take two years to bust them?  Here we go again …another group stealing from the government and taxpayers! A group of Somalis stole over four million in government benefits over just 10 months!  We’ve reported on numerous cases like this one where the Muslim refugees/immigrants commit fraud by scamming our system…It’s way out of control! More Related                                                                                                                                                                                                                                                                                                                                                                                                                                                                                                                                                                                                                                                                                                                                                                                                                                                                                                                                                                                                                                                                                                                                                                                                                                                                                                                                                                                                                                                                                                                                                                                                                                                      \n",
       "1     Why Did Attorney General Loretta Lynch Plead The Fifth? Barracuda Brigade 2016-10-28 Print The administration is blocking congressional probe into cash payments to Iran. Of course she needs to plead the 5th. She either can’t recall, refuses to answer, or just plain deflects the question. Straight up corruption at its finest!  100percentfedUp.com ; Talk about covering your ass! Loretta Lynch did just that when she plead the Fifth to avoid incriminating herself over payments to Iran…Corrupt to the core! Attorney General Loretta Lynch is declining to comply with an investigation by leading members of Congress about the Obama administration’s secret efforts to send Iran $1.7 billion in cash earlier this year, prompting accusations that Lynch has “pleaded the Fifth” Amendment to avoid incriminating herself over these payments, according to lawmakers and communications exclusively obtained by the Washington Free Beacon.  Sen. Marco Rubio (R., Fla.) and Rep. Mike Pompeo (R., Kan.) initially presented Lynch in October with a series of questions about how the cash payment to Iran was approved and delivered.  In an Oct. 24 response, Assistant Attorney General Peter Kadzik responded on Lynch’s behalf, refusing to answer the questions and informing the lawmakers that they are barred from publicly disclosing any details about the cash payment, which was bound up in a ransom deal aimed at freeing several American hostages from Iran.  The response from the attorney general’s office is “unacceptable” and provides evidence that Lynch has chosen to “essentially plead the fifth and refuse to respond to inquiries regarding [her]role in providing cash to the world’s foremost state sponsor of terrorism,” Rubio and Pompeo wrote on Friday in a follow-up letter to Lynch. More Related                                                                                                                                                                                                                                                                                                                  \n",
       "2     Red State :  Fox News Sunday reported this morning that Anthony Weiner is cooperating with the FBI, which has re-opened (yes, lefties: “re-opened”) the investigation into Hillary Clinton’s classified emails. Watch as Chris Wallace reports the breaking news during the panel segment near the end of the show:  And the news is breaking while we’re on the air. Our colleague Bret Baier has just sent us an e-mail saying he has two sources who say that Anthony Weiner, who also had co-ownership of that laptop with his estranged wife Huma Abedin, is cooperating with the FBI investigation, had given them the laptop, so therefore they didn’t need a warrant to get in to see the contents of said laptop. Pretty interesting development.  Targets of federal investigations will often cooperate, hoping that they will get consideration from a judge at sentencing. Given Weiner’s well-known penchant for lying, it’s hard to believe that a prosecutor would give Weiner a deal based on an agreement to testify, unless his testimony were very strongly corroborated by hard evidence. But cooperation can take many forms — and, as Wallace indicated on this morning’s show, one of those forms could be signing a consent form to allow   the contents of devices that they could probably get a warrant for anyway. We’ll see if Weiner’s cooperation extends beyond that. More Related                                                                                                                                                                                                                                                                                                                                                                                                                                                                                                                                                                                                                                                                                                                                                            \n",
       "3     Email Kayla Mueller was a prisoner and tortured by ISIS while no chance of release…a horrific story. Her father gave a pin drop speech that was so heartfelt you want to give him a hug. Carl Mueller believes Donald Trump will be a great president…Epic speech! 9.0K shares                                                                                                                                                                                                                                                                                                                                                                                                                                                                                                                                                                                                                                                                                                                                                                                                                                                                                                                                                                                                                                                                                                                                                                                                                                                                                                                                                                                                                                                                                                                                                                                                                                                                                                                                                                                                                                                                                                 \n",
       "4     Email HEALTHCARE REFORM TO MAKE AMERICA GREAT AGAIN  Since March of 2010, the American people have had to suffer under the incredible economic burden of the Affordable Care Act—Obamacare. This legislation, passed by totally partisan votes in the House and Senate and signed into law by the most divisive and partisan President in American history, has tragically but predictably resulted in runaway costs, websites that don’t work, greater rationing of care, higher premiums, less competition and fewer choices. Obamacare has raised the economic uncertainty of every single person residing in this country. As it appears Obamacare is certain to collapse of its own weight, the damage done by the Democrats and President Obama, and abetted by the Supreme Court, will be difficult to repair unless the next President and a Republican congress lead the effort to bring much-needed free market reforms to the healthcare industry.  Congress must act. Our elected representatives in the House and Senate must:  1. Completely repeal Obamacare. Our elected representatives must eliminate the individual mandate. No person should be required to buy insurance unless he or she wants to.  2. Modify existing law that inhibits the sale of health insurance across state lines. As long as the plan purchased complies with state requirements, any vendor ought to be able to offer insurance in any state. By allowing full competition in this market, insurance costs will go down and consumer satisfaction will go up.  3. Allow individuals to fully deduct health insurance premium payments from their tax returns under the current tax system. Businesses are allowed to take these deductions so why wouldn’t Congress allow individuals the same exemptions? As we allow the free market to provide insurance coverage opportunities to companies and individuals, we must also make sure that no one slips through the cracks simply because they cannot afford insurance. We must review basic options for Medicaid and work with states to ensure that those who want healthcare coverage can have it. TRENDING ON 100% Fed Up \n",
       "...                                                                                                                                                                                                                                                                                                                                                                                                                                                                                                                                                                                                                                                                                                                                                                                                                                                                                                                                                                                                                                                                                                                                                                                                                                                                                                                                                                                                                                                                                                                                                                                                                                                                                                                                                                                                                                                                                                                                                                                                                                                                                                                                                                               ...\n",
       "1495  What a completely worthless organization, UNESCO. Israel has an undisputed claim to the land. God said so.                                                                                                                                                                                                                                                                                                                                                                                                                                                                                                                                                                                                                                                                                                                                                                                                                                                                                                                                                                                                                                                                                                                                                                                                                                                                                                                                                                                                                                                                                                                                                                                                                                                                                                                                                                                                                                                                                                                                                                                                                                                                     \n",
       "1496  BC and AD mean nothing to these idiots. Seventh century founded religion has priority and historical significance over Judaism and Christianity which predate 0 year and centuries earlier? Again, the UN should go the way of the League of Nations.                                                                                                                                                                                                                                                                                                                                                                                                                                                                                                                                                                                                                                                                                                                                                                                                                                                                                                                                                                                                                                                                                                                                                                                                                                                                                                                                                                                                                                                                                                                                                                                                                                                                                                                                                                                                                                                                                                                          \n",
       "1497  For that Statement alone I hope someone brings UNESCO'S building DOWN with all its members in it. Please, there is someone out there.                                                                                                                                                                                                                                                                                                                                                                                                                                                                                                                                                                                                                                                                                                                                                                                                                                                                                                                                                                                                                                                                                                                                                                                                                                                                                                                                                                                                                                                                                                                                                                                                                                                                                                                                                                                                                                                                                                                                                                                                                                          \n",
       "1498  UNESCO has never been a champion of the truth. Just another agitprop org.                                                                                                                                                                                                                                                                                                                                                                                                                                                                                                                                                                                                                                                                                                                                                                                                                                                                                                                                                                                                                                                                                                                                                                                                                                                                                                                                                                                                                                                                                                                                                                                                                                                                                                                                                                                                                                                                                                                                                                                                                                                                                                      \n",
       "1499  out of america  good bye                                                                                                                                                                                                                                                                                                                                                                                                                                                                                                                                                                                                                                                                                                                                                                                                                                                                                                                                                                                                                                                                                                                                                                                                                                                                                                                                                                                                                                                                                                                                                                                                                                                                                                                                                                                                                                                                                                                                                                                                                                                                                                                                                       \n",
       "\n",
       "[1500 rows x 1 columns]"
      ]
     },
     "execution_count": 447,
     "metadata": {},
     "output_type": "execute_result"
    }
   ],
   "source": [
    "#https://stackoverflow.com/questions/37160929/how-to-remove-carriage-return-in-a-dataframe\n",
    "# r --> regular expression\n",
    "\n",
    "df['text'] = df['text'].str.replace(r'\\n',' ')\n",
    "df"
   ]
  },
  {
   "cell_type": "code",
   "execution_count": 448,
   "metadata": {},
   "outputs": [
    {
     "data": {
      "text/html": [
       "<div>\n",
       "<style scoped>\n",
       "    .dataframe tbody tr th:only-of-type {\n",
       "        vertical-align: middle;\n",
       "    }\n",
       "\n",
       "    .dataframe tbody tr th {\n",
       "        vertical-align: top;\n",
       "    }\n",
       "\n",
       "    .dataframe thead th {\n",
       "        text-align: right;\n",
       "    }\n",
       "</style>\n",
       "<table border=\"1\" class=\"dataframe\">\n",
       "  <thead>\n",
       "    <tr style=\"text-align: right;\">\n",
       "      <th></th>\n",
       "      <th>text</th>\n",
       "    </tr>\n",
       "  </thead>\n",
       "  <tbody>\n",
       "    <tr>\n",
       "      <td>0</td>\n",
       "      <td>Print They should pay all the back all the money plus interest. The entire family and everyone who came in with them need to be deported asap. Why did it take two years to bust them?  Here we go again …another group stealing from the government and taxpayers! A group of Somalis stole over four million in government benefits over just 10 months!  We’ve reported on numerous cases like this one where the Muslim refugees/immigrants commit fraud by scamming our system…It’s way out of control! More Related</td>\n",
       "    </tr>\n",
       "    <tr>\n",
       "      <td>1</td>\n",
       "      <td>Why Did Attorney General Loretta Lynch Plead The Fifth? Barracuda Brigade 2016-10-28 Print The administration is blocking congressional probe into cash payments to Iran. Of course she needs to plead the 5th. She either can’t recall, refuses to answer, or just plain deflects the question. Straight up corruption at its finest!  100percentfedUp.com ; Talk about covering your ass! Loretta Lynch did just that when she plead the Fifth to avoid incriminating herself over payments to Iran…Corrupt to the core! Attorney General Loretta Lynch is declining to comply with an investigation by leading members of Congress about the Obama administration’s secret efforts to send Iran $1.7 billion in cash earlier this year, prompting accusations that Lynch has “pleaded the Fifth” Amendment to avoid incriminating herself over these payments, according to lawmakers and communications exclusively obtained by the Washington Free Beacon.  Sen. Marco Rubio (R., Fla.) and Rep. Mike Pompeo (R., Kan.) initially presented Lynch in October with a series of questions about how the cash payment to Iran was approved and delivered.  In an Oct. 24 response, Assistant Attorney General Peter Kadzik responded on Lynch’s behalf, refusing to answer the questions and informing the lawmakers that they are barred from publicly disclosing any details about the cash payment, which was bound up in a ransom deal aimed at freeing several American hostages from Iran.  The response from the attorney general’s office is “unacceptable” and provides evidence that Lynch has chosen to “essentially plead the fifth and refuse to respond to inquiries regarding [her]role in providing cash to the world’s foremost state sponsor of terrorism,” Rubio and Pompeo wrote on Friday in a follow-up letter to Lynch. More Related</td>\n",
       "    </tr>\n",
       "  </tbody>\n",
       "</table>\n",
       "</div>"
      ],
      "text/plain": [
       "                                                                                                                                                                                                                                                                                                                                                                                                                                                                                                                                                                                                                                                                                                                                                                                                                                                                                                                                                                                                                                                                                                                                                                                                                                                                                                                                                                                                                                                                                                                                                                                                                                                                                                                                                                                                                                                            text\n",
       "0  Print They should pay all the back all the money plus interest. The entire family and everyone who came in with them need to be deported asap. Why did it take two years to bust them?  Here we go again …another group stealing from the government and taxpayers! A group of Somalis stole over four million in government benefits over just 10 months!  We’ve reported on numerous cases like this one where the Muslim refugees/immigrants commit fraud by scamming our system…It’s way out of control! More Related                                                                                                                                                                                                                                                                                                                                                                                                                                                                                                                                                                                                                                                                                                                                                                                                                                                                                                                                                                                                                                                                                                                                                                                                                                                                                                                                    \n",
       "1  Why Did Attorney General Loretta Lynch Plead The Fifth? Barracuda Brigade 2016-10-28 Print The administration is blocking congressional probe into cash payments to Iran. Of course she needs to plead the 5th. She either can’t recall, refuses to answer, or just plain deflects the question. Straight up corruption at its finest!  100percentfedUp.com ; Talk about covering your ass! Loretta Lynch did just that when she plead the Fifth to avoid incriminating herself over payments to Iran…Corrupt to the core! Attorney General Loretta Lynch is declining to comply with an investigation by leading members of Congress about the Obama administration’s secret efforts to send Iran $1.7 billion in cash earlier this year, prompting accusations that Lynch has “pleaded the Fifth” Amendment to avoid incriminating herself over these payments, according to lawmakers and communications exclusively obtained by the Washington Free Beacon.  Sen. Marco Rubio (R., Fla.) and Rep. Mike Pompeo (R., Kan.) initially presented Lynch in October with a series of questions about how the cash payment to Iran was approved and delivered.  In an Oct. 24 response, Assistant Attorney General Peter Kadzik responded on Lynch’s behalf, refusing to answer the questions and informing the lawmakers that they are barred from publicly disclosing any details about the cash payment, which was bound up in a ransom deal aimed at freeing several American hostages from Iran.  The response from the attorney general’s office is “unacceptable” and provides evidence that Lynch has chosen to “essentially plead the fifth and refuse to respond to inquiries regarding [her]role in providing cash to the world’s foremost state sponsor of terrorism,” Rubio and Pompeo wrote on Friday in a follow-up letter to Lynch. More Related"
      ]
     },
     "execution_count": 448,
     "metadata": {},
     "output_type": "execute_result"
    }
   ],
   "source": [
    "#Export to csv\n",
    "pd.set_option('display.max_colwidth', -1)\n",
    "df.to_csv(\"../Topic_Modeling/fakenews1.csv\", index=False, encoding=\"utf-8\")\n",
    "df.head(2)"
   ]
  },
  {
   "cell_type": "code",
   "execution_count": 513,
   "metadata": {},
   "outputs": [
    {
     "data": {
      "text/plain": [
       "1501"
      ]
     },
     "execution_count": 513,
     "metadata": {},
     "output_type": "execute_result"
    }
   ],
   "source": [
    "# -*- coding: utf-8 -*-\n",
    "data = []\n",
    "r = csv.reader(open('..//Topic_Modeling/fakenews1.csv', 'r', errors='ignore'))\n",
    "#r = csv.reader(open('data/politics2015_gop.csv', 'r', encoding = \"ISO-8859-1\"))\n",
    "for i in r:\n",
    "    data.append(i)  \n",
    "len(data)"
   ]
  },
  {
   "cell_type": "code",
   "execution_count": 480,
   "metadata": {},
   "outputs": [
    {
     "data": {
      "text/plain": [
       "[['text'],\n",
       " ['Print They should pay all the back all the money plus interest. The entire family and everyone who came in with them need to be deported asap. Why did it take two years to bust them?  Here we go again â€¦another group stealing from the government and taxpayers! A group of Somalis stole over four million in government benefits over just 10 months!  Weâ€™ve reported on numerous cases like this one where the Muslim refugees/immigrants commit fraud by scamming our systemâ€¦Itâ€™s way out of control! More Related']]"
      ]
     },
     "execution_count": 480,
     "metadata": {},
     "output_type": "execute_result"
    }
   ],
   "source": [
    "#first two rows\n",
    "data[0:2]"
   ]
  },
  {
   "cell_type": "markdown",
   "metadata": {},
   "source": [
    "- b. Removing stopwords is important to improve the quality of topic modeling."
   ]
  },
  {
   "cell_type": "code",
   "execution_count": 481,
   "metadata": {},
   "outputs": [],
   "source": [
    "# text cleaning using function\n",
    "\n",
    "def text_pro(texts):\n",
    "    # Remove useless numbers and alphanumerical words\n",
    "    documents = [re.sub(\"[^a-zA-Z]+\", \" \", str(text)) for text in data]\n",
    "    texts = [[word for word in text.lower().split() ] for text in documents]\n",
    "\n",
    "    # stemming words: having --> have; friends --> friend\n",
    "    lmtzr = WordNetLemmatizer()\n",
    "    texts = [[lmtzr.lemmatize(word) for word in text ] for text in texts]\n",
    "\n",
    "    #porter_stemmer = PorterStemmer()\n",
    "    #texts = [[porter_stemmer.stem(word) for word in text ] for text in texts]\n",
    "\n",
    "    # remove common words \n",
    "    stoplist = stopwords.words('english')\n",
    "    texts = [[word for word in text if word not in stoplist] for text in texts]\n",
    "\n",
    "    #remove short words\n",
    "    texts = [[ word for word in tokens if len(word) >= 3 ] for tokens in texts]    \n",
    "    return texts"
   ]
  },
  {
   "cell_type": "code",
   "execution_count": 482,
   "metadata": {},
   "outputs": [],
   "source": [
    "# call the function\n",
    "texts =text_pro(data)"
   ]
  },
  {
   "cell_type": "markdown",
   "metadata": {},
   "source": [
    "- c. In addition to the standardized list of stopwords, consider removing additional stopwords (e.g., too frequent words, too rare words)."
   ]
  },
  {
   "cell_type": "code",
   "execution_count": 483,
   "metadata": {},
   "outputs": [],
   "source": [
    "# A list of extra stopwords specific to the debates transcripts (if you want to remove more stopwords)\n",
    "extra_stopwords = ['will', 'people', 'need', 'think', 'well','going', 'can', 'country', 'know', 'lot', 'get','make','way','president', 'want',\n",
    "                'like','say','got','said','just','something','tell','put','now', 'bad','back','want','right','every','one','use','come','never', \n",
    "                'many','along','things','day','also','first','guy', 'great', 'take', 'good', 'much','anderson', 'let', 'would', 'year', 'thing', 'america',\n",
    "                'talk', 'talking', 'thank', 'does', 'give', 'look', 'believe', 'tonight','today','see']\n",
    "\n",
    "# remove extra stopwords\n",
    "extra_stopwords = stopwords.words('english')\n",
    "texts = [[word for word in text if word not in extra_stopwords] for text in texts]"
   ]
  },
  {
   "cell_type": "markdown",
   "metadata": {},
   "source": [
    "- d. Save both “dictionary” and “corpus” for future reference"
   ]
  },
  {
   "cell_type": "code",
   "execution_count": 454,
   "metadata": {},
   "outputs": [
    {
     "data": {
      "text/plain": [
       "25115"
      ]
     },
     "execution_count": 454,
     "metadata": {},
     "output_type": "execute_result"
    }
   ],
   "source": [
    "# this is text processing required for topic modeling with Gensim\n",
    "\n",
    "## Create a dictionary representation of the documents.\n",
    "dictionary = Dictionary(texts)\n",
    "dictionary.save('..//Topic_Modeling//fake.dict')  # store the dictionary, for future reference\n",
    "\n",
    "len(dictionary)"
   ]
  },
  {
   "cell_type": "code",
   "execution_count": 455,
   "metadata": {},
   "outputs": [
    {
     "data": {
      "text/plain": [
       "25115"
      ]
     },
     "execution_count": 455,
     "metadata": {},
     "output_type": "execute_result"
    }
   ],
   "source": [
    "## Remove rare and common tokens.\n",
    "# ignore words that appear in less than 5 documents or more than 50% documents (remove too frequent & infrequent words) - an optional step\n",
    "\n",
    "dictionary.filter_extremes(no_above=5, no_below=0.5)                           #https://radimrehurek.com/gensim/corpora/dictionary.html#gensim.corpora.dictionary.Dictionary.filter_extremes\n",
    "len(dictionary)"
   ]
  },
  {
   "cell_type": "code",
   "execution_count": 456,
   "metadata": {},
   "outputs": [
    {
     "data": {
      "text/plain": [
       "1501"
      ]
     },
     "execution_count": 456,
     "metadata": {},
     "output_type": "execute_result"
    }
   ],
   "source": [
    "# convert words to vetors or integers\n",
    "corpus = [dictionary.doc2bow(text) for text in texts]\n",
    "corpora.MmCorpus.serialize('..//Topic_Modeling//fake.mm', corpus)  # store to disk, for later use  # store to disk, for later use\n",
    "len(corpus)"
   ]
  },
  {
   "cell_type": "code",
   "execution_count": 457,
   "metadata": {},
   "outputs": [
    {
     "name": "stdout",
     "output_type": "stream",
     "text": [
      "Number of unique tokens: 25115\n",
      "Number of documents: 1501\n"
     ]
    }
   ],
   "source": [
    "print(('Number of unique tokens: %d' % len(dictionary)))\n",
    "print(('Number of documents: %d' % len(corpus)))"
   ]
  },
  {
   "cell_type": "code",
   "execution_count": 458,
   "metadata": {},
   "outputs": [],
   "source": [
    "# this is text processing required for topic modeling with Gensim\n",
    "# Create a dictionary representation of the documents.\n",
    "dictionary = Dictionary(texts)\n",
    "# convert words to vetors or integers (creating corpus)\n",
    "corpus = [dictionary.doc2bow(text) for text in texts]"
   ]
  },
  {
   "cell_type": "markdown",
   "metadata": {},
   "source": [
    "# 3 Third, demonstrate and understanding of probabilistic topic modeling."
   ]
  },
  {
   "cell_type": "markdown",
   "metadata": {},
   "source": [
    "- a. Explain the difference between text classification and topic modeling in your own words"
   ]
  },
  {
   "cell_type": "markdown",
   "metadata": {},
   "source": [
    "Text classification is a supervised machine learning problem, where a text document or article classified into a pre-defined set of classes. Topic modeling is the process of discovering groups of co-occurring words in text documents.\n",
    "Topic modeling can be used to solve the text classification problem. Topic modeling will identify the topics presents in a document\" while text classification classifies the text into a single class.\n"
   ]
  },
  {
   "cell_type": "markdown",
   "metadata": {},
   "source": [
    "- b. Explain the goal of topic modeling (LDA) in your own words.\n",
    "The goal of LDA is mapping each document to a list of topics is assign topics to arrangements of words, e.g. n-grams such as best player for a topic related to sports.\n"
   ]
  },
  {
   "cell_type": "markdown",
   "metadata": {},
   "source": [
    "- c. Explain document-topic matrix (distribution) in your own words.\n",
    "Document-topic distribution is a  decomposition of a document into topics that compose that document.. This is specific to each document in your training corpus."
   ]
  },
  {
   "cell_type": "markdown",
   "metadata": {},
   "source": [
    "- d. Explain term-topic matrix (distribution) in your own words.\n",
    " Given this topic, what is the distribution over all possible words in the vocabulary? For example, given that you are talking about food, how likely is “pasta” to appear? And what about “bicycle”? Note that: We expect that ‘pasta’ will have a higher probability than ‘bicycle’"
   ]
  },
  {
   "cell_type": "markdown",
   "metadata": {},
   "source": [
    "# 4. Fourth, building topic models."
   ]
  },
  {
   "cell_type": "markdown",
   "metadata": {},
   "source": [
    "- First, let's determine an optimal K value"
   ]
  },
  {
   "cell_type": "markdown",
   "metadata": {},
   "source": [
    "- a. Determine an optimal number of k using range(6,20,2)."
   ]
  },
  {
   "cell_type": "code",
   "execution_count": 459,
   "metadata": {},
   "outputs": [
    {
     "name": "stdout",
     "output_type": "stream",
     "text": [
      "-1.076087003277675\n",
      "-1.0387285095779473\n",
      "-1.3266110971570986\n",
      "-1.428328834300636\n",
      "-1.7669306522143897\n",
      "-1.8260308965954566\n",
      "-2.3651595050036707\n"
     ]
    },
    {
     "data": {
      "text/plain": [
       "[<matplotlib.lines.Line2D at 0x27bdc25f3c8>]"
      ]
     },
     "execution_count": 459,
     "metadata": {},
     "output_type": "execute_result"
    },
    {
     "data": {
      "image/png": "[encoded data removed]",
      "text/plain": [
       "<Figure size 432x288 with 1 Axes>"
      ]
     },
     "metadata": {
      "needs_background": "light"
     },
     "output_type": "display_data"
    }
   ],
   "source": [
    "numpy.random.seed(1) # setting random seed to get the same results each time.\n",
    "k_range = range(6,20,2)\n",
    "scores = []\n",
    "for k in k_range:\n",
    "    LdaModel = ldamodel.LdaModel(corpus=corpus, id2word=dictionary, num_topics=k, passes=50)\n",
    "    cm = CoherenceModel(model=LdaModel, corpus=corpus, dictionary=dictionary, coherence='u_mass')\n",
    "    print((cm.get_coherence()))\n",
    "    scores.append(cm.get_coherence())\n",
    "    \n",
    "plt.figure()\n",
    "plt.plot(k_range, scores)"
   ]
  },
  {
   "cell_type": "markdown",
   "metadata": {},
   "source": [
    "You can easily evaluate this graph. Here, you have a number of topics on X-axis and coherence score on Y-axis. Of the number of topics, 8 have the highest coherence score, so the optimum number of topics are 8."
   ]
  },
  {
   "cell_type": "markdown",
   "metadata": {},
   "source": [
    "-b. Report the results of topic modeling"
   ]
  },
  {
   "cell_type": "code",
   "execution_count": 460,
   "metadata": {},
   "outputs": [],
   "source": [
    "# build a lda topic model (number of topics = 15, passes = 50)\n",
    "numpy.random.seed(1) # setting random seed to get the same results each time. \n",
    "model = ldamodel.LdaModel(corpus, id2word=dictionary, num_topics=5, passes=50)"
   ]
  },
  {
   "cell_type": "code",
   "execution_count": 461,
   "metadata": {},
   "outputs": [
    {
     "data": {
      "text/plain": [
       "[(0,\n",
       "  '0.009*\"clinton\" + 0.006*\"trump\" + 0.006*\"would\" + 0.006*\"one\" + 0.005*\"people\" + 0.005*\"war\" + 0.005*\"state\" + 0.004*\"hillary\" + 0.004*\"american\" + 0.004*\"time\"'),\n",
       " (1,\n",
       "  '0.013*\"black\" + 0.012*\"white\" + 0.008*\"people\" + 0.008*\"trump\" + 0.006*\"obama\" + 0.005*\"party\" + 0.004*\"american\" + 0.004*\"one\" + 0.004*\"class\" + 0.004*\"year\"'),\n",
       " (2,\n",
       "  '0.006*\"said\" + 0.005*\"force\" + 0.005*\"city\" + 0.004*\"isi\" + 0.004*\"people\" + 0.004*\"police\" + 0.004*\"muslim\" + 0.004*\"syrian\" + 0.004*\"attack\" + 0.003*\"government\"'),\n",
       " (3,\n",
       "  '0.005*\"year\" + 0.005*\"state\" + 0.005*\"said\" + 0.005*\"one\" + 0.004*\"russia\" + 0.004*\"government\" + 0.004*\"also\" + 0.003*\"would\" + 0.003*\"time\" + 0.003*\"russian\"'),\n",
       " (4,\n",
       "  '0.015*\"clinton\" + 0.012*\"trump\" + 0.008*\"election\" + 0.008*\"said\" + 0.008*\"email\" + 0.006*\"hillary\" + 0.006*\"state\" + 0.005*\"fbi\" + 0.005*\"would\" + 0.005*\"campaign\"')]"
      ]
     },
     "execution_count": 461,
     "metadata": {},
     "output_type": "execute_result"
    }
   ],
   "source": [
    "# print term-topic distribution\n",
    "model.show_topics(num_topics=5)"
   ]
  },
  {
   "cell_type": "markdown",
   "metadata": {},
   "source": [
    "- c. What are five most popular topics in fake news?"
   ]
  },
  {
   "cell_type": "code",
   "execution_count": 585,
   "metadata": {},
   "outputs": [
    {
     "name": "stdout",
     "output_type": "stream",
     "text": [
      "clinton, trump, would, one, people, war, state, hillary, american, time\n",
      "black, white, people, trump, obama, party, american, one, class, year\n",
      "said, force, city, isi, people, police, muslim, syrian, attack, government\n",
      "year, state, said, one, russia, government, also, would, time, russian\n",
      "clinton, trump, election, said, email, hillary, state, fbi, would, campaign\n"
     ]
    }
   ],
   "source": [
    "# print words without probability\n",
    "for i in range(0,5):\n",
    "    topics = model.show_topic(i, 10)\n",
    "    print(', '.join([str(word[0]) for word in topics]))"
   ]
  },
  {
   "cell_type": "markdown",
   "metadata": {},
   "source": [
    "- Topic 0 includes words like \"clinton\", \"trump\", \"people\", \"war,\" \"state\", \"american\", \"time\", sounds like a topic related to US Presidential Elections. \n",
    "- Topic 1 includes words like “black\", \"white\", \"people\", \"trump\", \"obama\", \"party\", \"american\" it is definite a US Presidential Elections related topic. \n",
    "- Topic 2 includes words like \"said\", \"force\", \"city', \"isi\", \"people\", \"police\", \"muslim\", \"syrian\", \"attack\", \"government\" sounds like a middle east war related topic.\n",
    "- Topic 3 includes words like \"year\", \"state\", \"said\", \"one\", \"russia\", \"government\", \"also\", \"would\", \"time\", \"russian\" sounds like a russian meddling in us elections related topic.\n",
    "- Topic 3 includes words like \"clinton\", \"trump\", \"election\", \"said\", \"email\", \"hillary\", \"state\", \"fbi\", \"would\", \"campaign\" sounds like a clinton email wikileaks in us elections related topic.\n"
   ]
  },
  {
   "cell_type": "markdown",
   "metadata": {},
   "source": [
    "-d. Save your topic model for future reference"
   ]
  },
  {
   "cell_type": "code",
   "execution_count": 584,
   "metadata": {},
   "outputs": [],
   "source": [
    "model.save('..//Topic_Modeling/lda_fake.model') \n",
    "# to retrieve\n",
    "#model = models.LdaModel.load('data/lda_gop.model')"
   ]
  },
  {
   "cell_type": "markdown",
   "metadata": {},
   "source": [
    "# 5. Fifth, topic model to new data. a list of fake news (3 or 4) "
   ]
  },
  {
   "cell_type": "code",
   "execution_count": 463,
   "metadata": {},
   "outputs": [],
   "source": [
    "unlabeled = [\"Conspiracy theories have swirled in recent days as to why FBI Director James Comey reopened Hillary's email investigation after just closing it back in July concluding that, although Hillary had demonstrated gross negligence in her establishment of a private email server\",\n",
    "             \"The election of climate change skeptic Donald Trump as president is likely to end the U.S. leadership role in the international fight against global warming and may lead to the emergence of a new and unlikely champion: China\",\n",
    "              \"The first and most obvious point to be made is that the anti-Russia hysteria that characterized the election, particularly in its final weeks, did not come out of nowhere; in fact, it should be seen as part of a natural progression of the elite mediaâ€™s Russophobia which took root in and around the Ukraine crisis of late 2013-early 2014 and led, almost ineffably, not only to charges of Russian election-rigging in the United States but in the identification, in the pages of Newsweek and the Washington Post , of Russian fifth-columns within the United States. Democratic presidential nominee Hillary Clinton\"]"
   ]
  },
  {
   "cell_type": "code",
   "execution_count": 464,
   "metadata": {},
   "outputs": [],
   "source": [
    "# Remove useless numbers and alphanumerical words\n",
    "unlabeled = [re.sub(\"[^a-zA-Z]+\", \" \", str(text)) for text in unlabeled]\n",
    "# tokenize & lowercase\n",
    "unlabeled = [[word for word in text.lower().split() ] for text in unlabeled]\n",
    "# stemming words: having --> have; friends --> friend\n",
    "lmtzr = WordNetLemmatizer()\n",
    "unlabeled = [[lmtzr.lemmatize(word) for word in text ] for text in unlabeled]\n",
    "# remove common words\n",
    "stoplist = stopwords.words('english')\n",
    "unlabeled = [[word for word in text if word not in stoplist] for text in unlabeled]\n",
    "# remove short words\n",
    "unlabeled = [[ word for word in tokens if len(word) >= 3 ] for tokens in unlabeled]"
   ]
  },
  {
   "cell_type": "code",
   "execution_count": 465,
   "metadata": {},
   "outputs": [
    {
     "data": {
      "text/plain": [
       "[['conspiracy',\n",
       "  'theory',\n",
       "  'swirled',\n",
       "  'recent',\n",
       "  'day',\n",
       "  'fbi',\n",
       "  'director',\n",
       "  'james',\n",
       "  'comey',\n",
       "  'reopened',\n",
       "  'hillary',\n",
       "  'email',\n",
       "  'investigation',\n",
       "  'closing',\n",
       "  'back',\n",
       "  'july',\n",
       "  'concluding',\n",
       "  'although',\n",
       "  'hillary',\n",
       "  'demonstrated',\n",
       "  'gross',\n",
       "  'negligence',\n",
       "  'establishment',\n",
       "  'private',\n",
       "  'email',\n",
       "  'server']]"
      ]
     },
     "execution_count": 465,
     "metadata": {},
     "output_type": "execute_result"
    }
   ],
   "source": [
    "unlabeled[:1]"
   ]
  },
  {
   "cell_type": "code",
   "execution_count": 466,
   "metadata": {},
   "outputs": [
    {
     "name": "stdout",
     "output_type": "stream",
     "text": [
      "[(3, 1), (101, 1), (184, 2), (188, 1), (196, 2), (506, 1), (531, 1), (591, 1), (665, 1), (743, 1), (832, 1), (837, 1), (1623, 1), (2053, 1), (2250, 1), (2253, 1), (2552, 1), (2590, 1), (2650, 1), (3018, 1), (6485, 1), (6495, 1), (6504, 1), (6514, 1)]\n",
      "[(141, 1), (185, 1), (249, 1), (262, 1), (269, 1), (332, 1), (616, 1), (700, 1), (745, 1), (1061, 1), (1560, 1), (1565, 1), (1714, 1), (2531, 1), (2639, 1), (2672, 1), (2786, 1), (3072, 1), (3247, 1), (3985, 1), (8216, 1), (9483, 1)]\n",
      "[(87, 1), (149, 2), (154, 1), (172, 1), (196, 1), (407, 1), (439, 1), (444, 1), (477, 1), (496, 1), (522, 1), (554, 1), (557, 1), (621, 1), (630, 1), (663, 1), (708, 1), (712, 1), (721, 1), (744, 1), (745, 2), (774, 1), (994, 1), (1066, 1), (1121, 1), (1125, 1), (1242, 1), (1261, 1), (1340, 1), (1395, 1), (1440, 1), (1445, 2), (2082, 1), (2102, 1), (2104, 1), (2364, 1), (2396, 1), (2397, 2), (2417, 1), (2932, 1), (3527, 1), (3686, 1), (4499, 1), (5773, 1), (7020, 1), (12358, 1), (12980, 1), (17278, 1), (20703, 1)]\n"
     ]
    }
   ],
   "source": [
    "for i in unlabeled:\n",
    "    print(model.id2word.doc2bow(i))"
   ]
  },
  {
   "cell_type": "code",
   "execution_count": 467,
   "metadata": {},
   "outputs": [
    {
     "name": "stdout",
     "output_type": "stream",
     "text": [
      "[(4, 0.9699618)]\n",
      "[(0, 0.9643654)]\n",
      "[(0, 0.4774127), (4, 0.51118773)]\n"
     ]
    }
   ],
   "source": [
    "for i in unlabeled:\n",
    "    bow = model.id2word.doc2bow(i)\n",
    "    doc_topics, word_topics, phi_values = model.get_document_topics(\n",
    "        bow, per_word_topics=True)\n",
    "    print(doc_topics)"
   ]
  },
  {
   "cell_type": "markdown",
   "metadata": {},
   "source": [
    "What is the prevalent topic for unlabeled #1 and #2?"
   ]
  },
  {
   "cell_type": "markdown",
   "metadata": {},
   "source": [
    "# 6. Sixth, business intelligence, using pivot and charts."
   ]
  },
  {
   "cell_type": "markdown",
   "metadata": {},
   "source": [
    "- a. Which topic is most prevalent, based on \"document-topic distribution\"?"
   ]
  },
  {
   "cell_type": "code",
   "execution_count": 468,
   "metadata": {},
   "outputs": [
    {
     "name": "stdout",
     "output_type": "stream",
     "text": [
      "[(0, 0.100890264), (1, 0.10004082), (2, 0.10004185), (3, 0.5980859), (4, 0.100941174)]\n",
      "[(0, 0.21968219), (4, 0.76688457)]\n",
      "[(4, 0.9949627)]\n",
      "[(4, 0.9936511)]\n",
      "[(0, 0.82434106), (4, 0.15472862)]\n"
     ]
    }
   ],
   "source": [
    "# print document-topic distribution \n",
    "lda_corpus = model[corpus]\n",
    "# first five rows\n",
    "for i in lda_corpus[:5]:\n",
    "    print(i)"
   ]
  },
  {
   "cell_type": "code",
   "execution_count": 469,
   "metadata": {},
   "outputs": [
    {
     "data": {
      "text/plain": [
       "[[(0, 0.1008913),\n",
       "  (1, 0.10004084),\n",
       "  (2, 0.10004187),\n",
       "  (3, 0.59808224),\n",
       "  (4, 0.10094375)],\n",
       " [(0, 0.21947326), (4, 0.76708645)],\n",
       " [(4, 0.9949623)],\n",
       " [(4, 0.9936512)],\n",
       " [(0, 0.8243241), (4, 0.15474564)]]"
      ]
     },
     "execution_count": 469,
     "metadata": {},
     "output_type": "execute_result"
    }
   ],
   "source": [
    "# save document-topic distribution \n",
    "lda_corpus = model[corpus]\n",
    "results = []\n",
    "for i in lda_corpus:\n",
    "    results.append(i)\n",
    "    \n",
    "results[:5]"
   ]
  },
  {
   "cell_type": "code",
   "execution_count": 470,
   "metadata": {},
   "outputs": [
    {
     "data": {
      "text/plain": [
       "[3, 4, 4, 4, 0]"
      ]
     },
     "execution_count": 470,
     "metadata": {},
     "output_type": "execute_result"
    }
   ],
   "source": [
    "# finding highest value from each row\n",
    "toptopic = [max(collection, key=lambda x: x[1])[0] for collection in results]\n",
    "# view first five\n",
    "toptopic[:5]"
   ]
  },
  {
   "cell_type": "code",
   "execution_count": 515,
   "metadata": {},
   "outputs": [
    {
     "data": {
      "text/html": [
       "<div>\n",
       "<style scoped>\n",
       "    .dataframe tbody tr th:only-of-type {\n",
       "        vertical-align: middle;\n",
       "    }\n",
       "\n",
       "    .dataframe tbody tr th {\n",
       "        vertical-align: top;\n",
       "    }\n",
       "\n",
       "    .dataframe thead th {\n",
       "        text-align: right;\n",
       "    }\n",
       "</style>\n",
       "<table border=\"1\" class=\"dataframe\">\n",
       "  <thead>\n",
       "    <tr style=\"text-align: right;\">\n",
       "      <th></th>\n",
       "      <th>documents</th>\n",
       "      <th>0</th>\n",
       "    </tr>\n",
       "  </thead>\n",
       "  <tbody>\n",
       "    <tr>\n",
       "      <td>0</td>\n",
       "      <td>text</td>\n",
       "      <td>3</td>\n",
       "    </tr>\n",
       "    <tr>\n",
       "      <td>1</td>\n",
       "      <td>Print They should pay all the back all the money plus interest. The entire family and everyone w...</td>\n",
       "      <td>4</td>\n",
       "    </tr>\n",
       "    <tr>\n",
       "      <td>2</td>\n",
       "      <td>Why Did Attorney General Loretta Lynch Plead The Fifth? Barracuda Brigade 2016-10-28 Print The a...</td>\n",
       "      <td>4</td>\n",
       "    </tr>\n",
       "    <tr>\n",
       "      <td>3</td>\n",
       "      <td>Red State :  Fox News Sunday reported this morning that Anthony Weiner is cooperating with the F...</td>\n",
       "      <td>4</td>\n",
       "    </tr>\n",
       "    <tr>\n",
       "      <td>4</td>\n",
       "      <td>Email Kayla Mueller was a prisoner and tortured by ISIS while no chance of releaseâ€¦a horrific ...</td>\n",
       "      <td>0</td>\n",
       "    </tr>\n",
       "  </tbody>\n",
       "</table>\n",
       "</div>"
      ],
      "text/plain": [
       "                                                                                             documents  \\\n",
       "0                                                                                                 text   \n",
       "1  Print They should pay all the back all the money plus interest. The entire family and everyone w...   \n",
       "2  Why Did Attorney General Loretta Lynch Plead The Fifth? Barracuda Brigade 2016-10-28 Print The a...   \n",
       "3  Red State :  Fox News Sunday reported this morning that Anthony Weiner is cooperating with the F...   \n",
       "4  Email Kayla Mueller was a prisoner and tortured by ISIS while no chance of releaseâ€¦a horrific ...   \n",
       "\n",
       "   0  \n",
       "0  3  \n",
       "1  4  \n",
       "2  4  \n",
       "3  4  \n",
       "4  0  "
      ]
     },
     "execution_count": 515,
     "metadata": {},
     "output_type": "execute_result"
    }
   ],
   "source": [
    "# merge the majority topic information with the original texts\n",
    "toptopic = pd.DataFrame(toptopic)\n",
    "dfdata = pd.DataFrame(data)\n",
    "dfdata = dfdata.rename(columns={0: 'documents'})\n",
    "summary = dfdata.join(toptopic)\n",
    "summary.head()"
   ]
  },
  {
   "cell_type": "code",
   "execution_count": 516,
   "metadata": {},
   "outputs": [
    {
     "data": {
      "text/plain": [
       "4    448\n",
       "0    430\n",
       "2    253\n",
       "3    201\n",
       "1    169\n",
       "Name: 0, dtype: int64"
      ]
     },
     "execution_count": 516,
     "metadata": {},
     "output_type": "execute_result"
    }
   ],
   "source": [
    "# How many documents are assigned to each topic?\n",
    "# what is the most popular topic in terms of the number of documents assigned\n",
    "summary[0].value_counts()"
   ]
  },
  {
   "cell_type": "code",
   "execution_count": 517,
   "metadata": {},
   "outputs": [
    {
     "data": {
      "text/html": [
       "\n",
       "<link rel=\"stylesheet\" type=\"text/css\" href=\"https://cdn.rawgit.com/bmabey/pyLDAvis/files/ldavis.v1.0.0.css\">\n",
       "\n",
       "\n",
       "<div id=\"ldavis_el1386827313703500247115386054\"></div>\n",
       "<script type=\"text/javascript\">\n",
       "\n",
       "var ldavis_el1386827313703500247115386054_data = {\"mdsDat\": {\"x\": [0.06237060387988019, 0.07585885587648254, -0.15331172871159576, -0.03315742016765794, 0.04823968912289092], \"y\": [0.004194790624157231, 0.10330178885493214, 0.05172023012181667, -0.09228706297053021, -0.06692974663037578], \"topics\": [1, 2, 3, 4, 5], \"cluster\": [1, 1, 1, 1, 1], \"Freq\": [27.1760196685791, 16.845298767089844, 17.21129035949707, 14.585711479187012, 24.181678771972656]}, \"tinfo\": {\"Category\": [\"Default\", \"Default\", \"Default\", \"Default\", \"Default\", \"Default\", \"Default\", \"Default\", \"Default\", \"Default\", \"Default\", \"Default\", \"Default\", \"Default\", \"Default\", \"Default\", \"Default\", \"Default\", \"Default\", \"Default\", \"Default\", \"Default\", \"Default\", \"Default\", \"Default\", \"Default\", \"Default\", \"Default\", \"Default\", \"Default\", \"Topic1\", \"Topic1\", \"Topic1\", \"Topic1\", \"Topic1\", \"Topic1\", \"Topic1\", \"Topic1\", \"Topic1\", \"Topic1\", \"Topic1\", \"Topic1\", \"Topic1\", \"Topic1\", \"Topic1\", \"Topic1\", \"Topic1\", \"Topic1\", \"Topic1\", \"Topic1\", \"Topic1\", \"Topic1\", \"Topic1\", \"Topic1\", \"Topic1\", \"Topic1\", \"Topic1\", \"Topic1\", \"Topic1\", \"Topic1\", \"Topic1\", \"Topic1\", \"Topic1\", \"Topic1\", \"Topic1\", \"Topic1\", \"Topic1\", \"Topic1\", \"Topic1\", \"Topic1\", \"Topic1\", \"Topic1\", \"Topic1\", \"Topic1\", \"Topic1\", \"Topic1\", \"Topic1\", \"Topic1\", \"Topic1\", \"Topic1\", \"Topic1\", \"Topic1\", \"Topic1\", \"Topic1\", \"Topic1\", \"Topic1\", \"Topic1\", \"Topic1\", \"Topic1\", \"Topic1\", \"Topic1\", \"Topic1\", \"Topic1\", \"Topic1\", \"Topic1\", \"Topic1\", \"Topic1\", \"Topic1\", \"Topic1\", \"Topic1\", \"Topic1\", \"Topic1\", \"Topic1\", \"Topic1\", \"Topic1\", \"Topic1\", \"Topic1\", \"Topic1\", \"Topic1\", \"Topic1\", \"Topic1\", \"Topic1\", \"Topic1\", \"Topic1\", \"Topic1\", \"Topic1\", \"Topic1\", \"Topic1\", \"Topic1\", \"Topic2\", \"Topic2\", \"Topic2\", \"Topic2\", \"Topic2\", \"Topic2\", \"Topic2\", \"Topic2\", \"Topic2\", \"Topic2\", \"Topic2\", \"Topic2\", \"Topic2\", \"Topic2\", \"Topic2\", \"Topic2\", \"Topic2\", \"Topic2\", \"Topic2\", \"Topic2\", \"Topic2\", \"Topic2\", \"Topic2\", \"Topic2\", \"Topic2\", \"Topic2\", \"Topic2\", \"Topic2\", \"Topic2\", \"Topic2\", \"Topic2\", \"Topic2\", \"Topic2\", \"Topic2\", \"Topic2\", \"Topic2\", \"Topic2\", \"Topic2\", \"Topic2\", \"Topic2\", \"Topic2\", \"Topic2\", \"Topic2\", \"Topic2\", \"Topic2\", \"Topic2\", \"Topic2\", \"Topic2\", \"Topic2\", \"Topic2\", \"Topic2\", \"Topic2\", \"Topic2\", \"Topic2\", \"Topic2\", \"Topic2\", \"Topic2\", \"Topic2\", \"Topic2\", \"Topic2\", \"Topic2\", \"Topic2\", \"Topic2\", \"Topic2\", \"Topic2\", \"Topic2\", \"Topic2\", \"Topic2\", \"Topic2\", \"Topic2\", \"Topic2\", \"Topic2\", \"Topic2\", \"Topic2\", \"Topic2\", \"Topic2\", \"Topic2\", \"Topic2\", \"Topic2\", \"Topic2\", \"Topic3\", \"Topic3\", \"Topic3\", \"Topic3\", \"Topic3\", \"Topic3\", \"Topic3\", \"Topic3\", \"Topic3\", \"Topic3\", \"Topic3\", \"Topic3\", \"Topic3\", \"Topic3\", \"Topic3\", \"Topic3\", \"Topic3\", \"Topic3\", \"Topic3\", \"Topic3\", \"Topic3\", \"Topic3\", \"Topic3\", \"Topic3\", \"Topic3\", \"Topic3\", \"Topic3\", \"Topic3\", \"Topic3\", \"Topic3\", \"Topic3\", \"Topic3\", \"Topic3\", \"Topic3\", \"Topic3\", \"Topic3\", \"Topic3\", \"Topic3\", \"Topic3\", \"Topic3\", \"Topic3\", \"Topic3\", \"Topic3\", \"Topic3\", \"Topic3\", \"Topic3\", \"Topic3\", \"Topic3\", \"Topic3\", \"Topic3\", \"Topic3\", \"Topic3\", \"Topic3\", \"Topic3\", \"Topic3\", \"Topic3\", \"Topic3\", \"Topic3\", \"Topic3\", \"Topic3\", \"Topic3\", \"Topic3\", \"Topic3\", \"Topic3\", \"Topic3\", \"Topic3\", \"Topic3\", \"Topic3\", \"Topic3\", \"Topic3\", \"Topic3\", \"Topic3\", \"Topic3\", \"Topic3\", \"Topic3\", \"Topic3\", \"Topic4\", \"Topic4\", \"Topic4\", \"Topic4\", \"Topic4\", \"Topic4\", \"Topic4\", \"Topic4\", \"Topic4\", \"Topic4\", \"Topic4\", \"Topic4\", \"Topic4\", \"Topic4\", \"Topic4\", \"Topic4\", \"Topic4\", \"Topic4\", \"Topic4\", \"Topic4\", \"Topic4\", \"Topic4\", \"Topic4\", \"Topic4\", \"Topic4\", \"Topic4\", \"Topic4\", \"Topic4\", \"Topic4\", \"Topic4\", \"Topic4\", \"Topic4\", \"Topic4\", \"Topic4\", \"Topic4\", \"Topic4\", \"Topic4\", \"Topic4\", \"Topic4\", \"Topic4\", \"Topic4\", \"Topic4\", \"Topic4\", \"Topic4\", \"Topic4\", \"Topic4\", \"Topic4\", \"Topic4\", \"Topic4\", \"Topic4\", \"Topic4\", \"Topic4\", \"Topic4\", \"Topic4\", \"Topic4\", \"Topic4\", \"Topic4\", \"Topic4\", \"Topic4\", \"Topic4\", \"Topic4\", \"Topic4\", \"Topic4\", \"Topic4\", \"Topic4\", \"Topic4\", \"Topic4\", \"Topic4\", \"Topic4\", \"Topic4\", \"Topic4\", \"Topic4\", \"Topic4\", \"Topic4\", \"Topic4\", \"Topic4\", \"Topic4\", \"Topic4\", \"Topic5\", \"Topic5\", \"Topic5\", \"Topic5\", \"Topic5\", \"Topic5\", \"Topic5\", \"Topic5\", \"Topic5\", \"Topic5\", \"Topic5\", \"Topic5\", \"Topic5\", \"Topic5\", \"Topic5\", \"Topic5\", \"Topic5\", \"Topic5\", \"Topic5\", \"Topic5\", \"Topic5\", \"Topic5\", \"Topic5\", \"Topic5\", \"Topic5\", \"Topic5\", \"Topic5\", \"Topic5\", \"Topic5\", \"Topic5\", \"Topic5\", \"Topic5\", \"Topic5\", \"Topic5\", \"Topic5\", \"Topic5\", \"Topic5\", \"Topic5\", \"Topic5\", \"Topic5\", \"Topic5\", \"Topic5\", \"Topic5\", \"Topic5\", \"Topic5\", \"Topic5\", \"Topic5\", \"Topic5\", \"Topic5\", \"Topic5\", \"Topic5\", \"Topic5\", \"Topic5\", \"Topic5\", \"Topic5\", \"Topic5\", \"Topic5\", \"Topic5\", \"Topic5\", \"Topic5\", \"Topic5\", \"Topic5\", \"Topic5\", \"Topic5\", \"Topic5\", \"Topic5\", \"Topic5\", \"Topic5\", \"Topic5\", \"Topic5\", \"Topic5\", \"Topic5\", \"Topic5\", \"Topic5\", \"Topic5\", \"Topic5\", \"Topic5\", \"Topic5\", \"Topic5\", \"Topic5\", \"Topic5\"], \"Freq\": [1124.0, 2650.0, 1127.0, 2393.0, 842.0, 530.0, 1151.0, 936.0, 348.0, 576.0, 223.0, 1255.0, 218.0, 909.0, 495.0, 369.0, 415.0, 525.0, 171.0, 1837.0, 180.0, 255.0, 548.0, 356.0, 245.0, 261.0, 490.0, 621.0, 152.0, 170.0, 51.80600357055664, 38.40776062011719, 37.45975112915039, 35.55763244628906, 28.860902786254883, 28.85276985168457, 26.951955795288086, 26.951950073242188, 26.941537857055664, 25.987159729003906, 25.03951644897461, 25.030027389526367, 24.988569259643555, 27.769189834594727, 23.07671356201172, 18.345897674560547, 17.389739990234375, 17.389667510986328, 17.389720916748047, 17.389080047607422, 17.380939483642578, 17.351919174194336, 20.086557388305664, 16.4334659576416, 16.429615020751953, 17.283254623413086, 73.76609802246094, 14.517145156860352, 14.515035629272461, 14.510675430297852, 72.89813232421875, 122.82705688476562, 38.61369705200195, 52.13504409790039, 26.440227508544922, 98.0398941040039, 53.86217498779297, 35.22246170043945, 132.75335693359375, 31.19437026977539, 86.64189910888672, 39.05088424682617, 76.48699951171875, 197.18980407714844, 67.93482971191406, 91.147216796875, 110.17607116699219, 65.95903778076172, 565.7662963867188, 211.72509765625, 1003.2252807617188, 338.41424560546875, 383.0411071777344, 354.3010559082031, 103.5508804321289, 626.7567138671875, 104.80401611328125, 99.31034088134766, 235.24929809570312, 312.7682800292969, 376.7258605957031, 622.0396118164062, 253.2749786376953, 163.60894775390625, 460.7690734863281, 245.7699432373047, 258.27239990234375, 583.8160400390625, 416.83978271484375, 196.29794311523438, 343.2793273925781, 550.2046508789062, 337.3149719238281, 631.4207763671875, 227.6288604736328, 358.20611572265625, 329.3223876953125, 305.0063171386719, 390.6167907714844, 210.7781982421875, 277.7413635253906, 227.77989196777344, 312.5425720214844, 286.112548828125, 261.3619689941406, 240.31161499023438, 250.42698669433594, 256.565185546875, 241.6410675048828, 52.820308685302734, 49.058982849121094, 43.420265197753906, 41.53230285644531, 36.83661651611328, 32.14011001586914, 32.132320404052734, 30.256855010986328, 30.2450008392334, 28.380090713500977, 28.378246307373047, 28.371992111206055, 25.558992385864258, 25.55722999572754, 24.62005615234375, 24.615354537963867, 22.736867904663086, 21.7705020904541, 20.86001205444336, 20.852811813354492, 25.287748336791992, 18.036848068237305, 17.099939346313477, 17.099924087524414, 16.156784057617188, 61.809940338134766, 15.215889930725098, 15.20190715789795, 32.14068603515625, 14.251664161682129, 62.98552703857422, 42.136741638183594, 61.834449768066406, 104.21223449707031, 910.87353515625, 61.814640045166016, 817.5864868164062, 81.68766021728516, 31.24410057067871, 35.902076721191406, 131.87612915039062, 241.8985595703125, 48.583919525146484, 49.985511779785156, 439.3485412597656, 53.298458099365234, 168.36627197265625, 368.94085693359375, 180.4228973388672, 75.87035369873047, 98.99258422851562, 576.38720703125, 127.59500122070312, 79.18624114990234, 118.795166015625, 169.08511352539062, 530.6204223632812, 147.47618103027344, 192.69847106933594, 169.87860107421875, 299.3436584472656, 175.99078369140625, 87.23249816894531, 198.14178466796875, 133.51229858398438, 239.40252685546875, 261.0379333496094, 194.02490234375, 220.9232940673828, 203.10939025878906, 138.95709228515625, 144.23965454101562, 229.92864990234375, 159.37049865722656, 195.38937377929688, 165.67044067382812, 170.53213500976562, 170.73532104492188, 167.35641479492188, 149.29220581054688, 104.14778137207031, 92.64656066894531, 69.17768096923828, 169.0764617919922, 46.49287033081055, 38.86833190917969, 218.4552001953125, 36.035335540771484, 32.316097259521484, 148.345947265625, 29.450769424438477, 26.63755989074707, 25.698881149291992, 22.85788917541504, 22.853492736816406, 21.913835525512695, 20.963470458984375, 22.76116371154785, 20.028722763061523, 20.028549194335938, 20.02610206604004, 20.02189826965332, 19.081674575805664, 40.817081451416016, 18.138532638549805, 18.132076263427734, 17.193359375, 17.192729949951172, 18.087799072265625, 17.190532684326172, 208.8973846435547, 171.68304443359375, 52.28007507324219, 27.936962127685547, 102.0341567993164, 97.44345092773438, 156.4330291748047, 54.39738464355469, 90.92102813720703, 294.335205078125, 72.53736877441406, 31.147253036499023, 47.38023376464844, 199.3856964111328, 130.40304565429688, 99.54991149902344, 106.5908203125, 77.684326171875, 197.18087768554688, 157.27740478515625, 155.5863800048828, 368.39410400390625, 321.0060729980469, 261.43011474609375, 190.43655395507812, 214.278076171875, 282.2020263671875, 251.492919921875, 137.2062530517578, 265.2611999511719, 184.09657287597656, 149.28211975097656, 429.8571472167969, 233.67642211914062, 176.82437133789062, 202.6238250732422, 238.55455017089844, 286.4022216796875, 215.85997009277344, 227.78125, 170.4005889892578, 199.77061462402344, 198.27589416503906, 174.79412841796875, 169.60267639160156, 159.82012939453125, 120.00927734375, 58.71977615356445, 47.714500427246094, 35.85160827636719, 34.93623733520508, 32.19178771972656, 30.360998153686523, 30.356082916259766, 28.49709129333496, 27.617942810058594, 27.610666275024414, 22.12553596496582, 47.73799133300781, 21.214426040649414, 21.212522506713867, 18.470245361328125, 18.467910766601562, 18.450794219970703, 17.54890251159668, 16.640182495117188, 16.636417388916016, 15.72559642791748, 14.810933113098145, 14.807430267333984, 32.173954010009766, 13.89544677734375, 13.8954439163208, 13.889907836914062, 13.88611888885498, 13.88500690460205, 45.91434860229492, 36.61616516113281, 75.90673828125, 26.485240936279297, 24.737483978271484, 36.89812088012695, 109.73587799072266, 54.51227951049805, 25.58784294128418, 69.0045166015625, 48.09175491333008, 101.92106628417969, 122.60858917236328, 40.47452926635742, 141.4203643798828, 69.0546646118164, 72.73233032226562, 246.90101623535156, 123.11089324951172, 128.70938110351562, 143.8833770751953, 168.1398162841797, 102.50672912597656, 131.7891387939453, 302.4067687988281, 113.17762756347656, 90.14903259277344, 101.1297836303711, 77.0743637084961, 290.56121826171875, 286.818603515625, 214.16705322265625, 266.4044189453125, 208.97024536132812, 128.082763671875, 184.78219604492188, 103.37159729003906, 190.3662567138672, 143.46566772460938, 162.32119750976562, 114.76441955566406, 122.59876251220703, 145.3118133544922, 109.9853286743164, 108.91715240478516, 111.2086181640625, 109.57831573486328, 108.92792510986328, 103.49639892578125, 38.0915412902832, 31.422199249267578, 27.628602981567383, 92.95216369628906, 25.762882232666016, 24.81259536743164, 26.601619720458984, 26.563491821289062, 21.029560089111328, 167.17578125, 66.24935150146484, 17.238237380981445, 17.237964630126953, 74.38762664794922, 38.97507858276367, 17.1903018951416, 15.338293075561523, 15.33685302734375, 15.333849906921387, 15.327792167663574, 15.312152862548828, 503.8595275878906, 14.395029067993164, 14.386775016784668, 18.85444450378418, 35.87710189819336, 52.91011428833008, 13.447914123535156, 13.442665100097656, 39.936851501464844, 84.44510650634766, 55.6363525390625, 741.7254028320312, 231.6314239501953, 43.999237060546875, 55.69505310058594, 103.34244537353516, 33.531192779541016, 297.1915588378906, 104.16500854492188, 94.87869262695312, 84.75389862060547, 771.9049682617188, 114.3796157836914, 68.75498962402344, 1448.8370361328125, 94.07361602783203, 141.07949829101562, 1222.2501220703125, 119.04471588134766, 83.31883239746094, 461.89752197265625, 161.9405059814453, 252.4300079345703, 256.3963317871094, 222.7421875, 206.61346435546875, 618.6543579101562, 285.9360046386719, 157.6175994873047, 329.6798095703125, 742.3939208984375, 154.17782592773438, 191.5686492919922, 281.62042236328125, 590.37890625, 413.19000244140625, 375.4307861328125, 311.0070495605469, 481.44287109375, 333.4539794921875, 344.0608215332031, 426.2881774902344, 360.7793273925781, 342.1139831542969, 253.7346954345703, 237.8782958984375, 290.84576416015625, 280.9171447753906, 234.24566650390625], \"Term\": [\"black\", \"clinton\", \"white\", \"trump\", \"email\", \"fbi\", \"election\", \"obama\", \"isi\", \"force\", \"mosul\", \"hillary\", \"civilian\", \"party\", \"city\", \"class\", \"syrian\", \"police\", \"kenya\", \"said\", \"pipeline\", \"officer\", \"muslim\", \"investigation\", \"killed\", \"podesta\", \"republican\", \"donald\", \"aleppo\", \"iraqi\", \"recovery\", \"teneo\", \"quot\", \"sheik\", \"netflix\", \"chomsky\", \"karp\", \"slaveholder\", \"premium\", \"jasta\", \"shenk\", \"locke\", \"pill\", \"duterte\", \"msm\", \"angka\", \"caracol\", \"saya\", \"antebellum\", \"hirabah\", \"zionism\", \"interventionist\", \"nobel\", \"kek\", \"illusion\", \"saddam\", \"goldman\", \"youtu\", \"avaaz\", \"amish\", \"haitian\", \"haiti\", \"banking\", \"obamacare\", \"libertarian\", \"helmet\", \"sachs\", \"jihad\", \"elite\", \"concept\", \"jewish\", \"taxpayer\", \"cost\", \"money\", \"donor\", \"fund\", \"green\", \"band\", \"war\", \"foundation\", \"clinton\", \"million\", \"world\", \"medium\", \"book\", \"would\", \"speech\", \"democracy\", \"policy\", \"political\", \"right\", \"one\", \"make\", \"interest\", \"hillary\", \"power\", \"get\", \"people\", \"american\", \"thing\", \"country\", \"state\", \"like\", \"trump\", \"want\", \"president\", \"party\", \"even\", \"time\", \"think\", \"many\", \"way\", \"year\", \"government\", \"also\", \"could\", \"new\", \"said\", \"election\", \"thanksgiving\", \"pilgrim\", \"tplf\", \"kimberley\", \"ami\", \"wampanoag\", \"draitser\", \"frompovich\", \"danny\", \"feyisa\", \"arbaeen\", \"haiphong\", \"karbala\", \"yan\", \"desalegn\", \"whiteness\", \"emf\", \"repression\", \"liang\", \"rider\", \"incarceration\", \"puc\", \"oromo\", \"pequot\", \"peco\", \"fascism\", \"nellie\", \"fuck\", \"plymouth\", \"funders\", \"glen\", \"imam\", \"ford\", \"racism\", \"black\", \"fascist\", \"white\", \"imperialism\", \"revolutionary\", \"ethiopian\", \"ruling\", \"class\", \"english\", \"meter\", \"obama\", \"imperialist\", \"movement\", \"party\", \"social\", \"racial\", \"racist\", \"people\", \"liberal\", \"struggle\", \"crisis\", \"left\", \"trump\", \"must\", \"america\", \"democrat\", \"american\", \"democratic\", \"self\", \"world\", \"african\", \"year\", \"one\", \"like\", \"war\", \"new\", \"national\", \"power\", \"state\", \"political\", \"time\", \"even\", \"right\", \"president\", \"would\", \"many\", \"comanche\", \"ditz\", \"boer\", \"kenya\", \"kenyan\", \"calais\", \"mosul\", \"kurdish\", \"pretorius\", \"aleppo\", \"fishing\", \"aht\", \"raqqa\", \"nyu\", \"taliban\", \"montreal\", \"blockade\", \"artillery\", \"wagon\", \"balfour\", \"dapl\", \"rectenwald\", \"ypg\", \"baron\", \"dingaan\", \"shi\", \"retief\", \"warplane\", \"kurd\", \"ite\", \"civilian\", \"pipeline\", \"airstrikes\", \"demonstrator\", \"fighter\", \"dakota\", \"iraqi\", \"somalia\", \"jason\", \"isi\", \"village\", \"highway\", \"province\", \"killed\", \"soldier\", \"eastern\", \"treaty\", \"zulu\", \"officer\", \"army\", \"camp\", \"force\", \"city\", \"syrian\", \"area\", \"terrorist\", \"police\", \"attack\", \"land\", \"muslim\", \"child\", \"north\", \"said\", \"group\", \"saudi\", \"syria\", \"government\", \"people\", \"also\", \"year\", \"military\", \"war\", \"one\", \"two\", \"would\", \"last\", \"serco\", \"juror\", \"vitamin\", \"starnet\", \"pki\", \"npl\", \"ammon\", \"patent\", \"defendant\", \"nvc\", \"robot\", \"dolly\", \"bundy\", \"pickton\", \"poisoning\", \"hyman\", \"malheur\", \"pkk\", \"beijing\", \"vatican\", \"pantaleo\", \"smartmatic\", \"youngstown\", \"montenegro\", \"verdict\", \"suu\", \"kyi\", \"thorough\", \"recruiting\", \"trademark\", \"burton\", \"oregon\", \"exercise\", \"baltic\", \"technical\", \"nasa\", \"technology\", \"flint\", \"pin\", \"visa\", \"india\", \"chinese\", \"nato\", \"brain\", \"nuclear\", \"judge\", \"data\", \"russia\", \"china\", \"service\", \"com\", \"russian\", \"court\", \"information\", \"year\", \"company\", \"water\", \"weapon\", \"migrant\", \"state\", \"said\", \"government\", \"one\", \"also\", \"system\", \"time\", \"federal\", \"would\", \"could\", \"new\", \"law\", \"first\", \"people\", \"official\", \"military\", \"even\", \"like\", \"country\", \"kadzik\", \"notify\", \"trending\", \"miami\", \"weiner\", \"sandler\", \"walsh\", \"mcauliffe\", \"cair\", \"lewinsky\", \"comey\", \"huma\", \"rubio\", \"absentee\", \"subscribe\", \"tweeted\", \"biden\", \"bless\", \"mailer\", \"portrayal\", \"inappropriate\", \"recount\", \"fbi\", \"concluding\", \"ecuador\", \"getty\", \"pardon\", \"nypd\", \"hatch\", \"watcher\", \"laptop\", \"abedin\", \"lynch\", \"email\", \"podesta\", \"mccabe\", \"doj\", \"nominee\", \"creamer\", \"investigation\", \"fraud\", \"florida\", \"wire\", \"election\", \"server\", \"polling\", \"clinton\", \"ballot\", \"twitter\", \"trump\", \"agent\", \"cnn\", \"campaign\", \"supporter\", \"presidential\", \"voter\", \"department\", \"percent\", \"hillary\", \"republican\", \"wikileaks\", \"donald\", \"said\", \"poll\", \"voting\", \"vote\", \"state\", \"new\", \"president\", \"day\", \"would\", \"obama\", \"also\", \"one\", \"time\", \"american\", \"syria\", \"news\", \"year\", \"people\", \"say\"], \"Total\": [1124.0, 2650.0, 1127.0, 2393.0, 842.0, 530.0, 1151.0, 936.0, 348.0, 576.0, 223.0, 1255.0, 218.0, 909.0, 495.0, 369.0, 415.0, 525.0, 171.0, 1837.0, 180.0, 255.0, 548.0, 356.0, 245.0, 261.0, 490.0, 621.0, 152.0, 170.0, 52.558616638183594, 39.16334533691406, 38.21290588378906, 36.307334899902344, 29.611852645874023, 29.60621452331543, 27.701570510864258, 27.701570510864258, 27.69502830505371, 26.73960304260254, 25.789127349853516, 25.786514282226562, 25.772096633911133, 28.642683029174805, 23.85266876220703, 19.09549331665039, 18.13932991027832, 18.13925552368164, 18.139320373535156, 18.138900756835938, 18.136178970336914, 18.130653381347656, 20.988338470458984, 17.183094024658203, 17.180641174316406, 18.117515563964844, 77.36125183105469, 15.26778507232666, 15.267252922058105, 15.26340103149414, 77.36845397949219, 132.72927856445312, 41.9806022644043, 58.19571304321289, 28.621334075927734, 117.32470703125, 61.829559326171875, 39.118408203125, 170.52345275878906, 35.190799713134766, 113.3673095703125, 45.59776306152344, 98.81310272216797, 302.3756408691406, 88.6518325805664, 126.612060546875, 160.28659057617188, 86.6068344116211, 1235.9776611328125, 366.295654296875, 2650.083251953125, 671.54248046875, 810.030029296875, 734.76806640625, 157.40370178222656, 1635.52490234375, 161.3634490966797, 151.0812530517578, 477.5036315917969, 698.4759521484375, 900.07763671875, 1774.0460205078125, 541.4839477539062, 297.39630126953125, 1255.79931640625, 533.997802734375, 583.4863891601562, 1872.8343505859375, 1179.725830078125, 397.23419189453125, 897.0421752929688, 1812.75146484375, 906.1405029296875, 2393.1630859375, 499.43511962890625, 1016.04833984375, 909.985595703125, 808.3798828125, 1278.044189453125, 450.54803466796875, 803.8721313476562, 557.146484375, 1372.978759765625, 1081.9600830078125, 1106.22412109375, 789.0927734375, 1162.9130859375, 1837.9200439453125, 1151.540283203125, 53.57328796386719, 49.81243133544922, 44.17316436767578, 42.28767395019531, 37.590850830078125, 32.893028259277344, 32.88999938964844, 31.010934829711914, 31.008020401000977, 29.132972717285156, 29.131784439086914, 29.130245208740234, 26.312236785888672, 26.311094284057617, 25.37291717529297, 25.370080947875977, 23.49095344543457, 22.541990280151367, 21.612857818603516, 21.60785484313965, 26.30142593383789, 18.790904998779297, 17.852783203125, 17.85279083251953, 16.91084861755371, 64.87496185302734, 15.970542907714844, 15.961323738098145, 33.82999801635742, 15.01943588256836, 66.7697982788086, 45.11280059814453, 67.72107696533203, 116.685302734375, 1124.5406494140625, 69.6473388671875, 1127.2320556640625, 95.12847137451172, 33.76985549926758, 39.48405075073242, 170.6329345703125, 369.2552795410156, 58.22596740722656, 61.128902435302734, 936.0767211914062, 67.85213470458984, 307.7417907714844, 909.985595703125, 355.69561767578125, 110.36564636230469, 160.631591796875, 1872.8343505859375, 238.2794189453125, 120.78247833251953, 217.78857421875, 375.53143310546875, 2393.1630859375, 330.4778137207031, 528.0055541992188, 435.11553955078125, 1179.725830078125, 534.7673950195312, 162.5546875, 810.030029296875, 374.69281005859375, 1372.978759765625, 1774.0460205078125, 906.1405029296875, 1235.9776611328125, 1162.9130859375, 483.91796875, 533.997802734375, 1812.75146484375, 698.4759521484375, 1278.044189453125, 808.3798828125, 900.07763671875, 1016.04833984375, 1635.52490234375, 803.8721313476562, 104.90021514892578, 93.54681396484375, 69.92967987060547, 171.0401153564453, 47.245033264160156, 39.67892837524414, 223.01657104492188, 36.84131622314453, 33.06803894042969, 152.1400909423828, 30.22357749938965, 27.39365005493164, 26.451494216918945, 23.611648559570312, 23.610593795776367, 22.66777801513672, 21.72351837158203, 23.605955123901367, 20.78070640563965, 20.780536651611328, 20.77935791015625, 20.775793075561523, 19.8343448638916, 42.504207611083984, 18.89045524597168, 18.8884334564209, 17.94527816772461, 17.9450740814209, 18.880470275878906, 17.944080352783203, 218.32298278808594, 180.4590606689453, 54.76420974731445, 29.268402099609375, 108.65313720703125, 103.88533020019531, 170.10540771484375, 58.558536529541016, 101.04927825927734, 348.9662780761719, 80.2666015625, 33.055423736572266, 51.881595611572266, 245.59616088867188, 155.725341796875, 116.74067687988281, 127.56878662109375, 90.3204574584961, 255.73497009277344, 200.17897033691406, 202.20887756347656, 576.0128173828125, 495.99884033203125, 415.30096435546875, 304.9190673828125, 360.29583740234375, 525.7761840820312, 458.0830078125, 211.939208984375, 548.4559326171875, 372.20703125, 265.91162109375, 1837.9200439453125, 649.674072265625, 432.95135498046875, 663.8734130859375, 1081.9600830078125, 1872.8343505859375, 1106.22412109375, 1372.978759765625, 557.4772338867188, 1235.9776611328125, 1774.0460205078125, 738.1200561523438, 1635.52490234375, 521.177490234375, 120.76770782470703, 59.47810745239258, 48.49973678588867, 36.609588623046875, 35.694374084472656, 32.9499626159668, 31.11980628967285, 31.116863250732422, 29.269344329833984, 28.37611198425293, 28.372650146484375, 22.88482666015625, 49.436431884765625, 21.972604751586914, 21.971582412719727, 19.228389739990234, 19.227327346801758, 19.217317581176758, 18.309680938720703, 17.39846420288086, 17.395854949951172, 16.483882904052734, 15.569199562072754, 15.56696891784668, 33.88079833984375, 14.65384292602539, 14.65384292602539, 14.650508880615234, 14.648295402526855, 14.649885177612305, 48.55487060546875, 39.38997268676758, 83.44361877441406, 28.39202880859375, 26.54762077331543, 40.35123825073242, 135.2339630126953, 65.24471282958984, 28.44098472595215, 90.37071990966797, 59.86311721801758, 145.8431396484375, 190.86256408691406, 49.653587341308594, 247.2872314453125, 103.64144897460938, 112.98802185058594, 656.4998168945312, 255.09902954101562, 278.817138671875, 338.036376953125, 457.289306640625, 219.05625915527344, 338.56219482421875, 1372.978759765625, 275.99041748046875, 199.34654235839844, 247.47584533691406, 153.37918090820312, 1812.75146484375, 1837.9200439453125, 1081.9600830078125, 1774.0460205078125, 1106.22412109375, 476.58148193359375, 1278.044189453125, 316.84625244140625, 1635.52490234375, 789.0927734375, 1162.9130859375, 558.374267578125, 708.9305419921875, 1872.8343505859375, 500.083984375, 557.4772338867188, 808.3798828125, 906.1405029296875, 897.0421752929688, 104.24801635742188, 38.84344482421875, 32.190399169921875, 28.409992218017578, 95.63858032226562, 26.516422271728516, 25.56836700439453, 27.459707260131836, 27.457395553588867, 21.78150749206543, 173.24107360839844, 69.1199951171875, 17.98993682861328, 17.989797592163086, 77.67633056640625, 40.71868896484375, 17.97540283203125, 16.091632843017578, 16.090478897094727, 16.088769912719727, 16.08920669555664, 16.082836151123047, 530.1173706054688, 15.146533966064453, 15.141063690185547, 19.866365432739258, 37.87828063964844, 55.86577606201172, 14.199199676513672, 14.196053504943848, 42.550537109375, 90.85599517822266, 59.674903869628906, 842.2427978515625, 261.54852294921875, 47.276817321777344, 60.48046112060547, 114.73155975341797, 35.95766830444336, 356.5301208496094, 120.28766632080078, 111.3881607055664, 100.54052734375, 1151.540283203125, 143.1029815673828, 80.5980453491211, 2650.083251953125, 116.60740661621094, 190.15187072753906, 2393.1630859375, 158.019775390625, 103.35934448242188, 817.8565673828125, 230.7174072265625, 396.81982421875, 408.768798828125, 348.41845703125, 318.0161437988281, 1255.79931640625, 490.6549987792969, 233.5039825439453, 621.114501953125, 1837.9200439453125, 227.55764770507812, 315.7754821777344, 580.5494384765625, 1812.75146484375, 1162.9130859375, 1016.04833984375, 751.1697998046875, 1635.52490234375, 936.0767211914062, 1106.22412109375, 1774.0460205078125, 1278.044189453125, 1179.725830078125, 663.8734130859375, 569.4736328125, 1372.978759765625, 1872.8343505859375, 747.290771484375], \"loglift\": [30.0, 29.0, 28.0, 27.0, 26.0, 25.0, 24.0, 23.0, 22.0, 21.0, 20.0, 19.0, 18.0, 17.0, 16.0, 15.0, 14.0, 13.0, 12.0, 11.0, 10.0, 9.0, 8.0, 7.0, 6.0, 5.0, 4.0, 3.0, 2.0, 1.0, 1.2884000539779663, 1.283400058746338, 1.2828999757766724, 1.281999945640564, 1.2770999670028687, 1.2770999670028687, 1.2754000425338745, 1.2754000425338745, 1.2753000259399414, 1.2742999792099, 1.273300051689148, 1.2731000185012817, 1.2719999551773071, 1.2719000577926636, 1.2697999477386475, 1.2627999782562256, 1.260599970817566, 1.260599970817566, 1.260599970817566, 1.260599970817566, 1.2603000402450562, 1.2589000463485718, 1.2589000463485718, 1.2582000494003296, 1.2581000328063965, 1.2556999921798706, 1.2552000284194946, 1.2524000406265259, 1.2523000240325928, 1.2523000240325928, 1.243299961090088, 1.2252999544143677, 1.2192000150680542, 1.1928999423980713, 1.2236000299453735, 1.1232999563217163, 1.1648999452590942, 1.1979000568389893, 1.0525000095367432, 1.1822999715805054, 1.034000039100647, 1.1477999687194824, 1.0467000007629395, 0.8752999901771545, 1.0367000102996826, 0.9742000102996826, 0.9279999732971191, 1.030500054359436, 0.521399974822998, 0.7547000050544739, 0.33149999380111694, 0.6175000071525574, 0.5539000034332275, 0.5734000205993652, 0.8841000199317932, 0.34369999170303345, 0.8712999820709229, 0.8833000063896179, 0.5949000120162964, 0.49939998984336853, 0.4318999946117401, 0.2547999918460846, 0.5429999828338623, 0.7052000164985657, 0.3001999855041504, 0.5267999768257141, 0.4878000020980835, 0.1371999979019165, 0.26249998807907104, 0.5978999733924866, 0.3422999978065491, 0.11050000041723251, 0.31470000743865967, -0.029600000008940697, 0.5170999765396118, 0.26030001044273376, 0.2863999903202057, 0.3280999958515167, 0.11749999970197678, 0.5432000160217285, 0.24009999632835388, 0.4083999991416931, -0.17720000445842743, -0.027300000190734863, -0.14000000059604645, 0.11389999836683273, -0.23270000517368317, -0.6661999821662903, -0.25859999656677246, 1.7668999433517456, 1.7659000158309937, 1.7639000415802002, 1.763100028038025, 1.7608000040054321, 1.7578999996185303, 1.7577999830245972, 1.756500005722046, 1.7561999559402466, 1.7548999786376953, 1.7548999786376953, 1.754699945449829, 1.7520999908447266, 1.7519999742507935, 1.7510000467300415, 1.7509000301361084, 1.7484999895095825, 1.7462999820709229, 1.7455999851226807, 1.7454999685287476, 1.7417999505996704, 1.7401000261306763, 1.7380000352859497, 1.7380000352859497, 1.7354999780654907, 1.732699990272522, 1.732699990272522, 1.7323999404907227, 1.7299000024795532, 1.728600025177002, 1.7228000164031982, 1.7129000425338745, 1.6901999711990356, 1.6679999828338623, 1.5703999996185303, 1.6618000268936157, 1.4599000215530396, 1.6288000345230103, 1.7034000158309937, 1.6859999895095825, 1.5233999490737915, 1.3581000566482544, 1.600100040435791, 1.579800009727478, 1.0247000455856323, 1.5397000312805176, 1.1779999732971191, 0.8783000111579895, 1.1023000478744507, 1.4062999486923218, 1.2970000505447388, 0.6026999950408936, 1.156499981880188, 1.3588999509811401, 1.1749999523162842, 0.9832000136375427, 0.27480000257492065, 0.9742000102996826, 0.7731000185012817, 0.8406000137329102, 0.4097000062465668, 0.669700026512146, 1.1586999893188477, 0.37299999594688416, 0.7491999864578247, 0.03449999913573265, -0.13529999554157257, 0.23989999294281006, 0.059300001710653305, 0.03620000183582306, 0.53329998254776, 0.4722000062465668, -0.28369998931884766, 0.3034000098705292, -0.09700000286102295, 0.19609999656677246, 0.11749999970197678, -0.0024999999441206455, -0.4984999895095825, 0.09759999811649323, 1.7524000406265259, 1.749899983406067, 1.7488000392913818, 1.7481000423431396, 1.7436000108718872, 1.7389999628067017, 1.7388999462127686, 1.7374999523162842, 1.7366000413894653, 1.7343000173568726, 1.7337000370025635, 1.731600046157837, 1.7307000160217285, 1.7272000312805176, 1.7269999980926514, 1.7258000373840332, 1.7239999771118164, 1.7231999635696411, 1.7226999998092651, 1.7226999998092651, 1.7226999998092651, 1.722599983215332, 1.720900058746338, 1.719099998474121, 1.718999981880188, 1.7187000513076782, 1.7167999744415283, 1.7167999744415283, 1.7166999578475952, 1.7166999578475952, 1.715499997138977, 1.7098000049591064, 1.7131999731063843, 1.7130000591278076, 1.6967999935150146, 1.6956000328063965, 1.6757999658584595, 1.6858999729156494, 1.6540000438690186, 1.5893000364303589, 1.658400058746338, 1.7000999450683594, 1.6687999963760376, 1.551200032234192, 1.5821000337600708, 1.6002999544143677, 1.5799000263214111, 1.6088999509811401, 1.4996000528335571, 1.518399953842163, 1.497499942779541, 1.312600016593933, 1.3244999647140503, 1.2968000173568726, 1.2889000177383423, 1.2400000095367432, 1.1374000310897827, 1.159999966621399, 1.3248000144958496, 1.0332000255584717, 1.0556000471115112, 1.1822999715805054, 0.3066999912261963, 0.7371000051498413, 0.8640999794006348, 0.5728999972343445, 0.24770000576972961, -0.11819999665021896, 0.12549999356269836, -0.03669999912381172, 0.5742999911308289, -0.06279999762773514, -0.4318000078201294, 0.3190999925136566, -0.5066999793052673, 0.5776000022888184, 1.9187999963760376, 1.9122999906539917, 1.9088000059127808, 1.9041999578475952, 1.9036999940872192, 1.9018000364303589, 1.9004000425338745, 1.9004000425338745, 1.8983999490737915, 1.8980000019073486, 1.8978999853134155, 1.8913999795913696, 1.8902000188827515, 1.8899999856948853, 1.8899999856948853, 1.8848999738693237, 1.8847999572753906, 1.8844000101089478, 1.882699966430664, 1.8805999755859375, 1.8804999589920044, 1.878000020980835, 1.8752000331878662, 1.875100016593933, 1.8733999729156494, 1.871999979019165, 1.871999979019165, 1.8717999458312988, 1.8717000484466553, 1.871500015258789, 1.8691999912261963, 1.8521000146865845, 1.8305000066757202, 1.8555999994277954, 1.8545000553131104, 1.8357000350952148, 1.7161999940872192, 1.7453999519348145, 1.8193999528884888, 1.655400037765503, 1.7062000036239624, 1.5667999982833862, 1.4825999736785889, 1.7207000255584717, 1.3662999868392944, 1.5190999507904053, 1.4845999479293823, 0.9472000002861023, 1.1965999603271484, 1.1520999670028687, 1.0709999799728394, 0.9246000051498413, 1.1656999588012695, 0.9815999865531921, 0.412200003862381, 1.0336999893188477, 1.131500005722046, 1.0302000045776367, 1.2369999885559082, 0.09430000185966492, 0.06759999692440033, 0.305400013923645, 0.029100000858306885, 0.25859999656677246, 0.6111999750137329, -0.008799999952316284, 0.8050000071525574, -0.225600004196167, 0.22030000388622284, -0.04399999976158142, 0.34299999475479126, 0.17030000686645508, -0.6312000155448914, 0.4106999933719635, 0.2922999858856201, -0.05849999934434891, -0.1873999983072281, -0.18330000340938568, 1.4122999906539917, 1.399999976158142, 1.395400047302246, 1.391700029373169, 1.3911000490188599, 1.3906999826431274, 1.3896000385284424, 1.3877999782562256, 1.3865000009536743, 1.3844000101089478, 1.3839000463485718, 1.3772000074386597, 1.3768999576568604, 1.3768999576568604, 1.3762999773025513, 1.3758000135421753, 1.374899983406067, 1.3716000318527222, 1.3716000318527222, 1.371500015258789, 1.3710999488830566, 1.3704999685287476, 1.3688000440597534, 1.3687000274658203, 1.368499994277954, 1.367300033569336, 1.3653000593185425, 1.3652000427246094, 1.3652000427246094, 1.3650000095367432, 1.3561999797821045, 1.3464000225067139, 1.3494999408721924, 1.2925000190734863, 1.2980999946594238, 1.3476999998092651, 1.3371000289916992, 1.315000057220459, 1.3496999740600586, 1.2374999523162842, 1.2756999731063843, 1.2591999769210815, 1.2488000392913818, 1.0196000337600708, 1.1955000162124634, 1.260599970817566, 0.8156999945640564, 1.204800009727478, 1.1210999488830566, 0.7476999759674072, 1.1363999843597412, 1.2039999961853027, 0.8482000231742859, 1.065600037574768, 0.967199981212616, 0.9531000256538391, 0.9721999764442444, 0.9883000254631042, 0.7116000056266785, 0.8795999884605408, 1.0264999866485596, 0.7861999869346619, 0.5131000280380249, 1.0303000211715698, 0.9197999835014343, 0.6962000131607056, 0.2976999878883362, 0.384799987077713, 0.42399999499320984, 0.5378000140190125, 0.19660000503063202, 0.3874000012874603, 0.2517000138759613, -0.006300000008195639, 0.15479999780654907, 0.18170000612735748, 0.4578000009059906, 0.5465999841690063, -0.1324000060558319, -0.47760000824928284, 0.25949999690055847], \"logprob\": [30.0, 29.0, 28.0, 27.0, 26.0, 25.0, 24.0, 23.0, 22.0, 21.0, 20.0, 19.0, 18.0, 17.0, 16.0, 15.0, 14.0, 13.0, 12.0, 11.0, 10.0, 9.0, 8.0, 7.0, 6.0, 5.0, 4.0, 3.0, 2.0, 1.0, -7.6616997718811035, -7.960999965667725, -7.986000061035156, -8.038100242614746, -8.246700286865234, -8.246999740600586, -8.315199851989746, -8.315199851989746, -8.315600395202637, -8.35159969329834, -8.388799667358398, -8.389200210571289, -8.390800476074219, -8.285300254821777, -8.470399856567383, -8.699799537658691, -8.753299713134766, -8.753399848937988, -8.753299713134766, -8.753399848937988, -8.753899574279785, -8.755499839782715, -8.609199523925781, -8.809900283813477, -8.810099601745605, -8.759499549865723, -7.308300018310547, -8.933899879455566, -8.934000015258789, -8.934300422668457, -7.320199966430664, -6.798399925231934, -7.955599784851074, -7.655399799346924, -8.33430004119873, -7.023900032043457, -7.622799873352051, -8.047499656677246, -6.720699787139893, -8.168999671936035, -7.14739990234375, -7.944399833679199, -7.27209997177124, -6.325099945068359, -7.390699863433838, -7.096799850463867, -6.907100200653076, -7.420199871063232, -5.270999908447266, -6.253900051116943, -4.698299884796143, -5.784999847412109, -5.661099910736084, -5.739099979400635, -6.969200134277344, -5.168700218200684, -6.957099914550781, -7.011000156402588, -6.148600101470947, -5.863800048828125, -5.677700042724609, -5.176199913024902, -6.07480001449585, -6.51170015335083, -5.47629976272583, -6.104800224304199, -6.055200099945068, -5.23960018157959, -5.576499938964844, -6.329599857330322, -5.770699977874756, -5.298900127410889, -5.7881999015808105, -5.161300182342529, -6.18149995803833, -5.728099822998047, -5.81220006942749, -5.888899803161621, -5.641499996185303, -6.258399963378906, -5.982500076293945, -6.180799961090088, -5.864500045776367, -5.9527997970581055, -6.043300151824951, -6.127299785614014, -6.086100101470947, -6.061800003051758, -6.121799945831299, -7.164100170135498, -7.2378997802734375, -7.360000133514404, -7.4045000076293945, -7.524499893188477, -7.660900115966797, -7.661099910736084, -7.721199989318848, -7.72160005569458, -7.785299777984619, -7.785299777984619, -7.785600185394287, -7.889999866485596, -7.889999866485596, -7.9274001121521, -7.927599906921387, -8.006999969482422, -8.050399780273438, -8.093099594116211, -8.093500137329102, -7.900599956512451, -8.238499641418457, -8.291899681091309, -8.291899681091309, -8.348600387573242, -7.006899833679199, -8.408599853515625, -8.409500122070312, -7.660799980163574, -8.474100112915039, -6.988100051879883, -7.389999866485596, -7.006499767303467, -6.484499931335449, -4.3165998458862305, -7.006800174713135, -4.424600124359131, -6.728099822998047, -7.6890997886657715, -7.55019998550415, -6.249100208282471, -5.642399787902832, -7.247700214385986, -7.219200134277344, -5.0457000732421875, -7.155099868774414, -6.004799842834473, -5.220300197601318, -5.935699939727783, -6.8018999099731445, -6.535900115966797, -4.774199962615967, -6.282100200653076, -6.759200096130371, -6.353600025177002, -6.0005998611450195, -4.856900215148926, -6.13730001449585, -5.869800090789795, -5.9959001541137695, -5.4293999671936035, -5.9604997634887695, -6.662399768829346, -5.8420000076293945, -6.236800193786621, -5.6528000831604, -5.566299915313721, -5.86299991607666, -5.733099937438965, -5.817200183868408, -6.196800231933594, -6.1595001220703125, -5.69320011138916, -6.059700012207031, -5.855999946594238, -6.020999908447266, -5.992000102996826, -5.990799903869629, -6.010799884796143, -6.125100135803223, -6.5065999031066895, -6.623700141906738, -6.915800094604492, -6.02209997177124, -7.313199996948242, -7.492300033569336, -5.765900135040283, -7.567999839782715, -7.6768999099731445, -6.152900218963623, -7.769700050354004, -7.870100021362305, -7.906000137329102, -8.023200035095215, -8.02340030670166, -8.065299987792969, -8.109700202941895, -8.027400016784668, -8.15530014038086, -8.15530014038086, -8.155400276184082, -8.155599594116211, -8.203700065612793, -7.443399906158447, -8.254400253295898, -8.254799842834473, -8.307900428771973, -8.307999610900879, -8.257200241088867, -8.308099746704102, -5.8105998039245605, -6.006800174713135, -7.195799827575684, -7.822500228881836, -6.527200222015381, -6.573200225830078, -6.099800109863281, -7.156099796295166, -6.642499923706055, -5.467700004577637, -6.8684000968933105, -7.713699817657471, -7.294300079345703, -5.8572001457214355, -6.281799793243408, -6.551799774169922, -6.483500003814697, -6.799799919128418, -5.868299961090088, -6.094399929046631, -6.105299949645996, -5.243299961090088, -5.38100004196167, -5.586299896240234, -5.90310001373291, -5.785200119018555, -5.509799957275391, -5.625, -6.230999946594238, -5.571700096130371, -5.936999797821045, -6.146599769592285, -5.089000225067139, -5.698500156402588, -5.97730016708374, -5.841100215911865, -5.6778998374938965, -5.495100021362305, -5.7778000831604, -5.724100112915039, -6.0142998695373535, -5.855299949645996, -5.862800121307373, -5.988800048828125, -6.019000053405762, -6.078400135040283, -6.199399948120117, -6.9141998291015625, -7.121699810028076, -7.40749979019165, -7.4334001541137695, -7.515200138092041, -7.573800086975098, -7.57390022277832, -7.6371002197265625, -7.668499946594238, -7.668700218200684, -7.890200138092041, -7.121200084686279, -7.932300090789795, -7.932300090789795, -8.070799827575684, -8.070899963378906, -8.071800231933594, -8.121899604797363, -8.175100326538086, -8.175299644470215, -8.231599807739258, -8.291600227355957, -8.291799545288086, -7.5157999992370605, -8.355400085449219, -8.355400085449219, -8.355799674987793, -8.355999946594238, -8.356100082397461, -7.160200119018555, -7.38640022277832, -6.657400131225586, -7.710299968719482, -7.778600215911865, -7.378799915313721, -6.288899898529053, -6.988500118255615, -7.744800090789795, -6.752799987792969, -7.113800048828125, -6.36269998550415, -6.1778998374938965, -7.286300182342529, -6.035200119018555, -6.751999855041504, -6.700099945068359, -5.47790002822876, -6.173799991607666, -6.12939977645874, -6.017899990081787, -5.862100124359131, -6.35699987411499, -6.1057000160217285, -5.275199890136719, -6.257999897003174, -6.485499858856201, -6.370500087738037, -6.642199993133545, -5.315100193023682, -5.328100204467773, -5.620200157165527, -5.401899814605713, -5.644700050354004, -6.134300231933594, -5.7677998542785645, -6.348599910736084, -5.73799991607666, -6.0208001136779785, -5.89739990234375, -6.244100093841553, -6.177999973297119, -6.0081000328063965, -6.286600112915039, -6.296299934387207, -6.2754998207092285, -6.290299892425537, -6.296199798583984, -6.853000164031982, -7.852499961853027, -8.045000076293945, -8.173600196838379, -6.960400104522705, -8.243599891662598, -8.281100273132324, -8.21150016784668, -8.213000297546387, -8.446599960327148, -6.3734002113342285, -7.299099922180176, -8.645400047302246, -8.645400047302246, -7.183199882507324, -7.829599857330322, -8.648099899291992, -8.762100219726562, -8.762200355529785, -8.762399673461914, -8.762800216674805, -8.763799667358398, -5.270199775695801, -8.825599670410156, -8.826199531555176, -8.555700302124023, -7.912399768829346, -7.523900032043457, -8.893699645996094, -8.894100189208984, -7.805200099945068, -7.056399822235107, -7.473700046539307, -4.883500099182129, -6.047299861907959, -7.7083001136779785, -7.472599983215332, -6.854400157928467, -7.980000019073486, -5.798099994659424, -6.846499919891357, -6.939899921417236, -7.052700042724609, -4.843599796295166, -6.752999782562256, -7.261899948120117, -4.214000225067139, -6.948400020599365, -6.5432000160217285, -4.383999824523926, -6.7129998207092285, -7.069799900054932, -5.357100009918213, -6.405300140380859, -5.961400032043457, -5.945799827575684, -6.08650016784668, -6.161600112915039, -5.064899921417236, -5.836699962615967, -6.432300090789795, -5.694399833679199, -4.882599830627441, -6.454400062561035, -6.237199783325195, -5.851900100708008, -5.111700057983398, -5.468599796295166, -5.5644001960754395, -5.752699851989746, -5.315700054168701, -5.683000087738037, -5.651700019836426, -5.437399864196777, -5.6041998863220215, -5.657299995422363, -5.956200122833252, -6.020699977874756, -5.819699764251709, -5.854400157928467, -6.036099910736084]}, \"token.table\": {\"Topic\": [1, 4, 5, 5, 1, 2, 3, 4, 5, 1, 3, 4, 5, 3, 1, 3, 4, 1, 2, 3, 5, 1, 2, 3, 4, 5, 1, 2, 3, 4, 5, 1, 2, 3, 4, 5, 2, 1, 4, 1, 1, 2, 1, 2, 3, 4, 5, 1, 2, 3, 4, 5, 3, 1, 2, 3, 4, 5, 1, 3, 1, 2, 4, 5, 3, 4, 1, 2, 3, 4, 5, 1, 2, 3, 3, 5, 4, 5, 1, 2, 3, 4, 5, 5, 3, 3, 1, 2, 3, 4, 5, 1, 2, 3, 4, 5, 1, 4, 1, 4, 5, 3, 1, 2, 3, 4, 5, 1, 2, 3, 4, 5, 1, 1, 2, 3, 4, 5, 1, 2, 3, 4, 1, 2, 3, 4, 5, 1, 1, 2, 3, 4, 5, 1, 3, 5, 1, 2, 3, 4, 5, 1, 2, 4, 5, 1, 3, 5, 1, 2, 3, 4, 5, 3, 4, 5, 1, 2, 3, 4, 5, 1, 4, 5, 1, 2, 3, 4, 5, 1, 2, 3, 4, 5, 1, 2, 3, 4, 5, 1, 2, 3, 4, 5, 1, 4, 5, 1, 2, 3, 4, 5, 1, 2, 3, 4, 2, 3, 1, 2, 3, 4, 5, 1, 2, 3, 4, 5, 4, 1, 2, 3, 4, 5, 1, 2, 3, 4, 5, 1, 2, 3, 4, 5, 3, 5, 1, 2, 3, 4, 5, 2, 3, 3, 4, 5, 4, 1, 2, 4, 5, 1, 3, 4, 5, 2, 1, 1, 2, 3, 4, 5, 5, 1, 2, 3, 4, 5, 1, 2, 3, 5, 1, 2, 3, 4, 5, 2, 1, 2, 3, 4, 5, 1, 2, 3, 1, 2, 3, 4, 5, 1, 2, 4, 5, 1, 2, 1, 2, 1, 2, 4, 5, 1, 2, 3, 4, 5, 2, 1, 2, 3, 1, 2, 3, 4, 5, 3, 1, 2, 4, 5, 1, 2, 4, 5, 1, 2, 3, 4, 5, 1, 2, 3, 1, 2, 4, 5, 1, 2, 3, 4, 5, 2, 2, 1, 2, 3, 4, 5, 2, 1, 2, 3, 4, 5, 5, 1, 2, 1, 2, 1, 2, 3, 4, 5, 1, 2, 4, 5, 1, 2, 3, 4, 5, 2, 1, 2, 5, 1, 5, 5, 1, 2, 5, 3, 5, 1, 2, 4, 5, 1, 1, 4, 5, 4, 1, 2, 3, 1, 2, 1, 2, 3, 5, 2, 1, 2, 3, 4, 5, 1, 2, 3, 4, 5, 1, 2, 3, 4, 5, 1, 1, 3, 4, 5, 1, 2, 3, 1, 2, 3, 4, 5, 3, 1, 2, 3, 4, 5, 1, 1, 2, 3, 4, 5, 1, 3, 5, 1, 3, 4, 5, 4, 5, 2, 1, 1, 2, 3, 3, 1, 2, 3, 4, 5, 2, 3, 3, 4, 1, 2, 3, 4, 5, 4, 5, 1, 2, 3, 4, 5, 1, 2, 3, 4, 5, 1, 2, 3, 4, 5, 5, 2, 1, 2, 3, 5, 1, 5, 1, 2, 3, 4, 5, 1, 3, 5, 5, 1, 2, 3, 4, 5, 4, 1, 2, 3, 4, 5, 5, 4, 5, 1, 2, 3, 4, 5, 1, 2, 3, 5, 1, 3, 4, 1, 2, 3, 4, 5, 1, 2, 3, 4, 5, 1, 2, 3, 4, 5, 4, 3, 2, 3, 1, 2, 3, 4, 5, 1, 1, 2, 3, 4, 5, 1, 2, 3, 4, 5, 1, 3, 4, 1, 2, 3, 4, 5, 1, 2, 3, 4, 5, 2, 1, 1, 2, 3, 4, 5, 1, 2, 3, 4, 5, 1, 1, 5, 1, 2, 3, 4, 5, 5, 4, 1, 2, 3, 4, 5, 4, 2, 5, 3, 1, 2, 3, 4, 5, 1, 2, 5, 1, 3, 4, 5, 1, 2, 3, 4, 5, 1, 2, 3, 4, 5, 3, 4, 2, 4, 3, 5, 1, 2, 3, 4, 5, 4, 2, 1, 2, 3, 4, 5, 2, 1, 2, 3, 4, 5, 4, 2, 1, 1, 4, 1, 2, 3, 4, 4, 1, 2, 1, 4, 5, 4, 1, 2, 3, 4, 5, 1, 2, 3, 4, 5, 1, 2, 3, 4, 5, 1, 2, 4, 5, 1, 4, 5, 5, 1, 2, 3, 4, 5, 1, 1, 2, 3, 4, 5, 1, 2, 3, 4, 5, 3, 1, 3, 4, 2, 1, 1, 2, 3, 4, 5, 1, 2, 3, 5, 1, 2, 3, 5, 3, 5, 1, 4, 3, 2, 1, 2, 4, 5, 3, 2, 4, 5, 2, 1, 2, 3, 4, 5, 4, 5, 1, 2, 4, 5, 1, 2, 3, 4, 5, 1, 2, 3, 4, 5, 1, 2, 4, 1, 1, 2, 3, 4, 5, 5, 1, 2, 3, 4, 5, 1, 2, 3, 4, 5, 1, 1, 2, 3, 4, 5, 4, 1, 2, 4, 5, 1, 2, 3, 4, 5, 1, 1, 3, 1, 4, 1, 2, 3, 4, 5, 1, 2, 3, 4, 5, 1, 2, 3, 1, 2, 3, 4, 5, 4, 1, 2, 3, 4, 5, 1, 2, 3, 5, 3, 5, 1, 2, 3, 4, 5, 4, 1, 2, 3, 4, 5, 1, 2, 3, 5, 1, 2, 3, 4, 5, 3, 1, 4, 5, 2, 4, 1, 2, 3, 4, 5, 1, 1, 2, 3, 4, 5, 2, 1, 2, 3, 4, 5, 1, 2, 3, 4, 5, 4, 1, 2, 3, 4, 5, 2, 4, 1, 2, 3, 4, 5, 5, 1, 2, 4, 5, 1, 5, 1, 2, 3, 4, 5, 1, 2, 3, 4, 5, 4, 4, 5, 2, 3, 4, 5, 4, 1, 2, 4, 5, 1, 2, 4, 5, 1, 2, 3, 4, 5, 3, 5, 2, 1, 2, 3, 4, 5, 1, 2, 3, 4, 5, 3, 5, 1, 2, 3, 4, 5, 1, 2, 3, 4, 5, 1, 2, 3, 4, 5, 4, 5, 1, 2, 3, 4, 5, 2, 1, 2, 4, 5, 1, 3, 5, 1, 2, 3, 4, 5, 1, 2, 3, 4, 5, 2, 1, 2, 3, 4, 5, 4, 1, 3, 1, 3, 4], \"Freq\": [0.022012855857610703, 0.044025711715221405, 0.9245399832725525, 0.9449800848960876, 0.10408526659011841, 0.3576262891292572, 0.34161317348480225, 0.03202623501420021, 0.16813772916793823, 0.12023811787366867, 0.056954897940158844, 0.06328321993350983, 0.7530702948570251, 0.9856298565864563, 0.018260100856423378, 0.9495252370834351, 0.018260100856423378, 0.006572889629751444, 0.006572889629751444, 0.972787618637085, 0.013145779259502888, 0.23593772947788239, 0.06870216876268387, 0.19525881111621857, 0.18893097341060638, 0.31096771359443665, 0.306814968585968, 0.3655264675617218, 0.022727033123373985, 0.03219662979245186, 0.2727243900299072, 0.353471964597702, 0.2534487247467041, 0.05001161992549896, 0.05255458503961563, 0.2898978590965271, 0.9842820763587952, 0.982742965221405, 0.9640162587165833, 0.9426307678222656, 0.937190592288971, 0.9611495137214661, 0.02623647078871727, 0.09510720521211624, 0.623116135597229, 0.1279027909040451, 0.1279027909040451, 0.06993741542100906, 0.03496870771050453, 0.7842981815338135, 0.044959768652915955, 0.0649418830871582, 0.9743304252624512, 0.06549031287431717, 0.07422235608100891, 0.5479356050491333, 0.10915052145719528, 0.20301997661590576, 0.9824950098991394, 0.9624390602111816, 0.13721255958080292, 0.04287892207503319, 0.008575784973800182, 0.8061237335205078, 0.0352211520075798, 0.9157499670982361, 0.7620645761489868, 0.04618573188781738, 0.05773216485977173, 0.04618573188781738, 0.10391789674758911, 0.9290004968643188, 0.047641050070524216, 0.023820525035262108, 0.9646103978157043, 0.023527082055807114, 0.9830864667892456, 0.945736825466156, 0.024899056181311607, 0.8101085424423218, 0.06491539627313614, 0.013338780030608177, 0.08714669197797775, 0.9321614503860474, 0.9666942358016968, 0.986705482006073, 0.6607214212417603, 0.1588272750377655, 0.03811854496598244, 0.1016494482755661, 0.04447163641452789, 0.060418594628572464, 0.060418594628572464, 0.060418594628572464, 0.805581271648407, 0.020139532163739204, 0.02022799663245678, 0.9709438681602478, 0.04119051247835159, 0.9473817944526672, 0.983341634273529, 0.9828894734382629, 0.10879839211702347, 0.0296722874045372, 0.7714794874191284, 0.039563048630952835, 0.054399196058511734, 0.2763320803642273, 0.10393020510673523, 0.044017497450113297, 0.011004374362528324, 0.5648912191390991, 0.937190055847168, 0.1128404289484024, 0.18806737661361694, 0.49434852600097656, 0.1047803983092308, 0.10209371894598007, 0.2195225954055786, 0.27832329273223877, 0.01960023120045662, 0.48216569423675537, 0.06856682151556015, 0.2125571370124817, 0.01371336355805397, 0.6993815302848816, 0.006856681779026985, 0.9795240759849548, 0.05846787989139557, 0.10685508698225021, 0.6471789479255676, 0.07862921804189682, 0.1088712215423584, 0.004580369684845209, 0.9572972655296326, 0.03664295747876167, 0.2735235095024109, 0.6553731560707092, 0.016248920932412148, 0.01083261426538229, 0.04333045706152916, 0.37847867608070374, 0.05358322337269783, 0.02113141119480133, 0.5467752814292908, 0.1257747858762741, 0.06772489100694656, 0.8030236959457397, 0.17453743517398834, 0.10649741441011429, 0.04733218252658844, 0.42598965764045715, 0.2455357015132904, 0.9914183616638184, 0.02886151522397995, 0.96397465467453, 0.329721599817276, 0.08695954084396362, 0.10869942605495453, 0.4094344973564148, 0.06521965563297272, 0.8809120655059814, 0.08524955809116364, 0.9243038892745972, 0.7691287398338318, 0.050600577145814896, 0.030360346660017967, 0.09108103811740875, 0.050600577145814896, 0.30414673686027527, 0.13559876382350922, 0.10771863907575607, 0.18122076988220215, 0.26993024349212646, 0.3823677599430084, 0.14603549242019653, 0.15718324482440948, 0.12151045352220535, 0.1928560435771942, 0.11869096755981445, 0.05021541193127632, 0.10499586164951324, 0.4701988399028778, 0.2602071166038513, 0.027810480445623398, 0.027810480445623398, 0.9455562829971313, 0.27090492844581604, 0.5464015007019043, 0.08264896273612976, 0.0734657421708107, 0.027549654245376587, 0.009625998325645924, 0.038503993302583694, 0.9337218403816223, 0.009625998325645924, 0.967491626739502, 0.9624936580657959, 0.06195347011089325, 0.01770099066197872, 0.06195347011089325, 0.6460861563682556, 0.2212623953819275, 0.15309454500675201, 0.159750834107399, 0.1650758534669876, 0.10783181339502335, 0.4140208959579468, 0.9566323161125183, 0.6552765369415283, 0.04633268341422081, 0.01985686458647251, 0.06618954986333847, 0.2051876038312912, 0.18156097829341888, 0.3907008171081543, 0.00919296033680439, 0.0068947202526032925, 0.4113849997520447, 0.24870626628398895, 0.3291150629520416, 0.013089803047478199, 0.0205696914345026, 0.38895416259765625, 0.9566630721092224, 0.03416653722524643, 0.14063549041748047, 0.057402241975069046, 0.12341481447219849, 0.04018156975507736, 0.6400349736213684, 0.9853025674819946, 0.9528621435165405, 0.9941546320915222, 0.06613706052303314, 0.9259188771247864, 0.9613356590270996, 0.2688715159893036, 0.19320109486579895, 0.006440036464482546, 0.5313029885292053, 0.7670456171035767, 0.11280082911252975, 0.01128008309751749, 0.11280082911252975, 0.9729401469230652, 0.9775620698928833, 0.008565994910895824, 0.008565994910895824, 0.8565994501113892, 0.1113579273223877, 0.01713198982179165, 0.9246377944946289, 0.21015331149101257, 0.08597180992364883, 0.0008684020722284913, 0.03299928084015846, 0.6704064011573792, 0.7799513936042786, 0.15247169137001038, 0.052778664976358414, 0.011728592216968536, 0.07123836874961853, 0.017809592187404633, 0.005936530418694019, 0.024933427572250366, 0.8809810876846313, 0.9791003465652466, 0.01717446744441986, 0.8415489196777344, 0.0858723372220993, 0.03434893488883972, 0.01717446744441986, 0.0506533645093441, 0.9117605686187744, 0.02532668225467205, 0.37729784846305847, 0.20534899830818176, 0.08782999217510223, 0.1373116821050644, 0.19174154102802277, 0.023968279361724854, 0.04793655872344971, 0.9107946157455444, 0.023968279361724854, 0.04624280333518982, 0.9556845426559448, 0.10050635039806366, 0.8901991248130798, 0.0037727493327111006, 0.013204623013734818, 0.03206837177276611, 0.9507328271865845, 0.18936629593372345, 0.0725904107093811, 0.08521483093500137, 0.3250788152217865, 0.3282349109649658, 0.9611102938652039, 0.018407199531793594, 0.02761079929769039, 0.9387671947479248, 0.3202006220817566, 0.1833748072385788, 0.1382363885641098, 0.17350077629089355, 0.1861959546804428, 0.9595158100128174, 0.04598073661327362, 0.10728839039802551, 0.8429802060127258, 0.015326912514865398, 0.017955228686332703, 0.026932844892144203, 0.10773137956857681, 0.8528733849525452, 0.06944289803504944, 0.08506754785776138, 0.6388746500015259, 0.09548398852348328, 0.11110863834619522, 0.0590658076107502, 0.9155200123786926, 0.01476645190268755, 0.5787674188613892, 0.01365017518401146, 0.0300303865224123, 0.3767448365688324, 0.0748206377029419, 0.024940213188529015, 0.016626808792352676, 0.024940213188529015, 0.864594042301178, 0.9674006700515747, 0.9397716522216797, 0.7187309265136719, 0.01579628325998783, 0.07108327746391296, 0.03159256651997566, 0.157962828874588, 0.9321255683898926, 0.4421696960926056, 0.09083330631256104, 0.08740563690662384, 0.09597481787204742, 0.2827829420566559, 0.9563903212547302, 0.04493049532175064, 0.9435403943061829, 0.956551194190979, 0.03877910226583481, 0.2643350660800934, 0.1284705400466919, 0.22089539468288422, 0.19778917729854584, 0.18854670226573944, 0.6862707734107971, 0.11853767931461334, 0.11229885369539261, 0.0748658999800682, 0.16469797492027283, 0.11390326917171478, 0.3601806163787842, 0.12775637209415436, 0.2339634746313095, 0.9612002968788147, 0.9266983270645142, 0.05273892730474472, 0.022602397948503494, 0.9435369968414307, 0.051700659096241, 0.9155445694923401, 0.8352887034416199, 0.07671018689870834, 0.08523353934288025, 0.9378188848495483, 0.03025222197175026, 0.367096871137619, 0.09157513827085495, 0.04857464134693146, 0.492913156747818, 0.9372122287750244, 0.014467593282461166, 0.014467593282461166, 0.9548611640930176, 0.9361158013343811, 0.9312807321548462, 0.9309996366500854, 0.044333316385746, 0.13665729761123657, 0.8619921803474426, 0.16211722791194916, 0.7811102867126465, 0.04421379044651985, 0.9323019981384277, 0.950518786907196, 0.1169334352016449, 0.03340955451130867, 0.03340955451130867, 0.8018292784690857, 0.016704777255654335, 0.15063701570034027, 0.04725867137312889, 0.06202700734138489, 0.3898840546607971, 0.3514863848686218, 0.5514526963233948, 0.11768808215856552, 0.07397536188364029, 0.030262649059295654, 0.22865113615989685, 0.9376385807991028, 0.05048661679029465, 0.04768180474638939, 0.07012030482292175, 0.8330292105674744, 0.02939353883266449, 0.04702966287732124, 0.91707843542099, 0.09743061661720276, 0.00286560645326972, 0.8424882888793945, 0.017193637788295746, 0.040118489414453506, 0.9473876357078552, 0.00989616196602583, 0.00989616196602583, 0.9005507230758667, 0.01979232393205166, 0.05937696993350983, 0.9723405241966248, 0.7674170136451721, 0.035283539444208145, 0.18523858487606049, 0.008820884861052036, 0.008820884861052036, 0.8947194218635559, 0.02556341327726841, 0.05112682655453682, 0.04824324697256088, 0.05789189785718918, 0.6657568216323853, 0.21227028965950012, 0.9919615983963013, 0.9880284070968628, 0.9881333708763123, 0.9746739864349365, 0.9311478137969971, 0.005846581421792507, 0.9880722761154175, 0.9736472964286804, 0.04071724787354469, 0.08957795053720474, 0.8102732300758362, 0.016286900267004967, 0.04071724787354469, 0.9931972026824951, 0.9533661007881165, 0.9771637916564941, 0.9553807973861694, 0.06605667620897293, 0.16514168679714203, 0.6464117765426636, 0.09436668455600739, 0.028310004621744156, 0.04700293019413948, 0.9400586485862732, 0.1976294070482254, 0.1170426607131958, 0.306997150182724, 0.1016928032040596, 0.2762974202632904, 0.2292369306087494, 0.055518317967653275, 0.2292369306087494, 0.20595504343509674, 0.27938249707221985, 0.19705407321453094, 0.4500288963317871, 0.14379622042179108, 0.05592074990272522, 0.1544477939605713, 0.964120626449585, 0.9716438055038452, 0.27278897166252136, 0.537184476852417, 0.050361040979623795, 0.14268961548805237, 0.908413290977478, 0.06987794488668442, 0.37190699577331543, 0.2140948325395584, 0.06842205673456192, 0.12139397859573364, 0.22402706742286682, 0.9694989919662476, 0.050272390246391296, 0.938417911529541, 0.9322283267974854, 0.4672345221042633, 0.15512925386428833, 0.07017751783132553, 0.1052662804722786, 0.20314544439315796, 0.9361675381660461, 0.3458261489868164, 0.1853528618812561, 0.1467895209789276, 0.12190993875265121, 0.1990366280078888, 0.983258843421936, 0.06345605105161667, 0.9306886792182922, 0.4817846715450287, 0.16603879630565643, 0.04899505153298378, 0.06668771058320999, 0.23680941760540009, 0.01635887287557125, 0.8179436922073364, 0.1635887324810028, 0.9855687022209167, 0.01303957961499691, 0.48246443271636963, 0.5020238161087036, 0.26906928420066833, 0.10583391785621643, 0.3049452006816864, 0.1955236792564392, 0.12556566298007965, 0.5033188462257385, 0.1369980275630951, 0.05658614635467529, 0.14295446872711182, 0.1593346744775772, 0.6515074968338013, 0.04630002751946449, 0.07937147468328476, 0.04960716888308525, 0.17197152972221375, 0.9635787010192871, 0.9705406427383423, 0.01793588697910309, 0.9775058627128601, 0.2697066366672516, 0.5459122061729431, 0.07798745483160019, 0.04224320501089096, 0.06174007058143616, 0.9642527103424072, 0.13492423295974731, 0.229735866189003, 0.4831746518611908, 0.005469901487231255, 0.14768734574317932, 0.3479810059070587, 0.44481050968170166, 0.06657027453184128, 0.07867396622896194, 0.06051843613386154, 0.024782387539744377, 0.049564775079488754, 0.9169483184814453, 0.23764358460903168, 0.2872387766838074, 0.07439277321100235, 0.11572209000587463, 0.2831058204174042, 0.15718115866184235, 0.07335121184587479, 0.1047874391078949, 0.6444427967071533, 0.02095748856663704, 0.9392291903495789, 0.9793375730514526, 0.21497736871242523, 0.17456161975860596, 0.11522787064313889, 0.13930533826351166, 0.35514262318611145, 0.2528650760650635, 0.1071164608001709, 0.143992617726326, 0.07902033627033234, 0.4179297983646393, 0.9529101252555847, 0.09587597101926804, 0.8977477550506592, 0.037606481462717056, 0.04512777552008629, 0.5603365302085876, 0.1917930394411087, 0.1654685139656067, 0.9782860279083252, 0.9711695313453674, 0.22645729780197144, 0.040438804775476456, 0.12536029517650604, 0.5701871514320374, 0.03639492392539978, 0.9867454767227173, 0.03580009192228317, 0.9487024545669556, 0.9740954637527466, 0.12498975545167923, 0.4689786434173584, 0.005341442301869392, 0.04379982873797417, 0.3557400703430176, 0.8935366272926331, 0.0687335878610611, 0.017183396965265274, 0.0273720882833004, 0.7703287601470947, 0.16814282536506653, 0.03128238767385483, 0.06998824328184128, 0.0199966412037611, 0.2659553289413452, 0.21996305882930756, 0.42392879724502563, 0.35061097145080566, 0.14712132513523102, 0.11160928010940552, 0.14993974566459656, 0.24012905359268188, 0.05077434331178665, 0.9393253326416016, 0.9522324800491333, 0.9772443175315857, 0.026400353759527206, 0.9504127502441406, 0.3615441918373108, 0.4055009186267853, 0.050550252199172974, 0.01648377813398838, 0.1659366935491562, 0.9641074538230896, 0.9461382031440735, 0.31182682514190674, 0.307555228471756, 0.1527097076177597, 0.07742276042699814, 0.15003997087478638, 0.9522320628166199, 0.11949078738689423, 0.16036921739578247, 0.04716741666197777, 0.02515595592558384, 0.6509103775024414, 0.9557355642318726, 0.9836902022361755, 0.9700413942337036, 0.07032105326652527, 0.9141736626625061, 0.0055414228700101376, 0.038789961487054825, 0.9531247615814209, 0.9805466532707214, 0.9366551637649536, 0.029559563845396042, 0.9459060430526733, 0.08793779462575912, 0.022940294817090034, 0.8870247006416321, 0.955780029296875, 0.05325460061430931, 0.14264625310897827, 0.536349892616272, 0.19970475137233734, 0.06847020238637924, 0.49214285612106323, 0.2136109471321106, 0.06701519340276718, 0.07539209723472595, 0.15287841856479645, 0.44811850786209106, 0.22763846814632416, 0.08017455786466599, 0.051540788263082504, 0.19327795505523682, 0.23290801048278809, 0.061522871255874634, 0.0263669453561306, 0.6767516136169434, 0.13647973537445068, 0.012407248839735985, 0.8561001420021057, 0.9323273301124573, 0.46067604422569275, 0.2696640193462372, 0.06928867101669312, 0.11985068023204803, 0.07865200936794281, 0.9749042391777039, 0.35234543681144714, 0.16829907894134521, 0.040352411568164825, 0.06987856328487396, 0.3690769374370575, 0.2797239422798157, 0.07812109589576721, 0.0025200354866683483, 0.005040070973336697, 0.6350489258766174, 0.96770179271698, 0.03854931518435478, 0.9059089422225952, 0.05782397463917732, 0.9579102396965027, 0.9682592749595642, 0.21745897829532623, 0.6886200904846191, 0.05436474457383156, 0.00906079076230526, 0.02718237228691578, 0.06856047362089157, 0.8912861943244934, 0.025710178539156914, 0.008570059202611446, 0.26769328117370605, 0.616317093372345, 0.006225425284355879, 0.1120576560497284, 0.9829312562942505, 0.932671308517456, 0.9893715381622314, 0.955742597579956, 0.9626588225364685, 0.9759564399719238, 0.1711997240781784, 0.24253293871879578, 0.0020380918867886066, 0.5828943252563477, 0.9473243951797485, 0.9179784655570984, 0.029612207785248756, 0.029612207785248756, 0.9718688130378723, 0.4188527464866638, 0.18998360633850098, 0.13221082091331482, 0.11554558575153351, 0.1444319784641266, 0.9868658781051636, 0.9449727535247803, 0.17581599950790405, 0.7735903859138489, 0.005860533099621534, 0.04102373495697975, 0.25894904136657715, 0.05635949596762657, 0.08073117583990097, 0.3762377202510834, 0.22848445177078247, 0.10933997482061386, 0.0415491908788681, 0.28428393602371216, 0.36738231778144836, 0.19899874925613403, 0.8733686804771423, 0.03234698623418808, 0.09704096615314484, 0.9383184909820557, 0.13983197510242462, 0.06637938320636749, 0.2339601218700409, 0.1561547815799713, 0.4037172496318817, 0.9805244207382202, 0.28178685903549194, 0.023097282275557518, 0.4088219106197357, 0.0415751077234745, 0.2425214648246765, 0.31446927785873413, 0.12043505162000656, 0.16191823780536652, 0.08965720236301422, 0.3131311237812042, 0.9371939301490784, 0.332195907831192, 0.5352044701576233, 0.030758880078792572, 0.024607103317975998, 0.07382131367921829, 0.9936431050300598, 0.006987974513322115, 0.01397594902664423, 0.1816873401403427, 0.7966291308403015, 0.19008874893188477, 0.11118398606777191, 0.12194371968507767, 0.46266883611679077, 0.1147705614566803, 0.9915351867675781, 0.9694007635116577, 0.9529641270637512, 0.9746739864349365, 0.9706450700759888, 0.30925318598747253, 0.5060506463050842, 0.07028481364250183, 0.07590759545564651, 0.03935949504375458, 0.038529373705387115, 0.0449509359896183, 0.8348031044006348, 0.0449509359896183, 0.03210781142115593, 0.017076930031180382, 0.051230788230895996, 0.9221541881561279, 0.6507049798965454, 0.09295785427093506, 0.03718314319849014, 0.08676066249608994, 0.13633818924427032, 0.9833489060401917, 0.3034061789512634, 0.12687894701957703, 0.0838504359126091, 0.16052944958209991, 0.3254720866680145, 0.1987043172121048, 0.6540683507919312, 0.12419019639492035, 0.01655869372189045, 0.03862180560827255, 0.9526711702346802, 0.12136058509349823, 0.060680292546749115, 0.03900875896215439, 0.07368321716785431, 0.7021576762199402, 0.9553807973861694, 0.2440224289894104, 0.0647713840007782, 0.30578118562698364, 0.0030126224737614393, 0.3826030492782593, 0.07223676890134811, 0.08186833560466766, 0.6284598708152771, 0.21671031415462494, 0.3504122793674469, 0.17835354804992676, 0.03986726328730583, 0.2685794532299042, 0.16366560757160187, 0.9741389751434326, 0.8553051352500916, 0.109654501080513, 0.02193089947104454, 0.03766815736889839, 0.9417039752006531, 0.04436755180358887, 0.11091887950897217, 0.014789184555411339, 0.8134051561355591, 0.022183775901794434, 0.9702950716018677, 0.10546888411045074, 0.038856957107782364, 0.5939563512802124, 0.03053046576678753, 0.23036624491214752, 0.9892989993095398, 0.49341171979904175, 0.15859661996364594, 0.032726287841796875, 0.07048738747835159, 0.24167104065418243, 0.46831855177879333, 0.11541499942541122, 0.0022195191122591496, 0.12207355350255966, 0.2907570004463196, 0.9555982351303101, 0.30593621730804443, 0.15257687866687775, 0.11423705518245697, 0.14475242793560028, 0.28246283531188965, 0.9734417200088501, 0.9556388854980469, 0.05487235635519028, 0.007838908582925797, 0.8387631773948669, 0.015677817165851593, 0.07838907837867737, 0.9630200266838074, 0.2636677920818329, 0.22188207507133484, 0.003760713152587414, 0.5106213092803955, 0.024558747187256813, 0.9577911496162415, 0.0736253634095192, 0.0210358165204525, 0.1104380413889885, 0.0525895431637764, 0.7415125370025635, 0.26689425110816956, 0.16799435019493103, 0.23708879947662354, 0.12193138152360916, 0.20728334784507751, 0.977097749710083, 0.9444877505302429, 0.02951524220407009, 0.08720937371253967, 0.9094691872596741, 0.7635216116905212, 0.23237614333629608, 0.9896960854530334, 0.342778742313385, 0.14469051361083984, 0.025837592780590057, 0.48574674129486084, 0.15167498588562012, 0.17858505249023438, 0.041588302701711655, 0.6262708902359009, 0.19950884580612183, 0.10133782029151917, 0.003166806884109974, 0.09183739870786667, 0.608026921749115, 0.9624311923980713, 0.9777706861495972, 0.972850501537323, 0.45651575922966003, 0.14816738665103912, 0.08409500867128372, 0.07208143174648285, 0.2402714490890503, 0.457937091588974, 0.17880582809448242, 0.16181522607803345, 0.05663532763719559, 0.14563369750976562, 0.9473351836204529, 0.9157474637031555, 0.08026223629713058, 0.06019667908549309, 0.3912784159183502, 0.4514751136302948, 0.015049169771373272, 0.40922811627388, 0.15615282952785492, 0.12564021348953247, 0.15435796976089478, 0.15435796976089478, 0.12122394889593124, 0.01212239544838667, 0.33942705392837524, 0.40812063217163086, 0.117183156311512, 0.020912062376737595, 0.9724109172821045, 0.07274456322193146, 0.7256713509559631, 0.035485152155160904, 0.0035485150292515755, 0.1623445600271225, 0.9854127168655396, 0.2826504111289978, 0.025695493444800377, 0.017130328342318535, 0.676647961139679, 0.139247328042984, 0.009946238249540329, 0.8454301953315735, 0.472821980714798, 0.2444353848695755, 0.05555349588394165, 0.12962482869625092, 0.09752725064754486, 0.38336315751075745, 0.10210788995027542, 0.10394216328859329, 0.11617065221071243, 0.2940951883792877, 0.9881762862205505, 0.22797147929668427, 0.17407406866550446, 0.16606229543685913, 0.21995970606803894, 0.21194793283939362, 0.9634406566619873, 0.9824607968330383, 0.9579343199729919, 0.9373528957366943, 0.863591730594635, 0.13286027312278748], \"Term\": [\"abedin\", \"abedin\", \"abedin\", \"absentee\", \"african\", \"african\", \"african\", \"african\", \"african\", \"agent\", \"agent\", \"agent\", \"agent\", \"aht\", \"airstrikes\", \"airstrikes\", \"airstrikes\", \"aleppo\", \"aleppo\", \"aleppo\", \"aleppo\", \"also\", \"also\", \"also\", \"also\", \"also\", \"america\", \"america\", \"america\", \"america\", \"america\", \"american\", \"american\", \"american\", \"american\", \"american\", \"ami\", \"amish\", \"ammon\", \"angka\", \"antebellum\", \"arbaeen\", \"area\", \"area\", \"area\", \"area\", \"area\", \"army\", \"army\", \"army\", \"army\", \"army\", \"artillery\", \"attack\", \"attack\", \"attack\", \"attack\", \"attack\", \"avaaz\", \"balfour\", \"ballot\", \"ballot\", \"ballot\", \"ballot\", \"baltic\", \"baltic\", \"band\", \"band\", \"band\", \"band\", \"band\", \"banking\", \"banking\", \"banking\", \"baron\", \"baron\", \"beijing\", \"biden\", \"black\", \"black\", \"black\", \"black\", \"black\", \"bless\", \"blockade\", \"boer\", \"book\", \"book\", \"book\", \"book\", \"book\", \"brain\", \"brain\", \"brain\", \"brain\", \"brain\", \"bundy\", \"bundy\", \"burton\", \"burton\", \"cair\", \"calais\", \"camp\", \"camp\", \"camp\", \"camp\", \"camp\", \"campaign\", \"campaign\", \"campaign\", \"campaign\", \"campaign\", \"caracol\", \"child\", \"child\", \"child\", \"child\", \"child\", \"china\", \"china\", \"china\", \"china\", \"chinese\", \"chinese\", \"chinese\", \"chinese\", \"chinese\", \"chomsky\", \"city\", \"city\", \"city\", \"city\", \"city\", \"civilian\", \"civilian\", \"civilian\", \"class\", \"class\", \"class\", \"class\", \"class\", \"clinton\", \"clinton\", \"clinton\", \"clinton\", \"cnn\", \"cnn\", \"cnn\", \"com\", \"com\", \"com\", \"com\", \"com\", \"comanche\", \"comey\", \"comey\", \"company\", \"company\", \"company\", \"company\", \"company\", \"concept\", \"concept\", \"concluding\", \"cost\", \"cost\", \"cost\", \"cost\", \"cost\", \"could\", \"could\", \"could\", \"could\", \"could\", \"country\", \"country\", \"country\", \"country\", \"country\", \"court\", \"court\", \"court\", \"court\", \"court\", \"creamer\", \"creamer\", \"creamer\", \"crisis\", \"crisis\", \"crisis\", \"crisis\", \"crisis\", \"dakota\", \"dakota\", \"dakota\", \"dakota\", \"danny\", \"dapl\", \"data\", \"data\", \"data\", \"data\", \"data\", \"day\", \"day\", \"day\", \"day\", \"day\", \"defendant\", \"democracy\", \"democracy\", \"democracy\", \"democracy\", \"democracy\", \"democrat\", \"democrat\", \"democrat\", \"democrat\", \"democrat\", \"democratic\", \"democratic\", \"democratic\", \"democratic\", \"democratic\", \"demonstrator\", \"demonstrator\", \"department\", \"department\", \"department\", \"department\", \"department\", \"desalegn\", \"dingaan\", \"ditz\", \"doj\", \"doj\", \"dolly\", \"donald\", \"donald\", \"donald\", \"donald\", \"donor\", \"donor\", \"donor\", \"donor\", \"draitser\", \"duterte\", \"eastern\", \"eastern\", \"eastern\", \"eastern\", \"eastern\", \"ecuador\", \"election\", \"election\", \"election\", \"election\", \"election\", \"elite\", \"elite\", \"elite\", \"elite\", \"email\", \"email\", \"email\", \"email\", \"email\", \"emf\", \"english\", \"english\", \"english\", \"english\", \"english\", \"ethiopian\", \"ethiopian\", \"ethiopian\", \"even\", \"even\", \"even\", \"even\", \"even\", \"exercise\", \"exercise\", \"exercise\", \"exercise\", \"fascism\", \"fascism\", \"fascist\", \"fascist\", \"fbi\", \"fbi\", \"fbi\", \"fbi\", \"federal\", \"federal\", \"federal\", \"federal\", \"federal\", \"feyisa\", \"fighter\", \"fighter\", \"fighter\", \"first\", \"first\", \"first\", \"first\", \"first\", \"fishing\", \"flint\", \"flint\", \"flint\", \"flint\", \"florida\", \"florida\", \"florida\", \"florida\", \"force\", \"force\", \"force\", \"force\", \"force\", \"ford\", \"ford\", \"ford\", \"foundation\", \"foundation\", \"foundation\", \"foundation\", \"fraud\", \"fraud\", \"fraud\", \"fraud\", \"fraud\", \"frompovich\", \"fuck\", \"fund\", \"fund\", \"fund\", \"fund\", \"fund\", \"funders\", \"get\", \"get\", \"get\", \"get\", \"get\", \"getty\", \"glen\", \"glen\", \"goldman\", \"goldman\", \"government\", \"government\", \"government\", \"government\", \"government\", \"green\", \"green\", \"green\", \"green\", \"group\", \"group\", \"group\", \"group\", \"group\", \"haiphong\", \"haiti\", \"haiti\", \"haiti\", \"haitian\", \"haitian\", \"hatch\", \"helmet\", \"helmet\", \"helmet\", \"highway\", \"highway\", \"hillary\", \"hillary\", \"hillary\", \"hillary\", \"hirabah\", \"huma\", \"huma\", \"huma\", \"hyman\", \"illusion\", \"imam\", \"imam\", \"imperialism\", \"imperialism\", \"imperialist\", \"imperialist\", \"imperialist\", \"inappropriate\", \"incarceration\", \"india\", \"india\", \"india\", \"india\", \"india\", \"information\", \"information\", \"information\", \"information\", \"information\", \"interest\", \"interest\", \"interest\", \"interest\", \"interest\", \"interventionist\", \"investigation\", \"investigation\", \"investigation\", \"investigation\", \"iraqi\", \"iraqi\", \"iraqi\", \"isi\", \"isi\", \"isi\", \"isi\", \"isi\", \"ite\", \"jason\", \"jason\", \"jason\", \"jason\", \"jason\", \"jasta\", \"jewish\", \"jewish\", \"jewish\", \"jewish\", \"jewish\", \"jihad\", \"jihad\", \"jihad\", \"judge\", \"judge\", \"judge\", \"judge\", \"juror\", \"kadzik\", \"karbala\", \"karp\", \"kek\", \"kenya\", \"kenya\", \"kenyan\", \"killed\", \"killed\", \"killed\", \"killed\", \"killed\", \"kimberley\", \"kurd\", \"kurdish\", \"kyi\", \"land\", \"land\", \"land\", \"land\", \"land\", \"laptop\", \"laptop\", \"last\", \"last\", \"last\", \"last\", \"last\", \"law\", \"law\", \"law\", \"law\", \"law\", \"left\", \"left\", \"left\", \"left\", \"left\", \"lewinsky\", \"liang\", \"liberal\", \"liberal\", \"liberal\", \"liberal\", \"libertarian\", \"libertarian\", \"like\", \"like\", \"like\", \"like\", \"like\", \"locke\", \"lynch\", \"lynch\", \"mailer\", \"make\", \"make\", \"make\", \"make\", \"make\", \"malheur\", \"many\", \"many\", \"many\", \"many\", \"many\", \"mcauliffe\", \"mccabe\", \"mccabe\", \"medium\", \"medium\", \"medium\", \"medium\", \"medium\", \"meter\", \"meter\", \"meter\", \"miami\", \"migrant\", \"migrant\", \"migrant\", \"military\", \"military\", \"military\", \"military\", \"military\", \"million\", \"million\", \"million\", \"million\", \"million\", \"money\", \"money\", \"money\", \"money\", \"money\", \"montenegro\", \"montreal\", \"mosul\", \"mosul\", \"movement\", \"movement\", \"movement\", \"movement\", \"movement\", \"msm\", \"muslim\", \"muslim\", \"muslim\", \"muslim\", \"muslim\", \"must\", \"must\", \"must\", \"must\", \"must\", \"nasa\", \"nasa\", \"nasa\", \"national\", \"national\", \"national\", \"national\", \"national\", \"nato\", \"nato\", \"nato\", \"nato\", \"nato\", \"nellie\", \"netflix\", \"new\", \"new\", \"new\", \"new\", \"new\", \"news\", \"news\", \"news\", \"news\", \"news\", \"nobel\", \"nominee\", \"nominee\", \"north\", \"north\", \"north\", \"north\", \"north\", \"notify\", \"npl\", \"nuclear\", \"nuclear\", \"nuclear\", \"nuclear\", \"nuclear\", \"nvc\", \"nypd\", \"nypd\", \"nyu\", \"obama\", \"obama\", \"obama\", \"obama\", \"obama\", \"obamacare\", \"obamacare\", \"obamacare\", \"officer\", \"officer\", \"officer\", \"officer\", \"official\", \"official\", \"official\", \"official\", \"official\", \"one\", \"one\", \"one\", \"one\", \"one\", \"oregon\", \"oregon\", \"oromo\", \"pantaleo\", \"pardon\", \"pardon\", \"party\", \"party\", \"party\", \"party\", \"party\", \"patent\", \"peco\", \"people\", \"people\", \"people\", \"people\", \"people\", \"pequot\", \"percent\", \"percent\", \"percent\", \"percent\", \"percent\", \"pickton\", \"pilgrim\", \"pill\", \"pin\", \"pin\", \"pipeline\", \"pipeline\", \"pipeline\", \"pki\", \"pkk\", \"plymouth\", \"plymouth\", \"podesta\", \"podesta\", \"podesta\", \"poisoning\", \"police\", \"police\", \"police\", \"police\", \"police\", \"policy\", \"policy\", \"policy\", \"policy\", \"policy\", \"political\", \"political\", \"political\", \"political\", \"political\", \"poll\", \"poll\", \"poll\", \"poll\", \"polling\", \"polling\", \"polling\", \"portrayal\", \"power\", \"power\", \"power\", \"power\", \"power\", \"premium\", \"president\", \"president\", \"president\", \"president\", \"president\", \"presidential\", \"presidential\", \"presidential\", \"presidential\", \"presidential\", \"pretorius\", \"province\", \"province\", \"province\", \"puc\", \"quot\", \"racial\", \"racial\", \"racial\", \"racial\", \"racial\", \"racism\", \"racism\", \"racism\", \"racism\", \"racist\", \"racist\", \"racist\", \"racist\", \"raqqa\", \"recount\", \"recovery\", \"recruiting\", \"rectenwald\", \"repression\", \"republican\", \"republican\", \"republican\", \"republican\", \"retief\", \"revolutionary\", \"revolutionary\", \"revolutionary\", \"rider\", \"right\", \"right\", \"right\", \"right\", \"right\", \"robot\", \"rubio\", \"ruling\", \"ruling\", \"ruling\", \"ruling\", \"russia\", \"russia\", \"russia\", \"russia\", \"russia\", \"russian\", \"russian\", \"russian\", \"russian\", \"russian\", \"sachs\", \"sachs\", \"sachs\", \"saddam\", \"said\", \"said\", \"said\", \"said\", \"said\", \"sandler\", \"saudi\", \"saudi\", \"saudi\", \"saudi\", \"saudi\", \"say\", \"say\", \"say\", \"say\", \"say\", \"saya\", \"self\", \"self\", \"self\", \"self\", \"self\", \"serco\", \"server\", \"server\", \"server\", \"server\", \"service\", \"service\", \"service\", \"service\", \"service\", \"sheik\", \"shenk\", \"shi\", \"slaveholder\", \"smartmatic\", \"social\", \"social\", \"social\", \"social\", \"social\", \"soldier\", \"soldier\", \"soldier\", \"soldier\", \"soldier\", \"somalia\", \"somalia\", \"somalia\", \"speech\", \"speech\", \"speech\", \"speech\", \"speech\", \"starnet\", \"state\", \"state\", \"state\", \"state\", \"state\", \"struggle\", \"struggle\", \"struggle\", \"struggle\", \"subscribe\", \"subscribe\", \"supporter\", \"supporter\", \"supporter\", \"supporter\", \"supporter\", \"suu\", \"syria\", \"syria\", \"syria\", \"syria\", \"syria\", \"syrian\", \"syrian\", \"syrian\", \"syrian\", \"system\", \"system\", \"system\", \"system\", \"system\", \"taliban\", \"taxpayer\", \"taxpayer\", \"taxpayer\", \"technical\", \"technical\", \"technology\", \"technology\", \"technology\", \"technology\", \"technology\", \"teneo\", \"terrorist\", \"terrorist\", \"terrorist\", \"terrorist\", \"terrorist\", \"thanksgiving\", \"thing\", \"thing\", \"thing\", \"thing\", \"thing\", \"think\", \"think\", \"think\", \"think\", \"think\", \"thorough\", \"time\", \"time\", \"time\", \"time\", \"time\", \"tplf\", \"trademark\", \"treaty\", \"treaty\", \"treaty\", \"treaty\", \"treaty\", \"trending\", \"trump\", \"trump\", \"trump\", \"trump\", \"tweeted\", \"tweeted\", \"twitter\", \"twitter\", \"twitter\", \"twitter\", \"twitter\", \"two\", \"two\", \"two\", \"two\", \"two\", \"vatican\", \"verdict\", \"verdict\", \"village\", \"village\", \"visa\", \"visa\", \"vitamin\", \"vote\", \"vote\", \"vote\", \"vote\", \"voter\", \"voter\", \"voter\", \"voter\", \"voting\", \"voting\", \"voting\", \"voting\", \"voting\", \"wagon\", \"walsh\", \"wampanoag\", \"want\", \"want\", \"want\", \"want\", \"want\", \"war\", \"war\", \"war\", \"war\", \"war\", \"warplane\", \"watcher\", \"water\", \"water\", \"water\", \"water\", \"water\", \"way\", \"way\", \"way\", \"way\", \"way\", \"weapon\", \"weapon\", \"weapon\", \"weapon\", \"weapon\", \"weiner\", \"weiner\", \"white\", \"white\", \"white\", \"white\", \"white\", \"whiteness\", \"wikileaks\", \"wikileaks\", \"wikileaks\", \"wikileaks\", \"wire\", \"wire\", \"wire\", \"world\", \"world\", \"world\", \"world\", \"world\", \"would\", \"would\", \"would\", \"would\", \"would\", \"yan\", \"year\", \"year\", \"year\", \"year\", \"year\", \"youngstown\", \"youtu\", \"ypg\", \"zionism\", \"zulu\", \"zulu\"]}, \"R\": 30, \"lambda.step\": 0.01, \"plot.opts\": {\"xlab\": \"PC1\", \"ylab\": \"PC2\"}, \"topic.order\": [1, 2, 3, 4, 5]};\n",
       "\n",
       "function LDAvis_load_lib(url, callback){\n",
       "  var s = document.createElement('script');\n",
       "  s.src = url;\n",
       "  s.async = true;\n",
       "  s.onreadystatechange = s.onload = callback;\n",
       "  s.onerror = function(){console.warn(\"failed to load library \" + url);};\n",
       "  document.getElementsByTagName(\"head\")[0].appendChild(s);\n",
       "}\n",
       "\n",
       "if(typeof(LDAvis) !== \"undefined\"){\n",
       "   // already loaded: just create the visualization\n",
       "   !function(LDAvis){\n",
       "       new LDAvis(\"#\" + \"ldavis_el1386827313703500247115386054\", ldavis_el1386827313703500247115386054_data);\n",
       "   }(LDAvis);\n",
       "}else if(typeof define === \"function\" && define.amd){\n",
       "   // require.js is available: use it to load d3/LDAvis\n",
       "   require.config({paths: {d3: \"https://cdnjs.cloudflare.com/ajax/libs/d3/3.5.5/d3.min\"}});\n",
       "   require([\"d3\"], function(d3){\n",
       "      window.d3 = d3;\n",
       "      LDAvis_load_lib(\"https://cdn.rawgit.com/bmabey/pyLDAvis/files/ldavis.v1.0.0.js\", function(){\n",
       "        new LDAvis(\"#\" + \"ldavis_el1386827313703500247115386054\", ldavis_el1386827313703500247115386054_data);\n",
       "      });\n",
       "    });\n",
       "}else{\n",
       "    // require.js not available: dynamically load d3 & LDAvis\n",
       "    LDAvis_load_lib(\"https://cdnjs.cloudflare.com/ajax/libs/d3/3.5.5/d3.min.js\", function(){\n",
       "         LDAvis_load_lib(\"https://cdn.rawgit.com/bmabey/pyLDAvis/files/ldavis.v1.0.0.js\", function(){\n",
       "                 new LDAvis(\"#\" + \"ldavis_el1386827313703500247115386054\", ldavis_el1386827313703500247115386054_data);\n",
       "            })\n",
       "         });\n",
       "}\n",
       "</script>"
      ],
      "text/plain": [
       "PreparedData(topic_coordinates=              x         y  topics  cluster       Freq\n",
       "topic                                                \n",
       "0      0.062371  0.004195       1        1  27.176020\n",
       "1      0.075859  0.103302       2        1  16.845299\n",
       "2     -0.153312  0.051720       3        1  17.211290\n",
       "3     -0.033157 -0.092287       4        1  14.585711\n",
       "4      0.048240 -0.066930       5        1  24.181679, topic_info=     Category         Freq     Term        Total  loglift  logprob\n",
       "907   Default  1124.000000    black  1124.000000  30.0000  30.0000\n",
       "172   Default  2650.000000  clinton  2650.000000  29.0000  29.0000\n",
       "889   Default  1127.000000    white  1127.000000  28.0000  28.0000\n",
       "269   Default  2393.000000    trump  2393.000000  27.0000  27.0000\n",
       "184   Default   842.000000    email   842.000000  26.0000  26.0000\n",
       "...       ...          ...      ...          ...      ...      ...\n",
       "3005   Topic5   253.734695    syria   663.873413   0.4578  -5.9562\n",
       "210    Topic5   237.878296     news   569.473633   0.5466  -6.0207\n",
       "43     Topic5   290.845764     year  1372.978760  -0.1324  -5.8197\n",
       "353    Topic5   280.917145   people  1872.834351  -0.4776  -5.8544\n",
       "222    Topic5   234.245667      say   747.290771   0.2595  -6.0361\n",
       "\n",
       "[434 rows x 6 columns], token_table=       Topic      Freq      Term\n",
       "term                            \n",
       "157        1  0.022013    abedin\n",
       "157        4  0.044026    abedin\n",
       "157        5  0.924540    abedin\n",
       "714        5  0.944980  absentee\n",
       "3711       1  0.104085   african\n",
       "...      ...       ...       ...\n",
       "6306       1  0.982461     youtu\n",
       "18914      3  0.957934       ypg\n",
       "12855      1  0.937353   zionism\n",
       "5584       3  0.863592      zulu\n",
       "5584       4  0.132860      zulu\n",
       "\n",
       "[997 rows x 3 columns], R=30, lambda_step=0.01, plot_opts={'xlab': 'PC1', 'ylab': 'PC2'}, topic_order=[1, 2, 3, 4, 5])"
      ]
     },
     "execution_count": 517,
     "metadata": {},
     "output_type": "execute_result"
    }
   ],
   "source": [
    "import pyLDAvis.gensim\n",
    "pyLDAvis.enable_notebook()\n",
    "pyLDAvis.gensim.prepare(model, corpus, dictionary, sort_topics=False)"
   ]
  },
  {
   "cell_type": "markdown",
   "metadata": {},
   "source": [
    "- b. which document is most prevalent for each topic? The most representative document for each topic."
   ]
  },
  {
   "cell_type": "markdown",
   "metadata": {},
   "source": [
    "The above display shows the correlation between the topics as well as the top most relevant terms for each selected topic (topic 1 in this case). "
   ]
  },
  {
   "cell_type": "code",
   "execution_count": 518,
   "metadata": {},
   "outputs": [
    {
     "name": "stdout",
     "output_type": "stream",
     "text": [
      "[(0, 0.100889616), (1, 0.10004083), (2, 0.10004186), (3, 0.5980861), (4, 0.10094154)]\n",
      "[(0, 0.21922795), (4, 0.76733917)]\n",
      "[(4, 0.99496317)]\n",
      "[(4, 0.9936512)]\n",
      "[(0, 0.8243446), (4, 0.1547251)]\n"
     ]
    }
   ],
   "source": [
    "# print document-topic distribution \n",
    "lda_corpus = model[corpus]\n",
    "# first five rows\n",
    "for i in lda_corpus[:5]:\n",
    "    print(i)"
   ]
  },
  {
   "cell_type": "code",
   "execution_count": 519,
   "metadata": {},
   "outputs": [],
   "source": [
    "def listify(l):\n",
    "    res = []\n",
    "    for j in l:\n",
    "        d = dict([(i, 0) for i in range(15)])  # create a dictionary: use range(15) for 15 topics\n",
    "        d.update(j)\n",
    "        #res.append(list(d.items()))  # saving both keys and values\n",
    "        #res.append(list(d.keys()))   # saving keys \n",
    "        res.append(list(d.values()))  # saving values\n",
    "    return res"
   ]
  },
  {
   "cell_type": "code",
   "execution_count": 520,
   "metadata": {},
   "outputs": [
    {
     "data": {
      "text/html": [
       "<div>\n",
       "<style scoped>\n",
       "    .dataframe tbody tr th:only-of-type {\n",
       "        vertical-align: middle;\n",
       "    }\n",
       "\n",
       "    .dataframe tbody tr th {\n",
       "        vertical-align: top;\n",
       "    }\n",
       "\n",
       "    .dataframe thead th {\n",
       "        text-align: right;\n",
       "    }\n",
       "</style>\n",
       "<table border=\"1\" class=\"dataframe\">\n",
       "  <thead>\n",
       "    <tr style=\"text-align: right;\">\n",
       "      <th></th>\n",
       "      <th>0</th>\n",
       "      <th>1</th>\n",
       "      <th>2</th>\n",
       "      <th>3</th>\n",
       "      <th>4</th>\n",
       "      <th>5</th>\n",
       "      <th>6</th>\n",
       "      <th>7</th>\n",
       "      <th>8</th>\n",
       "      <th>9</th>\n",
       "      <th>10</th>\n",
       "      <th>11</th>\n",
       "      <th>12</th>\n",
       "      <th>13</th>\n",
       "      <th>14</th>\n",
       "    </tr>\n",
       "  </thead>\n",
       "  <tbody>\n",
       "    <tr>\n",
       "      <td>0</td>\n",
       "      <td>0.100891</td>\n",
       "      <td>0.100041</td>\n",
       "      <td>0.100042</td>\n",
       "      <td>0.598082</td>\n",
       "      <td>0.100944</td>\n",
       "      <td>0</td>\n",
       "      <td>0</td>\n",
       "      <td>0</td>\n",
       "      <td>0</td>\n",
       "      <td>0</td>\n",
       "      <td>0</td>\n",
       "      <td>0</td>\n",
       "      <td>0</td>\n",
       "      <td>0</td>\n",
       "      <td>0</td>\n",
       "    </tr>\n",
       "    <tr>\n",
       "      <td>1</td>\n",
       "      <td>0.219473</td>\n",
       "      <td>0.000000</td>\n",
       "      <td>0.000000</td>\n",
       "      <td>0.000000</td>\n",
       "      <td>0.767086</td>\n",
       "      <td>0</td>\n",
       "      <td>0</td>\n",
       "      <td>0</td>\n",
       "      <td>0</td>\n",
       "      <td>0</td>\n",
       "      <td>0</td>\n",
       "      <td>0</td>\n",
       "      <td>0</td>\n",
       "      <td>0</td>\n",
       "      <td>0</td>\n",
       "    </tr>\n",
       "    <tr>\n",
       "      <td>2</td>\n",
       "      <td>0.000000</td>\n",
       "      <td>0.000000</td>\n",
       "      <td>0.000000</td>\n",
       "      <td>0.000000</td>\n",
       "      <td>0.994962</td>\n",
       "      <td>0</td>\n",
       "      <td>0</td>\n",
       "      <td>0</td>\n",
       "      <td>0</td>\n",
       "      <td>0</td>\n",
       "      <td>0</td>\n",
       "      <td>0</td>\n",
       "      <td>0</td>\n",
       "      <td>0</td>\n",
       "      <td>0</td>\n",
       "    </tr>\n",
       "    <tr>\n",
       "      <td>3</td>\n",
       "      <td>0.000000</td>\n",
       "      <td>0.000000</td>\n",
       "      <td>0.000000</td>\n",
       "      <td>0.000000</td>\n",
       "      <td>0.993651</td>\n",
       "      <td>0</td>\n",
       "      <td>0</td>\n",
       "      <td>0</td>\n",
       "      <td>0</td>\n",
       "      <td>0</td>\n",
       "      <td>0</td>\n",
       "      <td>0</td>\n",
       "      <td>0</td>\n",
       "      <td>0</td>\n",
       "      <td>0</td>\n",
       "    </tr>\n",
       "    <tr>\n",
       "      <td>4</td>\n",
       "      <td>0.824324</td>\n",
       "      <td>0.000000</td>\n",
       "      <td>0.000000</td>\n",
       "      <td>0.000000</td>\n",
       "      <td>0.154746</td>\n",
       "      <td>0</td>\n",
       "      <td>0</td>\n",
       "      <td>0</td>\n",
       "      <td>0</td>\n",
       "      <td>0</td>\n",
       "      <td>0</td>\n",
       "      <td>0</td>\n",
       "      <td>0</td>\n",
       "      <td>0</td>\n",
       "      <td>0</td>\n",
       "    </tr>\n",
       "  </tbody>\n",
       "</table>\n",
       "</div>"
      ],
      "text/plain": [
       "          0         1         2         3         4  5  6  7  8  9  10  11  \\\n",
       "0  0.100891  0.100041  0.100042  0.598082  0.100944  0  0  0  0  0   0   0   \n",
       "1  0.219473  0.000000  0.000000  0.000000  0.767086  0  0  0  0  0   0   0   \n",
       "2  0.000000  0.000000  0.000000  0.000000  0.994962  0  0  0  0  0   0   0   \n",
       "3  0.000000  0.000000  0.000000  0.000000  0.993651  0  0  0  0  0   0   0   \n",
       "4  0.824324  0.000000  0.000000  0.000000  0.154746  0  0  0  0  0   0   0   \n",
       "\n",
       "   12  13  14  \n",
       "0   0   0   0  \n",
       "1   0   0   0  \n",
       "2   0   0   0  \n",
       "3   0   0   0  \n",
       "4   0   0   0  "
      ]
     },
     "execution_count": 520,
     "metadata": {},
     "output_type": "execute_result"
    }
   ],
   "source": [
    "z = listify(results)\n",
    "dtd = pd.DataFrame(z)  # dtd: document topic distribution\n",
    "dtd.head()"
   ]
  },
  {
   "cell_type": "code",
   "execution_count": 521,
   "metadata": {},
   "outputs": [
    {
     "data": {
      "text/plain": [
       "4     0.285433\n",
       "0     0.259826\n",
       "2     0.180522\n",
       "3     0.141681\n",
       "1     0.128249\n",
       "14    0.000000\n",
       "13    0.000000\n",
       "12    0.000000\n",
       "11    0.000000\n",
       "10    0.000000\n",
       "9     0.000000\n",
       "8     0.000000\n",
       "7     0.000000\n",
       "6     0.000000\n",
       "5     0.000000\n",
       "dtype: float64"
      ]
     },
     "execution_count": 521,
     "metadata": {},
     "output_type": "execute_result"
    }
   ],
   "source": [
    "# for example, we can find out which topic is most prevalent, based on \"document-topic distribution\"?\n",
    "\n",
    "#dtd.sum(axis=0)  # find column sum          # axis=1 --> row sum\n",
    "#dtd.sum(axis=0).sort_values(ascending=False)\n",
    "dtd.sum(axis=0).sort_values(ascending=False) / len(dtd)   # topic prevalence or popularity"
   ]
  },
  {
   "cell_type": "markdown",
   "metadata": {},
   "source": [
    "- c. Word cloud for the most prevalent topic."
   ]
  },
  {
   "cell_type": "code",
   "execution_count": 522,
   "metadata": {},
   "outputs": [
    {
     "data": {
      "text/plain": [
       "<matplotlib.axes._subplots.AxesSubplot at 0x27bf0d117c8>"
      ]
     },
     "execution_count": 522,
     "metadata": {},
     "output_type": "execute_result"
    },
    {
     "data": {
      "image/png": "[encoded data removed]",
      "text/plain": [
       "<Figure size 432x288 with 1 Axes>"
      ]
     },
     "metadata": {
      "needs_background": "light"
     },
     "output_type": "display_data"
    }
   ],
   "source": [
    "# visualize topic prevalence (from most popular to least popular using horizontal bar)\n",
    "(dtd.sum(axis=0).sort_values() / len(dtd)).plot(kind ='barh')"
   ]
  },
  {
   "cell_type": "code",
   "execution_count": 523,
   "metadata": {},
   "outputs": [
    {
     "data": {
      "text/plain": [
       "82"
      ]
     },
     "execution_count": 523,
     "metadata": {},
     "output_type": "execute_result"
    }
   ],
   "source": [
    "dtd[3].idxmax()"
   ]
  },
  {
   "cell_type": "code",
   "execution_count": 530,
   "metadata": {},
   "outputs": [
    {
     "data": {
      "text/plain": [
       "documents    (Before It's News) King of Shambhala also see ...\n",
       "Name: 1127, dtype: object"
      ]
     },
     "execution_count": 530,
     "metadata": {},
     "output_type": "execute_result"
    }
   ],
   "source": [
    "#pd.set_option('display.max_colwidth', -1)   # show entire data\n",
    "pd.options.display.max_colwidth = 50\n",
    "dfdata.loc[dtd[4].idxmax()]"
   ]
  },
  {
   "cell_type": "code",
   "execution_count": 531,
   "metadata": {},
   "outputs": [
    {
     "data": {
      "text/html": [
       "<div>\n",
       "<style scoped>\n",
       "    .dataframe tbody tr th:only-of-type {\n",
       "        vertical-align: middle;\n",
       "    }\n",
       "\n",
       "    .dataframe tbody tr th {\n",
       "        vertical-align: top;\n",
       "    }\n",
       "\n",
       "    .dataframe thead th {\n",
       "        text-align: right;\n",
       "    }\n",
       "</style>\n",
       "<table border=\"1\" class=\"dataframe\">\n",
       "  <thead>\n",
       "    <tr style=\"text-align: right;\">\n",
       "      <th></th>\n",
       "      <th>documents</th>\n",
       "      <th>0</th>\n",
       "      <th>1</th>\n",
       "      <th>2</th>\n",
       "      <th>3</th>\n",
       "      <th>4</th>\n",
       "      <th>5</th>\n",
       "      <th>6</th>\n",
       "      <th>7</th>\n",
       "      <th>8</th>\n",
       "      <th>9</th>\n",
       "      <th>10</th>\n",
       "      <th>11</th>\n",
       "      <th>12</th>\n",
       "      <th>13</th>\n",
       "      <th>14</th>\n",
       "    </tr>\n",
       "  </thead>\n",
       "  <tbody>\n",
       "    <tr>\n",
       "      <td>0</td>\n",
       "      <td>text</td>\n",
       "      <td>0.100891</td>\n",
       "      <td>0.100041</td>\n",
       "      <td>0.100042</td>\n",
       "      <td>0.598082</td>\n",
       "      <td>0.100944</td>\n",
       "      <td>0</td>\n",
       "      <td>0</td>\n",
       "      <td>0</td>\n",
       "      <td>0</td>\n",
       "      <td>0</td>\n",
       "      <td>0</td>\n",
       "      <td>0</td>\n",
       "      <td>0</td>\n",
       "      <td>0</td>\n",
       "      <td>0</td>\n",
       "    </tr>\n",
       "    <tr>\n",
       "      <td>1</td>\n",
       "      <td>Print They should pay all the back all the mon...</td>\n",
       "      <td>0.219473</td>\n",
       "      <td>0.000000</td>\n",
       "      <td>0.000000</td>\n",
       "      <td>0.000000</td>\n",
       "      <td>0.767086</td>\n",
       "      <td>0</td>\n",
       "      <td>0</td>\n",
       "      <td>0</td>\n",
       "      <td>0</td>\n",
       "      <td>0</td>\n",
       "      <td>0</td>\n",
       "      <td>0</td>\n",
       "      <td>0</td>\n",
       "      <td>0</td>\n",
       "      <td>0</td>\n",
       "    </tr>\n",
       "    <tr>\n",
       "      <td>2</td>\n",
       "      <td>Why Did Attorney General Loretta Lynch Plead T...</td>\n",
       "      <td>0.000000</td>\n",
       "      <td>0.000000</td>\n",
       "      <td>0.000000</td>\n",
       "      <td>0.000000</td>\n",
       "      <td>0.994962</td>\n",
       "      <td>0</td>\n",
       "      <td>0</td>\n",
       "      <td>0</td>\n",
       "      <td>0</td>\n",
       "      <td>0</td>\n",
       "      <td>0</td>\n",
       "      <td>0</td>\n",
       "      <td>0</td>\n",
       "      <td>0</td>\n",
       "      <td>0</td>\n",
       "    </tr>\n",
       "    <tr>\n",
       "      <td>3</td>\n",
       "      <td>Red State :  Fox News Sunday reported this mor...</td>\n",
       "      <td>0.000000</td>\n",
       "      <td>0.000000</td>\n",
       "      <td>0.000000</td>\n",
       "      <td>0.000000</td>\n",
       "      <td>0.993651</td>\n",
       "      <td>0</td>\n",
       "      <td>0</td>\n",
       "      <td>0</td>\n",
       "      <td>0</td>\n",
       "      <td>0</td>\n",
       "      <td>0</td>\n",
       "      <td>0</td>\n",
       "      <td>0</td>\n",
       "      <td>0</td>\n",
       "      <td>0</td>\n",
       "    </tr>\n",
       "    <tr>\n",
       "      <td>4</td>\n",
       "      <td>Email Kayla Mueller was a prisoner and torture...</td>\n",
       "      <td>0.824324</td>\n",
       "      <td>0.000000</td>\n",
       "      <td>0.000000</td>\n",
       "      <td>0.000000</td>\n",
       "      <td>0.154746</td>\n",
       "      <td>0</td>\n",
       "      <td>0</td>\n",
       "      <td>0</td>\n",
       "      <td>0</td>\n",
       "      <td>0</td>\n",
       "      <td>0</td>\n",
       "      <td>0</td>\n",
       "      <td>0</td>\n",
       "      <td>0</td>\n",
       "      <td>0</td>\n",
       "    </tr>\n",
       "  </tbody>\n",
       "</table>\n",
       "</div>"
      ],
      "text/plain": [
       "                                           documents         0         1  \\\n",
       "0                                               text  0.100891  0.100041   \n",
       "1  Print They should pay all the back all the mon...  0.219473  0.000000   \n",
       "2  Why Did Attorney General Loretta Lynch Plead T...  0.000000  0.000000   \n",
       "3  Red State :  Fox News Sunday reported this mor...  0.000000  0.000000   \n",
       "4  Email Kayla Mueller was a prisoner and torture...  0.824324  0.000000   \n",
       "\n",
       "          2         3         4  5  6  7  8  9  10  11  12  13  14  \n",
       "0  0.100042  0.598082  0.100944  0  0  0  0  0   0   0   0   0   0  \n",
       "1  0.000000  0.000000  0.767086  0  0  0  0  0   0   0   0   0   0  \n",
       "2  0.000000  0.000000  0.994962  0  0  0  0  0   0   0   0   0   0  \n",
       "3  0.000000  0.000000  0.993651  0  0  0  0  0   0   0   0   0   0  \n",
       "4  0.000000  0.000000  0.154746  0  0  0  0  0   0   0   0   0   0  "
      ]
     },
     "execution_count": 531,
     "metadata": {},
     "output_type": "execute_result"
    }
   ],
   "source": [
    "# let's combine LDA document topic distribution with the original data\n",
    "df = dfdata.join(dtd)\n",
    "df.head()"
   ]
  },
  {
   "cell_type": "code",
   "execution_count": 532,
   "metadata": {},
   "outputs": [
    {
     "data": {
      "text/plain": [
       "0     1282\n",
       "1     1300\n",
       "2     1175\n",
       "3       82\n",
       "4     1127\n",
       "5        0\n",
       "6        0\n",
       "7        0\n",
       "8        0\n",
       "9        0\n",
       "10       0\n",
       "11       0\n",
       "12       0\n",
       "13       0\n",
       "14       0\n",
       "dtype: int64"
      ]
     },
     "execution_count": 532,
     "metadata": {},
     "output_type": "execute_result"
    }
   ],
   "source": [
    "# find the index number based on each column max\n",
    "df.iloc[:,1:].idxmax()"
   ]
  },
  {
   "cell_type": "code",
   "execution_count": 533,
   "metadata": {},
   "outputs": [
    {
     "data": {
      "text/html": [
       "<div>\n",
       "<style scoped>\n",
       "    .dataframe tbody tr th:only-of-type {\n",
       "        vertical-align: middle;\n",
       "    }\n",
       "\n",
       "    .dataframe tbody tr th {\n",
       "        vertical-align: top;\n",
       "    }\n",
       "\n",
       "    .dataframe thead th {\n",
       "        text-align: right;\n",
       "    }\n",
       "</style>\n",
       "<table border=\"1\" class=\"dataframe\">\n",
       "  <thead>\n",
       "    <tr style=\"text-align: right;\">\n",
       "      <th></th>\n",
       "      <th>toptopic probability</th>\n",
       "    </tr>\n",
       "  </thead>\n",
       "  <tbody>\n",
       "    <tr>\n",
       "      <td>0</td>\n",
       "      <td>0.999655</td>\n",
       "    </tr>\n",
       "    <tr>\n",
       "      <td>1</td>\n",
       "      <td>0.999666</td>\n",
       "    </tr>\n",
       "    <tr>\n",
       "      <td>2</td>\n",
       "      <td>0.999537</td>\n",
       "    </tr>\n",
       "    <tr>\n",
       "      <td>3</td>\n",
       "      <td>0.999693</td>\n",
       "    </tr>\n",
       "    <tr>\n",
       "      <td>4</td>\n",
       "      <td>0.999270</td>\n",
       "    </tr>\n",
       "    <tr>\n",
       "      <td>5</td>\n",
       "      <td>0.000000</td>\n",
       "    </tr>\n",
       "    <tr>\n",
       "      <td>6</td>\n",
       "      <td>0.000000</td>\n",
       "    </tr>\n",
       "    <tr>\n",
       "      <td>7</td>\n",
       "      <td>0.000000</td>\n",
       "    </tr>\n",
       "    <tr>\n",
       "      <td>8</td>\n",
       "      <td>0.000000</td>\n",
       "    </tr>\n",
       "    <tr>\n",
       "      <td>9</td>\n",
       "      <td>0.000000</td>\n",
       "    </tr>\n",
       "    <tr>\n",
       "      <td>10</td>\n",
       "      <td>0.000000</td>\n",
       "    </tr>\n",
       "    <tr>\n",
       "      <td>11</td>\n",
       "      <td>0.000000</td>\n",
       "    </tr>\n",
       "    <tr>\n",
       "      <td>12</td>\n",
       "      <td>0.000000</td>\n",
       "    </tr>\n",
       "    <tr>\n",
       "      <td>13</td>\n",
       "      <td>0.000000</td>\n",
       "    </tr>\n",
       "    <tr>\n",
       "      <td>14</td>\n",
       "      <td>0.000000</td>\n",
       "    </tr>\n",
       "  </tbody>\n",
       "</table>\n",
       "</div>"
      ],
      "text/plain": [
       "    toptopic probability\n",
       "0               0.999655\n",
       "1               0.999666\n",
       "2               0.999537\n",
       "3               0.999693\n",
       "4               0.999270\n",
       "5               0.000000\n",
       "6               0.000000\n",
       "7               0.000000\n",
       "8               0.000000\n",
       "9               0.000000\n",
       "10              0.000000\n",
       "11              0.000000\n",
       "12              0.000000\n",
       "13              0.000000\n",
       "14              0.000000"
      ]
     },
     "execution_count": 533,
     "metadata": {},
     "output_type": "execute_result"
    }
   ],
   "source": [
    "# max value of each column\n",
    "toptopicprobability = pd.DataFrame(df.iloc[:,1:].max()).rename(columns={0:'toptopic probability'})\n",
    "toptopicprobability"
   ]
  },
  {
   "cell_type": "code",
   "execution_count": 534,
   "metadata": {},
   "outputs": [
    {
     "data": {
      "text/html": [
       "<div>\n",
       "<style scoped>\n",
       "    .dataframe tbody tr th:only-of-type {\n",
       "        vertical-align: middle;\n",
       "    }\n",
       "\n",
       "    .dataframe tbody tr th {\n",
       "        vertical-align: top;\n",
       "    }\n",
       "\n",
       "    .dataframe thead th {\n",
       "        text-align: right;\n",
       "    }\n",
       "</style>\n",
       "<table border=\"1\" class=\"dataframe\">\n",
       "  <thead>\n",
       "    <tr style=\"text-align: right;\">\n",
       "      <th></th>\n",
       "      <th>documents</th>\n",
       "    </tr>\n",
       "  </thead>\n",
       "  <tbody>\n",
       "    <tr>\n",
       "      <td>0</td>\n",
       "      <td>Tweet Widget by Nathan J. Robinson  Bill and H...</td>\n",
       "    </tr>\n",
       "    <tr>\n",
       "      <td>1</td>\n",
       "      <td>2016 elections by Robin D.G. Kelley  The autho...</td>\n",
       "    </tr>\n",
       "    <tr>\n",
       "      <td>2</td>\n",
       "      <td>(Before It's News) Abadi says they enter new p...</td>\n",
       "    </tr>\n",
       "    <tr>\n",
       "      <td>3</td>\n",
       "      <td>United States Marine Field McConnell  Plum Cit...</td>\n",
       "    </tr>\n",
       "    <tr>\n",
       "      <td>4</td>\n",
       "      <td>(Before It's News) King of Shambhala also see ...</td>\n",
       "    </tr>\n",
       "  </tbody>\n",
       "</table>\n",
       "</div>"
      ],
      "text/plain": [
       "                                           documents\n",
       "0  Tweet Widget by Nathan J. Robinson  Bill and H...\n",
       "1  2016 elections by Robin D.G. Kelley  The autho...\n",
       "2  (Before It's News) Abadi says they enter new p...\n",
       "3  United States Marine Field McConnell  Plum Cit...\n",
       "4  (Before It's News) King of Shambhala also see ..."
      ]
     },
     "execution_count": 534,
     "metadata": {},
     "output_type": "execute_result"
    }
   ],
   "source": [
    "# find the index number based on each column max\n",
    "maxValueIndex = df.iloc[:,1:].idxmax()\n",
    "\n",
    "topdocuments = [ df['documents'].iloc[i] for i in maxValueIndex ] \n",
    "dftopdocuments = pd.DataFrame(topdocuments).rename(columns={0: 'documents'})\n",
    "dftopdocuments.head()"
   ]
  },
  {
   "cell_type": "code",
   "execution_count": 591,
   "metadata": {},
   "outputs": [
    {
     "data": {
      "text/html": [
       "<div>\n",
       "<style scoped>\n",
       "    .dataframe tbody tr th:only-of-type {\n",
       "        vertical-align: middle;\n",
       "    }\n",
       "\n",
       "    .dataframe tbody tr th {\n",
       "        vertical-align: top;\n",
       "    }\n",
       "\n",
       "    .dataframe thead th {\n",
       "        text-align: right;\n",
       "    }\n",
       "</style>\n",
       "<table border=\"1\" class=\"dataframe\">\n",
       "  <thead>\n",
       "    <tr style=\"text-align: right;\">\n",
       "      <th></th>\n",
       "      <th>topic</th>\n",
       "      <th>documents</th>\n",
       "      <th>toptopic probability</th>\n",
       "    </tr>\n",
       "  </thead>\n",
       "  <tbody>\n",
       "    <tr>\n",
       "      <td>0</td>\n",
       "      <td>0</td>\n",
       "      <td>Tweet Widget by Nathan J. Robinson  Bill and H...</td>\n",
       "      <td>0.999655</td>\n",
       "    </tr>\n",
       "    <tr>\n",
       "      <td>1</td>\n",
       "      <td>1</td>\n",
       "      <td>2016 elections by Robin D.G. Kelley  The autho...</td>\n",
       "      <td>0.999666</td>\n",
       "    </tr>\n",
       "    <tr>\n",
       "      <td>2</td>\n",
       "      <td>2</td>\n",
       "      <td>(Before It's News) Abadi says they enter new p...</td>\n",
       "      <td>0.999537</td>\n",
       "    </tr>\n",
       "    <tr>\n",
       "      <td>3</td>\n",
       "      <td>3</td>\n",
       "      <td>United States Marine Field McConnell  Plum Cit...</td>\n",
       "      <td>0.999693</td>\n",
       "    </tr>\n",
       "  </tbody>\n",
       "</table>\n",
       "</div>"
      ],
      "text/plain": [
       "   topic                                          documents  \\\n",
       "0      0  Tweet Widget by Nathan J. Robinson  Bill and H...   \n",
       "1      1  2016 elections by Robin D.G. Kelley  The autho...   \n",
       "2      2  (Before It's News) Abadi says they enter new p...   \n",
       "3      3  United States Marine Field McConnell  Plum Cit...   \n",
       "\n",
       "   toptopic probability  \n",
       "0              0.999655  \n",
       "1              0.999666  \n",
       "2              0.999537  \n",
       "3              0.999693  "
      ]
     },
     "execution_count": 591,
     "metadata": {},
     "output_type": "execute_result"
    }
   ],
   "source": [
    "topdocumentpertopic = dftopdocuments.join(toptopicprobability).reset_index().rename(columns={'index': 'topic'})\n",
    "topdocumentpertopic[:4]"
   ]
  },
  {
   "cell_type": "markdown",
   "metadata": {},
   "source": [
    "- b. which document is most prevalent for each topic? The most representative document for each topic."
   ]
  },
  {
   "cell_type": "code",
   "execution_count": 610,
   "metadata": {},
   "outputs": [
    {
     "data": {
      "text/html": [
       "<div>\n",
       "<style scoped>\n",
       "    .dataframe tbody tr th:only-of-type {\n",
       "        vertical-align: middle;\n",
       "    }\n",
       "\n",
       "    .dataframe tbody tr th {\n",
       "        vertical-align: top;\n",
       "    }\n",
       "\n",
       "    .dataframe thead th {\n",
       "        text-align: right;\n",
       "    }\n",
       "</style>\n",
       "<table border=\"1\" class=\"dataframe\">\n",
       "  <thead>\n",
       "    <tr style=\"text-align: right;\">\n",
       "      <th></th>\n",
       "      <th>0</th>\n",
       "      <th>1</th>\n",
       "      <th>2</th>\n",
       "      <th>3</th>\n",
       "      <th>4</th>\n",
       "      <th>5</th>\n",
       "      <th>6</th>\n",
       "      <th>7</th>\n",
       "      <th>8</th>\n",
       "      <th>9</th>\n",
       "      <th>10</th>\n",
       "      <th>11</th>\n",
       "      <th>12</th>\n",
       "      <th>13</th>\n",
       "      <th>14</th>\n",
       "    </tr>\n",
       "    <tr>\n",
       "      <th>documents</th>\n",
       "      <th></th>\n",
       "      <th></th>\n",
       "      <th></th>\n",
       "      <th></th>\n",
       "      <th></th>\n",
       "      <th></th>\n",
       "      <th></th>\n",
       "      <th></th>\n",
       "      <th></th>\n",
       "      <th></th>\n",
       "      <th></th>\n",
       "      <th></th>\n",
       "      <th></th>\n",
       "      <th></th>\n",
       "      <th></th>\n",
       "    </tr>\n",
       "  </thead>\n",
       "  <tbody>\n",
       "    <tr>\n",
       "      <td></td>\n",
       "      <td>0.200000</td>\n",
       "      <td>0.200000</td>\n",
       "      <td>0.200000</td>\n",
       "      <td>0.200000</td>\n",
       "      <td>0.200000</td>\n",
       "      <td>0</td>\n",
       "      <td>0</td>\n",
       "      <td>0</td>\n",
       "      <td>0</td>\n",
       "      <td>0</td>\n",
       "      <td>0</td>\n",
       "      <td>0</td>\n",
       "      <td>0</td>\n",
       "      <td>0</td>\n",
       "      <td>0</td>\n",
       "    </tr>\n",
       "    <tr>\n",
       "      <td>block the US from being stationed on the islands off Hokkaido in the strategic Sea of Okhotsk, if this helps persuade Russia to give them back.  The islands are inhabited, and in Russia are called the Southern Kurils â€“ but for Japan they are Etorofu, Kunashiri, Shikotan, and the Habomai islet group. These territories, which became Russian after Japanâ€™s defeat in World War II under the San Francisco Peace Treaty of 1951, saw a rift between the two countries preventing them from signing the peace treaty to formally end the war. Tokyo insists the four islets are not part of the Kuril chain and should be returned under its control.  In September, Russian President Vladimir Putin told Bloomberg that Russia does not â€œtrade territories.â€ But ahead of his visit to Tokyo in mid-December, Japanâ€™s diplomatic sources told Kyodo News that Moscow would hand over Shikotan and Habomai islet group following the peace deal, as stated by the 1956 Japan-Soviet Joint Declaration.  The sources, however, said Russia may be concerned that the US military could be stationed on the territories after Japan gets them back. According to Article 5 of the Japan-US security treaty, Washington is allowed to station its troops in areas administered by Japan.  The Japanese government is now looking into the potential consequences, should they exclude the islands from Article 5, the sources said, with one of them adding that Japanese Prime Minister Shinzo Abe could go as far as announcing that the islands do not fall under Article 5.  Other sources, however, think that â€œa realistic scenario is that the prime minister shows his political will and seeks consent from the United States.â€  At the same time, â€œRussia wonâ€™t agree to hand over [the islands] unless the possibility of stationing the US military there is ruled out,â€ a source familiar with the Japanese-Russian ties told The Japan Times over the weekend.  Nevertheless, convincing the US to okay such conditions seems very difficult, a Japanese government source said, adding that â€œIt could even shake the foundations of the [Japan-US military] alliance.â€  For Russia, the area around the disputed islands is of â€œextremely high importanceâ€ because it faces the Sea of Okhotsk, a Japanese government source said, and a foreign military in these waters could hamper both essential military drills and the use of a major access route to the Pacific Ocean.  Tokyo has already rejected the report, saying they are not planning to review Article 5, TASS news agency said, citing Prime Minister Shinzo Abe. Japanese Foreign Minister Fumio Kishida reiterated it, adding that the Japan-US treaty â€œapplies and will applyâ€ to all territories and waters which are administered by Japan.  Earlier in the month, Tokyo also denied Nikkeiâ€™s report that Japan and Russia were discussing joint administration of the Kuril Islands.  â€œThere is no change in Japanâ€™s fundamental position that Japan will conclude the peace treaty with Russia by resolving the issue of the possession of the four northern islands,â€ Japanese Foreign Ministry spokesman Yasuhira Kawamura told Reuters in an email at that time.  Russia has always insisted that any change in the status of the islands is out of the question, as it would constitute a reassessment of the results of World War II, which is expressly banned by international treaties.</td>\n",
       "      <td>0.560666</td>\n",
       "      <td>0.000000</td>\n",
       "      <td>0.427800</td>\n",
       "      <td>0.010202</td>\n",
       "      <td>0.000000</td>\n",
       "      <td>0</td>\n",
       "      <td>0</td>\n",
       "      <td>0</td>\n",
       "      <td>0</td>\n",
       "      <td>0</td>\n",
       "      <td>0</td>\n",
       "      <td>0</td>\n",
       "      <td>0</td>\n",
       "      <td>0</td>\n",
       "      <td>0</td>\n",
       "    </tr>\n",
       "    <tr>\n",
       "      <td>DAILY CALLER    330,000 Russian troops amassing along European borders.  NATO will contribute a 4,000-strong force to bolster the defenses of its members in the Baltic states and eastern Europe. Four battle groups will be created out of forces by early next year. The battle groups will be bolstered by a 40,000-strong reaction force, and various reinforcements as needed. The plan is the fulfillment of a promise to increase the defenses of former Soviet-bloc members under threat from Russian aggression.  â€œThis month alone, Russia is deploying nuclear-capable Iskander missiles to Kaliningrad and suspending a weapons-grade plutonium agreement with the United States,â€ said Stoltenberg Wednesday while attending a meeting of NATO defense ministers in Brussels, Belgium. The deployment of the missiles to Kaliningrad, a small Russian satellite territory located between Poland and Lithuania, puts Poland and the Baltic states directly in Russiaâ€™s sights.  U.S. Secretary of Defense Ash Carter announced a battalion of 900 â€œbattle-readyâ€ soldiers will be deployed to eastern Poland as part of the new commitment. British Defense Secretary Michael Fallon said his country will be sending a battalion of 800 soldiers to Estonia, in addition to a contingent of Typhoon fighter aircraft to Romania. Canada plans to send 450 troops to Latvia, backed by 140 Italians. Germany will contribute 400 to 600 troops to Lithuania.  Russia steadily built up its military presence on the European border for several months. Russian Defense Minister Sergey Shoigu announced a plan to recruit 30,000 additional forces to be stationed on Russiaâ€™s eastern flank in May, followed by the deployment of the Iskander missiles to Kaliningrad in early October.  The massive military build-up represents one of the largest since the Cold War, and comes at a time when tensions between the West and Moscow at are dangerously tense.  Send tips to [email protected] .</td>\n",
       "      <td>0.000000</td>\n",
       "      <td>0.000000</td>\n",
       "      <td>0.216894</td>\n",
       "      <td>0.779826</td>\n",
       "      <td>0.000000</td>\n",
       "      <td>0</td>\n",
       "      <td>0</td>\n",
       "      <td>0</td>\n",
       "      <td>0</td>\n",
       "      <td>0</td>\n",
       "      <td>0</td>\n",
       "      <td>0</td>\n",
       "      <td>0</td>\n",
       "      <td>0</td>\n",
       "      <td>0</td>\n",
       "    </tr>\n",
       "    <tr>\n",
       "      <td>A Black Agenda Radio Commentary by Bruce A. Dixon  When astute political commentary from a half century ago eloquently describes the current political conundrum it means weâ€™ve been stuck in a bad place for a long time. Do we really want Malcolmâ€™s observation to apply four or eight or twenty years further into the future? Malcolm X on Hillary Clinton and Donald Trump A Black Agenda Radio Commentary by Bruce A. Dixon  Itâ€™s that time again, itâ€™s presidential election season, and as we hear every four years, THIS is the most important presidential election of our lives. The fact that youâ€™ve heard that before should tell us something. It should us that in presidential years, many old things becomes new again, often because so much of what weâ€™re told IS new is really pretty old.  Malcolm X has been dead now a half century, dead for more years than he was ever alive. But since at least one of the tricks and traps deployed to fool, frustrate and neutralize our grandparentsâ€™ right to vote hasnâ€™t changed much we might want to listen carefully to what Malcolmâ€™s words in the aftermath of the 1964 presidential election.  â€œ If Johnson had been running all by himself, he would not have been acceptable to anyone. The only thing that made him acceptable to the world was that the shrewd capitalists, the shrewd imperialists, knew that the only way people would run toward the fox would be if you showed them a wolf. So they created a ghastly alternative. And it had the whole world â€” including people who call themselves Marxists â€” hoping that Johnson would beat Goldwater.â€  Like todayâ€™s Donald Trump, Republican presidential candidate Barry Goldwater was a truly reprehensible and frightening figure, who had opposed the Civil Rights Act of 1964 that banned racial discrimination in public accommodations, and who favored the use of nuclear weapons to defoliate the Vietnamese countryside. Also like Donald Trump, Goldwater never really stood a chance of winning the election. Goldwater the wolf was buried beneath a Johnson landslide, carrying only 6 out of the 50 states. Republican officeholders are running away from Donald Trump not because heâ€™s a racist bufoon but because heâ€™s expected to lose states Republicans are accustomed to winning.  The fox, Lyndon Baines Johnson went on to start a war in Indochina that killed three million Vietnamese alone. LBJ defoliated the Vietnamese countryside with millions of tons of Agent Orange instead of nukes, causing hundreds of thousands of hideous and gruesome birth defects that continue to this day.  The wolf and the fox this year are Donald Trump and Hillary Clinton. Trump is a real estate con man, a racist and a hyper-entitled sexual predator who talks about building walls and banning Muslims. Fortunately for us all, Trump has never been in government. Hillary has scarcely ever been out of government. Sheâ€™s fronted for Wal-Mart, executed bloody regime change in Libya, brought US troops to Ukraine on the Russian border, and publicly itches for a showdown in Syria. Thanks to Wikileaks there is copious evidence that Hillaryâ€™s public stands on a wide range of issues from charter schools to so-called trade agreements, to fracking and social security stand in stark contrast to the promises she makes to the powerful.  Just as it worked 52 years ago, the overwhelming defeat of her wolvish opponent will give Hillary the appearance of a mandate. But the margin of Hillaryâ€™s victory provides those of us on the left an unprecedented opportunity. It means there is no need for those who imagine themselves on the of jobs, justice, peace and the planet to ride to Hilllaryâ€™s rescue and ensure the defeat of Donald Trump. Trump has already beaten himself.  This election is our best chance to break out of the decades-old two party trap and build a new political force, a new political party. The Green Party is the only peace party, the only party that stands for people and planet over profit, and our only opportunity to vote our hopes, not our fears. Itâ€™s time to choose.  We vote Green and build Green, we can consign the political conundrum Malcolm X eloquently described a half century ago to the garbage can of history. Or we can vote for Hillary, and Malcolmâ€™s words will be as applicable four or eight years or twenty years from now as they have been for the last fifty. For Black Agenda Radio Iâ€™m Bruce Dixon. Bruce Dixon is managing editor at Black Agenda Report and the co-chair of the GA Green party. He lives and works near Marietta GA and can be reached</td>\n",
       "      <td>0.357002</td>\n",
       "      <td>0.270229</td>\n",
       "      <td>0.000000</td>\n",
       "      <td>0.000000</td>\n",
       "      <td>0.371797</td>\n",
       "      <td>0</td>\n",
       "      <td>0</td>\n",
       "      <td>0</td>\n",
       "      <td>0</td>\n",
       "      <td>0</td>\n",
       "      <td>0</td>\n",
       "      <td>0</td>\n",
       "      <td>0</td>\n",
       "      <td>0</td>\n",
       "      <td>0</td>\n",
       "    </tr>\n",
       "    <tr>\n",
       "      <td>Dear Mr. Hodges,  This is to inform you that Wikileaks will soon, or has released Clinton emails which will demonstrate the following:   Please note that I have covered the ISIS/Lafarge/Clinton connections very prominently in the past year. This is just more confirmation of what I have already covered.  The above is already appearing on the Internet in several places. It is clear that Putin would be a fool to allow Clinton and her gang of thugs to continue with their plan. Every time Clinton sags in the polls, she starts talking about 9/11. The evidence is beginning to line up that Clinton interests had motive to commit 9/11. No wonder Clinton tries to blame the Russians for everything, she is the main culprit on the world being brought to the precipice of World War III.  It is a gratifying feeling when the dots start to connect.  The Aaron Klein Revelations  Aaron Klein, the Breitbart Bureau Chief for Jerusalem revealed, in a B reitbart publication dated March 1, 2016, revealed that â€œthe email from April 10th, 2011, the State Department employee, Timmy Davis, forwarded an email to the server by Clintonâ€™s aide, Huma Abedin .â€ Please note that the time of this revelation, Huma Abedin, was not yet a household name. VIDEO: Pizza Hut Employees Caught On Tape Taking Celebratory BONG HITS AT WORK!  The series of emails will eventually have catastrophic consequences for Ambassador Stevens. â€œAn email containing the whereabouts and plans of murdered U.S. Ambassador Chris Stevens passed through Hillary Clintonâ€™s private server, dispatches released Monday in the final group of messages from Clintonâ€™s emails reveal.â€  Below are some examples of the allegations posed by Klein and these are not empty charges as Klein offered as proof, the following emails .  â€œA March 27, 2011 email released last year was titled, â€œChris Stevens mission.â€ It divulged: â€œThe current game plan is for Mr. Stevens to move no later than Wednesday from Malta to Benghazi. He will stage offshore initially for a one day visit during which he will have meetings with TNC interlocutors and get a sense of the situation on the ground. The goal of this one day trip is for him to lay the groundwork for a stay of up to 30 days.  An April 8, 2011 email was forwarded to Clinton revealing the â€œsecurity situation in Benghazi remains quiet. Chris Stevens &amp; team are in the hotel, moving only for meetings as required.â€  An April 22, 2011 email revealed Stevens was on the road: â€œI want to let you know about a temporary rotation in Benghazi. TNC Envoy Chris Stevens has been on the road since March 13, when he began his outreach mission, and has been in Benghazi since April 5.â€ CONVICTED KILLER RELEASED FROM JAIL BY MISTAKE  An April 24, 2011 email has the exact time of a Stevens meeting: â€œâ€Stevens will be meeting with MFA in one hour and will make a written request for better security at the hotel and for better security-related coordination. He still feels comfortable in the hotel. They are looking into the idea of moving into a villa, but that is some way off.â€  If later emails are released, I have no doubt, that we will see that Clinton was transmitting Stevens location up until the time of the attack upon the Benghazi compound and this explains why some of these emails are not being released. However, at some point, they will see the light of day.  The release of travel information, in any form, is a felony! Remember, the Stevens travel plans are classified and they came from Clintonâ€™s private server. A casual Law and Order fan could make the causal connections between the release of these emails and Stevens death. This is absolute evidence that Clinton not only is guilty of multiple felonies, she is an accomplice to murder!</td>\n",
       "      <td>0.390683</td>\n",
       "      <td>0.000000</td>\n",
       "      <td>0.000000</td>\n",
       "      <td>0.000000</td>\n",
       "      <td>0.607464</td>\n",
       "      <td>0</td>\n",
       "      <td>0</td>\n",
       "      <td>0</td>\n",
       "      <td>0</td>\n",
       "      <td>0</td>\n",
       "      <td>0</td>\n",
       "      <td>0</td>\n",
       "      <td>0</td>\n",
       "      <td>0</td>\n",
       "      <td>0</td>\n",
       "    </tr>\n",
       "  </tbody>\n",
       "</table>\n",
       "</div>"
      ],
      "text/plain": [
       "                                                          0         1   \\\n",
       "documents                                                                \n",
       "                                                    0.200000  0.200000   \n",
       "     block the US from being stationed on the i...  0.560666  0.000000   \n",
       "   DAILY CALLER    330,000 Russian troops amass...  0.000000  0.000000   \n",
       "  A Black Agenda Radio Commentary by Bruce A. D...  0.357002  0.270229   \n",
       "  Dear Mr. Hodges,  This is to inform you that ...  0.390683  0.000000   \n",
       "\n",
       "                                                          2         3   \\\n",
       "documents                                                                \n",
       "                                                    0.200000  0.200000   \n",
       "     block the US from being stationed on the i...  0.427800  0.010202   \n",
       "   DAILY CALLER    330,000 Russian troops amass...  0.216894  0.779826   \n",
       "  A Black Agenda Radio Commentary by Bruce A. D...  0.000000  0.000000   \n",
       "  Dear Mr. Hodges,  This is to inform you that ...  0.000000  0.000000   \n",
       "\n",
       "                                                          4   5   6   7   8   \\\n",
       "documents                                                                      \n",
       "                                                    0.200000   0   0   0   0   \n",
       "     block the US from being stationed on the i...  0.000000   0   0   0   0   \n",
       "   DAILY CALLER    330,000 Russian troops amass...  0.000000   0   0   0   0   \n",
       "  A Black Agenda Radio Commentary by Bruce A. D...  0.371797   0   0   0   0   \n",
       "  Dear Mr. Hodges,  This is to inform you that ...  0.607464   0   0   0   0   \n",
       "\n",
       "                                                    9   10  11  12  13  14  \n",
       "documents                                                                   \n",
       "                                                     0   0   0   0   0   0  \n",
       "     block the US from being stationed on the i...   0   0   0   0   0   0  \n",
       "   DAILY CALLER    330,000 Russian troops amass...   0   0   0   0   0   0  \n",
       "  A Black Agenda Radio Commentary by Bruce A. D...   0   0   0   0   0   0  \n",
       "  Dear Mr. Hodges,  This is to inform you that ...   0   0   0   0   0   0  "
      ]
     },
     "execution_count": 610,
     "metadata": {},
     "output_type": "execute_result"
    }
   ],
   "source": [
    "pd.pivot_table(df,index=[\"documents\"])[:5]"
   ]
  },
  {
   "cell_type": "markdown",
   "metadata": {},
   "source": [
    "- c. Word cloud for the most prevalent topic."
   ]
  },
  {
   "cell_type": "code",
   "execution_count": 592,
   "metadata": {},
   "outputs": [
    {
     "data": {
      "text/plain": [
       "(-0.5, 399.5, 199.5, -0.5)"
      ]
     },
     "execution_count": 592,
     "metadata": {},
     "output_type": "execute_result"
    },
    {
     "data": {
      "image/png": "[encoded data removed]",
      "text/plain": [
       "<Figure size 432x288 with 1 Axes>"
      ]
     },
     "metadata": {
      "needs_background": "light"
     },
     "output_type": "display_data"
    }
   ],
   "source": [
    "# word cloud for topic 0\n",
    "plt.figure()\n",
    "plt.imshow(WordCloud().fit_words(dict(model.show_topic(0,20))))\n",
    "plt.axis(\"off\")"
   ]
  },
  {
   "cell_type": "code",
   "execution_count": 593,
   "metadata": {},
   "outputs": [
    {
     "data": {
      "text/plain": [
       "(-0.5, 399.5, 199.5, -0.5)"
      ]
     },
     "execution_count": 593,
     "metadata": {},
     "output_type": "execute_result"
    },
    {
     "data": {
      "image/png": "[encoded data removed]",
      "text/plain": [
       "<Figure size 432x288 with 1 Axes>"
      ]
     },
     "metadata": {
      "needs_background": "light"
     },
     "output_type": "display_data"
    }
   ],
   "source": [
    "# word cloud for topic 1\n",
    "plt.figure()\n",
    "plt.imshow(WordCloud().fit_words(dict(model.show_topic(1,20))))\n",
    "plt.axis(\"off\")"
   ]
  },
  {
   "cell_type": "code",
   "execution_count": 595,
   "metadata": {},
   "outputs": [
    {
     "data": {
      "image/png": "[encoded data removed]",
      "text/plain": [
       "<Figure size 432x288 with 1 Axes>"
      ]
     },
     "metadata": {
      "needs_background": "light"
     },
     "output_type": "display_data"
    },
    {
     "data": {
      "image/png": "[encoded data removed]",
      "text/plain": [
       "<Figure size 432x288 with 1 Axes>"
      ]
     },
     "metadata": {
      "needs_background": "light"
     },
     "output_type": "display_data"
    },
    {
     "data": {
      "image/png": "[encoded data removed]",
      "text/plain": [
       "<Figure size 432x288 with 1 Axes>"
      ]
     },
     "metadata": {
      "needs_background": "light"
     },
     "output_type": "display_data"
    },
    {
     "data": {
      "image/png": "[encoded data removed]",
      "text/plain": [
       "<Figure size 432x288 with 1 Axes>"
      ]
     },
     "metadata": {
      "needs_background": "light"
     },
     "output_type": "display_data"
    },
    {
     "data": {
      "image/png": "[encoded data removed]",
      "text/plain": [
       "<Figure size 432x288 with 1 Axes>"
      ]
     },
     "metadata": {
      "needs_background": "light"
     },
     "output_type": "display_data"
    }
   ],
   "source": [
    "for t in range(model.num_topics):\n",
    "    plt.figure()\n",
    "    plt.imshow(WordCloud().fit_words(dict(model.show_topic(t, 10))))\n",
    "    plt.axis(\"off\")\n",
    "    plt.title(\"Topic #\" + str(t))\n",
    "    plt.show()"
   ]
  },
  {
   "cell_type": "code",
   "execution_count": 596,
   "metadata": {},
   "outputs": [
    {
     "data": {
      "text/plain": [
       "<Figure size 432x288 with 0 Axes>"
      ]
     },
     "metadata": {},
     "output_type": "display_data"
    },
    {
     "data": {
      "text/plain": [
       "<Figure size 432x288 with 0 Axes>"
      ]
     },
     "metadata": {},
     "output_type": "display_data"
    },
    {
     "data": {
      "text/plain": [
       "<Figure size 432x288 with 0 Axes>"
      ]
     },
     "metadata": {},
     "output_type": "display_data"
    },
    {
     "data": {
      "text/plain": [
       "<Figure size 432x288 with 0 Axes>"
      ]
     },
     "metadata": {},
     "output_type": "display_data"
    },
    {
     "data": {
      "image/png": "[encoded data removed]",
      "text/plain": [
       "<Figure size 432x288 with 1 Axes>"
      ]
     },
     "metadata": {
      "needs_background": "light"
     },
     "output_type": "display_data"
    }
   ],
   "source": [
    " stoplist = stopwords.words('english')\n",
    "\n",
    "cols = [color for name, color in mcolors.TABLEAU_COLORS.items()]  # more colors: 'mcolors.XKCD_COLORS'\n",
    "for t in range(model.num_topics):\n",
    "     plt.figure()\n",
    "plt.imshow(WordCloud(stopwords=stoplist,\n",
    "                  background_color='white',\n",
    "                  width=2500,\n",
    "                   height=1800,\n",
    "                  max_words=10,\n",
    "                  colormap='tab10',\n",
    "                  prefer_horizontal=1.0).fit_words(dict(model.show_topic(t, 10))))\n",
    "plt.axis(\"off\")\n",
    "plt.title(\"Topic #\" + str(t))\n",
    "plt.show()"
   ]
  },
  {
   "cell_type": "markdown",
   "metadata": {},
   "source": [
    "# 7. Seventh “storytelling”."
   ]
  },
  {
   "cell_type": "markdown",
   "metadata": {},
   "source": [
    "- a. Provide your interpretations of the overall results"
   ]
  },
  {
   "cell_type": "markdown",
   "metadata": {},
   "source": [
    "   - As I analyze the topics discovered by LDA model, I see that these topics are basically probabilistic word distribution which can very well describe a particular theme or content. After experimenting number of times with fake news articles, I came to a conclusion that words in the modeled topics may not be perfectly similar but are definitely associated.\n",
    "A very few topics generated from unsupervised training are content neutral. For example:\n",
    "(topic 0,\n",
    "  '0.009*\"clinton\" + 0.006*\"trump\" + 0.006*\"would\" + 0.006*\"one\" + 0.005*\"people\" + 0.005*\"war\" + 0.005*\"state\" + 0.004*\"hillary\" + 0.004*\"american\" + 0.004*\"time\"')\n",
    "  (topic 2,\n",
    "  '0.006*\"said\" + 0.005*\"force\" + 0.005*\"city\" + 0.004*\"isi\" + 0.004*\"people\" + 0.004*\"police\" + 0.004*\"muslim\" + 0.004*\"syrian\" + 0.004*\"attack\" + 0.003*\"government\"') \n",
    "  \n",
    "  \n",
    " - Also, there are some topics in which a few words may seem irrelevant to the theme/content but if you analyze them properly they are somewhat associated. Because of association of two context with same word, the topic modeled also contains two themes jointly in one topic. for example:\n",
    " (topic 2,\n",
    "  '0.006*\"said\" + 0.005*\"force\" + 0.005*\"city\" + 0.004*\"isi\" + 0.004*\"people\" + 0.004*\"police\" + 0.004*\"muslim\" + 0.004*\"syrian\" + 0.004*\"attack\" + 0.003*\"government\"'),\n",
    "   (topic 4,\n",
    "  '0.015*\"clinton\" + 0.012*\"trump\" + 0.008*\"election\" + 0.008*\"said\" + 0.008*\"email\" + 0.006*\"hillary\" + 0.006*\"state\" + 0.005*\"fbi\" + 0.005*\"would\" + 0.005*\"campaign\"')\n",
    "  \n",
    "  In topic 2, the word distribution is representation of middle east theme. Usually,the articles talk about the isi, Syria and muslim. The word “governemt” has occurred within the distribution because Fight Against ISIS in Syria in the articles. Also, the months “January” and “February” have occurred as they might be present in the biography articles to show the timeline of the life of the person. Similarly, if you observe topic 4, the distribution has captured the email controversy but as the words “election” and “campaign” are associated with “ Hillary and Trump” , therefore word like “FBI” FBI investigation Cliton in the dataset."
   ]
  },
  {
   "cell_type": "markdown",
   "metadata": {},
   "source": [
    "- b. Discuss technical and managerial implications "
   ]
  },
  {
   "cell_type": "markdown",
   "metadata": {},
   "source": [
    "The corpus of the analysis is composed of 1500 observations of the collected fake news from https://www.kaggle.com/mrisdal/fake-news#.\n",
    "Before conducting the latent Dirichlet allocation (LDA) , the texts of the corpus were passed through a series of pre-processing steps. Firstly, all punctuation and numbers were removed, and all uppercase letters were transformed into lower-case. Secondly, tokenization was performed to break a sentence into several words. Thirdly, all stop-words including articles (a, an, the), prepositions, pronouns were eliminated and rare words with Gensim were removed.\n",
    "Fourthly, i conducted the lemmatization process to find the lemma of each word. Example am, are, is : be\n",
    "car, cars, car's, cars': car. Lastly, each document was transformed into the bag-of-words representation. If the corpus includes N words after stop-words removal and lemmatization.\n",
    "I then fitted the LDA model using the python package, “gensim”. One of the most important variables to be determined for the LDA inference is the number of topics, K. A quantitative performance measure, such as perplexity, can be gauged and referred for determining the number of topics. For qualitative analysis. I closely investigated the per-topic word distributions for three different values of K, 6, 20, and 2, and finally decided to use 5 topics."
   ]
  },
  {
   "cell_type": "markdown",
   "metadata": {},
   "source": [
    "- c Do you have any suggestions to identify fake news from all online news?"
   ]
  },
  {
   "cell_type": "markdown",
   "metadata": {},
   "source": [
    "If you come across a story from a source that you've never heard of before, do some digging! Find out a bit more about the publisher – is it a professional and well-known news agency or is it someone's personal blog?\n",
    "Check the URL of the page, too. (A URL, or Uniform Resource Locator, is a web address that helps browsers to find a site on the internet.) Strange-sounding URLs that end in extensions like \".infonet\" and \".offer,\" rather than \".com\" or \".co.uk,\" or that contain spelling errors, may mean that the source is suspect."
   ]
  },
  {
   "cell_type": "markdown",
   "metadata": {},
   "source": [
    "#### Non-negative Matrix Factorization (NMF)”."
   ]
  },
  {
   "cell_type": "code",
   "execution_count": 541,
   "metadata": {},
   "outputs": [],
   "source": [
    "from sklearn.feature_extraction.text import TfidfVectorizer, CountVectorizer\n",
    "from sklearn.decomposition import NMF, LatentDirichletAllocation"
   ]
  },
  {
   "cell_type": "code",
   "execution_count": 542,
   "metadata": {},
   "outputs": [],
   "source": [
    "# initialize tfidfvectorizer\n",
    "tfidf_vectorizer = TfidfVectorizer(max_df=0.95, min_df=2, stop_words='english')"
   ]
  },
  {
   "cell_type": "code",
   "execution_count": 543,
   "metadata": {},
   "outputs": [],
   "source": [
    "# # tfidf_vectorizer does text processing for us (e.g., lowercase, remov stopwords) so data needs to be in string.\n",
    "texts_str = [ str(i) for i in texts] # tfidf_vectorizer expects data in this format"
   ]
  },
  {
   "cell_type": "code",
   "execution_count": 544,
   "metadata": {},
   "outputs": [],
   "source": [
    "# create tfidf\n",
    "tfidf = tfidf_vectorizer.fit_transform(texts_str)"
   ]
  },
  {
   "cell_type": "code",
   "execution_count": 545,
   "metadata": {},
   "outputs": [],
   "source": [
    "# let's use a funtion to print the NMF results\n",
    "def print_top_words(model, feature_names, n_top_words):\n",
    "    for topic_idx, topic in enumerate(model.components_):\n",
    "        message = \"Topic #%d: \" % topic_idx\n",
    "        message += \" \".join([feature_names[i]\n",
    "                             for i in topic.argsort()[:-n_top_words - 1:-1]])\n",
    "        print(message)\n",
    "    print()"
   ]
  },
  {
   "cell_type": "code",
   "execution_count": 546,
   "metadata": {},
   "outputs": [
    {
     "name": "stdout",
     "output_type": "stream",
     "text": [
      "\n",
      "Topics in NMF model (Frobenius norm):\n",
      "Topic #0: people state war said american\n",
      "Topic #1: email subscribe notify donate post\n",
      "Topic #2: syria turkey saudi war syrian\n",
      "Topic #3: clinton hillary foundation podesta email\n",
      "Topic #4: mosul isi iraqi civilian city\n",
      "Topic #5: trump donald supporter clinton republican\n",
      "Topic #6: krongard fromthewilderness html dont www\n",
      "Topic #7: people complaing reptutation thats voting\n",
      "Topic #8: russia russian nato putin military\n",
      "Topic #9: election vote voter voting fraud\n",
      "Topic #10: fbi comey investigation email clinton\n",
      "Topic #11: pipeline dakota land protester standing\n",
      "Topic #12: muslim migrant islamic refugee said\n",
      "Topic #13: bundy oregon standoff malheur verdict\n",
      "Topic #14: black police african officer white\n",
      "Topic #15: saudi yemen arabia hadi yemeni\n",
      "Topic #16: obama president democrat administration barack\n",
      "Topic #17: white percent helmet racial identity\n",
      "Topic #18: brilliant zuma fallen fame faltered\n",
      "Topic #19: quot soros google pedophile profit\n",
      "\n"
     ]
    }
   ],
   "source": [
    "nmf = NMF(n_components=20, random_state=1, alpha=.1, l1_ratio=.5).fit(tfidf)\n",
    "\n",
    "print(\"\\nTopics in NMF model (Frobenius norm):\")\n",
    "tfidf_feature_names = tfidf_vectorizer.get_feature_names()\n",
    "\n",
    "n_top_words = 5\n",
    "\n",
    "print_top_words(nmf, tfidf_feature_names, n_top_words)"
   ]
  },
  {
   "cell_type": "code",
   "execution_count": 547,
   "metadata": {},
   "outputs": [
    {
     "name": "stdout",
     "output_type": "stream",
     "text": [
      "\n",
      "Topics in NMF model (generalized Kullback-Leibler divergence):\n",
      "Topic #0: people year american said country\n",
      "Topic #1: email subscribe post new donation\n",
      "Topic #2: syria syrian war turkey terrorist\n",
      "Topic #3: clinton fbi email hillary foundation\n",
      "Topic #4: mosul isi iraqi city civilian\n",
      "Topic #5: trump clinton donald hillary republican\n",
      "Topic #6: know time like guy link\n",
      "Topic #7: black people corruption www dont\n",
      "Topic #8: russia russian nuclear putin nato\n",
      "Topic #9: election vote voter voting fraud\n",
      "Topic #10: black fbi police officer said\n",
      "Topic #11: pipeline dakota water standing rock\n",
      "Topic #12: muslim migrant said refugee school\n",
      "Topic #13: video bundy netflix julian amtv\n",
      "Topic #14: man woman like hillary live\n",
      "Topic #15: saudi market yemen arabia year\n",
      "Topic #16: obama party trump china class\n",
      "Topic #17: white snip percent israel african\n",
      "Topic #18: brilliant philippine duterte article great\n",
      "Topic #19: quot soros infowars send http\n",
      "\n"
     ]
    }
   ],
   "source": [
    "nmf = NMF(n_components=20, random_state=1, beta_loss='kullback-leibler', solver='mu', max_iter=1000, alpha=.1,\n",
    "          l1_ratio=.5).fit(tfidf)\n",
    "\n",
    "print(\"\\nTopics in NMF model (generalized Kullback-Leibler divergence):\")\n",
    "tfidf_feature_names = tfidf_vectorizer.get_feature_names()\n",
    "n_top_words = 5\n",
    "\n",
    "print_top_words(nmf, tfidf_feature_names, n_top_words)"
   ]
  },
  {
   "cell_type": "markdown",
   "metadata": {},
   "source": [
    "- a. Report the results of NMF"
   ]
  },
  {
   "cell_type": "markdown",
   "metadata": {},
   "source": [
    " Topic-9: ( Elections fraud)\n",
    " Topic-11: ( pipeline dakota)\n",
    "  Topic-3: (clinton email server)"
   ]
  },
  {
   "cell_type": "markdown",
   "metadata": {},
   "source": [
    "#### Latent Semantic Indexing (LSI)"
   ]
  },
  {
   "cell_type": "code",
   "execution_count": 548,
   "metadata": {},
   "outputs": [],
   "source": [
    "tfidf = models.TfidfModel(corpus) # step 1 -- initialize a model"
   ]
  },
  {
   "cell_type": "code",
   "execution_count": 549,
   "metadata": {},
   "outputs": [],
   "source": [
    "corpus_tfidf = tfidf[corpus]"
   ]
  },
  {
   "cell_type": "code",
   "execution_count": 550,
   "metadata": {},
   "outputs": [],
   "source": [
    "numpy.random.seed(1) # setting random seed to get the same results each time. \n",
    "\n",
    "lsi = models.LsiModel(corpus_tfidf, id2word=dictionary, num_topics=20) # initialize an LSI transformation\n",
    "corpus_lsi = lsi[corpus_tfidf] # create a double wrapper over the original corpus: bow->tfidf->fold-in-lsi"
   ]
  },
  {
   "cell_type": "code",
   "execution_count": 551,
   "metadata": {},
   "outputs": [
    {
     "data": {
      "text/plain": [
       "[(0,\n",
       "  '0.223*\"clinton\" + 0.219*\"trump\" + 0.121*\"hillary\" + 0.121*\"black\" + 0.108*\"obama\" + 0.105*\"war\" + 0.104*\"email\" + 0.104*\"election\" + 0.102*\"syria\" + 0.098*\"white\"'),\n",
       " (1,\n",
       "  '0.388*\"email\" + 0.383*\"subscribe\" + 0.299*\"notify\" + 0.267*\"donate\" + 0.243*\"donation\" + 0.241*\"blog\" + 0.206*\"address\" + 0.205*\"post\" + 0.145*\"naked\" + 0.145*\"notification\"'),\n",
       " (2,\n",
       "  '0.262*\"syria\" + -0.216*\"clinton\" + 0.194*\"saudi\" + 0.193*\"mosul\" + -0.183*\"trump\" + 0.174*\"isi\" + 0.165*\"turkey\" + 0.151*\"syrian\" + 0.133*\"civilian\" + 0.121*\"terrorist\"'),\n",
       " (3,\n",
       "  '-0.356*\"fbi\" + -0.348*\"clinton\" + 0.250*\"black\" + -0.164*\"investigation\" + -0.162*\"foundation\" + -0.162*\"comey\" + 0.153*\"trump\" + 0.145*\"white\" + -0.129*\"email\" + -0.124*\"weiner\"'),\n",
       " (4,\n",
       "  '0.374*\"mosul\" + 0.284*\"isi\" + 0.234*\"iraqi\" + -0.223*\"syria\" + -0.201*\"saudi\" + 0.181*\"civilian\" + 0.148*\"city\" + -0.133*\"turkey\" + -0.125*\"arabia\" + -0.109*\"war\"'),\n",
       " (5,\n",
       "  '-0.336*\"krongard\" + -0.336*\"fromthewilderness\" + -0.317*\"html\" + -0.300*\"dont\" + -0.285*\"http\" + -0.283*\"www\" + -0.247*\"fix\" + -0.229*\"corruption\" + -0.184*\"com\" + -0.131*\"free\"'),\n",
       " (6,\n",
       "  '0.320*\"trump\" + 0.177*\"mosul\" + 0.164*\"isi\" + -0.157*\"pipeline\" + -0.151*\"muslim\" + 0.140*\"vote\" + 0.135*\"clinton\" + -0.126*\"migrant\" + -0.124*\"police\" + 0.124*\"election\"'),\n",
       " (7,\n",
       "  '0.371*\"russia\" + 0.311*\"russian\" + 0.226*\"nato\" + 0.152*\"putin\" + -0.149*\"saudi\" + -0.144*\"turkey\" + 0.139*\"nuclear\" + 0.120*\"aleppo\" + 0.112*\"troop\" + -0.111*\"muslim\"'),\n",
       " (8,\n",
       "  '0.401*\"black\" + -0.178*\"election\" + 0.172*\"white\" + 0.150*\"obama\" + -0.148*\"vote\" + -0.140*\"voter\" + 0.138*\"fromthewilderness\" + 0.138*\"krongard\" + -0.135*\"trump\" + -0.124*\"fraud\"'),\n",
       " (9,\n",
       "  '0.310*\"bundy\" + 0.275*\"oregon\" + 0.250*\"standoff\" + 0.158*\"fbi\" + 0.157*\"ammon\" + 0.156*\"verdict\" + 0.152*\"malheur\" + 0.140*\"opb\" + 0.134*\"provications\" + 0.134*\"sayng\"'),\n",
       " (10,\n",
       "  '-0.252*\"fbi\" + 0.214*\"pipeline\" + -0.214*\"black\" + -0.196*\"netflix\" + 0.187*\"clinton\" + 0.158*\"dakota\" + -0.149*\"comey\" + 0.139*\"trump\" + -0.116*\"investigation\" + 0.104*\"standoff\"'),\n",
       " (11,\n",
       "  '0.317*\"netflix\" + -0.162*\"black\" + -0.160*\"voter\" + 0.158*\"pill\" + 0.151*\"youtu\" + 0.147*\"future\" + 0.146*\"hallucination\" + 0.141*\"hallucinogenic\" + 0.141*\"jec\" + 0.141*\"psvnkmb\"'),\n",
       " (12,\n",
       "  '-0.256*\"pipeline\" + 0.247*\"muslim\" + 0.228*\"trump\" + -0.186*\"netflix\" + -0.181*\"dakota\" + -0.155*\"black\" + 0.126*\"migrant\" + 0.112*\"fbi\" + -0.105*\"voting\" + -0.099*\"vote\"'),\n",
       " (13,\n",
       "  '-0.328*\"brilliant\" + 0.250*\"trump\" + 0.221*\"pipeline\" + -0.177*\"bundy\" + -0.157*\"oregon\" + 0.155*\"dakota\" + 0.113*\"krongard\" + 0.113*\"fromthewilderness\" + -0.110*\"standoff\" + 0.103*\"protester\"'),\n",
       " (14,\n",
       "  '-0.909*\"brilliant\" + 0.161*\"quot\" + -0.084*\"pipeline\" + 0.073*\"soros\" + -0.062*\"krongard\" + -0.062*\"fromthewilderness\" + -0.055*\"dakota\" + 0.051*\"bundy\" + 0.046*\"oregon\" + -0.046*\"fix\"'),\n",
       " (15,\n",
       "  '-0.426*\"quot\" + -0.190*\"fbi\" + -0.184*\"brilliant\" + -0.160*\"soros\" + 0.151*\"percent\" + 0.141*\"school\" + 0.128*\"clinton\" + -0.125*\"trump\" + -0.108*\"alcapone\" + 0.099*\"podesta\"'),\n",
       " (16,\n",
       "  '-0.404*\"quot\" + -0.218*\"syrian\" + -0.193*\"syria\" + 0.179*\"saudi\" + -0.177*\"aleppo\" + -0.149*\"soros\" + -0.134*\"muslim\" + -0.130*\"clinton\" + 0.122*\"china\" + 0.111*\"yemen\"'),\n",
       " (17,\n",
       "  '-0.261*\"quot\" + 0.249*\"aleppo\" + 0.206*\"syrian\" + -0.176*\"nato\" + -0.175*\"migrant\" + 0.151*\"syria\" + -0.138*\"troop\" + 0.125*\"rebel\" + 0.123*\"helmet\" + 0.105*\"israel\"'),\n",
       " (18,\n",
       "  '0.316*\"saudi\" + 0.221*\"yemen\" + 0.193*\"aleppo\" + -0.180*\"syria\" + -0.172*\"isi\" + 0.163*\"trump\" + -0.147*\"mosul\" + 0.136*\"ditz\" + 0.133*\"jason\" + 0.127*\"hadi\"'),\n",
       " (19,\n",
       "  '0.250*\"black\" + -0.198*\"percent\" + -0.150*\"saudi\" + -0.149*\"white\" + -0.137*\"israel\" + 0.126*\"police\" + 0.119*\"russia\" + -0.118*\"fbi\" + -0.113*\"class\" + 0.109*\"podesta\"')]"
      ]
     },
     "execution_count": 551,
     "metadata": {},
     "output_type": "execute_result"
    }
   ],
   "source": [
    "lsi.print_topics(20)"
   ]
  },
  {
   "cell_type": "code",
   "execution_count": 571,
   "metadata": {},
   "outputs": [],
   "source": [
    "# using corpus (not tfidf)\n",
    "\n",
    "numpy.random.seed(1) # setting random seed to get the same results each time. \n",
    "\n",
    "lsi = models.LsiModel(corpus, id2word=dictionary, num_topics=20) # initialize an LSI transformation\n",
    "corpus_lsi = lsi[corpus] # create a double wrapper over the original corpus: bow->tfidf->fold-in-lsi"
   ]
  },
  {
   "cell_type": "code",
   "execution_count": 572,
   "metadata": {},
   "outputs": [
    {
     "data": {
      "text/plain": [
       "[(0,\n",
       "  '0.311*\"clinton\" + 0.223*\"trump\" + 0.181*\"people\" + 0.179*\"one\" + 0.174*\"state\" + 0.159*\"would\" + 0.149*\"white\" + 0.138*\"american\" + 0.137*\"war\" + 0.126*\"said\"'),\n",
       " (1,\n",
       "  '0.684*\"clinton\" + -0.202*\"black\" + -0.192*\"white\" + 0.164*\"hillary\" + 0.149*\"email\" + -0.146*\"war\" + -0.138*\"people\" + 0.130*\"haiti\" + -0.122*\"african\" + 0.109*\"fbi\"'),\n",
       " (2,\n",
       "  '-0.540*\"trump\" + 0.249*\"kenya\" + -0.224*\"black\" + -0.191*\"white\" + -0.189*\"obama\" + 0.141*\"government\" + 0.135*\"african\" + -0.110*\"election\" + -0.109*\"donald\" + 0.109*\"war\"'),\n",
       " (3,\n",
       "  '0.485*\"kenya\" + 0.353*\"african\" + 0.210*\"africa\" + 0.178*\"black\" + 0.142*\"trump\" + -0.140*\"syria\" + 0.139*\"clinton\" + -0.136*\"said\" + 0.134*\"kenyan\" + 0.131*\"union\"'),\n",
       " (4,\n",
       "  '-0.464*\"black\" + 0.345*\"trump\" + 0.205*\"war\" + 0.202*\"syria\" + 0.181*\"syrian\" + -0.161*\"white\" + -0.144*\"police\" + 0.137*\"kenya\" + 0.130*\"russia\" + -0.122*\"american\"'),\n",
       " (5,\n",
       "  '0.293*\"syria\" + 0.260*\"clinton\" + 0.256*\"white\" + 0.254*\"black\" + 0.223*\"syrian\" + 0.215*\"war\" + -0.160*\"trump\" + -0.158*\"election\" + -0.144*\"serco\" + 0.126*\"haiti\"'),\n",
       " (6,\n",
       "  '0.401*\"black\" + -0.282*\"comanche\" + -0.237*\"indian\" + 0.171*\"police\" + 0.147*\"syria\" + 0.140*\"serco\" + 0.139*\"syrian\" + 0.125*\"said\" + 0.120*\"obama\" + -0.119*\"haiti\"'),\n",
       " (7,\n",
       "  '0.340*\"white\" + 0.298*\"comanche\" + 0.250*\"trump\" + 0.211*\"indian\" + -0.165*\"right\" + -0.158*\"party\" + -0.137*\"haiti\" + 0.125*\"serco\" + -0.118*\"people\" + -0.116*\"state\"'),\n",
       " (8,\n",
       "  '0.284*\"american\" + -0.262*\"said\" + -0.229*\"zulu\" + -0.213*\"boer\" + -0.167*\"force\" + 0.133*\"war\" + 0.118*\"world\" + 0.116*\"state\" + -0.116*\"black\" + -0.111*\"camp\"'),\n",
       " (9,\n",
       "  '-0.334*\"haiti\" + -0.273*\"trump\" + 0.249*\"email\" + -0.196*\"haitian\" + 0.186*\"fbi\" + 0.184*\"party\" + 0.160*\"podesta\" + 0.146*\"campaign\" + -0.136*\"recovery\" + -0.135*\"project\"'),\n",
       " (10,\n",
       "  '-0.372*\"white\" + 0.257*\"american\" + -0.227*\"helmet\" + 0.209*\"said\" + -0.199*\"party\" + -0.182*\"right\" + -0.150*\"syria\" + 0.148*\"trump\" + 0.141*\"comanche\" + 0.134*\"obama\"'),\n",
       " (11,\n",
       "  '0.445*\"comanche\" + -0.400*\"zulu\" + -0.356*\"boer\" + -0.219*\"american\" + -0.166*\"pretorius\" + 0.150*\"texas\" + 0.133*\"black\" + 0.131*\"indian\" + 0.102*\"people\" + 0.096*\"police\"'),\n",
       " (12,\n",
       "  '-0.279*\"said\" + 0.273*\"zulu\" + 0.236*\"boer\" + -0.219*\"white\" + 0.207*\"comanche\" + 0.201*\"party\" + 0.161*\"war\" + 0.151*\"obama\" + 0.142*\"black\" + -0.115*\"thanksgiving\"'),\n",
       " (13,\n",
       "  '0.198*\"force\" + 0.174*\"mosul\" + 0.171*\"party\" + 0.169*\"terrorist\" + 0.165*\"iraqi\" + -0.159*\"state\" + 0.151*\"american\" + -0.141*\"comanche\" + -0.137*\"zulu\" + -0.132*\"would\"'),\n",
       " (14,\n",
       "  '0.403*\"obama\" + -0.273*\"election\" + -0.226*\"american\" + -0.161*\"vote\" + -0.144*\"voting\" + 0.126*\"world\" + 0.122*\"russia\" + -0.111*\"voter\" + 0.109*\"president\" + -0.102*\"african\"'),\n",
       " (15,\n",
       "  '0.272*\"election\" + -0.217*\"trump\" + 0.193*\"vote\" + 0.184*\"obama\" + 0.133*\"would\" + -0.132*\"world\" + 0.131*\"haiti\" + 0.130*\"voting\" + 0.126*\"machine\" + 0.125*\"syria\"'),\n",
       " (16,\n",
       "  '-0.332*\"obama\" + -0.239*\"white\" + -0.205*\"state\" + 0.183*\"trump\" + 0.178*\"people\" + -0.175*\"coup\" + 0.152*\"war\" + -0.149*\"president\" + 0.141*\"syria\" + -0.118*\"class\"'),\n",
       " (17,\n",
       "  '0.214*\"election\" + -0.182*\"american\" + -0.163*\"obama\" + 0.158*\"state\" + -0.143*\"party\" + -0.137*\"protester\" + -0.137*\"pipeline\" + 0.135*\"black\" + -0.129*\"said\" + -0.125*\"muslim\"'),\n",
       " (18,\n",
       "  '0.176*\"party\" + -0.160*\"email\" + 0.146*\"pipeline\" + -0.121*\"jewish\" + 0.121*\"war\" + 0.119*\"russia\" + 0.118*\"protester\" + -0.116*\"zionist\" + -0.116*\"podesta\" + -0.112*\"israel\"'),\n",
       " (19,\n",
       "  '0.164*\"israel\" + 0.151*\"people\" + -0.151*\"said\" + 0.145*\"zionist\" + 0.141*\"health\" + 0.135*\"jewish\" + -0.133*\"russia\" + -0.128*\"african\" + 0.121*\"obama\" + -0.119*\"fbi\"')]"
      ]
     },
     "execution_count": 572,
     "metadata": {},
     "output_type": "execute_result"
    }
   ],
   "source": [
    "lsi.print_topics(20)"
   ]
  },
  {
   "cell_type": "markdown",
   "metadata": {},
   "source": [
    "- b. Report the results of LSI"
   ]
  },
  {
   "cell_type": "markdown",
   "metadata": {},
   "source": [
    "The words for topic 2 shows that this topic contains news about Africa. Similarly, the words for topic 3 depicts that it contains news about african union . Finally, topic 13 may contain news about terrorist since it contains words such as \"mosul\", \"iraqi\", etc"
   ]
  },
  {
   "cell_type": "markdown",
   "metadata": {},
   "source": [
    "- c. Compare the results of LDA, LSI, and NMF\n",
    "The idea of this notebook was to implement the widely used topic modeling techniques and compare. Although NMF gave the highest coherence score, LDA is the most used technique and considered to be consistent as it is likely to provide more \"coherent\" topics. NMF performs better where the topic probabilities should remain fixed per document. LSI on the other hand is less preferred since the number of topics is not determined in prior and hence used rarely.\n"
   ]
  },
  {
   "cell_type": "code",
   "execution_count": null,
   "metadata": {},
   "outputs": [],
   "source": []
  }
 ],
 "metadata": {
  "kernelspec": {
   "display_name": "Python 3",
   "language": "python",
   "name": "python3"
  },
  "language_info": {
   "codemirror_mode": {
    "name": "ipython",
    "version": 3
   },
   "file_extension": ".py",
   "mimetype": "text/x-python",
   "name": "python",
   "nbconvert_exporter": "python",
   "pygments_lexer": "ipython3",
   "version": "3.7.4"
  }
 },
 "nbformat": 4,
 "nbformat_minor": 4
}
