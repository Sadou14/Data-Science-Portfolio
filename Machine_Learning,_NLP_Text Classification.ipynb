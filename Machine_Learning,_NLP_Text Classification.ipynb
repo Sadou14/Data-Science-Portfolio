{
 "cells": [
  {
   "cell_type": "markdown",
   "metadata": {},
   "source": [
    "# Text Classification \n"
   ]
  },
  {
   "cell_type": "markdown",
   "metadata": {},
   "source": [
    "In this projet I will demonstrate:\n",
    "1. Text data preparation (e.g., collecting)\n",
    "2. Text data preprocessing (e.g., cleaning, transformation, TFIDF): Feature engineering\n",
    "3. Training and testing supervised machine learning algorithms (e.g., Naïve Bayes) for text classification → Building predictive models for text mining\n",
    "4. Evaluation of predictive model (e.g., accuracy, ROC curve, true positive rate)\n",
    "5. Interpreting the results of your predictive models and discuss technical and managerial implications"
   ]
  },
  {
   "cell_type": "markdown",
   "metadata": {},
   "source": [
    "##### First thing first, load all the necessary libraries:\n",
    "##### Libraries for dataset preparation, feature engineering, model training "
   ]
  },
  {
   "cell_type": "code",
   "execution_count": 1,
   "metadata": {},
   "outputs": [],
   "source": [
    "%matplotlib inline\n",
    "import nltk\n",
    "import matplotlib.pyplot as plt\n",
    "import csv\n",
    "import pandas as pd\n",
    "import sklearn\n",
    "import numpy as np\n",
    "from collections import Counter\n",
    "\n",
    "# import nltk (natural language tool kit), a popular python package for text mining\n",
    "import nltk\n",
    "# stopwords, FreqDist, word_tokenize\n",
    "from wordcloud import WordCloud, STOPWORDS\n",
    "from nltk import FreqDist, word_tokenize\n",
    "from nltk.stem.porter import PorterStemmer\n",
    "from nltk.stem import WordNetLemmatizer\n",
    "from pattern.en import sentiment\n",
    "from textblob import TextBlob \n",
    "# sentiment analysis\n",
    "from nltk.sentiment.vader import SentimentIntensityAnalyzer\n",
    "#regular expression\n",
    "import re\n",
    "\n",
    "# feature engineering (words to vectors)\n",
    "from sklearn.feature_extraction.text import TfidfVectorizer\n",
    "\n",
    "# classification algorithms (or classifiers)\n",
    "from sklearn.naive_bayes import MultinomialNB\n",
    "from sklearn.neighbors import KNeighborsClassifier\n",
    "from sklearn.svm import SVC, LinearSVC\n",
    "\n",
    "# build a pipeline\n",
    "from sklearn.pipeline import Pipeline\n",
    "\n",
    "# model evaluation, validation\n",
    "from sklearn.metrics import classification_report, f1_score, accuracy_score, confusion_matrix\n",
    "from sklearn.model_selection import StratifiedKFold, cross_val_score, train_test_split, GridSearchCV \n",
    "from sklearn import metrics\n",
    "from sklearn.metrics import roc_curve\n",
    "\n",
    "#pip install scikit-plot \n",
    "import scikitplot as skplt\n",
    "\n",
    "# Excel-like format\n",
    "import pandas as pd\n",
    "#data visualization\n",
    "import matplotlib.pyplot as plt\n",
    "%matplotlib inline\n",
    "import requests\n",
    "from lxml import html\n",
    "import csv"
   ]
  },
  {
   "cell_type": "markdown",
   "metadata": {},
   "source": [
    "#### First data collection and preparation."
   ]
  },
  {
   "cell_type": "markdown",
   "metadata": {},
   "source": [
    "#####  Data Acquisition"
   ]
  },
  {
   "cell_type": "markdown",
   "metadata": {},
   "source": [
    "-web crawler on https://www.hrdive.com/?page=1."
   ]
  },
  {
   "cell_type": "code",
   "execution_count": 9,
   "metadata": {},
   "outputs": [
    {
     "name": "stdout",
     "output_type": "stream",
     "text": [
      "https://www.hrdive.com/?page=1\n",
      "https://www.hrdive.com/?page=51\n",
      "https://www.hrdive.com/?page=101\n",
      "https://www.hrdive.com/?page=151\n",
      "https://www.hrdive.com/?page=201\n",
      "https://www.hrdive.com/?page=251\n",
      "https://www.hrdive.com/?page=301\n",
      "https://www.hrdive.com/?page=351\n",
      "https://www.hrdive.com/?page=401\n",
      "https://www.hrdive.com/?page=451\n"
     ]
    }
   ],
   "source": [
    "# Web crawler\n",
    "web = \"https://www.hrdive.com/?page=%s\"\n",
    "\n",
    "for page in range(1,500,50):\n",
    "    print(web % page)"
   ]
  },
  {
   "cell_type": "code",
   "execution_count": 10,
   "metadata": {},
   "outputs": [
    {
     "name": "stdout",
     "output_type": "stream",
     "text": [
      "['\\n                                    \\n                                    Large employers expand leave, payments amid coronavirus\\n                                ']\n",
      "['\\n                                    \\n                                    PayScale: Overall gender pay gap shrinks, but slightly\\n                                ']\n",
      "['\\n                                    \\n                                    Yes, that meeting could have been an email\\n                                ']\n",
      "['\\n                                    \\n                                    CVS eyes virtual interviews, job fairs to hire 50K workers\\n                                ']\n",
      "['\\n                                    \\n                                    EEOC: Manufacturer violated ADA in firing worker returning from hospitalization\\n                                ']\n",
      "['\\n                                    \\n                                    Employees confident they can do their jobs effectively from home during COVID-19 pandemic\\n                                ']\n",
      "[\"\\n                                    \\n                                    Court revives coach's suit, citing need to consider the 'overall likelihood of discrimination'\\n                                \"]\n",
      "[\"\\n                                    \\n                                    From manufacturing to HR: One woman's journey through Honda\\n                                \"]\n",
      "['\\n                                    \\n                                    NLRB suspends representation elections due to coronavirus\\n                                ']\n",
      "['\\n                                    \\n                                    Free trainings, resources aim to ease the transition to remote work\\n                                ']\n",
      "['\\n                                    \\n                                    5 things to know about the new coronavirus paid leave law\\n                                ']\n",
      "['\\n                                    \\n                                    Soft skills training is a priority, but lack of time and resources stands in the way\\n                                ']\n",
      "['\\n                                    \\n                                    Metals company settles EEOC claim it refused to hire workers over 40\\n                                ']\n",
      "[\"\\n                                    \\n                                    DOL to observe 30-day 'temporary non-enforcement' of coronavirus paid leave law\\n                                \"]\n",
      "[\"\\n                                    \\n                                    McDonald's names new chief people officer\\n                                \"]\n",
      "['\\n                                    \\n                                    Employers can screen workers, applicants for fevers, EEOC says\\n                                ']\n",
      "['\\n                                    \\n                                    Collaborative apps boost remote work productivity but cause distractions\\n                                ']\n",
      "['\\n                                    \\n                                    California relaxes notice requirements for coronavirus-related layoffs\\n                                ']\n",
      "['\\n                                    \\n                                    Feds OK remote I-9 document review\\n                                ']\n",
      "['\\n                                    \\n                                    Black, Hispanic workers have less access to remote-capable jobs\\n                                ']\n",
      "['\\n                                    \\n                                    Physical health conditions may be job-seeking barriers for those with serious mental illnesses\\n                                ']\n",
      "['\\n                                    \\n                                    Back to Basics: An OSHA overview\\n                                ']\n",
      "['\\n                                    \\n                                    SUNY official fired over performance, not sexual orientation, 2nd Cir. says\\n                                ']\n",
      "['\\n                                    \\n                                    Walmart to hire 150K hourly employees\\n                                ']\n",
      "['\\n                                    \\n                                    Are CEOs displacing CHROs in the workplace transformation?\\n                                ']\n",
      "['\\n                                    \\n                                    Large employers expand leave, payments amid coronavirus\\n                                ']\n",
      "['\\n                                    \\n                                    PayScale: Overall gender pay gap shrinks, but slightly\\n                                ']\n",
      "['\\n                                    \\n                                    Yes, that meeting could have been an email\\n                                ']\n",
      "['\\n                                    \\n                                    CVS eyes virtual interviews, job fairs to hire 50K workers\\n                                ']\n",
      "['\\n                                    \\n                                    EEOC: Manufacturer violated ADA in firing worker returning from hospitalization\\n                                ']\n",
      "['\\n                                    \\n                                    Employees confident they can do their jobs effectively from home during COVID-19 pandemic\\n                                ']\n",
      "[\"\\n                                    \\n                                    Court revives coach's suit, citing need to consider the 'overall likelihood of discrimination'\\n                                \"]\n",
      "[\"\\n                                    \\n                                    From manufacturing to HR: One woman's journey through Honda\\n                                \"]\n",
      "['\\n                                    \\n                                    NLRB suspends representation elections due to coronavirus\\n                                ']\n",
      "['\\n                                    \\n                                    Free trainings, resources aim to ease the transition to remote work\\n                                ']\n",
      "['\\n                                    \\n                                    5 things to know about the new coronavirus paid leave law\\n                                ']\n",
      "['\\n                                    \\n                                    Soft skills training is a priority, but lack of time and resources stands in the way\\n                                ']\n",
      "['\\n                                    \\n                                    Metals company settles EEOC claim it refused to hire workers over 40\\n                                ']\n",
      "[\"\\n                                    \\n                                    DOL to observe 30-day 'temporary non-enforcement' of coronavirus paid leave law\\n                                \"]\n",
      "[\"\\n                                    \\n                                    McDonald's names new chief people officer\\n                                \"]\n",
      "['\\n                                    \\n                                    Employers can screen workers, applicants for fevers, EEOC says\\n                                ']\n",
      "['\\n                                    \\n                                    Collaborative apps boost remote work productivity but cause distractions\\n                                ']\n",
      "['\\n                                    \\n                                    California relaxes notice requirements for coronavirus-related layoffs\\n                                ']\n",
      "['\\n                                    \\n                                    Feds OK remote I-9 document review\\n                                ']\n",
      "['\\n                                    \\n                                    Black, Hispanic workers have less access to remote-capable jobs\\n                                ']\n",
      "['\\n                                    \\n                                    Physical health conditions may be job-seeking barriers for those with serious mental illnesses\\n                                ']\n",
      "['\\n                                    \\n                                    Back to Basics: An OSHA overview\\n                                ']\n",
      "['\\n                                    \\n                                    SUNY official fired over performance, not sexual orientation, 2nd Cir. says\\n                                ']\n",
      "['\\n                                    \\n                                    Walmart to hire 150K hourly employees\\n                                ']\n",
      "['\\n                                    \\n                                    Are CEOs displacing CHROs in the workplace transformation?\\n                                ']\n",
      "['\\n                                    \\n                                    Large employers expand leave, payments amid coronavirus\\n                                ']\n",
      "['\\n                                    \\n                                    PayScale: Overall gender pay gap shrinks, but slightly\\n                                ']\n",
      "['\\n                                    \\n                                    Yes, that meeting could have been an email\\n                                ']\n",
      "['\\n                                    \\n                                    CVS eyes virtual interviews, job fairs to hire 50K workers\\n                                ']\n",
      "['\\n                                    \\n                                    EEOC: Manufacturer violated ADA in firing worker returning from hospitalization\\n                                ']\n",
      "['\\n                                    \\n                                    Employees confident they can do their jobs effectively from home during COVID-19 pandemic\\n                                ']\n",
      "[\"\\n                                    \\n                                    Court revives coach's suit, citing need to consider the 'overall likelihood of discrimination'\\n                                \"]\n",
      "[\"\\n                                    \\n                                    From manufacturing to HR: One woman's journey through Honda\\n                                \"]\n",
      "['\\n                                    \\n                                    NLRB suspends representation elections due to coronavirus\\n                                ']\n",
      "['\\n                                    \\n                                    Free trainings, resources aim to ease the transition to remote work\\n                                ']\n",
      "['\\n                                    \\n                                    5 things to know about the new coronavirus paid leave law\\n                                ']\n",
      "['\\n                                    \\n                                    Soft skills training is a priority, but lack of time and resources stands in the way\\n                                ']\n",
      "['\\n                                    \\n                                    Metals company settles EEOC claim it refused to hire workers over 40\\n                                ']\n",
      "[\"\\n                                    \\n                                    DOL to observe 30-day 'temporary non-enforcement' of coronavirus paid leave law\\n                                \"]\n",
      "[\"\\n                                    \\n                                    McDonald's names new chief people officer\\n                                \"]\n",
      "['\\n                                    \\n                                    Employers can screen workers, applicants for fevers, EEOC says\\n                                ']\n",
      "['\\n                                    \\n                                    Collaborative apps boost remote work productivity but cause distractions\\n                                ']\n",
      "['\\n                                    \\n                                    California relaxes notice requirements for coronavirus-related layoffs\\n                                ']\n",
      "['\\n                                    \\n                                    Feds OK remote I-9 document review\\n                                ']\n",
      "['\\n                                    \\n                                    Black, Hispanic workers have less access to remote-capable jobs\\n                                ']\n",
      "['\\n                                    \\n                                    Physical health conditions may be job-seeking barriers for those with serious mental illnesses\\n                                ']\n",
      "['\\n                                    \\n                                    Back to Basics: An OSHA overview\\n                                ']\n",
      "['\\n                                    \\n                                    SUNY official fired over performance, not sexual orientation, 2nd Cir. says\\n                                ']\n",
      "['\\n                                    \\n                                    Walmart to hire 150K hourly employees\\n                                ']\n",
      "['\\n                                    \\n                                    Are CEOs displacing CHROs in the workplace transformation?\\n                                ']\n",
      "['\\n                                    \\n                                    Large employers expand leave, payments amid coronavirus\\n                                ']\n",
      "['\\n                                    \\n                                    PayScale: Overall gender pay gap shrinks, but slightly\\n                                ']\n",
      "['\\n                                    \\n                                    Yes, that meeting could have been an email\\n                                ']\n",
      "['\\n                                    \\n                                    CVS eyes virtual interviews, job fairs to hire 50K workers\\n                                ']\n",
      "['\\n                                    \\n                                    EEOC: Manufacturer violated ADA in firing worker returning from hospitalization\\n                                ']\n",
      "['\\n                                    \\n                                    Employees confident they can do their jobs effectively from home during COVID-19 pandemic\\n                                ']\n",
      "[\"\\n                                    \\n                                    Court revives coach's suit, citing need to consider the 'overall likelihood of discrimination'\\n                                \"]\n",
      "[\"\\n                                    \\n                                    From manufacturing to HR: One woman's journey through Honda\\n                                \"]\n",
      "['\\n                                    \\n                                    NLRB suspends representation elections due to coronavirus\\n                                ']\n",
      "['\\n                                    \\n                                    Free trainings, resources aim to ease the transition to remote work\\n                                ']\n",
      "['\\n                                    \\n                                    5 things to know about the new coronavirus paid leave law\\n                                ']\n",
      "['\\n                                    \\n                                    Soft skills training is a priority, but lack of time and resources stands in the way\\n                                ']\n",
      "['\\n                                    \\n                                    Metals company settles EEOC claim it refused to hire workers over 40\\n                                ']\n",
      "[\"\\n                                    \\n                                    DOL to observe 30-day 'temporary non-enforcement' of coronavirus paid leave law\\n                                \"]\n",
      "[\"\\n                                    \\n                                    McDonald's names new chief people officer\\n                                \"]\n",
      "['\\n                                    \\n                                    Employers can screen workers, applicants for fevers, EEOC says\\n                                ']\n",
      "['\\n                                    \\n                                    Collaborative apps boost remote work productivity but cause distractions\\n                                ']\n",
      "['\\n                                    \\n                                    California relaxes notice requirements for coronavirus-related layoffs\\n                                ']\n",
      "['\\n                                    \\n                                    Feds OK remote I-9 document review\\n                                ']\n",
      "['\\n                                    \\n                                    Black, Hispanic workers have less access to remote-capable jobs\\n                                ']\n",
      "['\\n                                    \\n                                    Physical health conditions may be job-seeking barriers for those with serious mental illnesses\\n                                ']\n",
      "['\\n                                    \\n                                    Back to Basics: An OSHA overview\\n                                ']\n",
      "['\\n                                    \\n                                    SUNY official fired over performance, not sexual orientation, 2nd Cir. says\\n                                ']\n",
      "['\\n                                    \\n                                    Walmart to hire 150K hourly employees\\n                                ']\n",
      "['\\n                                    \\n                                    Are CEOs displacing CHROs in the workplace transformation?\\n                                ']\n",
      "['\\n                                    \\n                                    Large employers expand leave, payments amid coronavirus\\n                                ']\n",
      "['\\n                                    \\n                                    PayScale: Overall gender pay gap shrinks, but slightly\\n                                ']\n",
      "['\\n                                    \\n                                    Yes, that meeting could have been an email\\n                                ']\n",
      "['\\n                                    \\n                                    CVS eyes virtual interviews, job fairs to hire 50K workers\\n                                ']\n",
      "['\\n                                    \\n                                    EEOC: Manufacturer violated ADA in firing worker returning from hospitalization\\n                                ']\n",
      "['\\n                                    \\n                                    Employees confident they can do their jobs effectively from home during COVID-19 pandemic\\n                                ']\n",
      "[\"\\n                                    \\n                                    Court revives coach's suit, citing need to consider the 'overall likelihood of discrimination'\\n                                \"]\n",
      "[\"\\n                                    \\n                                    From manufacturing to HR: One woman's journey through Honda\\n                                \"]\n",
      "['\\n                                    \\n                                    NLRB suspends representation elections due to coronavirus\\n                                ']\n",
      "['\\n                                    \\n                                    Free trainings, resources aim to ease the transition to remote work\\n                                ']\n",
      "['\\n                                    \\n                                    5 things to know about the new coronavirus paid leave law\\n                                ']\n",
      "['\\n                                    \\n                                    Soft skills training is a priority, but lack of time and resources stands in the way\\n                                ']\n",
      "['\\n                                    \\n                                    Metals company settles EEOC claim it refused to hire workers over 40\\n                                ']\n",
      "[\"\\n                                    \\n                                    DOL to observe 30-day 'temporary non-enforcement' of coronavirus paid leave law\\n                                \"]\n",
      "[\"\\n                                    \\n                                    McDonald's names new chief people officer\\n                                \"]\n",
      "['\\n                                    \\n                                    Employers can screen workers, applicants for fevers, EEOC says\\n                                ']\n",
      "['\\n                                    \\n                                    Collaborative apps boost remote work productivity but cause distractions\\n                                ']\n",
      "['\\n                                    \\n                                    California relaxes notice requirements for coronavirus-related layoffs\\n                                ']\n",
      "['\\n                                    \\n                                    Feds OK remote I-9 document review\\n                                ']\n",
      "['\\n                                    \\n                                    Black, Hispanic workers have less access to remote-capable jobs\\n                                ']\n",
      "['\\n                                    \\n                                    Physical health conditions may be job-seeking barriers for those with serious mental illnesses\\n                                ']\n",
      "['\\n                                    \\n                                    Back to Basics: An OSHA overview\\n                                ']\n",
      "['\\n                                    \\n                                    SUNY official fired over performance, not sexual orientation, 2nd Cir. says\\n                                ']\n",
      "['\\n                                    \\n                                    Walmart to hire 150K hourly employees\\n                                ']\n",
      "['\\n                                    \\n                                    Are CEOs displacing CHROs in the workplace transformation?\\n                                ']\n",
      "['\\n                                    \\n                                    Large employers expand leave, payments amid coronavirus\\n                                ']\n",
      "['\\n                                    \\n                                    PayScale: Overall gender pay gap shrinks, but slightly\\n                                ']\n",
      "['\\n                                    \\n                                    Yes, that meeting could have been an email\\n                                ']\n",
      "['\\n                                    \\n                                    CVS eyes virtual interviews, job fairs to hire 50K workers\\n                                ']\n",
      "['\\n                                    \\n                                    EEOC: Manufacturer violated ADA in firing worker returning from hospitalization\\n                                ']\n",
      "['\\n                                    \\n                                    Employees confident they can do their jobs effectively from home during COVID-19 pandemic\\n                                ']\n",
      "[\"\\n                                    \\n                                    Court revives coach's suit, citing need to consider the 'overall likelihood of discrimination'\\n                                \"]\n",
      "[\"\\n                                    \\n                                    From manufacturing to HR: One woman's journey through Honda\\n                                \"]\n",
      "['\\n                                    \\n                                    NLRB suspends representation elections due to coronavirus\\n                                ']\n",
      "['\\n                                    \\n                                    Free trainings, resources aim to ease the transition to remote work\\n                                ']\n",
      "['\\n                                    \\n                                    5 things to know about the new coronavirus paid leave law\\n                                ']\n",
      "['\\n                                    \\n                                    Soft skills training is a priority, but lack of time and resources stands in the way\\n                                ']\n",
      "['\\n                                    \\n                                    Metals company settles EEOC claim it refused to hire workers over 40\\n                                ']\n",
      "[\"\\n                                    \\n                                    DOL to observe 30-day 'temporary non-enforcement' of coronavirus paid leave law\\n                                \"]\n",
      "[\"\\n                                    \\n                                    McDonald's names new chief people officer\\n                                \"]\n",
      "['\\n                                    \\n                                    Employers can screen workers, applicants for fevers, EEOC says\\n                                ']\n",
      "['\\n                                    \\n                                    Collaborative apps boost remote work productivity but cause distractions\\n                                ']\n",
      "['\\n                                    \\n                                    California relaxes notice requirements for coronavirus-related layoffs\\n                                ']\n",
      "['\\n                                    \\n                                    Feds OK remote I-9 document review\\n                                ']\n",
      "['\\n                                    \\n                                    Black, Hispanic workers have less access to remote-capable jobs\\n                                ']\n",
      "['\\n                                    \\n                                    Physical health conditions may be job-seeking barriers for those with serious mental illnesses\\n                                ']\n",
      "['\\n                                    \\n                                    Back to Basics: An OSHA overview\\n                                ']\n",
      "['\\n                                    \\n                                    SUNY official fired over performance, not sexual orientation, 2nd Cir. says\\n                                ']\n",
      "['\\n                                    \\n                                    Walmart to hire 150K hourly employees\\n                                ']\n",
      "['\\n                                    \\n                                    Are CEOs displacing CHROs in the workplace transformation?\\n                                ']\n",
      "['\\n                                    \\n                                    Large employers expand leave, payments amid coronavirus\\n                                ']\n",
      "['\\n                                    \\n                                    PayScale: Overall gender pay gap shrinks, but slightly\\n                                ']\n",
      "['\\n                                    \\n                                    Yes, that meeting could have been an email\\n                                ']\n",
      "['\\n                                    \\n                                    CVS eyes virtual interviews, job fairs to hire 50K workers\\n                                ']\n",
      "['\\n                                    \\n                                    EEOC: Manufacturer violated ADA in firing worker returning from hospitalization\\n                                ']\n",
      "['\\n                                    \\n                                    Employees confident they can do their jobs effectively from home during COVID-19 pandemic\\n                                ']\n",
      "[\"\\n                                    \\n                                    Court revives coach's suit, citing need to consider the 'overall likelihood of discrimination'\\n                                \"]\n",
      "[\"\\n                                    \\n                                    From manufacturing to HR: One woman's journey through Honda\\n                                \"]\n",
      "['\\n                                    \\n                                    NLRB suspends representation elections due to coronavirus\\n                                ']\n",
      "['\\n                                    \\n                                    Free trainings, resources aim to ease the transition to remote work\\n                                ']\n",
      "['\\n                                    \\n                                    5 things to know about the new coronavirus paid leave law\\n                                ']\n",
      "['\\n                                    \\n                                    Soft skills training is a priority, but lack of time and resources stands in the way\\n                                ']\n",
      "['\\n                                    \\n                                    Metals company settles EEOC claim it refused to hire workers over 40\\n                                ']\n",
      "[\"\\n                                    \\n                                    DOL to observe 30-day 'temporary non-enforcement' of coronavirus paid leave law\\n                                \"]\n",
      "[\"\\n                                    \\n                                    McDonald's names new chief people officer\\n                                \"]\n",
      "['\\n                                    \\n                                    Employers can screen workers, applicants for fevers, EEOC says\\n                                ']\n",
      "['\\n                                    \\n                                    Collaborative apps boost remote work productivity but cause distractions\\n                                ']\n",
      "['\\n                                    \\n                                    California relaxes notice requirements for coronavirus-related layoffs\\n                                ']\n",
      "['\\n                                    \\n                                    Feds OK remote I-9 document review\\n                                ']\n",
      "['\\n                                    \\n                                    Black, Hispanic workers have less access to remote-capable jobs\\n                                ']\n",
      "['\\n                                    \\n                                    Physical health conditions may be job-seeking barriers for those with serious mental illnesses\\n                                ']\n",
      "['\\n                                    \\n                                    Back to Basics: An OSHA overview\\n                                ']\n",
      "['\\n                                    \\n                                    SUNY official fired over performance, not sexual orientation, 2nd Cir. says\\n                                ']\n",
      "['\\n                                    \\n                                    Walmart to hire 150K hourly employees\\n                                ']\n",
      "['\\n                                    \\n                                    Are CEOs displacing CHROs in the workplace transformation?\\n                                ']\n",
      "['\\n                                    \\n                                    Large employers expand leave, payments amid coronavirus\\n                                ']\n",
      "['\\n                                    \\n                                    PayScale: Overall gender pay gap shrinks, but slightly\\n                                ']\n",
      "['\\n                                    \\n                                    Yes, that meeting could have been an email\\n                                ']\n",
      "['\\n                                    \\n                                    CVS eyes virtual interviews, job fairs to hire 50K workers\\n                                ']\n",
      "['\\n                                    \\n                                    EEOC: Manufacturer violated ADA in firing worker returning from hospitalization\\n                                ']\n",
      "['\\n                                    \\n                                    Employees confident they can do their jobs effectively from home during COVID-19 pandemic\\n                                ']\n",
      "[\"\\n                                    \\n                                    Court revives coach's suit, citing need to consider the 'overall likelihood of discrimination'\\n                                \"]\n",
      "[\"\\n                                    \\n                                    From manufacturing to HR: One woman's journey through Honda\\n                                \"]\n",
      "['\\n                                    \\n                                    NLRB suspends representation elections due to coronavirus\\n                                ']\n",
      "['\\n                                    \\n                                    Free trainings, resources aim to ease the transition to remote work\\n                                ']\n",
      "['\\n                                    \\n                                    5 things to know about the new coronavirus paid leave law\\n                                ']\n",
      "['\\n                                    \\n                                    Soft skills training is a priority, but lack of time and resources stands in the way\\n                                ']\n",
      "['\\n                                    \\n                                    Metals company settles EEOC claim it refused to hire workers over 40\\n                                ']\n",
      "[\"\\n                                    \\n                                    DOL to observe 30-day 'temporary non-enforcement' of coronavirus paid leave law\\n                                \"]\n",
      "[\"\\n                                    \\n                                    McDonald's names new chief people officer\\n                                \"]\n",
      "['\\n                                    \\n                                    Employers can screen workers, applicants for fevers, EEOC says\\n                                ']\n",
      "['\\n                                    \\n                                    Collaborative apps boost remote work productivity but cause distractions\\n                                ']\n",
      "['\\n                                    \\n                                    California relaxes notice requirements for coronavirus-related layoffs\\n                                ']\n",
      "['\\n                                    \\n                                    Feds OK remote I-9 document review\\n                                ']\n",
      "['\\n                                    \\n                                    Black, Hispanic workers have less access to remote-capable jobs\\n                                ']\n",
      "['\\n                                    \\n                                    Physical health conditions may be job-seeking barriers for those with serious mental illnesses\\n                                ']\n",
      "['\\n                                    \\n                                    Back to Basics: An OSHA overview\\n                                ']\n",
      "['\\n                                    \\n                                    SUNY official fired over performance, not sexual orientation, 2nd Cir. says\\n                                ']\n",
      "['\\n                                    \\n                                    Walmart to hire 150K hourly employees\\n                                ']\n",
      "['\\n                                    \\n                                    Are CEOs displacing CHROs in the workplace transformation?\\n                                ']\n",
      "['\\n                                    \\n                                    Large employers expand leave, payments amid coronavirus\\n                                ']\n",
      "['\\n                                    \\n                                    PayScale: Overall gender pay gap shrinks, but slightly\\n                                ']\n",
      "['\\n                                    \\n                                    Yes, that meeting could have been an email\\n                                ']\n",
      "['\\n                                    \\n                                    CVS eyes virtual interviews, job fairs to hire 50K workers\\n                                ']\n",
      "['\\n                                    \\n                                    EEOC: Manufacturer violated ADA in firing worker returning from hospitalization\\n                                ']\n",
      "['\\n                                    \\n                                    Employees confident they can do their jobs effectively from home during COVID-19 pandemic\\n                                ']\n",
      "[\"\\n                                    \\n                                    Court revives coach's suit, citing need to consider the 'overall likelihood of discrimination'\\n                                \"]\n",
      "[\"\\n                                    \\n                                    From manufacturing to HR: One woman's journey through Honda\\n                                \"]\n",
      "['\\n                                    \\n                                    NLRB suspends representation elections due to coronavirus\\n                                ']\n",
      "['\\n                                    \\n                                    Free trainings, resources aim to ease the transition to remote work\\n                                ']\n",
      "['\\n                                    \\n                                    5 things to know about the new coronavirus paid leave law\\n                                ']\n",
      "['\\n                                    \\n                                    Soft skills training is a priority, but lack of time and resources stands in the way\\n                                ']\n",
      "['\\n                                    \\n                                    Metals company settles EEOC claim it refused to hire workers over 40\\n                                ']\n",
      "[\"\\n                                    \\n                                    DOL to observe 30-day 'temporary non-enforcement' of coronavirus paid leave law\\n                                \"]\n",
      "[\"\\n                                    \\n                                    McDonald's names new chief people officer\\n                                \"]\n",
      "['\\n                                    \\n                                    Employers can screen workers, applicants for fevers, EEOC says\\n                                ']\n",
      "['\\n                                    \\n                                    Collaborative apps boost remote work productivity but cause distractions\\n                                ']\n",
      "['\\n                                    \\n                                    California relaxes notice requirements for coronavirus-related layoffs\\n                                ']\n",
      "['\\n                                    \\n                                    Feds OK remote I-9 document review\\n                                ']\n",
      "['\\n                                    \\n                                    Black, Hispanic workers have less access to remote-capable jobs\\n                                ']\n",
      "['\\n                                    \\n                                    Physical health conditions may be job-seeking barriers for those with serious mental illnesses\\n                                ']\n",
      "['\\n                                    \\n                                    Back to Basics: An OSHA overview\\n                                ']\n",
      "['\\n                                    \\n                                    SUNY official fired over performance, not sexual orientation, 2nd Cir. says\\n                                ']\n",
      "['\\n                                    \\n                                    Walmart to hire 150K hourly employees\\n                                ']\n",
      "['\\n                                    \\n                                    Are CEOs displacing CHROs in the workplace transformation?\\n                                ']\n",
      "['\\n                                    \\n                                    Large employers expand leave, payments amid coronavirus\\n                                ']\n",
      "['\\n                                    \\n                                    PayScale: Overall gender pay gap shrinks, but slightly\\n                                ']\n",
      "['\\n                                    \\n                                    Yes, that meeting could have been an email\\n                                ']\n",
      "['\\n                                    \\n                                    CVS eyes virtual interviews, job fairs to hire 50K workers\\n                                ']\n",
      "['\\n                                    \\n                                    EEOC: Manufacturer violated ADA in firing worker returning from hospitalization\\n                                ']\n",
      "['\\n                                    \\n                                    Employees confident they can do their jobs effectively from home during COVID-19 pandemic\\n                                ']\n",
      "[\"\\n                                    \\n                                    Court revives coach's suit, citing need to consider the 'overall likelihood of discrimination'\\n                                \"]\n",
      "[\"\\n                                    \\n                                    From manufacturing to HR: One woman's journey through Honda\\n                                \"]\n",
      "['\\n                                    \\n                                    NLRB suspends representation elections due to coronavirus\\n                                ']\n",
      "['\\n                                    \\n                                    Free trainings, resources aim to ease the transition to remote work\\n                                ']\n",
      "['\\n                                    \\n                                    5 things to know about the new coronavirus paid leave law\\n                                ']\n",
      "['\\n                                    \\n                                    Soft skills training is a priority, but lack of time and resources stands in the way\\n                                ']\n",
      "['\\n                                    \\n                                    Metals company settles EEOC claim it refused to hire workers over 40\\n                                ']\n",
      "[\"\\n                                    \\n                                    DOL to observe 30-day 'temporary non-enforcement' of coronavirus paid leave law\\n                                \"]\n",
      "[\"\\n                                    \\n                                    McDonald's names new chief people officer\\n                                \"]\n",
      "['\\n                                    \\n                                    Employers can screen workers, applicants for fevers, EEOC says\\n                                ']\n",
      "['\\n                                    \\n                                    Collaborative apps boost remote work productivity but cause distractions\\n                                ']\n",
      "['\\n                                    \\n                                    California relaxes notice requirements for coronavirus-related layoffs\\n                                ']\n",
      "['\\n                                    \\n                                    Feds OK remote I-9 document review\\n                                ']\n",
      "['\\n                                    \\n                                    Black, Hispanic workers have less access to remote-capable jobs\\n                                ']\n",
      "['\\n                                    \\n                                    Physical health conditions may be job-seeking barriers for those with serious mental illnesses\\n                                ']\n",
      "['\\n                                    \\n                                    Back to Basics: An OSHA overview\\n                                ']\n",
      "['\\n                                    \\n                                    SUNY official fired over performance, not sexual orientation, 2nd Cir. says\\n                                ']\n",
      "['\\n                                    \\n                                    Walmart to hire 150K hourly employees\\n                                ']\n",
      "['\\n                                    \\n                                    Are CEOs displacing CHROs in the workplace transformation?\\n                                ']\n"
     ]
    },
    {
     "data": {
      "text/plain": [
       "250"
      ]
     },
     "execution_count": 10,
     "metadata": {},
     "output_type": "execute_result"
    }
   ],
   "source": [
    "alldata =[]\n",
    "\n",
    "web = \"https://www.hrdive.com/?page=%s\"\n",
    "\n",
    "for page in range(1,500,50):\n",
    "    url = web % page\n",
    "    data = html.fromstring(requests.get(url).text)\n",
    "    #xpath\n",
    "    for i in data.xpath(\"//li[contains(@class,'row feed__item')]/div[2][@class='medium-8 columns ']\"):\n",
    "        title = i.xpath('..//div[2]/h3/a/text()')\n",
    "        print(title)\n",
    "        alldata.append([title])\n",
    "    \n",
    "len(alldata)"
   ]
  },
  {
   "cell_type": "code",
   "execution_count": 11,
   "metadata": {},
   "outputs": [
    {
     "name": "stdout",
     "output_type": "stream",
     "text": [
      "['\\n                                    \\n                                    Large employers expand leave, payments amid coronavirus\\n                                ']\n",
      "['\\n                                    \\n                                    PayScale: Overall gender pay gap shrinks, but slightly\\n                                ']\n",
      "['\\n                                    \\n                                    Yes, that meeting could have been an email\\n                                ']\n",
      "['\\n                                    \\n                                    CVS eyes virtual interviews, job fairs to hire 50K workers\\n                                ']\n",
      "['\\n                                    \\n                                    EEOC: Manufacturer violated ADA in firing worker returning from hospitalization\\n                                ']\n",
      "['\\n                                    \\n                                    Employees confident they can do their jobs effectively from home during COVID-19 pandemic\\n                                ']\n",
      "[\"\\n                                    \\n                                    Court revives coach's suit, citing need to consider the 'overall likelihood of discrimination'\\n                                \"]\n",
      "[\"\\n                                    \\n                                    From manufacturing to HR: One woman's journey through Honda\\n                                \"]\n",
      "['\\n                                    \\n                                    NLRB suspends representation elections due to coronavirus\\n                                ']\n",
      "['\\n                                    \\n                                    Free trainings, resources aim to ease the transition to remote work\\n                                ']\n",
      "['\\n                                    \\n                                    5 things to know about the new coronavirus paid leave law\\n                                ']\n",
      "['\\n                                    \\n                                    Soft skills training is a priority, but lack of time and resources stands in the way\\n                                ']\n",
      "['\\n                                    \\n                                    Metals company settles EEOC claim it refused to hire workers over 40\\n                                ']\n",
      "[\"\\n                                    \\n                                    DOL to observe 30-day 'temporary non-enforcement' of coronavirus paid leave law\\n                                \"]\n",
      "[\"\\n                                    \\n                                    McDonald's names new chief people officer\\n                                \"]\n",
      "['\\n                                    \\n                                    Employers can screen workers, applicants for fevers, EEOC says\\n                                ']\n",
      "['\\n                                    \\n                                    Collaborative apps boost remote work productivity but cause distractions\\n                                ']\n",
      "['\\n                                    \\n                                    California relaxes notice requirements for coronavirus-related layoffs\\n                                ']\n",
      "['\\n                                    \\n                                    Feds OK remote I-9 document review\\n                                ']\n",
      "['\\n                                    \\n                                    Black, Hispanic workers have less access to remote-capable jobs\\n                                ']\n",
      "['\\n                                    \\n                                    Physical health conditions may be job-seeking barriers for those with serious mental illnesses\\n                                ']\n",
      "['\\n                                    \\n                                    Back to Basics: An OSHA overview\\n                                ']\n",
      "['\\n                                    \\n                                    SUNY official fired over performance, not sexual orientation, 2nd Cir. says\\n                                ']\n",
      "['\\n                                    \\n                                    Walmart to hire 150K hourly employees\\n                                ']\n",
      "['\\n                                    \\n                                    Are CEOs displacing CHROs in the workplace transformation?\\n                                ']\n",
      "['\\n                                    \\n                                    Large employers expand leave, payments amid coronavirus\\n                                ']\n",
      "['\\n                                    \\n                                    PayScale: Overall gender pay gap shrinks, but slightly\\n                                ']\n",
      "['\\n                                    \\n                                    Yes, that meeting could have been an email\\n                                ']\n",
      "['\\n                                    \\n                                    CVS eyes virtual interviews, job fairs to hire 50K workers\\n                                ']\n",
      "['\\n                                    \\n                                    EEOC: Manufacturer violated ADA in firing worker returning from hospitalization\\n                                ']\n",
      "['\\n                                    \\n                                    Employees confident they can do their jobs effectively from home during COVID-19 pandemic\\n                                ']\n",
      "[\"\\n                                    \\n                                    Court revives coach's suit, citing need to consider the 'overall likelihood of discrimination'\\n                                \"]\n",
      "[\"\\n                                    \\n                                    From manufacturing to HR: One woman's journey through Honda\\n                                \"]\n",
      "['\\n                                    \\n                                    NLRB suspends representation elections due to coronavirus\\n                                ']\n",
      "['\\n                                    \\n                                    Free trainings, resources aim to ease the transition to remote work\\n                                ']\n",
      "['\\n                                    \\n                                    5 things to know about the new coronavirus paid leave law\\n                                ']\n",
      "['\\n                                    \\n                                    Soft skills training is a priority, but lack of time and resources stands in the way\\n                                ']\n",
      "['\\n                                    \\n                                    Metals company settles EEOC claim it refused to hire workers over 40\\n                                ']\n",
      "[\"\\n                                    \\n                                    DOL to observe 30-day 'temporary non-enforcement' of coronavirus paid leave law\\n                                \"]\n",
      "[\"\\n                                    \\n                                    McDonald's names new chief people officer\\n                                \"]\n",
      "['\\n                                    \\n                                    Employers can screen workers, applicants for fevers, EEOC says\\n                                ']\n",
      "['\\n                                    \\n                                    Collaborative apps boost remote work productivity but cause distractions\\n                                ']\n",
      "['\\n                                    \\n                                    California relaxes notice requirements for coronavirus-related layoffs\\n                                ']\n",
      "['\\n                                    \\n                                    Feds OK remote I-9 document review\\n                                ']\n",
      "['\\n                                    \\n                                    Black, Hispanic workers have less access to remote-capable jobs\\n                                ']\n",
      "['\\n                                    \\n                                    Physical health conditions may be job-seeking barriers for those with serious mental illnesses\\n                                ']\n",
      "['\\n                                    \\n                                    Back to Basics: An OSHA overview\\n                                ']\n",
      "['\\n                                    \\n                                    SUNY official fired over performance, not sexual orientation, 2nd Cir. says\\n                                ']\n",
      "['\\n                                    \\n                                    Walmart to hire 150K hourly employees\\n                                ']\n",
      "['\\n                                    \\n                                    Are CEOs displacing CHROs in the workplace transformation?\\n                                ']\n",
      "['\\n                                    \\n                                    Large employers expand leave, payments amid coronavirus\\n                                ']\n",
      "['\\n                                    \\n                                    PayScale: Overall gender pay gap shrinks, but slightly\\n                                ']\n",
      "['\\n                                    \\n                                    Yes, that meeting could have been an email\\n                                ']\n",
      "['\\n                                    \\n                                    CVS eyes virtual interviews, job fairs to hire 50K workers\\n                                ']\n",
      "['\\n                                    \\n                                    EEOC: Manufacturer violated ADA in firing worker returning from hospitalization\\n                                ']\n",
      "['\\n                                    \\n                                    Employees confident they can do their jobs effectively from home during COVID-19 pandemic\\n                                ']\n",
      "[\"\\n                                    \\n                                    Court revives coach's suit, citing need to consider the 'overall likelihood of discrimination'\\n                                \"]\n",
      "[\"\\n                                    \\n                                    From manufacturing to HR: One woman's journey through Honda\\n                                \"]\n",
      "['\\n                                    \\n                                    NLRB suspends representation elections due to coronavirus\\n                                ']\n",
      "['\\n                                    \\n                                    Free trainings, resources aim to ease the transition to remote work\\n                                ']\n",
      "['\\n                                    \\n                                    5 things to know about the new coronavirus paid leave law\\n                                ']\n",
      "['\\n                                    \\n                                    Soft skills training is a priority, but lack of time and resources stands in the way\\n                                ']\n",
      "['\\n                                    \\n                                    Metals company settles EEOC claim it refused to hire workers over 40\\n                                ']\n",
      "[\"\\n                                    \\n                                    DOL to observe 30-day 'temporary non-enforcement' of coronavirus paid leave law\\n                                \"]\n",
      "[\"\\n                                    \\n                                    McDonald's names new chief people officer\\n                                \"]\n",
      "['\\n                                    \\n                                    Employers can screen workers, applicants for fevers, EEOC says\\n                                ']\n",
      "['\\n                                    \\n                                    Collaborative apps boost remote work productivity but cause distractions\\n                                ']\n",
      "['\\n                                    \\n                                    California relaxes notice requirements for coronavirus-related layoffs\\n                                ']\n",
      "['\\n                                    \\n                                    Feds OK remote I-9 document review\\n                                ']\n",
      "['\\n                                    \\n                                    Black, Hispanic workers have less access to remote-capable jobs\\n                                ']\n",
      "['\\n                                    \\n                                    Physical health conditions may be job-seeking barriers for those with serious mental illnesses\\n                                ']\n",
      "['\\n                                    \\n                                    Back to Basics: An OSHA overview\\n                                ']\n",
      "['\\n                                    \\n                                    SUNY official fired over performance, not sexual orientation, 2nd Cir. says\\n                                ']\n",
      "['\\n                                    \\n                                    Walmart to hire 150K hourly employees\\n                                ']\n",
      "['\\n                                    \\n                                    Are CEOs displacing CHROs in the workplace transformation?\\n                                ']\n",
      "['\\n                                    \\n                                    Large employers expand leave, payments amid coronavirus\\n                                ']\n",
      "['\\n                                    \\n                                    PayScale: Overall gender pay gap shrinks, but slightly\\n                                ']\n",
      "['\\n                                    \\n                                    Yes, that meeting could have been an email\\n                                ']\n",
      "['\\n                                    \\n                                    CVS eyes virtual interviews, job fairs to hire 50K workers\\n                                ']\n",
      "['\\n                                    \\n                                    EEOC: Manufacturer violated ADA in firing worker returning from hospitalization\\n                                ']\n",
      "['\\n                                    \\n                                    Employees confident they can do their jobs effectively from home during COVID-19 pandemic\\n                                ']\n",
      "[\"\\n                                    \\n                                    Court revives coach's suit, citing need to consider the 'overall likelihood of discrimination'\\n                                \"]\n",
      "[\"\\n                                    \\n                                    From manufacturing to HR: One woman's journey through Honda\\n                                \"]\n",
      "['\\n                                    \\n                                    NLRB suspends representation elections due to coronavirus\\n                                ']\n",
      "['\\n                                    \\n                                    Free trainings, resources aim to ease the transition to remote work\\n                                ']\n",
      "['\\n                                    \\n                                    5 things to know about the new coronavirus paid leave law\\n                                ']\n",
      "['\\n                                    \\n                                    Soft skills training is a priority, but lack of time and resources stands in the way\\n                                ']\n",
      "['\\n                                    \\n                                    Metals company settles EEOC claim it refused to hire workers over 40\\n                                ']\n",
      "[\"\\n                                    \\n                                    DOL to observe 30-day 'temporary non-enforcement' of coronavirus paid leave law\\n                                \"]\n",
      "[\"\\n                                    \\n                                    McDonald's names new chief people officer\\n                                \"]\n",
      "['\\n                                    \\n                                    Employers can screen workers, applicants for fevers, EEOC says\\n                                ']\n",
      "['\\n                                    \\n                                    Collaborative apps boost remote work productivity but cause distractions\\n                                ']\n",
      "['\\n                                    \\n                                    California relaxes notice requirements for coronavirus-related layoffs\\n                                ']\n",
      "['\\n                                    \\n                                    Feds OK remote I-9 document review\\n                                ']\n",
      "['\\n                                    \\n                                    Black, Hispanic workers have less access to remote-capable jobs\\n                                ']\n",
      "['\\n                                    \\n                                    Physical health conditions may be job-seeking barriers for those with serious mental illnesses\\n                                ']\n",
      "['\\n                                    \\n                                    Back to Basics: An OSHA overview\\n                                ']\n",
      "['\\n                                    \\n                                    SUNY official fired over performance, not sexual orientation, 2nd Cir. says\\n                                ']\n",
      "['\\n                                    \\n                                    Walmart to hire 150K hourly employees\\n                                ']\n",
      "['\\n                                    \\n                                    Are CEOs displacing CHROs in the workplace transformation?\\n                                ']\n",
      "['\\n                                    \\n                                    Large employers expand leave, payments amid coronavirus\\n                                ']\n",
      "['\\n                                    \\n                                    PayScale: Overall gender pay gap shrinks, but slightly\\n                                ']\n",
      "['\\n                                    \\n                                    Yes, that meeting could have been an email\\n                                ']\n",
      "['\\n                                    \\n                                    CVS eyes virtual interviews, job fairs to hire 50K workers\\n                                ']\n",
      "['\\n                                    \\n                                    EEOC: Manufacturer violated ADA in firing worker returning from hospitalization\\n                                ']\n",
      "['\\n                                    \\n                                    Employees confident they can do their jobs effectively from home during COVID-19 pandemic\\n                                ']\n",
      "[\"\\n                                    \\n                                    Court revives coach's suit, citing need to consider the 'overall likelihood of discrimination'\\n                                \"]\n",
      "[\"\\n                                    \\n                                    From manufacturing to HR: One woman's journey through Honda\\n                                \"]\n",
      "['\\n                                    \\n                                    NLRB suspends representation elections due to coronavirus\\n                                ']\n",
      "['\\n                                    \\n                                    Free trainings, resources aim to ease the transition to remote work\\n                                ']\n",
      "['\\n                                    \\n                                    5 things to know about the new coronavirus paid leave law\\n                                ']\n",
      "['\\n                                    \\n                                    Soft skills training is a priority, but lack of time and resources stands in the way\\n                                ']\n",
      "['\\n                                    \\n                                    Metals company settles EEOC claim it refused to hire workers over 40\\n                                ']\n",
      "[\"\\n                                    \\n                                    DOL to observe 30-day 'temporary non-enforcement' of coronavirus paid leave law\\n                                \"]\n",
      "[\"\\n                                    \\n                                    McDonald's names new chief people officer\\n                                \"]\n",
      "['\\n                                    \\n                                    Employers can screen workers, applicants for fevers, EEOC says\\n                                ']\n",
      "['\\n                                    \\n                                    Collaborative apps boost remote work productivity but cause distractions\\n                                ']\n",
      "['\\n                                    \\n                                    California relaxes notice requirements for coronavirus-related layoffs\\n                                ']\n",
      "['\\n                                    \\n                                    Feds OK remote I-9 document review\\n                                ']\n",
      "['\\n                                    \\n                                    Black, Hispanic workers have less access to remote-capable jobs\\n                                ']\n",
      "['\\n                                    \\n                                    Physical health conditions may be job-seeking barriers for those with serious mental illnesses\\n                                ']\n",
      "['\\n                                    \\n                                    Back to Basics: An OSHA overview\\n                                ']\n",
      "['\\n                                    \\n                                    SUNY official fired over performance, not sexual orientation, 2nd Cir. says\\n                                ']\n",
      "['\\n                                    \\n                                    Walmart to hire 150K hourly employees\\n                                ']\n",
      "['\\n                                    \\n                                    Are CEOs displacing CHROs in the workplace transformation?\\n                                ']\n",
      "['\\n                                    \\n                                    Large employers expand leave, payments amid coronavirus\\n                                ']\n",
      "['\\n                                    \\n                                    PayScale: Overall gender pay gap shrinks, but slightly\\n                                ']\n",
      "['\\n                                    \\n                                    Yes, that meeting could have been an email\\n                                ']\n",
      "['\\n                                    \\n                                    CVS eyes virtual interviews, job fairs to hire 50K workers\\n                                ']\n",
      "['\\n                                    \\n                                    EEOC: Manufacturer violated ADA in firing worker returning from hospitalization\\n                                ']\n",
      "['\\n                                    \\n                                    Employees confident they can do their jobs effectively from home during COVID-19 pandemic\\n                                ']\n",
      "[\"\\n                                    \\n                                    Court revives coach's suit, citing need to consider the 'overall likelihood of discrimination'\\n                                \"]\n",
      "[\"\\n                                    \\n                                    From manufacturing to HR: One woman's journey through Honda\\n                                \"]\n",
      "['\\n                                    \\n                                    NLRB suspends representation elections due to coronavirus\\n                                ']\n",
      "['\\n                                    \\n                                    Free trainings, resources aim to ease the transition to remote work\\n                                ']\n",
      "['\\n                                    \\n                                    5 things to know about the new coronavirus paid leave law\\n                                ']\n",
      "['\\n                                    \\n                                    Soft skills training is a priority, but lack of time and resources stands in the way\\n                                ']\n",
      "['\\n                                    \\n                                    Metals company settles EEOC claim it refused to hire workers over 40\\n                                ']\n",
      "[\"\\n                                    \\n                                    DOL to observe 30-day 'temporary non-enforcement' of coronavirus paid leave law\\n                                \"]\n",
      "[\"\\n                                    \\n                                    McDonald's names new chief people officer\\n                                \"]\n",
      "['\\n                                    \\n                                    Employers can screen workers, applicants for fevers, EEOC says\\n                                ']\n",
      "['\\n                                    \\n                                    Collaborative apps boost remote work productivity but cause distractions\\n                                ']\n",
      "['\\n                                    \\n                                    California relaxes notice requirements for coronavirus-related layoffs\\n                                ']\n",
      "['\\n                                    \\n                                    Feds OK remote I-9 document review\\n                                ']\n",
      "['\\n                                    \\n                                    Black, Hispanic workers have less access to remote-capable jobs\\n                                ']\n",
      "['\\n                                    \\n                                    Physical health conditions may be job-seeking barriers for those with serious mental illnesses\\n                                ']\n",
      "['\\n                                    \\n                                    Back to Basics: An OSHA overview\\n                                ']\n",
      "['\\n                                    \\n                                    SUNY official fired over performance, not sexual orientation, 2nd Cir. says\\n                                ']\n",
      "['\\n                                    \\n                                    Walmart to hire 150K hourly employees\\n                                ']\n",
      "['\\n                                    \\n                                    Are CEOs displacing CHROs in the workplace transformation?\\n                                ']\n",
      "['\\n                                    \\n                                    Large employers expand leave, payments amid coronavirus\\n                                ']\n",
      "['\\n                                    \\n                                    PayScale: Overall gender pay gap shrinks, but slightly\\n                                ']\n",
      "['\\n                                    \\n                                    Yes, that meeting could have been an email\\n                                ']\n",
      "['\\n                                    \\n                                    CVS eyes virtual interviews, job fairs to hire 50K workers\\n                                ']\n",
      "['\\n                                    \\n                                    EEOC: Manufacturer violated ADA in firing worker returning from hospitalization\\n                                ']\n",
      "['\\n                                    \\n                                    Employees confident they can do their jobs effectively from home during COVID-19 pandemic\\n                                ']\n",
      "[\"\\n                                    \\n                                    Court revives coach's suit, citing need to consider the 'overall likelihood of discrimination'\\n                                \"]\n",
      "[\"\\n                                    \\n                                    From manufacturing to HR: One woman's journey through Honda\\n                                \"]\n",
      "['\\n                                    \\n                                    NLRB suspends representation elections due to coronavirus\\n                                ']\n",
      "['\\n                                    \\n                                    Free trainings, resources aim to ease the transition to remote work\\n                                ']\n",
      "['\\n                                    \\n                                    5 things to know about the new coronavirus paid leave law\\n                                ']\n",
      "['\\n                                    \\n                                    Soft skills training is a priority, but lack of time and resources stands in the way\\n                                ']\n",
      "['\\n                                    \\n                                    Metals company settles EEOC claim it refused to hire workers over 40\\n                                ']\n",
      "[\"\\n                                    \\n                                    DOL to observe 30-day 'temporary non-enforcement' of coronavirus paid leave law\\n                                \"]\n",
      "[\"\\n                                    \\n                                    McDonald's names new chief people officer\\n                                \"]\n",
      "['\\n                                    \\n                                    Employers can screen workers, applicants for fevers, EEOC says\\n                                ']\n",
      "['\\n                                    \\n                                    Collaborative apps boost remote work productivity but cause distractions\\n                                ']\n",
      "['\\n                                    \\n                                    California relaxes notice requirements for coronavirus-related layoffs\\n                                ']\n",
      "['\\n                                    \\n                                    Feds OK remote I-9 document review\\n                                ']\n",
      "['\\n                                    \\n                                    Black, Hispanic workers have less access to remote-capable jobs\\n                                ']\n",
      "['\\n                                    \\n                                    Physical health conditions may be job-seeking barriers for those with serious mental illnesses\\n                                ']\n",
      "['\\n                                    \\n                                    Back to Basics: An OSHA overview\\n                                ']\n",
      "['\\n                                    \\n                                    SUNY official fired over performance, not sexual orientation, 2nd Cir. says\\n                                ']\n",
      "['\\n                                    \\n                                    Walmart to hire 150K hourly employees\\n                                ']\n",
      "['\\n                                    \\n                                    Are CEOs displacing CHROs in the workplace transformation?\\n                                ']\n",
      "['\\n                                    \\n                                    Large employers expand leave, payments amid coronavirus\\n                                ']\n",
      "['\\n                                    \\n                                    PayScale: Overall gender pay gap shrinks, but slightly\\n                                ']\n",
      "['\\n                                    \\n                                    Yes, that meeting could have been an email\\n                                ']\n",
      "['\\n                                    \\n                                    CVS eyes virtual interviews, job fairs to hire 50K workers\\n                                ']\n",
      "['\\n                                    \\n                                    EEOC: Manufacturer violated ADA in firing worker returning from hospitalization\\n                                ']\n",
      "['\\n                                    \\n                                    Employees confident they can do their jobs effectively from home during COVID-19 pandemic\\n                                ']\n",
      "[\"\\n                                    \\n                                    Court revives coach's suit, citing need to consider the 'overall likelihood of discrimination'\\n                                \"]\n",
      "[\"\\n                                    \\n                                    From manufacturing to HR: One woman's journey through Honda\\n                                \"]\n",
      "['\\n                                    \\n                                    NLRB suspends representation elections due to coronavirus\\n                                ']\n",
      "['\\n                                    \\n                                    Free trainings, resources aim to ease the transition to remote work\\n                                ']\n",
      "['\\n                                    \\n                                    5 things to know about the new coronavirus paid leave law\\n                                ']\n",
      "['\\n                                    \\n                                    Soft skills training is a priority, but lack of time and resources stands in the way\\n                                ']\n",
      "['\\n                                    \\n                                    Metals company settles EEOC claim it refused to hire workers over 40\\n                                ']\n",
      "[\"\\n                                    \\n                                    DOL to observe 30-day 'temporary non-enforcement' of coronavirus paid leave law\\n                                \"]\n",
      "[\"\\n                                    \\n                                    McDonald's names new chief people officer\\n                                \"]\n",
      "['\\n                                    \\n                                    Employers can screen workers, applicants for fevers, EEOC says\\n                                ']\n",
      "['\\n                                    \\n                                    Collaborative apps boost remote work productivity but cause distractions\\n                                ']\n",
      "['\\n                                    \\n                                    California relaxes notice requirements for coronavirus-related layoffs\\n                                ']\n",
      "['\\n                                    \\n                                    Feds OK remote I-9 document review\\n                                ']\n",
      "['\\n                                    \\n                                    Black, Hispanic workers have less access to remote-capable jobs\\n                                ']\n",
      "['\\n                                    \\n                                    Physical health conditions may be job-seeking barriers for those with serious mental illnesses\\n                                ']\n",
      "['\\n                                    \\n                                    Back to Basics: An OSHA overview\\n                                ']\n",
      "['\\n                                    \\n                                    SUNY official fired over performance, not sexual orientation, 2nd Cir. says\\n                                ']\n",
      "['\\n                                    \\n                                    Walmart to hire 150K hourly employees\\n                                ']\n",
      "['\\n                                    \\n                                    Are CEOs displacing CHROs in the workplace transformation?\\n                                ']\n",
      "['\\n                                    \\n                                    Large employers expand leave, payments amid coronavirus\\n                                ']\n",
      "['\\n                                    \\n                                    PayScale: Overall gender pay gap shrinks, but slightly\\n                                ']\n",
      "['\\n                                    \\n                                    Yes, that meeting could have been an email\\n                                ']\n",
      "['\\n                                    \\n                                    CVS eyes virtual interviews, job fairs to hire 50K workers\\n                                ']\n",
      "['\\n                                    \\n                                    EEOC: Manufacturer violated ADA in firing worker returning from hospitalization\\n                                ']\n",
      "['\\n                                    \\n                                    Employees confident they can do their jobs effectively from home during COVID-19 pandemic\\n                                ']\n",
      "[\"\\n                                    \\n                                    Court revives coach's suit, citing need to consider the 'overall likelihood of discrimination'\\n                                \"]\n",
      "[\"\\n                                    \\n                                    From manufacturing to HR: One woman's journey through Honda\\n                                \"]\n",
      "['\\n                                    \\n                                    NLRB suspends representation elections due to coronavirus\\n                                ']\n",
      "['\\n                                    \\n                                    Free trainings, resources aim to ease the transition to remote work\\n                                ']\n",
      "['\\n                                    \\n                                    5 things to know about the new coronavirus paid leave law\\n                                ']\n",
      "['\\n                                    \\n                                    Soft skills training is a priority, but lack of time and resources stands in the way\\n                                ']\n",
      "['\\n                                    \\n                                    Metals company settles EEOC claim it refused to hire workers over 40\\n                                ']\n",
      "[\"\\n                                    \\n                                    DOL to observe 30-day 'temporary non-enforcement' of coronavirus paid leave law\\n                                \"]\n",
      "[\"\\n                                    \\n                                    McDonald's names new chief people officer\\n                                \"]\n",
      "['\\n                                    \\n                                    Employers can screen workers, applicants for fevers, EEOC says\\n                                ']\n",
      "['\\n                                    \\n                                    Collaborative apps boost remote work productivity but cause distractions\\n                                ']\n",
      "['\\n                                    \\n                                    California relaxes notice requirements for coronavirus-related layoffs\\n                                ']\n",
      "['\\n                                    \\n                                    Feds OK remote I-9 document review\\n                                ']\n",
      "['\\n                                    \\n                                    Black, Hispanic workers have less access to remote-capable jobs\\n                                ']\n",
      "['\\n                                    \\n                                    Physical health conditions may be job-seeking barriers for those with serious mental illnesses\\n                                ']\n",
      "['\\n                                    \\n                                    Back to Basics: An OSHA overview\\n                                ']\n",
      "['\\n                                    \\n                                    SUNY official fired over performance, not sexual orientation, 2nd Cir. says\\n                                ']\n",
      "['\\n                                    \\n                                    Walmart to hire 150K hourly employees\\n                                ']\n",
      "['\\n                                    \\n                                    Are CEOs displacing CHROs in the workplace transformation?\\n                                ']\n",
      "['\\n                                    \\n                                    Large employers expand leave, payments amid coronavirus\\n                                ']\n",
      "['\\n                                    \\n                                    PayScale: Overall gender pay gap shrinks, but slightly\\n                                ']\n",
      "['\\n                                    \\n                                    Yes, that meeting could have been an email\\n                                ']\n",
      "['\\n                                    \\n                                    CVS eyes virtual interviews, job fairs to hire 50K workers\\n                                ']\n",
      "['\\n                                    \\n                                    EEOC: Manufacturer violated ADA in firing worker returning from hospitalization\\n                                ']\n",
      "['\\n                                    \\n                                    Employees confident they can do their jobs effectively from home during COVID-19 pandemic\\n                                ']\n",
      "[\"\\n                                    \\n                                    Court revives coach's suit, citing need to consider the 'overall likelihood of discrimination'\\n                                \"]\n",
      "[\"\\n                                    \\n                                    From manufacturing to HR: One woman's journey through Honda\\n                                \"]\n",
      "['\\n                                    \\n                                    NLRB suspends representation elections due to coronavirus\\n                                ']\n",
      "['\\n                                    \\n                                    Free trainings, resources aim to ease the transition to remote work\\n                                ']\n",
      "['\\n                                    \\n                                    5 things to know about the new coronavirus paid leave law\\n                                ']\n",
      "['\\n                                    \\n                                    Soft skills training is a priority, but lack of time and resources stands in the way\\n                                ']\n",
      "['\\n                                    \\n                                    Metals company settles EEOC claim it refused to hire workers over 40\\n                                ']\n",
      "[\"\\n                                    \\n                                    DOL to observe 30-day 'temporary non-enforcement' of coronavirus paid leave law\\n                                \"]\n",
      "[\"\\n                                    \\n                                    McDonald's names new chief people officer\\n                                \"]\n",
      "['\\n                                    \\n                                    Employers can screen workers, applicants for fevers, EEOC says\\n                                ']\n",
      "['\\n                                    \\n                                    Collaborative apps boost remote work productivity but cause distractions\\n                                ']\n",
      "['\\n                                    \\n                                    California relaxes notice requirements for coronavirus-related layoffs\\n                                ']\n",
      "['\\n                                    \\n                                    Feds OK remote I-9 document review\\n                                ']\n",
      "['\\n                                    \\n                                    Black, Hispanic workers have less access to remote-capable jobs\\n                                ']\n",
      "['\\n                                    \\n                                    Physical health conditions may be job-seeking barriers for those with serious mental illnesses\\n                                ']\n",
      "['\\n                                    \\n                                    Back to Basics: An OSHA overview\\n                                ']\n",
      "['\\n                                    \\n                                    SUNY official fired over performance, not sexual orientation, 2nd Cir. says\\n                                ']\n",
      "['\\n                                    \\n                                    Walmart to hire 150K hourly employees\\n                                ']\n",
      "['\\n                                    \\n                                    Are CEOs displacing CHROs in the workplace transformation?\\n                                ']\n"
     ]
    },
    {
     "data": {
      "text/plain": [
       "0"
      ]
     },
     "execution_count": 11,
     "metadata": {},
     "output_type": "execute_result"
    }
   ],
   "source": [
    "finaldata=[]\n",
    "web = \"https://www.hrdive.com/?page=%s\"\n",
    "for page in range(1,500,50):\n",
    "    url = web % page\n",
    "    data = html.fromstring(requests.get(url).text)\n",
    "    #xpath\n",
    "    for i in data.xpath(\"//li[contains(@class,'row feed__item')]/div[2][@class='medium-8 columns ']\"):\n",
    "        title = i.xpath('..//div[2]/h3/a/text()')  \n",
    "        print(title)\n",
    "        alldata.append([title])\n",
    "        \n",
    "len(finaldata)"
   ]
  },
  {
   "cell_type": "code",
   "execution_count": 12,
   "metadata": {},
   "outputs": [
    {
     "data": {
      "text/html": [
       "<div>\n",
       "<style scoped>\n",
       "    .dataframe tbody tr th:only-of-type {\n",
       "        vertical-align: middle;\n",
       "    }\n",
       "\n",
       "    .dataframe tbody tr th {\n",
       "        vertical-align: top;\n",
       "    }\n",
       "\n",
       "    .dataframe thead th {\n",
       "        text-align: right;\n",
       "    }\n",
       "</style>\n",
       "<table border=\"1\" class=\"dataframe\">\n",
       "  <thead>\n",
       "    <tr style=\"text-align: right;\">\n",
       "      <th></th>\n",
       "      <th>0</th>\n",
       "    </tr>\n",
       "  </thead>\n",
       "  <tbody>\n",
       "    <tr>\n",
       "      <td>0</td>\n",
       "      <td>[\\n                                    \\n                                    Large employers expand leave, payments amid coronavirus\\n                                ]</td>\n",
       "    </tr>\n",
       "    <tr>\n",
       "      <td>1</td>\n",
       "      <td>[\\n                                    \\n                                    PayScale: Overall gender pay gap shrinks, but slightly\\n                                ]</td>\n",
       "    </tr>\n",
       "    <tr>\n",
       "      <td>2</td>\n",
       "      <td>[\\n                                    \\n                                    Yes, that meeting could have been an email\\n                                ]</td>\n",
       "    </tr>\n",
       "    <tr>\n",
       "      <td>3</td>\n",
       "      <td>[\\n                                    \\n                                    CVS eyes virtual interviews, job fairs to hire 50K workers\\n                                ]</td>\n",
       "    </tr>\n",
       "    <tr>\n",
       "      <td>4</td>\n",
       "      <td>[\\n                                    \\n                                    EEOC: Manufacturer violated ADA in firing worker returning from hospitalization\\n                                ]</td>\n",
       "    </tr>\n",
       "  </tbody>\n",
       "</table>\n",
       "</div>"
      ],
      "text/plain": [
       "                                                                                                                                                                                                 0\n",
       "0  [\\n                                    \\n                                    Large employers expand leave, payments amid coronavirus\\n                                ]                        \n",
       "1  [\\n                                    \\n                                    PayScale: Overall gender pay gap shrinks, but slightly\\n                                ]                         \n",
       "2  [\\n                                    \\n                                    Yes, that meeting could have been an email\\n                                ]                                     \n",
       "3  [\\n                                    \\n                                    CVS eyes virtual interviews, job fairs to hire 50K workers\\n                                ]                     \n",
       "4  [\\n                                    \\n                                    EEOC: Manufacturer violated ADA in firing worker returning from hospitalization\\n                                ]"
      ]
     },
     "execution_count": 12,
     "metadata": {},
     "output_type": "execute_result"
    }
   ],
   "source": [
    "# convert list to data frame (excel-like)\n",
    "pd.set_option('display.max_colwidth', -1)\n",
    "df = pd.DataFrame(alldata)\n",
    "df.head()"
   ]
  },
  {
   "cell_type": "markdown",
   "metadata": {},
   "source": [
    "##### Data preparation"
   ]
  },
  {
   "cell_type": "code",
   "execution_count": 13,
   "metadata": {},
   "outputs": [
    {
     "data": {
      "text/html": [
       "<div>\n",
       "<style scoped>\n",
       "    .dataframe tbody tr th:only-of-type {\n",
       "        vertical-align: middle;\n",
       "    }\n",
       "\n",
       "    .dataframe tbody tr th {\n",
       "        vertical-align: top;\n",
       "    }\n",
       "\n",
       "    .dataframe thead th {\n",
       "        text-align: right;\n",
       "    }\n",
       "</style>\n",
       "<table border=\"1\" class=\"dataframe\">\n",
       "  <thead>\n",
       "    <tr style=\"text-align: right;\">\n",
       "      <th></th>\n",
       "      <th>0</th>\n",
       "    </tr>\n",
       "  </thead>\n",
       "  <tbody>\n",
       "    <tr>\n",
       "      <td>0</td>\n",
       "      <td>'\\n                                    \\n                                    Large employers expand leave, payments amid coronavirus\\n                                '</td>\n",
       "    </tr>\n",
       "    <tr>\n",
       "      <td>1</td>\n",
       "      <td>'\\n                                    \\n                                    PayScale: Overall gender pay gap shrinks, but slightly\\n                                '</td>\n",
       "    </tr>\n",
       "    <tr>\n",
       "      <td>2</td>\n",
       "      <td>'\\n                                    \\n                                    Yes, that meeting could have been an email\\n                                '</td>\n",
       "    </tr>\n",
       "    <tr>\n",
       "      <td>3</td>\n",
       "      <td>'\\n                                    \\n                                    CVS eyes virtual interviews, job fairs to hire 50K workers\\n                                '</td>\n",
       "    </tr>\n",
       "    <tr>\n",
       "      <td>4</td>\n",
       "      <td>'\\n                                    \\n                                    EEOC: Manufacturer violated ADA in firing worker returning from hospitalization\\n                                '</td>\n",
       "    </tr>\n",
       "    <tr>\n",
       "      <td>...</td>\n",
       "      <td>...</td>\n",
       "    </tr>\n",
       "    <tr>\n",
       "      <td>495</td>\n",
       "      <td>'\\n                                    \\n                                    Physical health conditions may be job-seeking barriers for those with serious mental illnesses\\n                                '</td>\n",
       "    </tr>\n",
       "    <tr>\n",
       "      <td>496</td>\n",
       "      <td>'\\n                                    \\n                                    Back to Basics: An OSHA overview\\n                                '</td>\n",
       "    </tr>\n",
       "    <tr>\n",
       "      <td>497</td>\n",
       "      <td>'\\n                                    \\n                                    SUNY official fired over performance, not sexual orientation, 2nd Cir. says\\n                                '</td>\n",
       "    </tr>\n",
       "    <tr>\n",
       "      <td>498</td>\n",
       "      <td>'\\n                                    \\n                                    Walmart to hire 150K hourly employees\\n                                '</td>\n",
       "    </tr>\n",
       "    <tr>\n",
       "      <td>499</td>\n",
       "      <td>'\\n                                    \\n                                    Are CEOs displacing CHROs in the workplace transformation?\\n                                '</td>\n",
       "    </tr>\n",
       "  </tbody>\n",
       "</table>\n",
       "<p>500 rows × 1 columns</p>\n",
       "</div>"
      ],
      "text/plain": [
       "                                                                                                                                                                                                                  0\n",
       "0    '\\n                                    \\n                                    Large employers expand leave, payments amid coronavirus\\n                                '                                       \n",
       "1    '\\n                                    \\n                                    PayScale: Overall gender pay gap shrinks, but slightly\\n                                '                                        \n",
       "2    '\\n                                    \\n                                    Yes, that meeting could have been an email\\n                                '                                                    \n",
       "3    '\\n                                    \\n                                    CVS eyes virtual interviews, job fairs to hire 50K workers\\n                                '                                    \n",
       "4    '\\n                                    \\n                                    EEOC: Manufacturer violated ADA in firing worker returning from hospitalization\\n                                '               \n",
       "..                                                                                                                                                                                               ...               \n",
       "495  '\\n                                    \\n                                    Physical health conditions may be job-seeking barriers for those with serious mental illnesses\\n                                '\n",
       "496  '\\n                                    \\n                                    Back to Basics: An OSHA overview\\n                                '                                                              \n",
       "497  '\\n                                    \\n                                    SUNY official fired over performance, not sexual orientation, 2nd Cir. says\\n                                '                   \n",
       "498  '\\n                                    \\n                                    Walmart to hire 150K hourly employees\\n                                '                                                         \n",
       "499  '\\n                                    \\n                                    Are CEOs displacing CHROs in the workplace transformation?\\n                                '                                    \n",
       "\n",
       "[500 rows x 1 columns]"
      ]
     },
     "execution_count": 13,
     "metadata": {},
     "output_type": "execute_result"
    }
   ],
   "source": [
    "# You could convert your list to str with astype(str) and then remove ', [, ] characters\n",
    "# https://stackoverflow.com/questions/37347725/converting-a-panda-df-list-into-a-string/37347837\n",
    "\n",
    "df[0] = df[0].astype(str).str.replace('\\[|\\]', '')\n",
    "df"
   ]
  },
  {
   "cell_type": "markdown",
   "metadata": {},
   "source": [
    "##### Data cleaning & transformation"
   ]
  },
  {
   "cell_type": "code",
   "execution_count": 14,
   "metadata": {},
   "outputs": [
    {
     "data": {
      "text/html": [
       "<div>\n",
       "<style scoped>\n",
       "    .dataframe tbody tr th:only-of-type {\n",
       "        vertical-align: middle;\n",
       "    }\n",
       "\n",
       "    .dataframe tbody tr th {\n",
       "        vertical-align: top;\n",
       "    }\n",
       "\n",
       "    .dataframe thead th {\n",
       "        text-align: right;\n",
       "    }\n",
       "</style>\n",
       "<table border=\"1\" class=\"dataframe\">\n",
       "  <thead>\n",
       "    <tr style=\"text-align: right;\">\n",
       "      <th></th>\n",
       "      <th>0</th>\n",
       "    </tr>\n",
       "  </thead>\n",
       "  <tbody>\n",
       "    <tr>\n",
       "      <td>0</td>\n",
       "      <td>'                                                                          Large employers expand leave, payments amid coronavirus                                 '</td>\n",
       "    </tr>\n",
       "    <tr>\n",
       "      <td>1</td>\n",
       "      <td>'                                                                          PayScale: Overall gender pay gap shrinks, but slightly                                 '</td>\n",
       "    </tr>\n",
       "    <tr>\n",
       "      <td>2</td>\n",
       "      <td>'                                                                          Yes, that meeting could have been an email                                 '</td>\n",
       "    </tr>\n",
       "    <tr>\n",
       "      <td>3</td>\n",
       "      <td>'                                                                          CVS eyes virtual interviews, job fairs to hire 50K workers                                 '</td>\n",
       "    </tr>\n",
       "    <tr>\n",
       "      <td>4</td>\n",
       "      <td>'                                                                          EEOC: Manufacturer violated ADA in firing worker returning from hospitalization                                 '</td>\n",
       "    </tr>\n",
       "    <tr>\n",
       "      <td>...</td>\n",
       "      <td>...</td>\n",
       "    </tr>\n",
       "    <tr>\n",
       "      <td>495</td>\n",
       "      <td>'                                                                          Physical health conditions may be job-seeking barriers for those with serious mental illnesses                                 '</td>\n",
       "    </tr>\n",
       "    <tr>\n",
       "      <td>496</td>\n",
       "      <td>'                                                                          Back to Basics: An OSHA overview                                 '</td>\n",
       "    </tr>\n",
       "    <tr>\n",
       "      <td>497</td>\n",
       "      <td>'                                                                          SUNY official fired over performance, not sexual orientation, 2nd Cir. says                                 '</td>\n",
       "    </tr>\n",
       "    <tr>\n",
       "      <td>498</td>\n",
       "      <td>'                                                                          Walmart to hire 150K hourly employees                                 '</td>\n",
       "    </tr>\n",
       "    <tr>\n",
       "      <td>499</td>\n",
       "      <td>'                                                                          Are CEOs displacing CHROs in the workplace transformation?                                 '</td>\n",
       "    </tr>\n",
       "  </tbody>\n",
       "</table>\n",
       "<p>500 rows × 1 columns</p>\n",
       "</div>"
      ],
      "text/plain": [
       "                                                                                                                                                                                                               0\n",
       "0    '                                                                          Large employers expand leave, payments amid coronavirus                                 '                                       \n",
       "1    '                                                                          PayScale: Overall gender pay gap shrinks, but slightly                                 '                                        \n",
       "2    '                                                                          Yes, that meeting could have been an email                                 '                                                    \n",
       "3    '                                                                          CVS eyes virtual interviews, job fairs to hire 50K workers                                 '                                    \n",
       "4    '                                                                          EEOC: Manufacturer violated ADA in firing worker returning from hospitalization                                 '               \n",
       "..                                                                                                                                                                                            ...               \n",
       "495  '                                                                          Physical health conditions may be job-seeking barriers for those with serious mental illnesses                                 '\n",
       "496  '                                                                          Back to Basics: An OSHA overview                                 '                                                              \n",
       "497  '                                                                          SUNY official fired over performance, not sexual orientation, 2nd Cir. says                                 '                   \n",
       "498  '                                                                          Walmart to hire 150K hourly employees                                 '                                                         \n",
       "499  '                                                                          Are CEOs displacing CHROs in the workplace transformation?                                 '                                    \n",
       "\n",
       "[500 rows x 1 columns]"
      ]
     },
     "execution_count": 14,
     "metadata": {},
     "output_type": "execute_result"
    }
   ],
   "source": [
    "#https://stackoverflow.com/questions/37160929/how-to-remove-carriage-return-in-a-dataframe\n",
    "# r --> regular expression\n",
    "\n",
    "df[0] = df[0].str.replace(r'\\\\n',' ')\n",
    "df"
   ]
  },
  {
   "cell_type": "code",
   "execution_count": 15,
   "metadata": {},
   "outputs": [
    {
     "data": {
      "text/html": [
       "<div>\n",
       "<style scoped>\n",
       "    .dataframe tbody tr th:only-of-type {\n",
       "        vertical-align: middle;\n",
       "    }\n",
       "\n",
       "    .dataframe tbody tr th {\n",
       "        vertical-align: top;\n",
       "    }\n",
       "\n",
       "    .dataframe thead th {\n",
       "        text-align: right;\n",
       "    }\n",
       "</style>\n",
       "<table border=\"1\" class=\"dataframe\">\n",
       "  <thead>\n",
       "    <tr style=\"text-align: right;\">\n",
       "      <th></th>\n",
       "      <th>0</th>\n",
       "    </tr>\n",
       "  </thead>\n",
       "  <tbody>\n",
       "    <tr>\n",
       "      <td>0</td>\n",
       "      <td>'                                                                          Large employers expand leave, payments amid coronavirus                                 '</td>\n",
       "    </tr>\n",
       "    <tr>\n",
       "      <td>1</td>\n",
       "      <td>'                                                                          PayScale: Overall gender pay gap shrinks, but slightly                                 '</td>\n",
       "    </tr>\n",
       "    <tr>\n",
       "      <td>2</td>\n",
       "      <td>'                                                                          Yes, that meeting could have been an email                                 '</td>\n",
       "    </tr>\n",
       "    <tr>\n",
       "      <td>3</td>\n",
       "      <td>'                                                                          CVS eyes virtual interviews, job fairs to hire 50K workers                                 '</td>\n",
       "    </tr>\n",
       "    <tr>\n",
       "      <td>4</td>\n",
       "      <td>'                                                                          EEOC: Manufacturer violated ADA in firing worker returning from hospitalization                                 '</td>\n",
       "    </tr>\n",
       "    <tr>\n",
       "      <td>...</td>\n",
       "      <td>...</td>\n",
       "    </tr>\n",
       "    <tr>\n",
       "      <td>495</td>\n",
       "      <td>'                                                                          Physical health conditions may be job-seeking barriers for those with serious mental illnesses                                 '</td>\n",
       "    </tr>\n",
       "    <tr>\n",
       "      <td>496</td>\n",
       "      <td>'                                                                          Back to Basics: An OSHA overview                                 '</td>\n",
       "    </tr>\n",
       "    <tr>\n",
       "      <td>497</td>\n",
       "      <td>'                                                                          SUNY official fired over performance, not sexual orientation, 2nd Cir. says                                 '</td>\n",
       "    </tr>\n",
       "    <tr>\n",
       "      <td>498</td>\n",
       "      <td>'                                                                          Walmart to hire 150K hourly employees                                 '</td>\n",
       "    </tr>\n",
       "    <tr>\n",
       "      <td>499</td>\n",
       "      <td>'                                                                          Are CEOs displacing CHROs in the workplace transformation?                                 '</td>\n",
       "    </tr>\n",
       "  </tbody>\n",
       "</table>\n",
       "<p>500 rows × 1 columns</p>\n",
       "</div>"
      ],
      "text/plain": [
       "                                                                                                                                                                                                               0\n",
       "0    '                                                                          Large employers expand leave, payments amid coronavirus                                 '                                       \n",
       "1    '                                                                          PayScale: Overall gender pay gap shrinks, but slightly                                 '                                        \n",
       "2    '                                                                          Yes, that meeting could have been an email                                 '                                                    \n",
       "3    '                                                                          CVS eyes virtual interviews, job fairs to hire 50K workers                                 '                                    \n",
       "4    '                                                                          EEOC: Manufacturer violated ADA in firing worker returning from hospitalization                                 '               \n",
       "..                                                                                                                                                                                            ...               \n",
       "495  '                                                                          Physical health conditions may be job-seeking barriers for those with serious mental illnesses                                 '\n",
       "496  '                                                                          Back to Basics: An OSHA overview                                 '                                                              \n",
       "497  '                                                                          SUNY official fired over performance, not sexual orientation, 2nd Cir. says                                 '                   \n",
       "498  '                                                                          Walmart to hire 150K hourly employees                                 '                                                         \n",
       "499  '                                                                          Are CEOs displacing CHROs in the workplace transformation?                                 '                                    \n",
       "\n",
       "[500 rows x 1 columns]"
      ]
     },
     "execution_count": 15,
     "metadata": {},
     "output_type": "execute_result"
    }
   ],
   "source": [
    "# they only occur at start and end...\n",
    "df[0] = df[0].str.replace('\"', '')\n",
    "df"
   ]
  },
  {
   "cell_type": "code",
   "execution_count": 16,
   "metadata": {},
   "outputs": [
    {
     "data": {
      "text/html": [
       "<div>\n",
       "<style scoped>\n",
       "    .dataframe tbody tr th:only-of-type {\n",
       "        vertical-align: middle;\n",
       "    }\n",
       "\n",
       "    .dataframe tbody tr th {\n",
       "        vertical-align: top;\n",
       "    }\n",
       "\n",
       "    .dataframe thead th {\n",
       "        text-align: right;\n",
       "    }\n",
       "</style>\n",
       "<table border=\"1\" class=\"dataframe\">\n",
       "  <thead>\n",
       "    <tr style=\"text-align: right;\">\n",
       "      <th></th>\n",
       "      <th>0</th>\n",
       "    </tr>\n",
       "  </thead>\n",
       "  <tbody>\n",
       "    <tr>\n",
       "      <td>0</td>\n",
       "      <td>'                                                                          Large employers expand leave, payments amid coronavirus                                 '</td>\n",
       "    </tr>\n",
       "    <tr>\n",
       "      <td>1</td>\n",
       "      <td>'                                                                          PayScale: Overall gender pay gap shrinks, but slightly                                 '</td>\n",
       "    </tr>\n",
       "    <tr>\n",
       "      <td>2</td>\n",
       "      <td>'                                                                          Yes, that meeting could have been an email                                 '</td>\n",
       "    </tr>\n",
       "    <tr>\n",
       "      <td>3</td>\n",
       "      <td>'                                                                          CVS eyes virtual interviews, job fairs to hire 50K workers                                 '</td>\n",
       "    </tr>\n",
       "    <tr>\n",
       "      <td>4</td>\n",
       "      <td>'                                                                          EEOC: Manufacturer violated ADA in firing worker returning from hospitalization                                 '</td>\n",
       "    </tr>\n",
       "    <tr>\n",
       "      <td>...</td>\n",
       "      <td>...</td>\n",
       "    </tr>\n",
       "    <tr>\n",
       "      <td>495</td>\n",
       "      <td>'                                                                          Physical health conditions may be job-seeking barriers for those with serious mental illnesses                                 '</td>\n",
       "    </tr>\n",
       "    <tr>\n",
       "      <td>496</td>\n",
       "      <td>'                                                                          Back to Basics: An OSHA overview                                 '</td>\n",
       "    </tr>\n",
       "    <tr>\n",
       "      <td>497</td>\n",
       "      <td>'                                                                          SUNY official fired over performance, not sexual orientation, 2nd Cir. says                                 '</td>\n",
       "    </tr>\n",
       "    <tr>\n",
       "      <td>498</td>\n",
       "      <td>'                                                                          Walmart to hire 150K hourly employees                                 '</td>\n",
       "    </tr>\n",
       "    <tr>\n",
       "      <td>499</td>\n",
       "      <td>'                                                                          Are CEOs displacing CHROs in the workplace transformation?                                 '</td>\n",
       "    </tr>\n",
       "  </tbody>\n",
       "</table>\n",
       "<p>500 rows × 1 columns</p>\n",
       "</div>"
      ],
      "text/plain": [
       "                                                                                                                                                                                                               0\n",
       "0    '                                                                          Large employers expand leave, payments amid coronavirus                                 '                                       \n",
       "1    '                                                                          PayScale: Overall gender pay gap shrinks, but slightly                                 '                                        \n",
       "2    '                                                                          Yes, that meeting could have been an email                                 '                                                    \n",
       "3    '                                                                          CVS eyes virtual interviews, job fairs to hire 50K workers                                 '                                    \n",
       "4    '                                                                          EEOC: Manufacturer violated ADA in firing worker returning from hospitalization                                 '               \n",
       "..                                                                                                                                                                                            ...               \n",
       "495  '                                                                          Physical health conditions may be job-seeking barriers for those with serious mental illnesses                                 '\n",
       "496  '                                                                          Back to Basics: An OSHA overview                                 '                                                              \n",
       "497  '                                                                          SUNY official fired over performance, not sexual orientation, 2nd Cir. says                                 '                   \n",
       "498  '                                                                          Walmart to hire 150K hourly employees                                 '                                                         \n",
       "499  '                                                                          Are CEOs displacing CHROs in the workplace transformation?                                 '                                    \n",
       "\n",
       "[500 rows x 1 columns]"
      ]
     },
     "execution_count": 16,
     "metadata": {},
     "output_type": "execute_result"
    }
   ],
   "source": [
    "# they only occur at start and end...\n",
    "df[0] = df[0].str.replace('\"', '')\n",
    "df"
   ]
  },
  {
   "cell_type": "code",
   "execution_count": 17,
   "metadata": {},
   "outputs": [
    {
     "data": {
      "text/html": [
       "<div>\n",
       "<style scoped>\n",
       "    .dataframe tbody tr th:only-of-type {\n",
       "        vertical-align: middle;\n",
       "    }\n",
       "\n",
       "    .dataframe tbody tr th {\n",
       "        vertical-align: top;\n",
       "    }\n",
       "\n",
       "    .dataframe thead th {\n",
       "        text-align: right;\n",
       "    }\n",
       "</style>\n",
       "<table border=\"1\" class=\"dataframe\">\n",
       "  <thead>\n",
       "    <tr style=\"text-align: right;\">\n",
       "      <th></th>\n",
       "      <th>0</th>\n",
       "    </tr>\n",
       "  </thead>\n",
       "  <tbody>\n",
       "    <tr>\n",
       "      <td>0</td>\n",
       "      <td>'                                                                          Large employers expand leave, payments amid coronavirus                                 '</td>\n",
       "    </tr>\n",
       "    <tr>\n",
       "      <td>1</td>\n",
       "      <td>'                                                                          PayScale: Overall gender pay gap shrinks, but slightly                                 '</td>\n",
       "    </tr>\n",
       "    <tr>\n",
       "      <td>2</td>\n",
       "      <td>'                                                                          Yes, that meeting could have been an email                                 '</td>\n",
       "    </tr>\n",
       "    <tr>\n",
       "      <td>3</td>\n",
       "      <td>'                                                                          CVS eyes virtual interviews, job fairs to hire 50K workers                                 '</td>\n",
       "    </tr>\n",
       "    <tr>\n",
       "      <td>4</td>\n",
       "      <td>'                                                                          EEOC: Manufacturer violated ADA in firing worker returning from hospitalization                                 '</td>\n",
       "    </tr>\n",
       "    <tr>\n",
       "      <td>...</td>\n",
       "      <td>...</td>\n",
       "    </tr>\n",
       "    <tr>\n",
       "      <td>495</td>\n",
       "      <td>'                                                                          Physical health conditions may be job-seeking barriers for those with serious mental illnesses                                 '</td>\n",
       "    </tr>\n",
       "    <tr>\n",
       "      <td>496</td>\n",
       "      <td>'                                                                          Back to Basics: An OSHA overview                                 '</td>\n",
       "    </tr>\n",
       "    <tr>\n",
       "      <td>497</td>\n",
       "      <td>'                                                                          SUNY official fired over performance, not sexual orientation, 2nd Cir. says                                 '</td>\n",
       "    </tr>\n",
       "    <tr>\n",
       "      <td>498</td>\n",
       "      <td>'                                                                          Walmart to hire 150K hourly employees                                 '</td>\n",
       "    </tr>\n",
       "    <tr>\n",
       "      <td>499</td>\n",
       "      <td>'                                                                          Are CEOs displacing CHROs in the workplace transformation?                                 '</td>\n",
       "    </tr>\n",
       "  </tbody>\n",
       "</table>\n",
       "<p>500 rows × 1 columns</p>\n",
       "</div>"
      ],
      "text/plain": [
       "                                                                                                                                                                                                               0\n",
       "0    '                                                                          Large employers expand leave, payments amid coronavirus                                 '                                       \n",
       "1    '                                                                          PayScale: Overall gender pay gap shrinks, but slightly                                 '                                        \n",
       "2    '                                                                          Yes, that meeting could have been an email                                 '                                                    \n",
       "3    '                                                                          CVS eyes virtual interviews, job fairs to hire 50K workers                                 '                                    \n",
       "4    '                                                                          EEOC: Manufacturer violated ADA in firing worker returning from hospitalization                                 '               \n",
       "..                                                                                                                                                                                            ...               \n",
       "495  '                                                                          Physical health conditions may be job-seeking barriers for those with serious mental illnesses                                 '\n",
       "496  '                                                                          Back to Basics: An OSHA overview                                 '                                                              \n",
       "497  '                                                                          SUNY official fired over performance, not sexual orientation, 2nd Cir. says                                 '                   \n",
       "498  '                                                                          Walmart to hire 150K hourly employees                                 '                                                         \n",
       "499  '                                                                          Are CEOs displacing CHROs in the workplace transformation?                                 '                                    \n",
       "\n",
       "[500 rows x 1 columns]"
      ]
     },
     "execution_count": 17,
     "metadata": {},
     "output_type": "execute_result"
    }
   ],
   "source": [
    "df[0] = df[0].str.strip()\n",
    "df"
   ]
  },
  {
   "cell_type": "code",
   "execution_count": 18,
   "metadata": {},
   "outputs": [
    {
     "data": {
      "text/html": [
       "<div>\n",
       "<style scoped>\n",
       "    .dataframe tbody tr th:only-of-type {\n",
       "        vertical-align: middle;\n",
       "    }\n",
       "\n",
       "    .dataframe tbody tr th {\n",
       "        vertical-align: top;\n",
       "    }\n",
       "\n",
       "    .dataframe thead th {\n",
       "        text-align: right;\n",
       "    }\n",
       "</style>\n",
       "<table border=\"1\" class=\"dataframe\">\n",
       "  <thead>\n",
       "    <tr style=\"text-align: right;\">\n",
       "      <th></th>\n",
       "      <th>0</th>\n",
       "    </tr>\n",
       "  </thead>\n",
       "  <tbody>\n",
       "    <tr>\n",
       "      <td>0</td>\n",
       "      <td>Large employers expand leave, payments amid coronavirus</td>\n",
       "    </tr>\n",
       "    <tr>\n",
       "      <td>1</td>\n",
       "      <td>PayScale: Overall gender pay gap shrinks, but slightly</td>\n",
       "    </tr>\n",
       "    <tr>\n",
       "      <td>2</td>\n",
       "      <td>Yes, that meeting could have been an email</td>\n",
       "    </tr>\n",
       "    <tr>\n",
       "      <td>3</td>\n",
       "      <td>CVS eyes virtual interviews, job fairs to hire 50K workers</td>\n",
       "    </tr>\n",
       "    <tr>\n",
       "      <td>4</td>\n",
       "      <td>EEOC: Manufacturer violated ADA in firing worker returning from hospitalization</td>\n",
       "    </tr>\n",
       "    <tr>\n",
       "      <td>...</td>\n",
       "      <td>...</td>\n",
       "    </tr>\n",
       "    <tr>\n",
       "      <td>495</td>\n",
       "      <td>Physical health conditions may be job-seeking barriers for those with serious mental illnesses</td>\n",
       "    </tr>\n",
       "    <tr>\n",
       "      <td>496</td>\n",
       "      <td>Back to Basics: An OSHA overview</td>\n",
       "    </tr>\n",
       "    <tr>\n",
       "      <td>497</td>\n",
       "      <td>SUNY official fired over performance, not sexual orientation, 2nd Cir. says</td>\n",
       "    </tr>\n",
       "    <tr>\n",
       "      <td>498</td>\n",
       "      <td>Walmart to hire 150K hourly employees</td>\n",
       "    </tr>\n",
       "    <tr>\n",
       "      <td>499</td>\n",
       "      <td>Are CEOs displacing CHROs in the workplace transformation?</td>\n",
       "    </tr>\n",
       "  </tbody>\n",
       "</table>\n",
       "<p>500 rows × 1 columns</p>\n",
       "</div>"
      ],
      "text/plain": [
       "                                                                                                                                                                                                             0\n",
       "0                                                                              Large employers expand leave, payments amid coronavirus                                                                        \n",
       "1                                                                              PayScale: Overall gender pay gap shrinks, but slightly                                                                         \n",
       "2                                                                              Yes, that meeting could have been an email                                                                                     \n",
       "3                                                                              CVS eyes virtual interviews, job fairs to hire 50K workers                                                                     \n",
       "4                                                                              EEOC: Manufacturer violated ADA in firing worker returning from hospitalization                                                \n",
       "..                                                                                                                                                                                          ...               \n",
       "495                                                                            Physical health conditions may be job-seeking barriers for those with serious mental illnesses                                 \n",
       "496                                                                            Back to Basics: An OSHA overview                                                                                               \n",
       "497                                                                            SUNY official fired over performance, not sexual orientation, 2nd Cir. says                                                    \n",
       "498                                                                            Walmart to hire 150K hourly employees                                                                                          \n",
       "499                                                                            Are CEOs displacing CHROs in the workplace transformation?                                                                     \n",
       "\n",
       "[500 rows x 1 columns]"
      ]
     },
     "execution_count": 18,
     "metadata": {},
     "output_type": "execute_result"
    }
   ],
   "source": [
    "#remove quotes\n",
    "df[0] = df[0].str.replace(r'\\'','')\n",
    "df"
   ]
  },
  {
   "cell_type": "markdown",
   "metadata": {},
   "source": [
    "#### Merge two dataframes using append()"
   ]
  },
  {
   "cell_type": "code",
   "execution_count": 19,
   "metadata": {},
   "outputs": [
    {
     "data": {
      "text/html": [
       "<div>\n",
       "<style scoped>\n",
       "    .dataframe tbody tr th:only-of-type {\n",
       "        vertical-align: middle;\n",
       "    }\n",
       "\n",
       "    .dataframe tbody tr th {\n",
       "        vertical-align: top;\n",
       "    }\n",
       "\n",
       "    .dataframe thead th {\n",
       "        text-align: right;\n",
       "    }\n",
       "</style>\n",
       "<table border=\"1\" class=\"dataframe\">\n",
       "  <thead>\n",
       "    <tr style=\"text-align: right;\">\n",
       "      <th></th>\n",
       "      <th>0</th>\n",
       "    </tr>\n",
       "  </thead>\n",
       "  <tbody>\n",
       "    <tr>\n",
       "      <td>0</td>\n",
       "      <td>CVS eyes virtual interviews, job fairs to hire 50K workers</td>\n",
       "    </tr>\n",
       "    <tr>\n",
       "      <td>1</td>\n",
       "      <td>EEOC: Manufacturer violated ADA in firing worker returning from hospitalization</td>\n",
       "    </tr>\n",
       "  </tbody>\n",
       "</table>\n",
       "</div>"
      ],
      "text/plain": [
       "                                                                                 0\n",
       "0  CVS eyes virtual interviews, job fairs to hire 50K workers                     \n",
       "1  EEOC: Manufacturer violated ADA in firing worker returning from hospitalization"
      ]
     },
     "execution_count": 19,
     "metadata": {},
     "output_type": "execute_result"
    }
   ],
   "source": [
    "# convert to dataframe\n",
    "# to view entire column\n",
    "pd.set_option('display.max_colwidth', -1)\n",
    "df1 = pd.read_csv('..//TextClassification/haf.csv', encoding = \"ISO-8859-1\",header=None) \n",
    "df1.head(2)"
   ]
  },
  {
   "cell_type": "markdown",
   "metadata": {},
   "source": [
    "#### HR-related news articles from hrdive"
   ]
  },
  {
   "cell_type": "code",
   "execution_count": 20,
   "metadata": {},
   "outputs": [
    {
     "data": {
      "text/html": [
       "<div>\n",
       "<style scoped>\n",
       "    .dataframe tbody tr th:only-of-type {\n",
       "        vertical-align: middle;\n",
       "    }\n",
       "\n",
       "    .dataframe tbody tr th {\n",
       "        vertical-align: top;\n",
       "    }\n",
       "\n",
       "    .dataframe thead th {\n",
       "        text-align: right;\n",
       "    }\n",
       "</style>\n",
       "<table border=\"1\" class=\"dataframe\">\n",
       "  <thead>\n",
       "    <tr style=\"text-align: right;\">\n",
       "      <th></th>\n",
       "      <th>0</th>\n",
       "      <th>0</th>\n",
       "    </tr>\n",
       "  </thead>\n",
       "  <tbody>\n",
       "    <tr>\n",
       "      <td>0</td>\n",
       "      <td>CVS eyes virtual interviews, job fairs to hire 50K workers</td>\n",
       "      <td>1</td>\n",
       "    </tr>\n",
       "    <tr>\n",
       "      <td>1</td>\n",
       "      <td>EEOC: Manufacturer violated ADA in firing worker returning from hospitalization</td>\n",
       "      <td>1</td>\n",
       "    </tr>\n",
       "    <tr>\n",
       "      <td>2</td>\n",
       "      <td>Employees confident they can do their jobs effectively from home during COVID-19 pandemic</td>\n",
       "      <td>1</td>\n",
       "    </tr>\n",
       "    <tr>\n",
       "      <td>3</td>\n",
       "      <td>Court revives coachs suit, citing need to consider the overall likelihood of discrimination</td>\n",
       "      <td>1</td>\n",
       "    </tr>\n",
       "    <tr>\n",
       "      <td>4</td>\n",
       "      <td>From manufacturing to HR: One womans journey through Honda</td>\n",
       "      <td>1</td>\n",
       "    </tr>\n",
       "    <tr>\n",
       "      <td>...</td>\n",
       "      <td>...</td>\n",
       "      <td>...</td>\n",
       "    </tr>\n",
       "    <tr>\n",
       "      <td>495</td>\n",
       "      <td>Walmart to hire 150K hourly employees</td>\n",
       "      <td>1</td>\n",
       "    </tr>\n",
       "    <tr>\n",
       "      <td>496</td>\n",
       "      <td>Are CEOs displacing CHROs in the workplace transformation?</td>\n",
       "      <td>1</td>\n",
       "    </tr>\n",
       "    <tr>\n",
       "      <td>497</td>\n",
       "      <td>9th Cir.: City electrician with record of insubordination failed to show bias</td>\n",
       "      <td>1</td>\n",
       "    </tr>\n",
       "    <tr>\n",
       "      <td>498</td>\n",
       "      <td>Coronavirus: Companies sitting ducks for breaches without IT security for telework</td>\n",
       "      <td>1</td>\n",
       "    </tr>\n",
       "    <tr>\n",
       "      <td>499</td>\n",
       "      <td>Trump signs emergency coronavirus bill expanding FMLA, granting paid leave</td>\n",
       "      <td>1</td>\n",
       "    </tr>\n",
       "  </tbody>\n",
       "</table>\n",
       "<p>500 rows × 2 columns</p>\n",
       "</div>"
      ],
      "text/plain": [
       "                                                                                               0  \\\n",
       "0    CVS eyes virtual interviews, job fairs to hire 50K workers                                    \n",
       "1    EEOC: Manufacturer violated ADA in firing worker returning from hospitalization               \n",
       "2    Employees confident they can do their jobs effectively from home during COVID-19 pandemic     \n",
       "3    Court revives coachs suit, citing need to consider the overall likelihood of discrimination   \n",
       "4    From manufacturing to HR: One womans journey through Honda                                    \n",
       "..                                                          ...                                    \n",
       "495  Walmart to hire 150K hourly employees                                                         \n",
       "496  Are CEOs displacing CHROs in the workplace transformation?                                    \n",
       "497  9th Cir.: City electrician with record of insubordination failed to show bias                 \n",
       "498  Coronavirus: Companies sitting ducks for breaches without IT security for telework            \n",
       "499  Trump signs emergency coronavirus bill expanding FMLA, granting paid leave                    \n",
       "\n",
       "     0  \n",
       "0    1  \n",
       "1    1  \n",
       "2    1  \n",
       "3    1  \n",
       "4    1  \n",
       "..  ..  \n",
       "495  1  \n",
       "496  1  \n",
       "497  1  \n",
       "498  1  \n",
       "499  1  \n",
       "\n",
       "[500 rows x 2 columns]"
      ]
     },
     "execution_count": 20,
     "metadata": {},
     "output_type": "execute_result"
    }
   ],
   "source": [
    "# change the name of a single column\n",
    "df1['0'] = \"1\"\n",
    "df1"
   ]
  },
  {
   "cell_type": "markdown",
   "metadata": {},
   "source": [
    "#### Non-HR data source (e.g., movie reviews from IMDB.com."
   ]
  },
  {
   "cell_type": "code",
   "execution_count": 21,
   "metadata": {},
   "outputs": [
    {
     "data": {
      "text/html": [
       "<div>\n",
       "<style scoped>\n",
       "    .dataframe tbody tr th:only-of-type {\n",
       "        vertical-align: middle;\n",
       "    }\n",
       "\n",
       "    .dataframe tbody tr th {\n",
       "        vertical-align: top;\n",
       "    }\n",
       "\n",
       "    .dataframe thead th {\n",
       "        text-align: right;\n",
       "    }\n",
       "</style>\n",
       "<table border=\"1\" class=\"dataframe\">\n",
       "  <thead>\n",
       "    <tr style=\"text-align: right;\">\n",
       "      <th></th>\n",
       "      <th>0</th>\n",
       "    </tr>\n",
       "  </thead>\n",
       "  <tbody>\n",
       "    <tr>\n",
       "      <td>0</td>\n",
       "      <td>films adapted from comic books have had plenty of success , whether they're about superheroes ( batman , superman , spawn ) , or geared toward kids ( casper ) or the arthouse crowd ( ghost world ) , but there's never really been a comic book like from hell before . for starters , it was created by alan moore ( and eddie campbell ) , who brought the medium to a whole new level in the mid '80s with a 12-part series called the watchmen . to say moore and campbell thoroughly researched the subject of jack the ripper would be like saying michael jackson is starting to look a little odd . the book ( or \" graphic novel , \" if you will ) is over 500 pages long and includes nearly 30 more that consist of nothing but footnotes . in other words , don't dismiss this film because of its source . if you can get past the whole comic book thing , you might find another stumbling block in from hell's directors , albert and allen hughes . getting the hughes brothers to direct this seems almost as ludicrous as casting carrot top in , well , anything , but riddle me this : who better to direct a film that's set in the ghetto and features really violent street crime than the mad geniuses behind menace ii society ? the ghetto in question is , of course , whitechapel in 1888 london's east end . it's a filthy , sooty place where the whores ( called \" unfortunates \" ) are starting to get a little nervous about this mysterious psychopath who has been carving through their profession with surgical precision . when the first stiff turns up , copper peter godley ( robbie coltrane , the world is not enough ) calls in inspector frederick abberline ( johnny depp , blow ) to crack the case . abberline , a widower , has prophetic dreams he unsuccessfully tries to quell with copious amounts of absinthe and opium . upon arriving in whitechapel , he befriends an unfortunate named mary kelly ( heather graham , say it isn't so ) and proceeds to investigate the horribly gruesome crimes that even the police surgeon can't stomach . i don't think anyone needs to be briefed on jack the ripper , so i won't go into the particulars here , other than to say moore and campbell have a unique and interesting theory about both the identity of the killer and the reasons he chooses to slay . in the comic , they don't bother cloaking the identity of the ripper , but screenwriters terry hayes ( vertical limit ) and rafael yglesias ( les mis ? rables ) do a good job of keeping him hidden from viewers until the very end . it's funny to watch the locals blindly point the finger of blame at jews and indians because , after all , an englishman could never be capable of committing such ghastly acts . and from hell's ending had me whistling the stonecutters song from the simpsons for days ( \" who holds back the electric car/who made steve guttenberg a star ? \" ) . don't worry - it'll all make sense when you see it . now onto from hell's appearance : it's certainly dark and bleak enough , and it's surprising to see how much more it looks like a tim burton film than planet of the apes did ( at times , it seems like sleepy hollow 2 ) . the print i saw wasn't completely finished ( both color and music had not been finalized , so no comments about marilyn manson ) , but cinematographer peter deming ( don't say a word ) ably captures the dreariness of victorian-era london and helped make the flashy killing scenes remind me of the crazy flashbacks in twin peaks , even though the violence in the film pales in comparison to that in the black-and-white comic . oscar winner martin childs' ( shakespeare in love ) production design turns the original prague surroundings into one creepy place . even the acting in from hell is solid , with the dreamy depp turning in a typically strong performance and deftly handling a british accent . ians holm ( joe gould's secret ) and richardson ( 102 dalmatians ) log in great supporting roles , but the big surprise here is graham . i cringed the first time she opened her mouth , imagining her attempt at an irish accent , but it actually wasn't half bad . the film , however , is all good . 2 : 00 - r for strong violence/gore , sexuality , language and drug content</td>\n",
       "    </tr>\n",
       "    <tr>\n",
       "      <td>1</td>\n",
       "      <td>every now and then a movie comes along from a suspect studio , with every indication that it will be a stinker , and to everybody's surprise ( perhaps even the studio ) the film becomes a critical darling . mtv films' _election , a high school comedy starring matthew broderick and reese witherspoon , is a current example . did anybody know this film existed a week before it opened ? the plot is deceptively simple . george washington carver high school is having student elections . tracy flick ( reese witherspoon ) is an over-achiever with her hand raised at nearly every question , way , way , high . mr . \" m \" ( matthew broderick ) , sick of the megalomaniac student , encourages paul , a popular-but-slow jock to run . and paul's nihilistic sister jumps in the race as well , for personal reasons . the dark side of such sleeper success is that , because expectations were so low going in , the fact that this was quality stuff made the reviews even more enthusiastic than they have any right to be . you can't help going in with the baggage of glowing reviews , which is in contrast to the negative baggage that the reviewers were likely to have . _election , a good film , does not live up to its hype . what makes _election_ so disappointing is that it contains significant plot details lifted directly from _rushmore_ , released a few months earlier . the similarities are staggering : tracy flick ( _election_ ) is the president of an extraordinary number of clubs , and is involved with the school play . max fischer ( _rushmore_ ) is the president of an extraordinary number of clubs , and is involved with the school play . the most significant tension of _election_ is the potential relationship between a teacher and his student . the most significant tension of _rushmore_ is the potential relationship between a teacher and his student . tracy flick is from a single parent home , which has contributed to her drive . max fischer is from a single parent home , which has contributed to his drive . the male bumbling adult in _election_ ( matthew broderick ) pursues an extramarital affair , gets caught , and his whole life is ruined . he even gets a bee sting . the male bumbling adult in _rushmore_ ( bill murray ) pursues an extramarital affair , gets caught , and his whole life is ruined . he gets several bee stings . and so on . what happened ? how is it that an individual screenplay ( _rushmore_ ) and a novel ( _election_ ) contain so many significant plot points , and yet both films were probably not even aware of each other , made from two different studios , from a genre ( the high school geeks revenge movie ) that hadn't been fully formed yet ? even so , the strengths of _election_ rely upon its fantastic performances from broderick , witherspoon , and newcomer jessica campbell , as paul's anti-social sister , tammy . broderick here is playing the mr . rooney role from _ferris bueller_ , and he seems to be having the most fun he's had since then . witherspoon is a revelation . it's early in the year , it's a comedy , and teenagers have little clout , but for my money , witherspoon deserves an oscar nomination . and once campbell's character gets going , like in her fantastic speech in the gymnasium , then you're won over . one thing that's been bothering me since i've seen it . there is an extraordinary amount of sexuality in this film . i suppose that , coming from mtv films , i should expect no less . . . but the film starts off light and airy , like a sitcom . as the screws tighten , and the tensions mount , alexander payne decides to add elements that , frankly , distract from the story . it is bad enough that mr . m doesn't like tracy's determination to win at all costs , but did they have to throw in the student/teacher relationship ? even so , there's no logical reason why mr . m has an affair when he does . there's a lot to like in _election_ , but the plot similarities to _rushmore_ , and the tonal nosedive it takes as it gets explicitly sex-driven , mark this as a disappointment .</td>\n",
       "    </tr>\n",
       "  </tbody>\n",
       "</table>\n",
       "</div>"
      ],
      "text/plain": [
       "                                                                                                                                                                                                                                                                                                                                                                                                                                                                                                                                                                                                                                                                                                                                                                                                                                                                                                                                                                                                                                                                                                                                                                                                                                                                                                                                                                                                                                                                                                                                                                                                                                                                                                                                                                                                                                                                                                                                                                                                                                                                                                                                                                                                                                                                                                                                                                                                                                                                                                                                                                                                                                                                                                                                                                                                                                                                                                                                                                                                                                                                                                                                                                                                                                                                                                                                                                                                                                                                                                                                                                                                                                                                                                                                                                                                                                                                                                                                                                                                                                                                                                                                                                                                                                                                                                                                                                           0\n",
       "0  films adapted from comic books have had plenty of success , whether they're about superheroes ( batman , superman , spawn ) , or geared toward kids ( casper ) or the arthouse crowd ( ghost world ) , but there's never really been a comic book like from hell before . for starters , it was created by alan moore ( and eddie campbell ) , who brought the medium to a whole new level in the mid '80s with a 12-part series called the watchmen . to say moore and campbell thoroughly researched the subject of jack the ripper would be like saying michael jackson is starting to look a little odd . the book ( or \" graphic novel , \" if you will ) is over 500 pages long and includes nearly 30 more that consist of nothing but footnotes . in other words , don't dismiss this film because of its source . if you can get past the whole comic book thing , you might find another stumbling block in from hell's directors , albert and allen hughes . getting the hughes brothers to direct this seems almost as ludicrous as casting carrot top in , well , anything , but riddle me this : who better to direct a film that's set in the ghetto and features really violent street crime than the mad geniuses behind menace ii society ? the ghetto in question is , of course , whitechapel in 1888 london's east end . it's a filthy , sooty place where the whores ( called \" unfortunates \" ) are starting to get a little nervous about this mysterious psychopath who has been carving through their profession with surgical precision . when the first stiff turns up , copper peter godley ( robbie coltrane , the world is not enough ) calls in inspector frederick abberline ( johnny depp , blow ) to crack the case . abberline , a widower , has prophetic dreams he unsuccessfully tries to quell with copious amounts of absinthe and opium . upon arriving in whitechapel , he befriends an unfortunate named mary kelly ( heather graham , say it isn't so ) and proceeds to investigate the horribly gruesome crimes that even the police surgeon can't stomach . i don't think anyone needs to be briefed on jack the ripper , so i won't go into the particulars here , other than to say moore and campbell have a unique and interesting theory about both the identity of the killer and the reasons he chooses to slay . in the comic , they don't bother cloaking the identity of the ripper , but screenwriters terry hayes ( vertical limit ) and rafael yglesias ( les mis ? rables ) do a good job of keeping him hidden from viewers until the very end . it's funny to watch the locals blindly point the finger of blame at jews and indians because , after all , an englishman could never be capable of committing such ghastly acts . and from hell's ending had me whistling the stonecutters song from the simpsons for days ( \" who holds back the electric car/who made steve guttenberg a star ? \" ) . don't worry - it'll all make sense when you see it . now onto from hell's appearance : it's certainly dark and bleak enough , and it's surprising to see how much more it looks like a tim burton film than planet of the apes did ( at times , it seems like sleepy hollow 2 ) . the print i saw wasn't completely finished ( both color and music had not been finalized , so no comments about marilyn manson ) , but cinematographer peter deming ( don't say a word ) ably captures the dreariness of victorian-era london and helped make the flashy killing scenes remind me of the crazy flashbacks in twin peaks , even though the violence in the film pales in comparison to that in the black-and-white comic . oscar winner martin childs' ( shakespeare in love ) production design turns the original prague surroundings into one creepy place . even the acting in from hell is solid , with the dreamy depp turning in a typically strong performance and deftly handling a british accent . ians holm ( joe gould's secret ) and richardson ( 102 dalmatians ) log in great supporting roles , but the big surprise here is graham . i cringed the first time she opened her mouth , imagining her attempt at an irish accent , but it actually wasn't half bad . the film , however , is all good . 2 : 00 - r for strong violence/gore , sexuality , language and drug content\n",
       "1  every now and then a movie comes along from a suspect studio , with every indication that it will be a stinker , and to everybody's surprise ( perhaps even the studio ) the film becomes a critical darling . mtv films' _election , a high school comedy starring matthew broderick and reese witherspoon , is a current example . did anybody know this film existed a week before it opened ? the plot is deceptively simple . george washington carver high school is having student elections . tracy flick ( reese witherspoon ) is an over-achiever with her hand raised at nearly every question , way , way , high . mr . \" m \" ( matthew broderick ) , sick of the megalomaniac student , encourages paul , a popular-but-slow jock to run . and paul's nihilistic sister jumps in the race as well , for personal reasons . the dark side of such sleeper success is that , because expectations were so low going in , the fact that this was quality stuff made the reviews even more enthusiastic than they have any right to be . you can't help going in with the baggage of glowing reviews , which is in contrast to the negative baggage that the reviewers were likely to have . _election , a good film , does not live up to its hype . what makes _election_ so disappointing is that it contains significant plot details lifted directly from _rushmore_ , released a few months earlier . the similarities are staggering : tracy flick ( _election_ ) is the president of an extraordinary number of clubs , and is involved with the school play . max fischer ( _rushmore_ ) is the president of an extraordinary number of clubs , and is involved with the school play . the most significant tension of _election_ is the potential relationship between a teacher and his student . the most significant tension of _rushmore_ is the potential relationship between a teacher and his student . tracy flick is from a single parent home , which has contributed to her drive . max fischer is from a single parent home , which has contributed to his drive . the male bumbling adult in _election_ ( matthew broderick ) pursues an extramarital affair , gets caught , and his whole life is ruined . he even gets a bee sting . the male bumbling adult in _rushmore_ ( bill murray ) pursues an extramarital affair , gets caught , and his whole life is ruined . he gets several bee stings . and so on . what happened ? how is it that an individual screenplay ( _rushmore_ ) and a novel ( _election_ ) contain so many significant plot points , and yet both films were probably not even aware of each other , made from two different studios , from a genre ( the high school geeks revenge movie ) that hadn't been fully formed yet ? even so , the strengths of _election_ rely upon its fantastic performances from broderick , witherspoon , and newcomer jessica campbell , as paul's anti-social sister , tammy . broderick here is playing the mr . rooney role from _ferris bueller_ , and he seems to be having the most fun he's had since then . witherspoon is a revelation . it's early in the year , it's a comedy , and teenagers have little clout , but for my money , witherspoon deserves an oscar nomination . and once campbell's character gets going , like in her fantastic speech in the gymnasium , then you're won over . one thing that's been bothering me since i've seen it . there is an extraordinary amount of sexuality in this film . i suppose that , coming from mtv films , i should expect no less . . . but the film starts off light and airy , like a sitcom . as the screws tighten , and the tensions mount , alexander payne decides to add elements that , frankly , distract from the story . it is bad enough that mr . m doesn't like tracy's determination to win at all costs , but did they have to throw in the student/teacher relationship ? even so , there's no logical reason why mr . m has an affair when he does . there's a lot to like in _election_ , but the plot similarities to _rushmore_ , and the tonal nosedive it takes as it gets explicitly sex-driven , mark this as a disappointment .                                                                                                                                                 "
      ]
     },
     "execution_count": 21,
     "metadata": {},
     "output_type": "execute_result"
    }
   ],
   "source": [
    "df2 = pd.read_csv('..//TextClassification/haa.csv', encoding = \"ISO-8859-1\",header=None) \n",
    "df2.head(2)"
   ]
  },
  {
   "cell_type": "code",
   "execution_count": 22,
   "metadata": {},
   "outputs": [
    {
     "data": {
      "text/html": [
       "<div>\n",
       "<style scoped>\n",
       "    .dataframe tbody tr th:only-of-type {\n",
       "        vertical-align: middle;\n",
       "    }\n",
       "\n",
       "    .dataframe tbody tr th {\n",
       "        vertical-align: top;\n",
       "    }\n",
       "\n",
       "    .dataframe thead th {\n",
       "        text-align: right;\n",
       "    }\n",
       "</style>\n",
       "<table border=\"1\" class=\"dataframe\">\n",
       "  <thead>\n",
       "    <tr style=\"text-align: right;\">\n",
       "      <th></th>\n",
       "      <th>0</th>\n",
       "      <th>0</th>\n",
       "    </tr>\n",
       "  </thead>\n",
       "  <tbody>\n",
       "    <tr>\n",
       "      <td>0</td>\n",
       "      <td>films adapted from comic books have had plenty of success , whether they're about superheroes ( batman , superman , spawn ) , or geared toward kids ( casper ) or the arthouse crowd ( ghost world ) , but there's never really been a comic book like from hell before . for starters , it was created by alan moore ( and eddie campbell ) , who brought the medium to a whole new level in the mid '80s with a 12-part series called the watchmen . to say moore and campbell thoroughly researched the subject of jack the ripper would be like saying michael jackson is starting to look a little odd . the book ( or \" graphic novel , \" if you will ) is over 500 pages long and includes nearly 30 more that consist of nothing but footnotes . in other words , don't dismiss this film because of its source . if you can get past the whole comic book thing , you might find another stumbling block in from hell's directors , albert and allen hughes . getting the hughes brothers to direct this seems almost as ludicrous as casting carrot top in , well , anything , but riddle me this : who better to direct a film that's set in the ghetto and features really violent street crime than the mad geniuses behind menace ii society ? the ghetto in question is , of course , whitechapel in 1888 london's east end . it's a filthy , sooty place where the whores ( called \" unfortunates \" ) are starting to get a little nervous about this mysterious psychopath who has been carving through their profession with surgical precision . when the first stiff turns up , copper peter godley ( robbie coltrane , the world is not enough ) calls in inspector frederick abberline ( johnny depp , blow ) to crack the case . abberline , a widower , has prophetic dreams he unsuccessfully tries to quell with copious amounts of absinthe and opium . upon arriving in whitechapel , he befriends an unfortunate named mary kelly ( heather graham , say it isn't so ) and proceeds to investigate the horribly gruesome crimes that even the police surgeon can't stomach . i don't think anyone needs to be briefed on jack the ripper , so i won't go into the particulars here , other than to say moore and campbell have a unique and interesting theory about both the identity of the killer and the reasons he chooses to slay . in the comic , they don't bother cloaking the identity of the ripper , but screenwriters terry hayes ( vertical limit ) and rafael yglesias ( les mis ? rables ) do a good job of keeping him hidden from viewers until the very end . it's funny to watch the locals blindly point the finger of blame at jews and indians because , after all , an englishman could never be capable of committing such ghastly acts . and from hell's ending had me whistling the stonecutters song from the simpsons for days ( \" who holds back the electric car/who made steve guttenberg a star ? \" ) . don't worry - it'll all make sense when you see it . now onto from hell's appearance : it's certainly dark and bleak enough , and it's surprising to see how much more it looks like a tim burton film than planet of the apes did ( at times , it seems like sleepy hollow 2 ) . the print i saw wasn't completely finished ( both color and music had not been finalized , so no comments about marilyn manson ) , but cinematographer peter deming ( don't say a word ) ably captures the dreariness of victorian-era london and helped make the flashy killing scenes remind me of the crazy flashbacks in twin peaks , even though the violence in the film pales in comparison to that in the black-and-white comic . oscar winner martin childs' ( shakespeare in love ) production design turns the original prague surroundings into one creepy place . even the acting in from hell is solid , with the dreamy depp turning in a typically strong performance and deftly handling a british accent . ians holm ( joe gould's secret ) and richardson ( 102 dalmatians ) log in great supporting roles , but the big surprise here is graham . i cringed the first time she opened her mouth , imagining her attempt at an irish accent , but it actually wasn't half bad . the film , however , is all good . 2 : 00 - r for strong violence/gore , sexuality , language and drug content</td>\n",
       "      <td>0</td>\n",
       "    </tr>\n",
       "    <tr>\n",
       "      <td>1</td>\n",
       "      <td>every now and then a movie comes along from a suspect studio , with every indication that it will be a stinker , and to everybody's surprise ( perhaps even the studio ) the film becomes a critical darling . mtv films' _election , a high school comedy starring matthew broderick and reese witherspoon , is a current example . did anybody know this film existed a week before it opened ? the plot is deceptively simple . george washington carver high school is having student elections . tracy flick ( reese witherspoon ) is an over-achiever with her hand raised at nearly every question , way , way , high . mr . \" m \" ( matthew broderick ) , sick of the megalomaniac student , encourages paul , a popular-but-slow jock to run . and paul's nihilistic sister jumps in the race as well , for personal reasons . the dark side of such sleeper success is that , because expectations were so low going in , the fact that this was quality stuff made the reviews even more enthusiastic than they have any right to be . you can't help going in with the baggage of glowing reviews , which is in contrast to the negative baggage that the reviewers were likely to have . _election , a good film , does not live up to its hype . what makes _election_ so disappointing is that it contains significant plot details lifted directly from _rushmore_ , released a few months earlier . the similarities are staggering : tracy flick ( _election_ ) is the president of an extraordinary number of clubs , and is involved with the school play . max fischer ( _rushmore_ ) is the president of an extraordinary number of clubs , and is involved with the school play . the most significant tension of _election_ is the potential relationship between a teacher and his student . the most significant tension of _rushmore_ is the potential relationship between a teacher and his student . tracy flick is from a single parent home , which has contributed to her drive . max fischer is from a single parent home , which has contributed to his drive . the male bumbling adult in _election_ ( matthew broderick ) pursues an extramarital affair , gets caught , and his whole life is ruined . he even gets a bee sting . the male bumbling adult in _rushmore_ ( bill murray ) pursues an extramarital affair , gets caught , and his whole life is ruined . he gets several bee stings . and so on . what happened ? how is it that an individual screenplay ( _rushmore_ ) and a novel ( _election_ ) contain so many significant plot points , and yet both films were probably not even aware of each other , made from two different studios , from a genre ( the high school geeks revenge movie ) that hadn't been fully formed yet ? even so , the strengths of _election_ rely upon its fantastic performances from broderick , witherspoon , and newcomer jessica campbell , as paul's anti-social sister , tammy . broderick here is playing the mr . rooney role from _ferris bueller_ , and he seems to be having the most fun he's had since then . witherspoon is a revelation . it's early in the year , it's a comedy , and teenagers have little clout , but for my money , witherspoon deserves an oscar nomination . and once campbell's character gets going , like in her fantastic speech in the gymnasium , then you're won over . one thing that's been bothering me since i've seen it . there is an extraordinary amount of sexuality in this film . i suppose that , coming from mtv films , i should expect no less . . . but the film starts off light and airy , like a sitcom . as the screws tighten , and the tensions mount , alexander payne decides to add elements that , frankly , distract from the story . it is bad enough that mr . m doesn't like tracy's determination to win at all costs , but did they have to throw in the student/teacher relationship ? even so , there's no logical reason why mr . m has an affair when he does . there's a lot to like in _election_ , but the plot similarities to _rushmore_ , and the tonal nosedive it takes as it gets explicitly sex-driven , mark this as a disappointment .</td>\n",
       "      <td>0</td>\n",
       "    </tr>\n",
       "    <tr>\n",
       "      <td>2</td>\n",
       "      <td>you've got mail works alot better than it deserves to . in order to make the film a success , all they had to do was cast two extremely popular and attractive stars , have them share the screen for about two hours and then collect the profits . no real acting was involved and there is not an original or inventive bone in it's body ( it's basically a complete re-shoot of the shop around the corner , only adding a few modern twists ) . essentially , it goes against and defies all concepts of good contemporary filmmaking . it's overly sentimental and at times terribly mushy , not to mention very manipulative . but oh , how enjoyable that manipulation is . but there must be something other than the casting and manipulation that makes the movie work as well as it does , because i absolutely hated the previous ryan/hanks teaming , sleepless in seattle . it couldn't have been the directing , because both films were helmed by the same woman . i haven't quite yet figured out what i liked so much about you've got mail , but then again , is that really important ? if you like something so much , why even question it ? again , the storyline is as cliched as they come . tom hanks plays joe fox , the insanely likeable owner of a discount book chain and meg ryan plays kathleen kelley , the even more insanely likeable proprietor of a family-run children's book shop called , in a nice homage , the shop around the corner . fox and kelley soon become bitter rivals because the new fox books store is opening up right across the block from the small business . little do they know , they are already in love with each other over the internet , only neither party knows the other person's true identity . the rest of the story isn't important because all it does is serve as a mere backdrop for the two stars to share the screen . sure , there are some mildly interesting subplots , but they all fail in comparison to the utter cuteness of the main relationship . all of this , of course , leads up to the predictable climax . but as foreseeable as the ending is , it's so damn cute and well-done that i doubt any movie in the entire year contains a scene the evokes as much pure joy as this part does . when ryan discovers the true identity of her online love , i was filled with such , for lack of a better word , happiness that for the first time all year , i actually left the theater smiling .</td>\n",
       "      <td>0</td>\n",
       "    </tr>\n",
       "    <tr>\n",
       "      <td>3</td>\n",
       "      <td>\" jaws \" is a rare film that grabs your attention before it shows you a single image on screen . the movie opens with blackness , and only distant , alien-like underwater sounds . then it comes , the first ominous bars of composer john williams' now infamous score . dah-dum . from there , director steven spielberg wastes no time , taking us into the water on a midnight swim with a beautiful girl that turns deadly . right away he lets us know how vulnerable we all are floating in the ocean , and once \" jaws \" has attacked , it never relinquishes its grip . perhaps what is most outstanding about \" jaws \" is how spielberg builds the movie . he works it like a theatrical production , with a first act and a second act . unlike so many modern filmmakers , he has a great deal of restraint , and refuses to show us the shark until the middle of the second act . until then , he merely suggests its presence with creepy , subjective underwater shots and williams' music . he's building the tension bit by bit , so when it comes time for the climax , the shark's arrival is truly terrifying . he doesn't let us get bored with the imagery . the first act opens with police chief martin brody ( roy scheider ) , a new york cop who has taken an easy , peaceful job running the police station on amity island , a fictitious new england resort town where there hasn't been a murder or a gun fired in 25 years . the island is shaken up by several vicious great white shark attacks right before the fourth of july , and the mayor , larry vaughn ( murray hamilton ) , doesn't want to shut down the beaches because the island is reliant on summer tourist money . brody is joined by matt hooper ( richard dreyfuss ) , a young , ambitious shark expert from the marine institute . hooper is as fascinated by the shark as he is determined to help brody stop it -- his knowledge about the exact workings of the shark ( \" it's a perfect engine , an eating machine \" ) make it that much more terrifying . when vaughn finally relents , hooper and brody join a crusty old shark killer named quint ( robert shaw ) on his decrepit boat , the orca , to search for the shark . the entire second act takes place on the orca as the three men hunt the shark , and inevitably , are hunted by it . \" jaws \" is a thriller with a keen sense of humor and an incredible sense of pacing , tension , and horror . it is like ten movies all rolled into one , and it's no wonder it took america by storm in the summer of 1975 , taking in enough money to crown it the box office champ of all time ( until it was unceremoniously dethroned in 1977 by \" star wars \" ) . even today , fascination with this film is on par with hitchcock's \" psycho , \" and it never seems to age . although grand new technology exists that makes the technical sequences , including several mechanical sharks , obsolete , none of it could improve the film because it only would lead to overkill . the technical limitations faced by spielberg in 1975 may have actually produced a better film because it forced him to rely on traditional cinematic elements like pacing , characterization , sharp editing , and creative photography , instead of simply dousing the audience with digital shark effects . scheider , dreyfuss , and shaw were known actors at the time \" jaws \" was made , but none of them had the draw of a robert redford or paul newman . nevertheless , this film guaranteed them all successful careers because each gave an outstanding performance and refused to be overshadowed by the shark . scheider hits just the right notes as a sympathetic husband and father caught in the political quagmire of doing what's right and going against the entire town . \" it's your first summer here , you know , \" mayor vaughn warns him . dreyfuss , who had previously been seen in \" american graffiti \" ( 1973 ) and \" the apprenticeship of duddy kravitz \" ( 1974 ) gives a surprisingly mature , complex performance for someone who had literally only played kids and teenagers . however , most outstanding is the gnarled performance by robert shaw as the movie's captain ahab , a performance sorely overlooked by the academy awards . bordering of parody , shaw plays quint as a grizzled old loner whose machismo borders on masochism . he's slightly deranged , and shaw's performance is almost a caricature . however , there is one scene late in the film , when he and brody and hooper are below deck on the orca comparing scars . quint is drawn into telling the story of his experiences aboard the u . s . s . indianapolis , a navy ship in world war ii that was sunk by the japanese . his tale of floating in the water for more than a week with over 1 , 000 other men while swarms of sharks slowly devoured them them is actually more hair-raising than anything spielberg put on screen . shaw delivers the story in one long take , and it is the best acting in the film . of course , we can't leave out the shark itself ; with its black eyes , endless rows of teeth , and insatiable urge to eat , it is basically the epitome of all mankind's fears about what is unknown and threatening in nature . a shark is such a perfect nemesis it is real -- having survived sinch the dinosaurs , great whites do exist , they can be as large as the shark in \" jaws , \" and they are a threat . every one of spielberg's subjective underwater shots makes us feel queasy because lets us see how we look to the shark : a bunch of writihing , dangling , completely unprotected legs just ready to be chomped into . the shark in \" jaws \" was actually a combination of actual footage and five different mechanical sharks ( all nicknamed \" bruce \" by the crew ) built to be shot from different angles . many have forgotten , but \" jaws \" was a sort of precursor to \" waterworld \" ( 1995 ) , a movie's who soggy production and cost overruns had universal studios worried about a bomb . but , as we can see now , spielberg overcame all the obstacles , and delivered one of the finest primal scare-thrillers ever to come out of hollywood .</td>\n",
       "      <td>0</td>\n",
       "    </tr>\n",
       "    <tr>\n",
       "      <td>4</td>\n",
       "      <td>moviemaking is a lot like being the general manager of an nfl team in the post-salary cap era -- you've got to know how to allocate your resources . every dollar spent on a free-agent defensive tackle is one less dollar than you can spend on linebackers or safeties or centers . in the nfl , this leads to teams like the detroit lions , who boast a superstar running back with a huge contract , but can only field five guys named herb to block for him . in the movies , you end up with films like \" spawn \" , with a huge special-effects budget but not enough money to hire any recognizable actors . jackie chan is the barry sanders of moviemaking . he spins and darts across the screen like sanders cutting back through the defensive line . watching jackie in operation condor as he drives his motorcycle through the crowded streets of madrid , fleeing an armada of pursuers in identical black compact cars , is reminiscent of sanders running for daylight with the chicago bears in hot pursuit , except that sanders doesn't have to worry about rescuing runaway baby carriages . but like the lions star , jackie doesn't have anybody to block for him . almost every cent that's invested in a jackie chan movie goes for stunts , and as chan does his own stunts , the rest of the money goes to pay his hospital bills . this leaves about 75 cents to pay for things like directors ( chan directs ) , scripts and dubbing and supporting characters , not to mention the hideous title sequence . this also explains why the movie was shot in odd places like morocco and spain . ( chan's first release in this country , \" rumble in the bronx \" , was supposedly set in new york , but was filmed in vancouver , and in the chase scenes the canadian rockies are clearly visible . ) heck , jackie doesn't even have enough money for a haircut , looks like , much less a personal hairstylist . in condor , chan plays the same character he's always played , himself , a mixture of bruce lee and tim allen , a master of both kung-fu and slapstick-fu . jackie is sent by the un to retrieve a cache of lost nazi gold in the north african desert , and is chased by a horde of neo-nazi sympathizers and two stereotypical arabs ( one of the things i like about jackie chan movies : no political correctness ) . he is joined by three women , who have little to do except scream , \" jackie , save us ! \" , and misuse firearms . the villain is an old nazi whose legs were broken in the secret base so that he has to be carried everywhere , and he's more pathetic than evil . en route , we have an extended motorcycle chase scene , a hilarious fight in the moroccan version of motel 6 with the neo-nazis , and two confrontations with savage natives . once at the secret desert base , there is a long chop-socky sequence , followed by the film's centerpiece , a wind-tunnel fight that's even better than the one in face/off . this is where the money was spent , on well-choreographed kung-fu sequences , on giant kevlar hamster balls , on smashed-up crates of bananas , and on scorpions . ignore the gaping holes in the plot ( how , exactly , if the villain's legs were broken , did he escape from the secret nazi base , and why didn't he take the key with him ? ) . don't worry about the production values , or what , exactly , the japanese girl was doing hitchhiking across the sahara . just go see the movie . operation condor has pretentions of being a \" raiders of the lost ark \" knockoff , but one wonders what jackie could do with the raiders franchise blocking for him -- with a lawrence kazdan screenplay , a john williams score , spielberg directing and george lucas producing , condor might be an a+ movie . however , you've got to go with what you've got , and what you've got in jackie chan is something special -- a talent that mainstream hollywood should , could , and ought to utilize .</td>\n",
       "      <td>0</td>\n",
       "    </tr>\n",
       "    <tr>\n",
       "      <td>...</td>\n",
       "      <td>...</td>\n",
       "      <td>...</td>\n",
       "    </tr>\n",
       "    <tr>\n",
       "      <td>2057</td>\n",
       "      <td>NJ employers may need to accommodate medical marijuana use</td>\n",
       "      <td>0</td>\n",
       "    </tr>\n",
       "    <tr>\n",
       "      <td>2058</td>\n",
       "      <td>3 lessons to help supervisors handle employee requests</td>\n",
       "      <td>0</td>\n",
       "    </tr>\n",
       "    <tr>\n",
       "      <td>2059</td>\n",
       "      <td>Using L&amp;D to master the elements of onboarding</td>\n",
       "      <td>0</td>\n",
       "    </tr>\n",
       "    <tr>\n",
       "      <td>2060</td>\n",
       "      <td>Marriott worker called Egyptian rat can proceed with claim, 2nd Cir. says</td>\n",
       "      <td>0</td>\n",
       "    </tr>\n",
       "    <tr>\n",
       "      <td>2061</td>\n",
       "      <td>Long-term unemployment still an issue for US job market, Indeed economist says</td>\n",
       "      <td>0</td>\n",
       "    </tr>\n",
       "  </tbody>\n",
       "</table>\n",
       "<p>2062 rows × 2 columns</p>\n",
       "</div>"
      ],
      "text/plain": [
       "                                                                                                                                                                                                                                                                                                                                                                                                                                                                                                                                                                                                                                                                                                                                                                                                                                                                                                                                                                                                                                                                                                                                                                                                                                                                                                                                                                                                                                                                                                                                                                                                                                                                                                                                                                                                                                                                                                                                                                                                                                                                                                                                                                                                                                                                                                                                                                                                                                                                                                                                                                                                                                                                                                                                                                                                                                                                                                                                                                                                                                                                                                                                                                                                                                                                                                                                                                                                                                                                                                                                                                                                                                                                                                                                                                                                                                                                                                                                                                                                                                                                                                                                                                                                                                                                                                                                                                                                                                                                                                                                                                                                                                                                                                                                                                                                                                                                                                                                                                                                                                                                                                                                                                                                                                                                                                                                                                                                                                                                                                                                                                                                                                                                                                                                                                                                                                                                                                                                                                                                                                                                                                                                                                                                                                                                                                   0  \\\n",
       "0     films adapted from comic books have had plenty of success , whether they're about superheroes ( batman , superman , spawn ) , or geared toward kids ( casper ) or the arthouse crowd ( ghost world ) , but there's never really been a comic book like from hell before . for starters , it was created by alan moore ( and eddie campbell ) , who brought the medium to a whole new level in the mid '80s with a 12-part series called the watchmen . to say moore and campbell thoroughly researched the subject of jack the ripper would be like saying michael jackson is starting to look a little odd . the book ( or \" graphic novel , \" if you will ) is over 500 pages long and includes nearly 30 more that consist of nothing but footnotes . in other words , don't dismiss this film because of its source . if you can get past the whole comic book thing , you might find another stumbling block in from hell's directors , albert and allen hughes . getting the hughes brothers to direct this seems almost as ludicrous as casting carrot top in , well , anything , but riddle me this : who better to direct a film that's set in the ghetto and features really violent street crime than the mad geniuses behind menace ii society ? the ghetto in question is , of course , whitechapel in 1888 london's east end . it's a filthy , sooty place where the whores ( called \" unfortunates \" ) are starting to get a little nervous about this mysterious psychopath who has been carving through their profession with surgical precision . when the first stiff turns up , copper peter godley ( robbie coltrane , the world is not enough ) calls in inspector frederick abberline ( johnny depp , blow ) to crack the case . abberline , a widower , has prophetic dreams he unsuccessfully tries to quell with copious amounts of absinthe and opium . upon arriving in whitechapel , he befriends an unfortunate named mary kelly ( heather graham , say it isn't so ) and proceeds to investigate the horribly gruesome crimes that even the police surgeon can't stomach . i don't think anyone needs to be briefed on jack the ripper , so i won't go into the particulars here , other than to say moore and campbell have a unique and interesting theory about both the identity of the killer and the reasons he chooses to slay . in the comic , they don't bother cloaking the identity of the ripper , but screenwriters terry hayes ( vertical limit ) and rafael yglesias ( les mis ? rables ) do a good job of keeping him hidden from viewers until the very end . it's funny to watch the locals blindly point the finger of blame at jews and indians because , after all , an englishman could never be capable of committing such ghastly acts . and from hell's ending had me whistling the stonecutters song from the simpsons for days ( \" who holds back the electric car/who made steve guttenberg a star ? \" ) . don't worry - it'll all make sense when you see it . now onto from hell's appearance : it's certainly dark and bleak enough , and it's surprising to see how much more it looks like a tim burton film than planet of the apes did ( at times , it seems like sleepy hollow 2 ) . the print i saw wasn't completely finished ( both color and music had not been finalized , so no comments about marilyn manson ) , but cinematographer peter deming ( don't say a word ) ably captures the dreariness of victorian-era london and helped make the flashy killing scenes remind me of the crazy flashbacks in twin peaks , even though the violence in the film pales in comparison to that in the black-and-white comic . oscar winner martin childs' ( shakespeare in love ) production design turns the original prague surroundings into one creepy place . even the acting in from hell is solid , with the dreamy depp turning in a typically strong performance and deftly handling a british accent . ians holm ( joe gould's secret ) and richardson ( 102 dalmatians ) log in great supporting roles , but the big surprise here is graham . i cringed the first time she opened her mouth , imagining her attempt at an irish accent , but it actually wasn't half bad . the film , however , is all good . 2 : 00 - r for strong violence/gore , sexuality , language and drug content                                                                                                                                                                                                                                                                                                                                                                                                                                                                                                                                                                                                                                                                                                                                                                                                                                                                                                                                                                                                                                                                                                                                                                                                                                                                                                                                                                                                                                                                                                                                                                                                                                                                                                                                                                                                                                                                                                                        \n",
       "1     every now and then a movie comes along from a suspect studio , with every indication that it will be a stinker , and to everybody's surprise ( perhaps even the studio ) the film becomes a critical darling . mtv films' _election , a high school comedy starring matthew broderick and reese witherspoon , is a current example . did anybody know this film existed a week before it opened ? the plot is deceptively simple . george washington carver high school is having student elections . tracy flick ( reese witherspoon ) is an over-achiever with her hand raised at nearly every question , way , way , high . mr . \" m \" ( matthew broderick ) , sick of the megalomaniac student , encourages paul , a popular-but-slow jock to run . and paul's nihilistic sister jumps in the race as well , for personal reasons . the dark side of such sleeper success is that , because expectations were so low going in , the fact that this was quality stuff made the reviews even more enthusiastic than they have any right to be . you can't help going in with the baggage of glowing reviews , which is in contrast to the negative baggage that the reviewers were likely to have . _election , a good film , does not live up to its hype . what makes _election_ so disappointing is that it contains significant plot details lifted directly from _rushmore_ , released a few months earlier . the similarities are staggering : tracy flick ( _election_ ) is the president of an extraordinary number of clubs , and is involved with the school play . max fischer ( _rushmore_ ) is the president of an extraordinary number of clubs , and is involved with the school play . the most significant tension of _election_ is the potential relationship between a teacher and his student . the most significant tension of _rushmore_ is the potential relationship between a teacher and his student . tracy flick is from a single parent home , which has contributed to her drive . max fischer is from a single parent home , which has contributed to his drive . the male bumbling adult in _election_ ( matthew broderick ) pursues an extramarital affair , gets caught , and his whole life is ruined . he even gets a bee sting . the male bumbling adult in _rushmore_ ( bill murray ) pursues an extramarital affair , gets caught , and his whole life is ruined . he gets several bee stings . and so on . what happened ? how is it that an individual screenplay ( _rushmore_ ) and a novel ( _election_ ) contain so many significant plot points , and yet both films were probably not even aware of each other , made from two different studios , from a genre ( the high school geeks revenge movie ) that hadn't been fully formed yet ? even so , the strengths of _election_ rely upon its fantastic performances from broderick , witherspoon , and newcomer jessica campbell , as paul's anti-social sister , tammy . broderick here is playing the mr . rooney role from _ferris bueller_ , and he seems to be having the most fun he's had since then . witherspoon is a revelation . it's early in the year , it's a comedy , and teenagers have little clout , but for my money , witherspoon deserves an oscar nomination . and once campbell's character gets going , like in her fantastic speech in the gymnasium , then you're won over . one thing that's been bothering me since i've seen it . there is an extraordinary amount of sexuality in this film . i suppose that , coming from mtv films , i should expect no less . . . but the film starts off light and airy , like a sitcom . as the screws tighten , and the tensions mount , alexander payne decides to add elements that , frankly , distract from the story . it is bad enough that mr . m doesn't like tracy's determination to win at all costs , but did they have to throw in the student/teacher relationship ? even so , there's no logical reason why mr . m has an affair when he does . there's a lot to like in _election_ , but the plot similarities to _rushmore_ , and the tonal nosedive it takes as it gets explicitly sex-driven , mark this as a disappointment .                                                                                                                                                                                                                                                                                                                                                                                                                                                                                                                                                                                                                                                                                                                                                                                                                                                                                                                                                                                                                                                                                                                                                                                                                                                                                                                                                                                                                                                                                                                                                                                                                                                                                                                                                                                                                                                                                                                                                                                                                                                                         \n",
       "2     you've got mail works alot better than it deserves to . in order to make the film a success , all they had to do was cast two extremely popular and attractive stars , have them share the screen for about two hours and then collect the profits . no real acting was involved and there is not an original or inventive bone in it's body ( it's basically a complete re-shoot of the shop around the corner , only adding a few modern twists ) . essentially , it goes against and defies all concepts of good contemporary filmmaking . it's overly sentimental and at times terribly mushy , not to mention very manipulative . but oh , how enjoyable that manipulation is . but there must be something other than the casting and manipulation that makes the movie work as well as it does , because i absolutely hated the previous ryan/hanks teaming , sleepless in seattle . it couldn't have been the directing , because both films were helmed by the same woman . i haven't quite yet figured out what i liked so much about you've got mail , but then again , is that really important ? if you like something so much , why even question it ? again , the storyline is as cliched as they come . tom hanks plays joe fox , the insanely likeable owner of a discount book chain and meg ryan plays kathleen kelley , the even more insanely likeable proprietor of a family-run children's book shop called , in a nice homage , the shop around the corner . fox and kelley soon become bitter rivals because the new fox books store is opening up right across the block from the small business . little do they know , they are already in love with each other over the internet , only neither party knows the other person's true identity . the rest of the story isn't important because all it does is serve as a mere backdrop for the two stars to share the screen . sure , there are some mildly interesting subplots , but they all fail in comparison to the utter cuteness of the main relationship . all of this , of course , leads up to the predictable climax . but as foreseeable as the ending is , it's so damn cute and well-done that i doubt any movie in the entire year contains a scene the evokes as much pure joy as this part does . when ryan discovers the true identity of her online love , i was filled with such , for lack of a better word , happiness that for the first time all year , i actually left the theater smiling .                                                                                                                                                                                                                                                                                                                                                                                                                                                                                                                                                                                                                                                                                                                                                                                                                                                                                                                                                                                                                                                                                                                                                                                                                                                                                                                                                                                                                                                                                                                                                                                                                                                                                                                                                                                                                                                                                                                                                                                                                                                                                                                                                                                                                                                                                                                                                                                                                                                                                                                                                                                                                                                                                                                                                                                                                                                                                                                                                                                                                                                                                                                                                                                                                                                                                                                                                                                                                                                                                                                                                                                                                                                                                                                                                                                                \n",
       "3     \" jaws \" is a rare film that grabs your attention before it shows you a single image on screen . the movie opens with blackness , and only distant , alien-like underwater sounds . then it comes , the first ominous bars of composer john williams' now infamous score . dah-dum . from there , director steven spielberg wastes no time , taking us into the water on a midnight swim with a beautiful girl that turns deadly . right away he lets us know how vulnerable we all are floating in the ocean , and once \" jaws \" has attacked , it never relinquishes its grip . perhaps what is most outstanding about \" jaws \" is how spielberg builds the movie . he works it like a theatrical production , with a first act and a second act . unlike so many modern filmmakers , he has a great deal of restraint , and refuses to show us the shark until the middle of the second act . until then , he merely suggests its presence with creepy , subjective underwater shots and williams' music . he's building the tension bit by bit , so when it comes time for the climax , the shark's arrival is truly terrifying . he doesn't let us get bored with the imagery . the first act opens with police chief martin brody ( roy scheider ) , a new york cop who has taken an easy , peaceful job running the police station on amity island , a fictitious new england resort town where there hasn't been a murder or a gun fired in 25 years . the island is shaken up by several vicious great white shark attacks right before the fourth of july , and the mayor , larry vaughn ( murray hamilton ) , doesn't want to shut down the beaches because the island is reliant on summer tourist money . brody is joined by matt hooper ( richard dreyfuss ) , a young , ambitious shark expert from the marine institute . hooper is as fascinated by the shark as he is determined to help brody stop it -- his knowledge about the exact workings of the shark ( \" it's a perfect engine , an eating machine \" ) make it that much more terrifying . when vaughn finally relents , hooper and brody join a crusty old shark killer named quint ( robert shaw ) on his decrepit boat , the orca , to search for the shark . the entire second act takes place on the orca as the three men hunt the shark , and inevitably , are hunted by it . \" jaws \" is a thriller with a keen sense of humor and an incredible sense of pacing , tension , and horror . it is like ten movies all rolled into one , and it's no wonder it took america by storm in the summer of 1975 , taking in enough money to crown it the box office champ of all time ( until it was unceremoniously dethroned in 1977 by \" star wars \" ) . even today , fascination with this film is on par with hitchcock's \" psycho , \" and it never seems to age . although grand new technology exists that makes the technical sequences , including several mechanical sharks , obsolete , none of it could improve the film because it only would lead to overkill . the technical limitations faced by spielberg in 1975 may have actually produced a better film because it forced him to rely on traditional cinematic elements like pacing , characterization , sharp editing , and creative photography , instead of simply dousing the audience with digital shark effects . scheider , dreyfuss , and shaw were known actors at the time \" jaws \" was made , but none of them had the draw of a robert redford or paul newman . nevertheless , this film guaranteed them all successful careers because each gave an outstanding performance and refused to be overshadowed by the shark . scheider hits just the right notes as a sympathetic husband and father caught in the political quagmire of doing what's right and going against the entire town . \" it's your first summer here , you know , \" mayor vaughn warns him . dreyfuss , who had previously been seen in \" american graffiti \" ( 1973 ) and \" the apprenticeship of duddy kravitz \" ( 1974 ) gives a surprisingly mature , complex performance for someone who had literally only played kids and teenagers . however , most outstanding is the gnarled performance by robert shaw as the movie's captain ahab , a performance sorely overlooked by the academy awards . bordering of parody , shaw plays quint as a grizzled old loner whose machismo borders on masochism . he's slightly deranged , and shaw's performance is almost a caricature . however , there is one scene late in the film , when he and brody and hooper are below deck on the orca comparing scars . quint is drawn into telling the story of his experiences aboard the u . s . s . indianapolis , a navy ship in world war ii that was sunk by the japanese . his tale of floating in the water for more than a week with over 1 , 000 other men while swarms of sharks slowly devoured them them is actually more hair-raising than anything spielberg put on screen . shaw delivers the story in one long take , and it is the best acting in the film . of course , we can't leave out the shark itself ; with its black eyes , endless rows of teeth , and insatiable urge to eat , it is basically the epitome of all mankind's fears about what is unknown and threatening in nature . a shark is such a perfect nemesis it is real -- having survived sinch the dinosaurs , great whites do exist , they can be as large as the shark in \" jaws , \" and they are a threat . every one of spielberg's subjective underwater shots makes us feel queasy because lets us see how we look to the shark : a bunch of writihing , dangling , completely unprotected legs just ready to be chomped into . the shark in \" jaws \" was actually a combination of actual footage and five different mechanical sharks ( all nicknamed \" bruce \" by the crew ) built to be shot from different angles . many have forgotten , but \" jaws \" was a sort of precursor to \" waterworld \" ( 1995 ) , a movie's who soggy production and cost overruns had universal studios worried about a bomb . but , as we can see now , spielberg overcame all the obstacles , and delivered one of the finest primal scare-thrillers ever to come out of hollywood .   \n",
       "4     moviemaking is a lot like being the general manager of an nfl team in the post-salary cap era -- you've got to know how to allocate your resources . every dollar spent on a free-agent defensive tackle is one less dollar than you can spend on linebackers or safeties or centers . in the nfl , this leads to teams like the detroit lions , who boast a superstar running back with a huge contract , but can only field five guys named herb to block for him . in the movies , you end up with films like \" spawn \" , with a huge special-effects budget but not enough money to hire any recognizable actors . jackie chan is the barry sanders of moviemaking . he spins and darts across the screen like sanders cutting back through the defensive line . watching jackie in operation condor as he drives his motorcycle through the crowded streets of madrid , fleeing an armada of pursuers in identical black compact cars , is reminiscent of sanders running for daylight with the chicago bears in hot pursuit , except that sanders doesn't have to worry about rescuing runaway baby carriages . but like the lions star , jackie doesn't have anybody to block for him . almost every cent that's invested in a jackie chan movie goes for stunts , and as chan does his own stunts , the rest of the money goes to pay his hospital bills . this leaves about 75 cents to pay for things like directors ( chan directs ) , scripts and dubbing and supporting characters , not to mention the hideous title sequence . this also explains why the movie was shot in odd places like morocco and spain . ( chan's first release in this country , \" rumble in the bronx \" , was supposedly set in new york , but was filmed in vancouver , and in the chase scenes the canadian rockies are clearly visible . ) heck , jackie doesn't even have enough money for a haircut , looks like , much less a personal hairstylist . in condor , chan plays the same character he's always played , himself , a mixture of bruce lee and tim allen , a master of both kung-fu and slapstick-fu . jackie is sent by the un to retrieve a cache of lost nazi gold in the north african desert , and is chased by a horde of neo-nazi sympathizers and two stereotypical arabs ( one of the things i like about jackie chan movies : no political correctness ) . he is joined by three women , who have little to do except scream , \" jackie , save us ! \" , and misuse firearms . the villain is an old nazi whose legs were broken in the secret base so that he has to be carried everywhere , and he's more pathetic than evil . en route , we have an extended motorcycle chase scene , a hilarious fight in the moroccan version of motel 6 with the neo-nazis , and two confrontations with savage natives . once at the secret desert base , there is a long chop-socky sequence , followed by the film's centerpiece , a wind-tunnel fight that's even better than the one in face/off . this is where the money was spent , on well-choreographed kung-fu sequences , on giant kevlar hamster balls , on smashed-up crates of bananas , and on scorpions . ignore the gaping holes in the plot ( how , exactly , if the villain's legs were broken , did he escape from the secret nazi base , and why didn't he take the key with him ? ) . don't worry about the production values , or what , exactly , the japanese girl was doing hitchhiking across the sahara . just go see the movie . operation condor has pretentions of being a \" raiders of the lost ark \" knockoff , but one wonders what jackie could do with the raiders franchise blocking for him -- with a lawrence kazdan screenplay , a john williams score , spielberg directing and george lucas producing , condor might be an a+ movie . however , you've got to go with what you've got , and what you've got in jackie chan is something special -- a talent that mainstream hollywood should , could , and ought to utilize .                                                                                                                                                                                                                                                                                                                                                                                                                                                                                                                                                                                                                                                                                                                                                                                                                                                                                                                                                                                                                                                                                                                                                                                                                                                                                                                                                                                                                                                                                                                                                                                                                                                                                                                                                                                                                                                                                                                                                                                                                                                                                                                                                                                                                                                                  \n",
       "...                                                                                                                                                                                                                                                                                                                                                                                                                                                                                                                                                                                                                                                                                                                                                                                                                                                                                                                                                                                                                                                                                                                                                                                                                                                                                                                                                                                                                                                                                                                                                                                                                                                                                                                                                                                                                                                                                                                                                                                                                                                                                                                                                                                                                                                                                                                                                                                                                                                                                                                                                                                                                                                                                                                                                                                                                                                                                                                                                                                                                                                                                                                                                                                                                                                                                                                                                                                                                                                                                                                                                                                                                                                                                                                                                                                                                                                                                                                                                                                                                               ...                                                                                                                                                                                                                                                                                                                                                                                                                                                                                                                                                                                                                                                                                                                                                                                                                                                                                                                                                                                                                                                                                                                                                                                                                                                                                                                                                                                                                                                                                                                                                                                                                                                                                                                                                                                                                                                                                                                                                                                                                                                                                                                                                                                                                                                                  \n",
       "2057  NJ employers may need to accommodate medical marijuana use                                                                                                                                                                                                                                                                                                                                                                                                                                                                                                                                                                                                                                                                                                                                                                                                                                                                                                                                                                                                                                                                                                                                                                                                                                                                                                                                                                                                                                                                                                                                                                                                                                                                                                                                                                                                                                                                                                                                                                                                                                                                                                                                                                                                                                                                                                                                                                                                                                                                                                                                                                                                                                                                                                                                                                                                                                                                                                                                                                                                                                                                                                                                                                                                                                                                                                                                                                                                                                                                                                                                                                                                                                                                                                                                                                                                                                                                                                                                                                                                                                                                                                                                                                                                                                                                                                                                                                                                                                                                                                                                                                                                                                                                                                                                                                                                                                                                                                                                                                                                                                                                                                                                                                                                                                                                                                                                                                                                                                                                                                                                                                                                                                                                                                                                                                                                                                                                                                                                                                                                                                                                                                                                                                                                                                       \n",
       "2058   3 lessons to help supervisors handle employee requests                                                                                                                                                                                                                                                                                                                                                                                                                                                                                                                                                                                                                                                                                                                                                                                                                                                                                                                                                                                                                                                                                                                                                                                                                                                                                                                                                                                                                                                                                                                                                                                                                                                                                                                                                                                                                                                                                                                                                                                                                                                                                                                                                                                                                                                                                                                                                                                                                                                                                                                                                                                                                                                                                                                                                                                                                                                                                                                                                                                                                                                                                                                                                                                                                                                                                                                                                                                                                                                                                                                                                                                                                                                                                                                                                                                                                                                                                                                                                                                                                                                                                                                                                                                                                                                                                                                                                                                                                                                                                                                                                                                                                                                                                                                                                                                                                                                                                                                                                                                                                                                                                                                                                                                                                                                                                                                                                                                                                                                                                                                                                                                                                                                                                                                                                                                                                                                                                                                                                                                                                                                                                                                                                                                                                                          \n",
       "2059   Using L&D to master the elements of onboarding                                                                                                                                                                                                                                                                                                                                                                                                                                                                                                                                                                                                                                                                                                                                                                                                                                                                                                                                                                                                                                                                                                                                                                                                                                                                                                                                                                                                                                                                                                                                                                                                                                                                                                                                                                                                                                                                                                                                                                                                                                                                                                                                                                                                                                                                                                                                                                                                                                                                                                                                                                                                                                                                                                                                                                                                                                                                                                                                                                                                                                                                                                                                                                                                                                                                                                                                                                                                                                                                                                                                                                                                                                                                                                                                                                                                                                                                                                                                                                                                                                                                                                                                                                                                                                                                                                                                                                                                                                                                                                                                                                                                                                                                                                                                                                                                                                                                                                                                                                                                                                                                                                                                                                                                                                                                                                                                                                                                                                                                                                                                                                                                                                                                                                                                                                                                                                                                                                                                                                                                                                                                                                                                                                                                                                                  \n",
       "2060   Marriott worker called Egyptian rat can proceed with claim, 2nd Cir. says                                                                                                                                                                                                                                                                                                                                                                                                                                                                                                                                                                                                                                                                                                                                                                                                                                                                                                                                                                                                                                                                                                                                                                                                                                                                                                                                                                                                                                                                                                                                                                                                                                                                                                                                                                                                                                                                                                                                                                                                                                                                                                                                                                                                                                                                                                                                                                                                                                                                                                                                                                                                                                                                                                                                                                                                                                                                                                                                                                                                                                                                                                                                                                                                                                                                                                                                                                                                                                                                                                                                                                                                                                                                                                                                                                                                                                                                                                                                                                                                                                                                                                                                                                                                                                                                                                                                                                                                                                                                                                                                                                                                                                                                                                                                                                                                                                                                                                                                                                                                                                                                                                                                                                                                                                                                                                                                                                                                                                                                                                                                                                                                                                                                                                                                                                                                                                                                                                                                                                                                                                                                                                                                                                                                                       \n",
       "2061   Long-term unemployment still an issue for US job market, Indeed economist says                                                                                                                                                                                                                                                                                                                                                                                                                                                                                                                                                                                                                                                                                                                                                                                                                                                                                                                                                                                                                                                                                                                                                                                                                                                                                                                                                                                                                                                                                                                                                                                                                                                                                                                                                                                                                                                                                                                                                                                                                                                                                                                                                                                                                                                                                                                                                                                                                                                                                                                                                                                                                                                                                                                                                                                                                                                                                                                                                                                                                                                                                                                                                                                                                                                                                                                                                                                                                                                                                                                                                                                                                                                                                                                                                                                                                                                                                                                                                                                                                                                                                                                                                                                                                                                                                                                                                                                                                                                                                                                                                                                                                                                                                                                                                                                                                                                                                                                                                                                                                                                                                                                                                                                                                                                                                                                                                                                                                                                                                                                                                                                                                                                                                                                                                                                                                                                                                                                                                                                                                                                                                                                                                                                                                  \n",
       "\n",
       "      0  \n",
       "0     0  \n",
       "1     0  \n",
       "2     0  \n",
       "3     0  \n",
       "4     0  \n",
       "...  ..  \n",
       "2057  0  \n",
       "2058  0  \n",
       "2059  0  \n",
       "2060  0  \n",
       "2061  0  \n",
       "\n",
       "[2062 rows x 2 columns]"
      ]
     },
     "execution_count": 22,
     "metadata": {},
     "output_type": "execute_result"
    }
   ],
   "source": [
    "# change the name of a single column\n",
    "df2['0'] = \"0\"\n",
    "df2"
   ]
  },
  {
   "cell_type": "code",
   "execution_count": 23,
   "metadata": {},
   "outputs": [
    {
     "data": {
      "text/html": [
       "<div>\n",
       "<style scoped>\n",
       "    .dataframe tbody tr th:only-of-type {\n",
       "        vertical-align: middle;\n",
       "    }\n",
       "\n",
       "    .dataframe tbody tr th {\n",
       "        vertical-align: top;\n",
       "    }\n",
       "\n",
       "    .dataframe thead th {\n",
       "        text-align: right;\n",
       "    }\n",
       "</style>\n",
       "<table border=\"1\" class=\"dataframe\">\n",
       "  <thead>\n",
       "    <tr style=\"text-align: right;\">\n",
       "      <th></th>\n",
       "      <th>0</th>\n",
       "      <th>0</th>\n",
       "    </tr>\n",
       "  </thead>\n",
       "  <tbody>\n",
       "    <tr>\n",
       "      <td>0</td>\n",
       "      <td>CVS eyes virtual interviews, job fairs to hire 50K workers</td>\n",
       "      <td>1</td>\n",
       "    </tr>\n",
       "    <tr>\n",
       "      <td>1</td>\n",
       "      <td>EEOC: Manufacturer violated ADA in firing worker returning from hospitalization</td>\n",
       "      <td>1</td>\n",
       "    </tr>\n",
       "    <tr>\n",
       "      <td>2</td>\n",
       "      <td>Employees confident they can do their jobs effectively from home during COVID-19 pandemic</td>\n",
       "      <td>1</td>\n",
       "    </tr>\n",
       "    <tr>\n",
       "      <td>3</td>\n",
       "      <td>Court revives coachs suit, citing need to consider the overall likelihood of discrimination</td>\n",
       "      <td>1</td>\n",
       "    </tr>\n",
       "    <tr>\n",
       "      <td>4</td>\n",
       "      <td>From manufacturing to HR: One womans journey through Honda</td>\n",
       "      <td>1</td>\n",
       "    </tr>\n",
       "    <tr>\n",
       "      <td>...</td>\n",
       "      <td>...</td>\n",
       "      <td>...</td>\n",
       "    </tr>\n",
       "    <tr>\n",
       "      <td>2057</td>\n",
       "      <td>NJ employers may need to accommodate medical marijuana use</td>\n",
       "      <td>0</td>\n",
       "    </tr>\n",
       "    <tr>\n",
       "      <td>2058</td>\n",
       "      <td>3 lessons to help supervisors handle employee requests</td>\n",
       "      <td>0</td>\n",
       "    </tr>\n",
       "    <tr>\n",
       "      <td>2059</td>\n",
       "      <td>Using L&amp;D to master the elements of onboarding</td>\n",
       "      <td>0</td>\n",
       "    </tr>\n",
       "    <tr>\n",
       "      <td>2060</td>\n",
       "      <td>Marriott worker called Egyptian rat can proceed with claim, 2nd Cir. says</td>\n",
       "      <td>0</td>\n",
       "    </tr>\n",
       "    <tr>\n",
       "      <td>2061</td>\n",
       "      <td>Long-term unemployment still an issue for US job market, Indeed economist says</td>\n",
       "      <td>0</td>\n",
       "    </tr>\n",
       "  </tbody>\n",
       "</table>\n",
       "<p>2562 rows × 2 columns</p>\n",
       "</div>"
      ],
      "text/plain": [
       "                                                                                                                     0  \\\n",
       "0     CVS eyes virtual interviews, job fairs to hire 50K workers                                                         \n",
       "1     EEOC: Manufacturer violated ADA in firing worker returning from hospitalization                                    \n",
       "2     Employees confident they can do their jobs effectively from home during COVID-19 pandemic                          \n",
       "3     Court revives coachs suit, citing need to consider the overall likelihood of discrimination                        \n",
       "4     From manufacturing to HR: One womans journey through Honda                                                         \n",
       "...                                                          ...                                                         \n",
       "2057  NJ employers may need to accommodate medical marijuana use                                                         \n",
       "2058   3 lessons to help supervisors handle employee requests                                                            \n",
       "2059   Using L&D to master the elements of onboarding                                                                    \n",
       "2060   Marriott worker called Egyptian rat can proceed with claim, 2nd Cir. says                                         \n",
       "2061   Long-term unemployment still an issue for US job market, Indeed economist says                                    \n",
       "\n",
       "      0  \n",
       "0     1  \n",
       "1     1  \n",
       "2     1  \n",
       "3     1  \n",
       "4     1  \n",
       "...  ..  \n",
       "2057  0  \n",
       "2058  0  \n",
       "2059  0  \n",
       "2060  0  \n",
       "2061  0  \n",
       "\n",
       "[2562 rows x 2 columns]"
      ]
     },
     "execution_count": 23,
     "metadata": {},
     "output_type": "execute_result"
    }
   ],
   "source": [
    "# now we can merge two dataframes using append()\n",
    "df = df1.append(df2, ignore_index=0)\n",
    "df"
   ]
  },
  {
   "cell_type": "code",
   "execution_count": 24,
   "metadata": {},
   "outputs": [
    {
     "data": {
      "text/html": [
       "<div>\n",
       "<style scoped>\n",
       "    .dataframe tbody tr th:only-of-type {\n",
       "        vertical-align: middle;\n",
       "    }\n",
       "\n",
       "    .dataframe tbody tr th {\n",
       "        vertical-align: top;\n",
       "    }\n",
       "\n",
       "    .dataframe thead th {\n",
       "        text-align: right;\n",
       "    }\n",
       "</style>\n",
       "<table border=\"1\" class=\"dataframe\">\n",
       "  <thead>\n",
       "    <tr style=\"text-align: right;\">\n",
       "      <th></th>\n",
       "      <th>0</th>\n",
       "      <th>0</th>\n",
       "    </tr>\n",
       "  </thead>\n",
       "  <tbody>\n",
       "    <tr>\n",
       "      <td>0</td>\n",
       "      <td>CVS eyes virtual interviews, job fairs to hire 50K workers</td>\n",
       "      <td>1</td>\n",
       "    </tr>\n",
       "    <tr>\n",
       "      <td>1</td>\n",
       "      <td>EEOC: Manufacturer violated ADA in firing worker returning from hospitalization</td>\n",
       "      <td>1</td>\n",
       "    </tr>\n",
       "  </tbody>\n",
       "</table>\n",
       "</div>"
      ],
      "text/plain": [
       "                                                                                 0  \\\n",
       "0  CVS eyes virtual interviews, job fairs to hire 50K workers                        \n",
       "1  EEOC: Manufacturer violated ADA in firing worker returning from hospitalization   \n",
       "\n",
       "   0  \n",
       "0  1  \n",
       "1  1  "
      ]
     },
     "execution_count": 24,
     "metadata": {},
     "output_type": "execute_result"
    }
   ],
   "source": [
    "#Export to csv\n",
    "pd.set_option('display.max_colwidth', -1)\n",
    "df.to_csv(\"../TextClassification/saidou.csv\", index=False, encoding='utf-8')\n",
    "df.head(2)"
   ]
  },
  {
   "cell_type": "code",
   "execution_count": 131,
   "metadata": {},
   "outputs": [
    {
     "data": {
      "text/html": [
       "<div>\n",
       "<style scoped>\n",
       "    .dataframe tbody tr th:only-of-type {\n",
       "        vertical-align: middle;\n",
       "    }\n",
       "\n",
       "    .dataframe tbody tr th {\n",
       "        vertical-align: top;\n",
       "    }\n",
       "\n",
       "    .dataframe thead th {\n",
       "        text-align: right;\n",
       "    }\n",
       "</style>\n",
       "<table border=\"1\" class=\"dataframe\">\n",
       "  <thead>\n",
       "    <tr style=\"text-align: right;\">\n",
       "      <th></th>\n",
       "      <th>0</th>\n",
       "      <th>1</th>\n",
       "    </tr>\n",
       "  </thead>\n",
       "  <tbody>\n",
       "    <tr>\n",
       "      <td>0</td>\n",
       "      <td>CVS eyes virtual interviews, job fairs to hire 50K workers</td>\n",
       "      <td>1</td>\n",
       "    </tr>\n",
       "    <tr>\n",
       "      <td>1</td>\n",
       "      <td>EEOC: Manufacturer violated ADA in firing worker returning from hospitalization</td>\n",
       "      <td>1</td>\n",
       "    </tr>\n",
       "    <tr>\n",
       "      <td>2</td>\n",
       "      <td>Employees confident they can do their jobs effectively from home during COVID-19 pandemic</td>\n",
       "      <td>1</td>\n",
       "    </tr>\n",
       "    <tr>\n",
       "      <td>3</td>\n",
       "      <td>Court revives coachs suit, citing need to consider the overall likelihood of discrimination</td>\n",
       "      <td>1</td>\n",
       "    </tr>\n",
       "    <tr>\n",
       "      <td>4</td>\n",
       "      <td>From manufacturing to HR: One womans journey through Honda</td>\n",
       "      <td>1</td>\n",
       "    </tr>\n",
       "    <tr>\n",
       "      <td>...</td>\n",
       "      <td>...</td>\n",
       "      <td>...</td>\n",
       "    </tr>\n",
       "    <tr>\n",
       "      <td>2057</td>\n",
       "      <td>NJ employers may need to accommodate medical marijuana use</td>\n",
       "      <td>0</td>\n",
       "    </tr>\n",
       "    <tr>\n",
       "      <td>2058</td>\n",
       "      <td>3 lessons to help supervisors handle employee requests</td>\n",
       "      <td>0</td>\n",
       "    </tr>\n",
       "    <tr>\n",
       "      <td>2059</td>\n",
       "      <td>Using L&amp;D to master the elements of onboarding</td>\n",
       "      <td>0</td>\n",
       "    </tr>\n",
       "    <tr>\n",
       "      <td>2060</td>\n",
       "      <td>Marriott worker called Egyptian rat can proceed with claim, 2nd Cir. says</td>\n",
       "      <td>0</td>\n",
       "    </tr>\n",
       "    <tr>\n",
       "      <td>2061</td>\n",
       "      <td>Long-term unemployment still an issue for US job market, Indeed economist says</td>\n",
       "      <td>0</td>\n",
       "    </tr>\n",
       "  </tbody>\n",
       "</table>\n",
       "<p>2562 rows × 2 columns</p>\n",
       "</div>"
      ],
      "text/plain": [
       "                                                                                                                     0  \\\n",
       "0     CVS eyes virtual interviews, job fairs to hire 50K workers                                                         \n",
       "1     EEOC: Manufacturer violated ADA in firing worker returning from hospitalization                                    \n",
       "2     Employees confident they can do their jobs effectively from home during COVID-19 pandemic                          \n",
       "3     Court revives coachs suit, citing need to consider the overall likelihood of discrimination                        \n",
       "4     From manufacturing to HR: One womans journey through Honda                                                         \n",
       "...                                                          ...                                                         \n",
       "2057  NJ employers may need to accommodate medical marijuana use                                                         \n",
       "2058   3 lessons to help supervisors handle employee requests                                                            \n",
       "2059   Using L&D to master the elements of onboarding                                                                    \n",
       "2060   Marriott worker called Egyptian rat can proceed with claim, 2nd Cir. says                                         \n",
       "2061   Long-term unemployment still an issue for US job market, Indeed economist says                                    \n",
       "\n",
       "      1  \n",
       "0     1  \n",
       "1     1  \n",
       "2     1  \n",
       "3     1  \n",
       "4     1  \n",
       "...  ..  \n",
       "2057  0  \n",
       "2058  0  \n",
       "2059  0  \n",
       "2060  0  \n",
       "2061  0  \n",
       "\n",
       "[2562 rows x 2 columns]"
      ]
     },
     "execution_count": 131,
     "metadata": {},
     "output_type": "execute_result"
    }
   ],
   "source": [
    "# change the name of columns\n",
    "df.columns = ['0','1']\n",
    "df"
   ]
  },
  {
   "cell_type": "code",
   "execution_count": 34,
   "metadata": {},
   "outputs": [
    {
     "data": {
      "text/html": [
       "<div>\n",
       "<style scoped>\n",
       "    .dataframe tbody tr th:only-of-type {\n",
       "        vertical-align: middle;\n",
       "    }\n",
       "\n",
       "    .dataframe tbody tr th {\n",
       "        vertical-align: top;\n",
       "    }\n",
       "\n",
       "    .dataframe thead th {\n",
       "        text-align: right;\n",
       "    }\n",
       "</style>\n",
       "<table border=\"1\" class=\"dataframe\">\n",
       "  <thead>\n",
       "    <tr style=\"text-align: right;\">\n",
       "      <th></th>\n",
       "      <th>0</th>\n",
       "      <th>0</th>\n",
       "    </tr>\n",
       "  </thead>\n",
       "  <tbody>\n",
       "    <tr>\n",
       "      <td>0</td>\n",
       "      <td>CVS eyes virtual interviews, job fairs to hire 50K workers</td>\n",
       "      <td>1</td>\n",
       "    </tr>\n",
       "    <tr>\n",
       "      <td>1</td>\n",
       "      <td>EEOC: Manufacturer violated ADA in firing worker returning from hospitalization</td>\n",
       "      <td>1</td>\n",
       "    </tr>\n",
       "  </tbody>\n",
       "</table>\n",
       "</div>"
      ],
      "text/plain": [
       "                                                                                 0  \\\n",
       "0  CVS eyes virtual interviews, job fairs to hire 50K workers                        \n",
       "1  EEOC: Manufacturer violated ADA in firing worker returning from hospitalization   \n",
       "\n",
       "   0  \n",
       "0  1  \n",
       "1  1  "
      ]
     },
     "execution_count": 34,
     "metadata": {},
     "output_type": "execute_result"
    }
   ],
   "source": [
    "#Export to csv\n",
    "pd.set_option('display.max_colwidth', -1)\n",
    "df.to_csv(\"../TextClassification/saidou.csv\", index=False, encoding='utf-8')\n",
    "df.head(2)"
   ]
  },
  {
   "cell_type": "markdown",
   "metadata": {},
   "source": [
    "### Second text preprocessing and feature engineering."
   ]
  },
  {
   "cell_type": "markdown",
   "metadata": {},
   "source": [
    "# Dataset preparation"
   ]
  },
  {
   "cell_type": "markdown",
   "metadata": {},
   "source": [
    "###### Loading the dataset\n"
   ]
  },
  {
   "cell_type": "code",
   "execution_count": 3,
   "metadata": {},
   "outputs": [],
   "source": [
    "sms_data = []\n",
    "sms_labels = []\n",
    "sms = []\n",
    "\n",
    "openfile = open('..//TextClassification/hrdata.csv', 'r')\n",
    "r = csv.reader(openfile)\n",
    "for i in r:\n",
    "    sms.append(i)\n",
    "    sms_data.append(i[0])\n",
    "    sms_labels.append(i[1])    \n",
    "openfile.close()"
   ]
  },
  {
   "cell_type": "code",
   "execution_count": 4,
   "metadata": {},
   "outputs": [
    {
     "name": "stdout",
     "output_type": "stream",
     "text": [
      "217\n",
      "217\n",
      "217\n"
     ]
    }
   ],
   "source": [
    "#entire data\n",
    "print(len(sms))\n",
    "#texts only\n",
    "print(len(sms_data))\n",
    "#labels only\n",
    "print(len(sms_labels))"
   ]
  },
  {
   "cell_type": "code",
   "execution_count": 5,
   "metadata": {},
   "outputs": [
    {
     "data": {
      "text/plain": [
       "[\"Judge invalidates federal guidances that led to 'slower' H-1B processing\",\n",
       " '1']"
      ]
     },
     "execution_count": 5,
     "metadata": {},
     "output_type": "execute_result"
    }
   ],
   "source": [
    "#third row\n",
    "sms[3]"
   ]
  },
  {
   "cell_type": "code",
   "execution_count": 6,
   "metadata": {},
   "outputs": [
    {
     "name": "stdout",
     "output_type": "stream",
     "text": [
      "100\n",
      "117\n"
     ]
    }
   ],
   "source": [
    "# how many HR amd Non-HR entimen in the dataset\n",
    "print(sms_labels.count('0'))\n",
    "print(sms_labels.count('1'))"
   ]
  },
  {
   "cell_type": "markdown",
   "metadata": {},
   "source": [
    "2062 Non-HR labels & 501 HR labels in the dataset"
   ]
  },
  {
   "cell_type": "markdown",
   "metadata": {},
   "source": [
    "The dataset contains 2563 observations HR and Non-HR. There are two columns of counting the HR and Non-HR. "
   ]
  },
  {
   "cell_type": "markdown",
   "metadata": {},
   "source": [
    "##### Text Preprocessing: Feature Engineering (Words to Vectors)"
   ]
  },
  {
   "cell_type": "markdown",
   "metadata": {},
   "source": [
    "Text Representation\n",
    "for each term in the dataset, i will calculate a measure called Term Frequency, Inverse Document Frequency, abbreviated to tf-idf. i will use sklearn.feature_extraction.text.TfidfVectorizer to calculate a tf-idf vector for each of sentiments:"
   ]
  },
  {
   "cell_type": "code",
   "execution_count": 7,
   "metadata": {},
   "outputs": [
    {
     "name": "stdout",
     "output_type": "stream",
     "text": [
      "(217, 1244)\n",
      "  (0, 436)\t0.30386958425384125\n",
      "  (0, 1189)\t0.29030339469604105\n",
      "  (0, 49)\t0.30386958425384125\n",
      "  (0, 183)\t0.30386958425384125\n",
      "  (0, 626)\t0.30386958425384125\n",
      "  (0, 1213)\t0.17744828297648438\n",
      "  (0, 1222)\t0.2617291504947223\n",
      "  (0, 65)\t0.30386958425384125\n",
      "  (0, 45)\t0.30386958425384125\n",
      "  (0, 776)\t0.12328087591869523\n",
      "  (0, 434)\t0.29030339469604105\n",
      "  (0, 683)\t0.29030339469604105\n",
      "  (0, 251)\t0.2792190107406328\n",
      "  (1, 879)\t0.32567184470025395\n",
      "  (1, 159)\t0.30272352585495915\n",
      "  (1, 1008)\t0.3408908399292559\n",
      "  (1, 6)\t0.26596250307483477\n",
      "  (1, 254)\t0.26596250307483477\n",
      "  (1, 814)\t0.3408908399292559\n",
      "  (1, 1115)\t0.1300733635861375\n",
      "  (1, 239)\t0.3408908399292559\n",
      "  (1, 1156)\t0.3408908399292559\n",
      "  (1, 182)\t0.3408908399292559\n",
      "  (1, 1157)\t0.2507435078458327\n",
      "  (2, 608)\t0.4087157327827059\n",
      "  :\t:\n",
      "  (215, 770)\t0.11636106753799069\n",
      "  (215, 420)\t0.12831225582953765\n",
      "  (215, 604)\t0.1555968754046289\n",
      "  (215, 603)\t0.10271400943158127\n",
      "  (215, 970)\t0.19837039764219325\n",
      "  (215, 160)\t0.13320532137471638\n",
      "  (215, 737)\t0.15867554597163927\n",
      "  (215, 101)\t0.15867554597163927\n",
      "  (215, 786)\t0.19837039764219325\n",
      "  (215, 1086)\t0.11997578478834749\n",
      "  (215, 1115)\t0.15845830873705583\n",
      "  (215, 776)\t0.08424040787836835\n",
      "  (216, 712)\t0.36392994193145484\n",
      "  (216, 401)\t0.36392994193145484\n",
      "  (216, 490)\t0.3196070471811992\n",
      "  (216, 618)\t0.30533826211435644\n",
      "  (216, 664)\t0.29367981582888913\n",
      "  (216, 741)\t0.2549208131531431\n",
      "  (216, 416)\t0.2752841524309436\n",
      "  (216, 959)\t0.2752841524309436\n",
      "  (216, 603)\t0.3162015855934934\n",
      "  (216, 160)\t0.2050340263283779\n",
      "  (216, 94)\t0.21997239259663537\n",
      "  (216, 444)\t0.17236957786358953\n",
      "  (216, 776)\t0.1296656156720559\n"
     ]
    }
   ],
   "source": [
    "# CountVectorizer followed by TfidfTransformer.\n",
    "tfidf_vectorizer = TfidfVectorizer(decode_error ='ignore')\n",
    "tfidf = tfidf_vectorizer.fit_transform(sms_data)\n",
    "print(tfidf.shape)\n",
    "print(tfidf)"
   ]
  },
  {
   "cell_type": "code",
   "execution_count": 8,
   "metadata": {},
   "outputs": [
    {
     "name": "stdout",
     "output_type": "stream",
     "text": [
      "(217, 1084)\n",
      "  (0, 392)\t0.32748499370079065\n",
      "  (0, 1047)\t0.3128644994753184\n",
      "  (0, 46)\t0.32748499370079065\n",
      "  (0, 153)\t0.32748499370079065\n",
      "  (0, 1067)\t0.2820695905170835\n",
      "  (0, 56)\t0.32748499370079065\n",
      "  (0, 43)\t0.32748499370079065\n",
      "  (0, 390)\t0.3128644994753184\n",
      "  (0, 609)\t0.3128644994753184\n",
      "  (0, 220)\t0.3009186858831898\n",
      "  (1, 776)\t0.3394978803526867\n",
      "  (1, 132)\t0.31557531617522183\n",
      "  (1, 897)\t0.3553629810834524\n",
      "  (1, 6)\t0.277253645092676\n",
      "  (1, 223)\t0.277253645092676\n",
      "  (1, 712)\t0.3553629810834524\n",
      "  (1, 208)\t0.3553629810834524\n",
      "  (1, 1017)\t0.3553629810834524\n",
      "  (1, 152)\t0.3553629810834524\n",
      "  (2, 539)\t0.4150147356978653\n",
      "  (2, 23)\t0.434408820219862\n",
      "  (2, 1015)\t0.434408820219862\n",
      "  (2, 499)\t0.434408820219862\n",
      "  (2, 218)\t0.29898573386170896\n",
      "  (2, 819)\t0.4150147356978653\n",
      "  :\t:\n",
      "  (215, 94)\t0.2683119840056644\n",
      "  (215, 147)\t0.2683119840056644\n",
      "  (215, 899)\t0.2683119840056644\n",
      "  (215, 710)\t0.2683119840056644\n",
      "  (215, 868)\t0.2683119840056644\n",
      "  (215, 287)\t0.2683119840056644\n",
      "  (215, 584)\t0.2683119840056644\n",
      "  (215, 175)\t0.2683119840056644\n",
      "  (215, 148)\t0.2683119840056644\n",
      "  (215, 723)\t0.24919680253147167\n",
      "  (215, 548)\t0.22511452194877407\n",
      "  (215, 462)\t0.23563436543929972\n",
      "  (215, 484)\t0.20925192924862424\n",
      "  (215, 683)\t0.1320487653581848\n",
      "  (215, 377)\t0.14561120245035675\n",
      "  (215, 863)\t0.22511452194877407\n",
      "  (215, 691)\t0.22511452194877407\n",
      "  (216, 635)\t0.41661694826989776\n",
      "  (216, 360)\t0.41661694826989776\n",
      "  (216, 440)\t0.36587732225468705\n",
      "  (216, 548)\t0.3495428111163131\n",
      "  (216, 591)\t0.3361965437351732\n",
      "  (216, 660)\t0.291826307730257\n",
      "  (216, 374)\t0.31513769623947635\n",
      "  (216, 853)\t0.31513769623947635\n"
     ]
    }
   ],
   "source": [
    "# removing stopwords\n",
    "\n",
    "tfidf_vectorizer = TfidfVectorizer(decode_error ='ignore', stop_words='english')\n",
    "tfidf = tfidf_vectorizer.fit_transform(sms_data)\n",
    "print(tfidf.shape)\n",
    "print(tfidf)"
   ]
  },
  {
   "cell_type": "markdown",
   "metadata": {},
   "source": [
    "After text cleaning and removing stop words, each of 2563 movie sentiments reviews and HR is represented by 39398 features, representing the tf-idf score for different unigrams and bigrams."
   ]
  },
  {
   "cell_type": "code",
   "execution_count": 9,
   "metadata": {},
   "outputs": [
    {
     "data": {
      "text/plain": [
       "['077', '100', '100k', '11', '120', '170', '19', '1b', '2020', '2b']"
      ]
     },
     "execution_count": 9,
     "metadata": {},
     "output_type": "execute_result"
    }
   ],
   "source": [
    "# view features or terms\n",
    "tfidf_vectorizer.get_feature_names()[0:10]"
   ]
  },
  {
   "cell_type": "code",
   "execution_count": 10,
   "metadata": {},
   "outputs": [
    {
     "data": {
      "text/plain": [
       "['wormhole',\n",
       " 'wormholes',\n",
       " 'worth',\n",
       " 'wouldn',\n",
       " 'writer',\n",
       " 'wrong',\n",
       " 'wrote',\n",
       " 'year',\n",
       " 'yes',\n",
       " 'younger']"
      ]
     },
     "execution_count": 10,
     "metadata": {},
     "output_type": "execute_result"
    }
   ],
   "source": [
    "# which term has the vector value 10\n",
    "tfidf_vectorizer.get_feature_names()[-10:]"
   ]
  },
  {
   "cell_type": "markdown",
   "metadata": {},
   "source": [
    "## Document Term Matrix (DTM)"
   ]
  },
  {
   "cell_type": "code",
   "execution_count": 11,
   "metadata": {},
   "outputs": [
    {
     "data": {
      "text/plain": [
       "array([[0., 0., 0., ..., 0., 0., 0.],\n",
       "       [0., 0., 0., ..., 0., 0., 0.],\n",
       "       [0., 0., 0., ..., 0., 0., 0.],\n",
       "       ...,\n",
       "       [0., 0., 0., ..., 0., 0., 0.],\n",
       "       [0., 0., 0., ..., 0., 0., 0.],\n",
       "       [0., 0., 0., ..., 0., 0., 0.]])"
      ]
     },
     "execution_count": 11,
     "metadata": {},
     "output_type": "execute_result"
    }
   ],
   "source": [
    "# document-term matrix using tfidf\n",
    "\n",
    "tfidf_matrix = tfidf_vectorizer.fit_transform(sms_data).toarray()\n",
    "tfidf_matrix"
   ]
  },
  {
   "cell_type": "code",
   "execution_count": 12,
   "metadata": {},
   "outputs": [
    {
     "data": {
      "text/html": [
       "<div>\n",
       "<style scoped>\n",
       "    .dataframe tbody tr th:only-of-type {\n",
       "        vertical-align: middle;\n",
       "    }\n",
       "\n",
       "    .dataframe tbody tr th {\n",
       "        vertical-align: top;\n",
       "    }\n",
       "\n",
       "    .dataframe thead th {\n",
       "        text-align: right;\n",
       "    }\n",
       "</style>\n",
       "<table border=\"1\" class=\"dataframe\">\n",
       "  <thead>\n",
       "    <tr style=\"text-align: right;\">\n",
       "      <th></th>\n",
       "      <th>077</th>\n",
       "      <th>100</th>\n",
       "      <th>100k</th>\n",
       "      <th>11</th>\n",
       "      <th>120</th>\n",
       "      <th>170</th>\n",
       "      <th>19</th>\n",
       "      <th>1b</th>\n",
       "      <th>2020</th>\n",
       "      <th>2b</th>\n",
       "      <th>...</th>\n",
       "      <th>wormhole</th>\n",
       "      <th>wormholes</th>\n",
       "      <th>worth</th>\n",
       "      <th>wouldn</th>\n",
       "      <th>writer</th>\n",
       "      <th>wrong</th>\n",
       "      <th>wrote</th>\n",
       "      <th>year</th>\n",
       "      <th>yes</th>\n",
       "      <th>younger</th>\n",
       "    </tr>\n",
       "  </thead>\n",
       "  <tbody>\n",
       "    <tr>\n",
       "      <td>Court: Manufacturer's firing of African-American worker with last-chance agreement wasn't 'fishy'</td>\n",
       "      <td>0.0</td>\n",
       "      <td>0.0</td>\n",
       "      <td>0.0</td>\n",
       "      <td>0.0</td>\n",
       "      <td>0.0</td>\n",
       "      <td>0.0</td>\n",
       "      <td>0.000000</td>\n",
       "      <td>0.0</td>\n",
       "      <td>0.0</td>\n",
       "      <td>0.0</td>\n",
       "      <td>...</td>\n",
       "      <td>0.0</td>\n",
       "      <td>0.0</td>\n",
       "      <td>0.0</td>\n",
       "      <td>0.0</td>\n",
       "      <td>0.0</td>\n",
       "      <td>0.0</td>\n",
       "      <td>0.0</td>\n",
       "      <td>0.0</td>\n",
       "      <td>0.0</td>\n",
       "      <td>0.0</td>\n",
       "    </tr>\n",
       "    <tr>\n",
       "      <td>US Chamber urges Congress to pass COVID-19 small business protections</td>\n",
       "      <td>0.0</td>\n",
       "      <td>0.0</td>\n",
       "      <td>0.0</td>\n",
       "      <td>0.0</td>\n",
       "      <td>0.0</td>\n",
       "      <td>0.0</td>\n",
       "      <td>0.277254</td>\n",
       "      <td>0.0</td>\n",
       "      <td>0.0</td>\n",
       "      <td>0.0</td>\n",
       "      <td>...</td>\n",
       "      <td>0.0</td>\n",
       "      <td>0.0</td>\n",
       "      <td>0.0</td>\n",
       "      <td>0.0</td>\n",
       "      <td>0.0</td>\n",
       "      <td>0.0</td>\n",
       "      <td>0.0</td>\n",
       "      <td>0.0</td>\n",
       "      <td>0.0</td>\n",
       "      <td>0.0</td>\n",
       "    </tr>\n",
       "  </tbody>\n",
       "</table>\n",
       "<p>2 rows × 1084 columns</p>\n",
       "</div>"
      ],
      "text/plain": [
       "                                                    077  100  100k   11  120  \\\n",
       "Court: Manufacturer's firing of African-America...  0.0  0.0   0.0  0.0  0.0   \n",
       "US Chamber urges Congress to pass COVID-19 smal...  0.0  0.0   0.0  0.0  0.0   \n",
       "\n",
       "                                                    170        19   1b  2020  \\\n",
       "Court: Manufacturer's firing of African-America...  0.0  0.000000  0.0   0.0   \n",
       "US Chamber urges Congress to pass COVID-19 smal...  0.0  0.277254  0.0   0.0   \n",
       "\n",
       "                                                     2b  ...  wormhole  \\\n",
       "Court: Manufacturer's firing of African-America...  0.0  ...       0.0   \n",
       "US Chamber urges Congress to pass COVID-19 smal...  0.0  ...       0.0   \n",
       "\n",
       "                                                    wormholes  worth  wouldn  \\\n",
       "Court: Manufacturer's firing of African-America...        0.0    0.0     0.0   \n",
       "US Chamber urges Congress to pass COVID-19 smal...        0.0    0.0     0.0   \n",
       "\n",
       "                                                    writer  wrong  wrote  \\\n",
       "Court: Manufacturer's firing of African-America...     0.0    0.0    0.0   \n",
       "US Chamber urges Congress to pass COVID-19 smal...     0.0    0.0    0.0   \n",
       "\n",
       "                                                    year  yes  younger  \n",
       "Court: Manufacturer's firing of African-America...   0.0  0.0      0.0  \n",
       "US Chamber urges Congress to pass COVID-19 smal...   0.0  0.0      0.0  \n",
       "\n",
       "[2 rows x 1084 columns]"
      ]
     },
     "execution_count": 12,
     "metadata": {},
     "output_type": "execute_result"
    }
   ],
   "source": [
    "# Document Term Matrix\n",
    "pd.DataFrame(tfidf_matrix,index=sms_data,columns=tfidf_vectorizer.get_feature_names()).head(2)"
   ]
  },
  {
   "cell_type": "markdown",
   "metadata": {},
   "source": [
    "## Third building text classification models using different machine learning algorithms (minimum three different algorithms required) and selecting the best model."
   ]
  },
  {
   "cell_type": "markdown",
   "metadata": {},
   "source": [
    "# Model Building / Model Validation / Model Evaluation"
   ]
  },
  {
   "cell_type": "markdown",
   "metadata": {},
   "source": [
    "## Naive Bayes"
   ]
  },
  {
   "cell_type": "markdown",
   "metadata": {},
   "source": [
    "Now that i have my features, i can train a classifier to try to predict the category of a post. There are various algorithms which can be used for text classification. i will start with ‘Naive Bayes (NB)"
   ]
  },
  {
   "cell_type": "code",
   "execution_count": 13,
   "metadata": {},
   "outputs": [
    {
     "data": {
      "text/plain": [
       "1.0"
      ]
     },
     "execution_count": 13,
     "metadata": {},
     "output_type": "execute_result"
    }
   ],
   "source": [
    "# the below model does not use \"split validation\", meaning this model is NOT validated. \n",
    "# We create this invalidated model to illustrate the concep called \"overfitting\"\n",
    "# overfitting happends that the model fits extremely well into the existing dataset, but would not be suitable for new datasets\n",
    "# Simply, the model is not much generalizable.\n",
    "\n",
    "nb = MultinomialNB().fit(tfidf, sms_labels)\n",
    "\n",
    "predicted = nb.predict(tfidf)\n",
    "np.mean(predicted == sms_labels)"
   ]
  },
  {
   "cell_type": "code",
   "execution_count": 14,
   "metadata": {},
   "outputs": [
    {
     "name": "stdout",
     "output_type": "stream",
     "text": [
      "\n",
      " overall accuracy:\n",
      "1.0\n",
      "\n",
      " confusion_matrix:\n",
      "[[100   0]\n",
      " [  0 117]]\n",
      "\n",
      " Here is the classification report:\n",
      "              precision    recall  f1-score   support\n",
      "\n",
      "           0       1.00      1.00      1.00       100\n",
      "           1       1.00      1.00      1.00       117\n",
      "\n",
      "    accuracy                           1.00       217\n",
      "   macro avg       1.00      1.00      1.00       217\n",
      "weighted avg       1.00      1.00      1.00       217\n",
      "\n"
     ]
    }
   ],
   "source": [
    "print('\\n overall accuracy:')\n",
    "print(metrics.accuracy_score(sms_labels, predicted))\n",
    "\n",
    "print('\\n confusion_matrix:')\n",
    "print(metrics.confusion_matrix(sms_labels, predicted))\n",
    "\n",
    "print('\\n Here is the classification report:')\n",
    "print(metrics.classification_report(sms_labels, predicted))"
   ]
  },
  {
   "cell_type": "markdown",
   "metadata": {},
   "source": [
    "Naive Bayes algorithm.\n",
    "From the output, it can be seen that the model achieved an accuracy of 99.3%. \n",
    " "
   ]
  },
  {
   "cell_type": "code",
   "execution_count": 15,
   "metadata": {},
   "outputs": [
    {
     "data": {
      "image/png": "[encoded data removed]",
      "text/plain": [
       "<Figure size 432x288 with 2 Axes>"
      ]
     },
     "metadata": {
      "needs_background": "light"
     },
     "output_type": "display_data"
    }
   ],
   "source": [
    "#using scikit-plot python package (https://github.com/reiinakano/scikit-plot) ... you need to install \n",
    "# pip install scikit-plot\n",
    "\n",
    "skplt.metrics.plot_confusion_matrix(y_true=sms_labels, y_pred=predicted)\n",
    "plt.show()"
   ]
  },
  {
   "cell_type": "code",
   "execution_count": 16,
   "metadata": {},
   "outputs": [
    {
     "data": {
      "image/png": "[encoded data removed]",
      "text/plain": [
       "<Figure size 432x288 with 1 Axes>"
      ]
     },
     "metadata": {
      "needs_background": "light"
     },
     "output_type": "display_data"
    }
   ],
   "source": [
    "# true positive \n",
    "# false positive \n",
    "\n",
    "probas = nb.predict_proba(tfidf)\n",
    "skplt.metrics.plot_roc(y_true=sms_labels, y_probas=probas)\n",
    "plt.show()"
   ]
  },
  {
   "cell_type": "markdown",
   "metadata": {},
   "source": [
    "The above ROC curve shows our Naive Bayesian classification model is almost perfect. \n",
    "Classify 99% of the reviews correctly"
   ]
  },
  {
   "cell_type": "markdown",
   "metadata": {},
   "source": [
    "## Split validation\n",
    "\n",
    "Training and Testing Sets\n",
    "Like any other supervised machine learning problem, we need to divide our data into training and testing sets. To do so, we will use the train_test_split utility from the sklearn.model_selection library. Execute the following script:\n",
    "\n",
    "I will build a predictive model using **x_train** and **y_train**, which are called as **training dataset**.\n",
    "\n",
    "Then, we will apply the model to **x_test** and **y_test** (**testing dataset**) and this will tell us the performance or quality of the model"
   ]
  },
  {
   "cell_type": "code",
   "execution_count": 17,
   "metadata": {},
   "outputs": [
    {
     "data": {
      "text/plain": [
       "(151, 151, 66, 66)"
      ]
     },
     "execution_count": 17,
     "metadata": {},
     "output_type": "execute_result"
    }
   ],
   "source": [
    "# Split validation\n",
    "x_train, x_test, y_train, y_test = train_test_split(sms_data, sms_labels, test_size=0.3,random_state=0)\n",
    "len(x_train), len(y_train), len(x_test), len(y_test)\n"
   ]
  },
  {
   "cell_type": "markdown",
   "metadata": {},
   "source": [
    "The above script divides data into 30% test set and 70% training set."
   ]
  },
  {
   "cell_type": "code",
   "execution_count": 18,
   "metadata": {},
   "outputs": [
    {
     "name": "stdout",
     "output_type": "stream",
     "text": [
      "  (0, 696)\t0.3937746926045103\n",
      "  (0, 641)\t0.3937746926045103\n",
      "  (0, 117)\t0.3937746926045103\n",
      "  (0, 384)\t0.3937746926045103\n",
      "  (0, 714)\t0.45262940894918285\n",
      "  (0, 793)\t0.4182016068969689\n",
      "  (1, 821)\t0.28543389845407213\n",
      "  (1, 676)\t0.3557159926298427\n",
      "  (1, 223)\t0.3557159926298427\n",
      "  (1, 172)\t0.25962552497704766\n",
      "  (1, 722)\t0.3246156705140006\n",
      "  (1, 569)\t0.3557159926298427\n",
      "  (1, 633)\t0.6050992816162862\n",
      "+++++++++++++++++++++++++++++++++++++++++\n",
      "  (0, 526)\t0.2973971518899366\n",
      "  (0, 289)\t0.5221954696346857\n",
      "  (0, 275)\t0.5651844059865612\n",
      "  (0, 196)\t0.5651844059865612\n",
      "  (1, 745)\t0.5917060683336663\n",
      "  (1, 431)\t0.48999871367939807\n",
      "  (1, 177)\t0.45265063199428435\n",
      "  (1, 6)\t0.45265063199428435\n",
      "  (2, 549)\t0.344911287017707\n",
      "  (2, 526)\t0.2528259122488751\n",
      "  (2, 355)\t0.48047959479206487\n",
      "  (2, 221)\t0.4439334578142832\n",
      "  (2, 219)\t0.48047959479206487\n",
      "  (2, 186)\t0.39789077042986726\n",
      "  (3, 614)\t0.44367926772389643\n",
      "  (3, 437)\t0.41776421797923474\n",
      "  (3, 403)\t0.2457483235514701\n",
      "  (3, 375)\t0.41776421797923474\n",
      "  (3, 289)\t0.44367926772389643\n",
      "  (3, 221)\t0.44367926772389643\n",
      "  (4, 802)\t0.33842135187297007\n",
      "  (4, 729)\t0.33842135187297007\n",
      "  (4, 645)\t0.3126804188223001\n",
      "  (4, 534)\t0.3126804188223001\n",
      "  (4, 198)\t0.3126804188223001\n",
      "  :\t:\n",
      "  (62, 633)\t0.3243224144772619\n",
      "  (62, 514)\t0.43830727689985904\n",
      "  (62, 429)\t0.43830727689985904\n",
      "  (62, 187)\t0.43830727689985904\n",
      "  (62, 177)\t0.33530172583008916\n",
      "  (62, 6)\t0.33530172583008916\n",
      "  (63, 802)\t0.33842135187297007\n",
      "  (63, 729)\t0.33842135187297007\n",
      "  (63, 645)\t0.3126804188223001\n",
      "  (63, 534)\t0.3126804188223001\n",
      "  (63, 198)\t0.3126804188223001\n",
      "  (63, 197)\t0.33842135187297007\n",
      "  (63, 177)\t0.25888975456522983\n",
      "  (63, 46)\t0.33842135187297007\n",
      "  (63, 6)\t0.25888975456522983\n",
      "  (63, 2)\t0.33842135187297007\n",
      "  (64, 690)\t0.6219447498417161\n",
      "  (64, 242)\t0.47578299285351777\n",
      "  (64, 230)\t0.6219447498417161\n",
      "  (65, 727)\t0.4216395399463638\n",
      "  (65, 635)\t0.4216395399463638\n",
      "  (65, 434)\t0.4216395399463638\n",
      "  (65, 354)\t0.3970118179703483\n",
      "  (65, 346)\t0.4216395399463638\n",
      "  (65, 239)\t0.3623009933841667\n"
     ]
    }
   ],
   "source": [
    "# transform training data using tfidf_vectorizer\n",
    "X_train = tfidf_vectorizer.fit_transform(x_train)\n",
    "X_test = tfidf_vectorizer.transform(x_test)\n",
    "print(X_train[:2])\n",
    "print(\"+++++++++++++++++++++++++++++++++++++++++\")\n",
    "print(X_test)\n",
    "\n"
   ]
  },
  {
   "cell_type": "code",
   "execution_count": 19,
   "metadata": {},
   "outputs": [
    {
     "data": {
      "text/plain": [
       "0.9696969696969697"
      ]
     },
     "execution_count": 19,
     "metadata": {},
     "output_type": "execute_result"
    }
   ],
   "source": [
    "# build naive baysian model for text classification & evaluation overall accuracy\n",
    "nb = MultinomialNB().fit(X_train, y_train)\n",
    "predicted = nb.predict(X_test)\n",
    "np.mean(predicted == y_test)\n"
   ]
  },
  {
   "cell_type": "code",
   "execution_count": 20,
   "metadata": {},
   "outputs": [
    {
     "name": "stdout",
     "output_type": "stream",
     "text": [
      "\n",
      " overall accuracy:\n",
      "0.9696969696969697\n",
      "\n",
      " confusion_matrix:\n",
      "[[27  2]\n",
      " [ 0 37]]\n",
      "\n",
      " Here is the classification report:\n",
      "              precision    recall  f1-score   support\n",
      "\n",
      "           0       1.00      0.93      0.96        29\n",
      "           1       0.95      1.00      0.97        37\n",
      "\n",
      "    accuracy                           0.97        66\n",
      "   macro avg       0.97      0.97      0.97        66\n",
      "weighted avg       0.97      0.97      0.97        66\n",
      "\n"
     ]
    }
   ],
   "source": [
    "# Print different accuracy measures (confusion matrix)\n",
    "\n",
    "print('\\n overall accuracy:')\n",
    "print(metrics.accuracy_score(y_test, predicted))\n",
    "\n",
    "print('\\n confusion_matrix:')\n",
    "print(metrics.confusion_matrix(y_test, predicted))\n",
    "\n",
    "print('\\n Here is the classification report:')\n",
    "print(metrics.classification_report(y_test, predicted))"
   ]
  },
  {
   "cell_type": "markdown",
   "metadata": {},
   "source": [
    "I achieved 99.7% accuracy\n"
   ]
  },
  {
   "cell_type": "code",
   "execution_count": 21,
   "metadata": {},
   "outputs": [
    {
     "data": {
      "image/png": "[encoded data removed]",
      "text/plain": [
       "<Figure size 432x288 with 2 Axes>"
      ]
     },
     "metadata": {
      "needs_background": "light"
     },
     "output_type": "display_data"
    }
   ],
   "source": [
    "#using scikit-plot python package (https://github.com/reiinakano/scikit-plot) ... you need to install \n",
    "# pip install scikit-plot\n",
    "\n",
    "skplt.metrics.plot_confusion_matrix(y_true=np.array(y_test), y_pred=predicted)\n",
    "plt.show()"
   ]
  },
  {
   "cell_type": "markdown",
   "metadata": {},
   "source": [
    "### Summary of split validation:\n",
    "* The accuracy of Naive Bayes-based model on this dataset was about 99.7%."
   ]
  },
  {
   "cell_type": "markdown",
   "metadata": {},
   "source": [
    "## Creating a Pipeline and Generating the Model\n",
    "I will create a pipeline with three components: a cleaner, a vectorizer, and a classifier. The cleaner uses our predictors class object to clean and preprocess the text. The vectorizer uses countvector objects to create the bag of words matrix for our text. The classifier is an object that performs the logistic regression to classify the sentiments.\n",
    "\n",
    "\n"
   ]
  },
  {
   "cell_type": "code",
   "execution_count": 22,
   "metadata": {},
   "outputs": [],
   "source": [
    "# combining feature engineering and model building\n",
    "nb_pipeline = Pipeline([('tfidf', TfidfVectorizer(decode_error ='ignore')), ('clf', MultinomialNB())])"
   ]
  },
  {
   "cell_type": "code",
   "execution_count": 23,
   "metadata": {},
   "outputs": [
    {
     "data": {
      "text/plain": [
       "Pipeline(memory=None,\n",
       "         steps=[('tfidf',\n",
       "                 TfidfVectorizer(analyzer='word', binary=False,\n",
       "                                 decode_error='ignore',\n",
       "                                 dtype=<class 'numpy.float64'>,\n",
       "                                 encoding='utf-8', input='content',\n",
       "                                 lowercase=True, max_df=1.0, max_features=None,\n",
       "                                 min_df=1, ngram_range=(1, 1), norm='l2',\n",
       "                                 preprocessor=None, smooth_idf=True,\n",
       "                                 stop_words=None, strip_accents=None,\n",
       "                                 sublinear_tf=False,\n",
       "                                 token_pattern='(?u)\\\\b\\\\w\\\\w+\\\\b',\n",
       "                                 tokenizer=None, use_idf=True,\n",
       "                                 vocabulary=None)),\n",
       "                ('clf',\n",
       "                 MultinomialNB(alpha=1.0, class_prior=None, fit_prior=True))],\n",
       "         verbose=False)"
      ]
     },
     "execution_count": 23,
     "metadata": {},
     "output_type": "execute_result"
    }
   ],
   "source": [
    "nb_pipeline = nb_pipeline.fit(x_train, y_train)\n",
    "nb_pipeline"
   ]
  },
  {
   "cell_type": "code",
   "execution_count": 24,
   "metadata": {},
   "outputs": [
    {
     "data": {
      "text/plain": [
       "0.9848484848484849"
      ]
     },
     "execution_count": 24,
     "metadata": {},
     "output_type": "execute_result"
    }
   ],
   "source": [
    "predicted = nb_pipeline.predict(x_test)\n",
    "np.mean(predicted == y_test)"
   ]
  },
  {
   "cell_type": "code",
   "execution_count": 25,
   "metadata": {},
   "outputs": [
    {
     "data": {
      "text/plain": [
       "0.9848484848484849"
      ]
     },
     "execution_count": 25,
     "metadata": {},
     "output_type": "execute_result"
    }
   ],
   "source": [
    "# a complete pipeline\n",
    "\n",
    "nb_pipeline = Pipeline([('tfidf', TfidfVectorizer(decode_error ='ignore')), ('clf', MultinomialNB())])\n",
    "nb_pipeline = nb_pipeline.fit(x_train, y_train)\n",
    "predicted = nb_pipeline.predict(x_test)\n",
    "np.mean(predicted == y_test)"
   ]
  },
  {
   "cell_type": "markdown",
   "metadata": {},
   "source": [
    "Well, i got a classification rate of 99.7%, considered as good accuracy."
   ]
  },
  {
   "cell_type": "markdown",
   "metadata": {},
   "source": [
    "### kNeighbors Classifier (kNN)\n",
    "Create KNN classifier object by passing argument number of neighbors in KNeighborsClassifier() function.\n",
    "Then, fit your model on the train set using fit() and perform prediction on the test set using predict()."
   ]
  },
  {
   "cell_type": "code",
   "execution_count": 26,
   "metadata": {
    "scrolled": true
   },
   "outputs": [
    {
     "data": {
      "text/plain": [
       "0.9242424242424242"
      ]
     },
     "execution_count": 26,
     "metadata": {},
     "output_type": "execute_result"
    }
   ],
   "source": [
    "knn_pipeline = Pipeline([('tfidf', TfidfVectorizer(decode_error ='ignore')), ('clf', KNeighborsClassifier())])\n",
    "knn_pipeline = knn_pipeline.fit(x_train, y_train)\n",
    "predicted = knn_pipeline.predict(x_test)\n",
    "np.mean(predicted == y_test)"
   ]
  },
  {
   "cell_type": "markdown",
   "metadata": {},
   "source": [
    "Classification rate of 98%."
   ]
  },
  {
   "cell_type": "markdown",
   "metadata": {},
   "source": [
    "### Support Vector Machine (SVM)\n",
    "- This is a binary classification problem and we will use SVM algorithm to solve this problem."
   ]
  },
  {
   "cell_type": "code",
   "execution_count": 27,
   "metadata": {},
   "outputs": [
    {
     "data": {
      "text/plain": [
       "0.9848484848484849"
      ]
     },
     "execution_count": 27,
     "metadata": {},
     "output_type": "execute_result"
    }
   ],
   "source": [
    "svm_pipeline = Pipeline([('tfidf', TfidfVectorizer(decode_error ='ignore')), ('clf', SVC(kernel='linear', probability=True))])\n",
    "svm_pipeline = svm_pipeline.fit(x_train, y_train)\n",
    "predicted = svm_pipeline.predict(x_test)\n",
    "np.mean(predicted == y_test)"
   ]
  },
  {
   "cell_type": "markdown",
   "metadata": {},
   "source": [
    "- From the output, it can be seen that our model achieved an accuracy of 99.7%.\n",
    "- This shows that SVM works best for this dataset. You can use this svm model for model deployment"
   ]
  },
  {
   "cell_type": "code",
   "execution_count": 30,
   "metadata": {},
   "outputs": [
    {
     "name": "stdout",
     "output_type": "stream",
     "text": [
      "0.9848484848484849\n",
      "this processing has taken 0.04549759999986236\n"
     ]
    }
   ],
   "source": [
    "# to figure out processing time\n",
    "\n",
    "import timeit\n",
    "start_time = timeit.default_timer()\n",
    "\n",
    "svm_pipeline = Pipeline([('tfidf', TfidfVectorizer(decode_error ='ignore')), ('clf', SVC(kernel='linear', probability=True))])\n",
    "svm_pipeline = svm_pipeline.fit(x_train, y_train)\n",
    "predicted = svm_pipeline.predict(x_test)\n",
    "print(np.mean(predicted == y_test))\n",
    "\n",
    "elapsed = timeit.default_timer() - start_time\n",
    "print(\"%s %s\" % (\"this processing has taken\", elapsed))"
   ]
  },
  {
   "cell_type": "markdown",
   "metadata": {},
   "source": [
    "## Improve my model and predictive the model "
   ]
  },
  {
   "cell_type": "markdown",
   "metadata": {},
   "source": [
    "### Using different parameter values (e.g., removing stopwords, using stemming words, using ngrams, removing too frequent words, removing too rare words), the model accuracy can be improved."
   ]
  },
  {
   "cell_type": "code",
   "execution_count": 31,
   "metadata": {},
   "outputs": [
    {
     "data": {
      "text/plain": [
       "0.9545454545454546"
      ]
     },
     "execution_count": 31,
     "metadata": {},
     "output_type": "execute_result"
    }
   ],
   "source": [
    "# NB removing stopwords & rare words\n",
    "\n",
    "nb_pipeline = Pipeline([('tfidf', TfidfVectorizer(decode_error ='ignore', stop_words='english', min_df=2)), ('clf', MultinomialNB())])\n",
    "nb_pipeline = nb_pipeline.fit(x_train, y_train)\n",
    "predicted = nb_pipeline.predict(x_test)\n",
    "np.mean(predicted == y_test)"
   ]
  },
  {
   "cell_type": "code",
   "execution_count": 32,
   "metadata": {},
   "outputs": [
    {
     "data": {
      "text/plain": [
       "0.8484848484848485"
      ]
     },
     "execution_count": 32,
     "metadata": {},
     "output_type": "execute_result"
    }
   ],
   "source": [
    "# removing stopwords\n",
    "\n",
    "knn_pipeline = Pipeline([('tfidf', TfidfVectorizer(decode_error ='ignore', stop_words='english')), ('clf', KNeighborsClassifier())])\n",
    "knn_pipeline = knn_pipeline.fit(x_train, y_train)\n",
    "predicted = knn_pipeline.predict(x_test)\n",
    "np.mean(predicted == y_test)"
   ]
  },
  {
   "cell_type": "code",
   "execution_count": 33,
   "metadata": {},
   "outputs": [
    {
     "data": {
      "text/plain": [
       "0.9696969696969697"
      ]
     },
     "execution_count": 33,
     "metadata": {},
     "output_type": "execute_result"
    }
   ],
   "source": [
    "# SVM removing stopwords\n",
    "\n",
    "svm_pipeline = Pipeline([('tfidf', TfidfVectorizer(decode_error ='ignore', stop_words='english')), ('clf', SVC(kernel='linear', probability=True))])\n",
    "svm_pipeline = svm_pipeline.fit(x_train, y_train)\n",
    "predicted = svm_pipeline.predict(x_test)\n",
    "np.mean(predicted == y_test)"
   ]
  },
  {
   "cell_type": "code",
   "execution_count": 34,
   "metadata": {},
   "outputs": [
    {
     "data": {
      "text/plain": [
       "0.8484848484848485"
      ]
     },
     "execution_count": 34,
     "metadata": {},
     "output_type": "execute_result"
    }
   ],
   "source": [
    "# KNN removing stopwords & using bigram as well\n",
    "\n",
    "knn_pipeline = Pipeline([('tfidf', TfidfVectorizer(decode_error ='ignore', stop_words='english', ngram_range=(1, 2))), ('clf', KNeighborsClassifier())])\n",
    "knn_pipeline = knn_pipeline.fit(x_train, y_train)\n",
    "predicted = knn_pipeline.predict(x_test)\n",
    "np.mean(predicted == y_test)"
   ]
  },
  {
   "cell_type": "code",
   "execution_count": 35,
   "metadata": {},
   "outputs": [
    {
     "data": {
      "text/plain": [
       "0.9545454545454546"
      ]
     },
     "execution_count": 35,
     "metadata": {},
     "output_type": "execute_result"
    }
   ],
   "source": [
    "#SVm removing stopwords & using bigram as well\n",
    "svm_pipeline = Pipeline([('tfidf', TfidfVectorizer(decode_error ='ignore', stop_words='english', ngram_range=(1, 2))), ('clf', SVC(kernel='linear', probability=True))])\n",
    "svm_pipeline = svm_pipeline.fit(x_train, y_train)\n",
    "predicted = svm_pipeline.predict(x_test)\n",
    "np.mean(predicted == y_test)"
   ]
  },
  {
   "cell_type": "markdown",
   "metadata": {},
   "source": [
    "It looks like the best model uses **TFIDF (and bigram) with SVM after removing stopwords**"
   ]
  },
  {
   "cell_type": "markdown",
   "metadata": {},
   "source": [
    "### Pipeline with multiple classifiers (or algorithms)\n",
    "- Then, can we test the accuracy of all classifiers at once?"
   ]
  },
  {
   "cell_type": "code",
   "execution_count": 36,
   "metadata": {},
   "outputs": [],
   "source": [
    "classifiers = [MultinomialNB(), KNeighborsClassifier(), SVC(kernel='linear', probability=True)]"
   ]
  },
  {
   "cell_type": "code",
   "execution_count": 37,
   "metadata": {},
   "outputs": [
    {
     "name": "stdout",
     "output_type": "stream",
     "text": [
      "MultinomialNB(alpha=1.0, class_prior=None, fit_prior=True) --> 0.9696969696969697\n",
      " ++++++++++++++++++++++++++++++++++++++++++++++++++++++++ \n",
      "KNeighborsClassifier(algorithm='auto', leaf_size=30, metric='minkowski',\n",
      "                     metric_params=None, n_jobs=None, n_neighbors=5, p=2,\n",
      "                     weights='uniform') --> 0.8484848484848485\n",
      " ++++++++++++++++++++++++++++++++++++++++++++++++++++++++ \n",
      "SVC(C=1.0, break_ties=False, cache_size=200, class_weight=None, coef0=0.0,\n",
      "    decision_function_shape='ovr', degree=3, gamma='scale', kernel='linear',\n",
      "    max_iter=-1, probability=True, random_state=None, shrinking=True, tol=0.001,\n",
      "    verbose=False) --> 0.9545454545454546\n",
      " ++++++++++++++++++++++++++++++++++++++++++++++++++++++++ \n"
     ]
    }
   ],
   "source": [
    "for clf in classifiers:\n",
    "    pipeline = Pipeline([('tfidf', TfidfVectorizer(decode_error ='ignore', stop_words='english', ngram_range=(1, 2))), \n",
    "                         ('clf', clf)])\n",
    "    classifiers_pipeline = pipeline.fit(x_train, y_train)\n",
    "    predicted = classifiers_pipeline.predict(x_test)\n",
    "    print(\"%s --> %s\" % (clf, np.mean(predicted == y_test)))\n",
    "    print(\" ++++++++++++++++++++++++++++++++++++++++++++++++++++++++ \")"
   ]
  },
  {
   "cell_type": "markdown",
   "metadata": {},
   "source": [
    "## A k-fold Cross validation (CV) \n",
    "Of course, scoring ourselves on the training set is not useful. Let’s do some K-fold cross-validation to get an idea of how well we would do with unseen data.\n",
    "### 10-fold CV rather than testing the model quality **only once**, cross validation (or 10-fold CV) tests the model **10 times** with 10 different testing datasets.\n"
   ]
  },
  {
   "cell_type": "code",
   "execution_count": 38,
   "metadata": {},
   "outputs": [
    {
     "name": "stdout",
     "output_type": "stream",
     "text": [
      "[1.         1.         0.90909091 0.95454545 0.90909091 0.81818182\n",
      " 1.         1.         1.         1.        ]\n",
      "0.9590909090909092\n"
     ]
    }
   ],
   "source": [
    "# use nb\n",
    "from sklearn.ensemble import StackingClassifier\n",
    "nb_pipeline = Pipeline([('tfidf', TfidfVectorizer(decode_error ='ignore', stop_words='english')), ('clf', MultinomialNB())])\n",
    "nb_pipeline = nb_pipeline.fit(sms_data, sms_labels)\n",
    "\n",
    "scores = cross_val_score(nb_pipeline, sms_data, sms_labels, scoring='accuracy', cv=10)\n",
    "print(scores)\n",
    "print(scores.mean())"
   ]
  },
  {
   "cell_type": "code",
   "execution_count": 39,
   "metadata": {},
   "outputs": [
    {
     "data": {
      "text/plain": [
       "0.9590909090909092"
      ]
     },
     "execution_count": 39,
     "metadata": {},
     "output_type": "execute_result"
    }
   ],
   "source": [
    "scores.mean()"
   ]
  },
  {
   "cell_type": "markdown",
   "metadata": {},
   "source": [
    "The mean value is 0.9859, or 98.59%."
   ]
  },
  {
   "cell_type": "code",
   "execution_count": 40,
   "metadata": {
    "scrolled": true
   },
   "outputs": [
    {
     "name": "stdout",
     "output_type": "stream",
     "text": [
      "[0.90909091 0.90909091 0.90909091 0.95454545 0.81818182 0.81818182\n",
      " 0.95454545 0.95238095 1.         0.9047619 ]\n",
      "0.9129870129870131\n"
     ]
    }
   ],
   "source": [
    "# use knn\n",
    "\n",
    "knn_pipeline = Pipeline([('tfidf', TfidfVectorizer(decode_error ='ignore', stop_words='english')), ('clf', KNeighborsClassifier())])\n",
    "knn_pipeline = knn_pipeline.fit(sms_data, sms_labels)\n",
    "\n",
    "scores = cross_val_score(knn_pipeline, sms_data, sms_labels, scoring='accuracy', cv=10)\n",
    "print(scores)\n",
    "print(scores.mean())\n",
    "\n"
   ]
  },
  {
   "cell_type": "code",
   "execution_count": 41,
   "metadata": {},
   "outputs": [
    {
     "name": "stdout",
     "output_type": "stream",
     "text": [
      "[1.         1.         1.         0.95454545 0.81818182 0.86363636\n",
      " 1.         1.         1.         1.        ]\n",
      "0.9636363636363636\n",
      "this processing has taken 0.5516307000000324\n"
     ]
    }
   ],
   "source": [
    "import timeit\n",
    "start_time = timeit.default_timer()\n",
    "\n",
    "svm_pipeline = Pipeline([('tfidf', TfidfVectorizer(decode_error ='ignore', stop_words='english', ngram_range=(1, 2))), ('clf', SVC(kernel='linear', probability=True))])\n",
    "svm_pipeline = svm_pipeline.fit(sms_data, sms_labels)\n",
    "\n",
    "scores = cross_val_score(svm_pipeline, sms_data, sms_labels, scoring='accuracy', cv=10)\n",
    "print(scores)\n",
    "print(scores.mean())\n",
    "\n",
    "elapsed = timeit.default_timer() - start_time\n",
    "print(\"%s %s\" % (\"this processing has taken\", elapsed))"
   ]
  },
  {
   "cell_type": "code",
   "execution_count": 42,
   "metadata": {},
   "outputs": [
    {
     "data": {
      "text/plain": [
       "0.06363636363636363"
      ]
     },
     "execution_count": 42,
     "metadata": {},
     "output_type": "execute_result"
    }
   ],
   "source": [
    "scores.std()"
   ]
  },
  {
   "cell_type": "markdown",
   "metadata": {},
   "source": [
    "The result is: 0.0409 which is 4.09%. This is extremely low, which means that our model has a very low variance, which is actually very good since that means that the prediction that we obtained on one test set is not by chance. Rather, the model will perform more or less similar on all test sets."
   ]
  },
  {
   "cell_type": "markdown",
   "metadata": {},
   "source": [
    "This process has taken 72 seconds in my machine. "
   ]
  },
  {
   "cell_type": "markdown",
   "metadata": {},
   "source": [
    "##  Grid Search \n"
   ]
  },
  {
   "cell_type": "code",
   "execution_count": 43,
   "metadata": {},
   "outputs": [],
   "source": [
    "nb_pipeline = Pipeline([('tfidf', TfidfVectorizer(decode_error ='ignore', stop_words='english')), ('clf', MultinomialNB())])"
   ]
  },
  {
   "cell_type": "code",
   "execution_count": 44,
   "metadata": {},
   "outputs": [],
   "source": [
    "parameters = {'tfidf__ngram_range': [(1, 1), (1, 2), (1, 3)],\n",
    "              'tfidf__min_df': [1, 2, 5],\n",
    "              'tfidf__max_df': [0.9, 0.8, 0.7],\n",
    "              'clf__alpha': (0.01, 0.001, 1),\n",
    "}"
   ]
  },
  {
   "cell_type": "code",
   "execution_count": 45,
   "metadata": {},
   "outputs": [
    {
     "data": {
      "text/plain": [
       "GridSearchCV(cv=None, error_score=nan,\n",
       "             estimator=Pipeline(memory=None,\n",
       "                                steps=[('tfidf',\n",
       "                                        TfidfVectorizer(analyzer='word',\n",
       "                                                        binary=False,\n",
       "                                                        decode_error='ignore',\n",
       "                                                        dtype=<class 'numpy.float64'>,\n",
       "                                                        encoding='utf-8',\n",
       "                                                        input='content',\n",
       "                                                        lowercase=True,\n",
       "                                                        max_df=1.0,\n",
       "                                                        max_features=None,\n",
       "                                                        min_df=1,\n",
       "                                                        ngram_range=(1, 1),\n",
       "                                                        norm='l2',\n",
       "                                                        preprocessor=None,\n",
       "                                                        smooth_idf=True,\n",
       "                                                        stop_words='english',\n",
       "                                                        s...\n",
       "                                                        use_idf=True,\n",
       "                                                        vocabulary=None)),\n",
       "                                       ('clf',\n",
       "                                        MultinomialNB(alpha=1.0,\n",
       "                                                      class_prior=None,\n",
       "                                                      fit_prior=True))],\n",
       "                                verbose=False),\n",
       "             iid='deprecated', n_jobs=None,\n",
       "             param_grid={'clf__alpha': (0.01, 0.001, 1),\n",
       "                         'tfidf__max_df': [0.9, 0.8, 0.7],\n",
       "                         'tfidf__min_df': [1, 2, 5],\n",
       "                         'tfidf__ngram_range': [(1, 1), (1, 2), (1, 3)]},\n",
       "             pre_dispatch='2*n_jobs', refit=True, return_train_score=False,\n",
       "             scoring=None, verbose=0)"
      ]
     },
     "execution_count": 45,
     "metadata": {},
     "output_type": "execute_result"
    }
   ],
   "source": [
    "\n",
    "gs_clf = GridSearchCV(nb_pipeline, parameters)\n",
    "gs_clf.fit(x_train, y_train)"
   ]
  },
  {
   "cell_type": "code",
   "execution_count": 48,
   "metadata": {},
   "outputs": [
    {
     "data": {
      "text/plain": [
       "0.9541935483870969"
      ]
     },
     "execution_count": 48,
     "metadata": {},
     "output_type": "execute_result"
    }
   ],
   "source": [
    "gs_clf.best_score_"
   ]
  },
  {
   "cell_type": "code",
   "execution_count": 49,
   "metadata": {},
   "outputs": [
    {
     "name": "stdout",
     "output_type": "stream",
     "text": [
      "clf__alpha: 0.01\n",
      "tfidf__max_df: 0.9\n",
      "tfidf__min_df: 1\n",
      "tfidf__ngram_range: (1, 1)\n"
     ]
    }
   ],
   "source": [
    "for param_name in sorted(parameters.keys()):\n",
    "    print((\"%s: %r\" % (param_name, gs_clf.best_params_[param_name])))"
   ]
  },
  {
   "cell_type": "markdown",
   "metadata": {},
   "source": [
    "Now, we can use the best model recommended by gridsearch."
   ]
  },
  {
   "cell_type": "code",
   "execution_count": 50,
   "metadata": {},
   "outputs": [
    {
     "data": {
      "text/plain": [
       "0.9696969696969697"
      ]
     },
     "execution_count": 50,
     "metadata": {},
     "output_type": "execute_result"
    }
   ],
   "source": [
    "# split validation\n",
    "\n",
    "nb_pipeline = Pipeline([('tfidf', TfidfVectorizer(decode_error='ignore', stop_words='english', min_df=1, \n",
    "                                                  ngram_range=(1,2), max_df=0.9)), \n",
    "                        ('clf', MultinomialNB(alpha=0.01))])\n",
    "nb_pipeline = nb_pipeline.fit(x_train, y_train)\n",
    "predicted = nb_pipeline.predict(x_test)\n",
    "np.mean(predicted == y_test)"
   ]
  },
  {
   "cell_type": "markdown",
   "metadata": {},
   "source": [
    "The last and final step of Grid Search algorithm is to find the accuracy obtained using the best parameters. Previously i had a mean accuracy of 98.59% "
   ]
  },
  {
   "cell_type": "markdown",
   "metadata": {},
   "source": [
    "## scikit-learn classifier (Naive Bayes) "
   ]
  },
  {
   "cell_type": "code",
   "execution_count": 51,
   "metadata": {},
   "outputs": [],
   "source": [
    "# since we know the parameters for the best NB model, let's initialize TfidfVectorizer again\n",
    "\n",
    "tfidf_vectorizer = TfidfVectorizer(decode_error='ignore', stop_words='english', min_df=1, ngram_range=(1,2), max_df=0.9)"
   ]
  },
  {
   "cell_type": "code",
   "execution_count": 52,
   "metadata": {},
   "outputs": [
    {
     "data": {
      "text/plain": [
       "(151, 151, 66, 66)"
      ]
     },
     "execution_count": 52,
     "metadata": {},
     "output_type": "execute_result"
    }
   ],
   "source": [
    "# split validation again\n",
    "\n",
    "x_train, x_test, y_train, y_test = train_test_split(sms_data, sms_labels, test_size=0.3, random_state=0)\n",
    "len(x_train), len(y_train), len(x_test), len(y_test)"
   ]
  },
  {
   "cell_type": "code",
   "execution_count": 53,
   "metadata": {},
   "outputs": [],
   "source": [
    "# transform traing data and testing data to tfidf format \n",
    "\n",
    "X_train = tfidf_vectorizer.fit_transform(x_train)\n",
    "X_test = tfidf_vectorizer.transform(x_test)"
   ]
  },
  {
   "cell_type": "code",
   "execution_count": 54,
   "metadata": {},
   "outputs": [
    {
     "name": "stdout",
     "output_type": "stream",
     "text": [
      "(151, 1886)\n",
      "(66, 1886)\n"
     ]
    }
   ],
   "source": [
    "# now we have more vectors due to bi-grams\n",
    "print(X_train.shape)\n",
    "print(X_test.shape)"
   ]
  },
  {
   "cell_type": "code",
   "execution_count": 55,
   "metadata": {},
   "outputs": [
    {
     "name": "stdout",
     "output_type": "stream",
     "text": [
      "['077', '077 666', '100', '100 gender', '100k']\n",
      "['year strategy', 'yes', 'yes things', 'younger', 'younger workers']\n"
     ]
    }
   ],
   "source": [
    "print(tfidf_vectorizer.get_feature_names()[0:5])\n",
    "print(tfidf_vectorizer.get_feature_names()[-5:])"
   ]
  },
  {
   "cell_type": "code",
   "execution_count": 56,
   "metadata": {},
   "outputs": [
    {
     "data": {
      "text/plain": [
       "0.9696969696969697"
      ]
     },
     "execution_count": 56,
     "metadata": {},
     "output_type": "execute_result"
    }
   ],
   "source": [
    "nb = MultinomialNB().fit(X_train, y_train)\n",
    "\n",
    "predicted = nb.predict(X_test)\n",
    "np.mean(predicted == y_test)"
   ]
  },
  {
   "cell_type": "code",
   "execution_count": 57,
   "metadata": {},
   "outputs": [
    {
     "data": {
      "image/png": "[encoded data removed]",
      "text/plain": [
       "<Figure size 432x288 with 1 Axes>"
      ]
     },
     "metadata": {
      "needs_background": "light"
     },
     "output_type": "display_data"
    }
   ],
   "source": [
    "probas = nb.predict_proba(X_test)\n",
    "skplt.metrics.plot_roc(y_true=y_test, y_probas=probas)\n",
    "plt.show()"
   ]
  },
  {
   "cell_type": "code",
   "execution_count": 59,
   "metadata": {},
   "outputs": [
    {
     "name": "stdout",
     "output_type": "stream",
     "text": [
      "('0', -7.689104593737298, '077')\n",
      "('0', -7.689104593737298, '077 666')\n",
      "('0', -7.689104593737298, '120')\n",
      "('0', -7.689104593737298, '120 minutes')\n",
      "('0', -7.689104593737298, '170')\n",
      "('0', -7.689104593737298, '170 minutes')\n",
      "('0', -7.689104593737298, '342')\n",
      "('0', -7.689104593737298, '342 077')\n",
      "('0', -7.689104593737298, '43')\n",
      "('0', -7.689104593737298, '43 miles')\n",
      "=========================================\n",
      "('1', -6.395168681257706, 'coronavirus')\n",
      "('1', -6.527998289826769, 'remote')\n",
      "('1', -6.550671876578896, 'workers')\n",
      "('1', -6.563551407510135, 'says')\n",
      "('1', -6.694746359103001, 'pay')\n",
      "('1', -6.721870338491834, 'cir')\n",
      "('1', -6.723376728086348, 'work')\n",
      "('1', -6.738521127155324, 'gm')\n",
      "('1', -6.7623563976730185, 'remote work')\n",
      "('1', -6.767056321012385, 'employers')\n"
     ]
    }
   ],
   "source": [
    "#https://stackoverflow.com/questions/26976362/how-to-get-most-informative-features-for-scikit-learn-classifier-for-different-c\n",
    "\n",
    "def most_informative_feature_for_binanry_classification(vectorizer, classifier, n=50):\n",
    "    \n",
    "    class_labels = classifier.classes_\n",
    "    feature_names = vectorizer.get_feature_names()\n",
    "    topn_class1 = sorted(zip(classifier.coef_[0], feature_names))[:n]\n",
    "    topn_class2 = sorted(zip(classifier.coef_[0], feature_names))[-n:]\n",
    "\n",
    "    for coef, feat in topn_class1:\n",
    "        print((class_labels[0], coef, feat))\n",
    "\n",
    "    print(\"=========================================\")\n",
    "\n",
    "    for coef, feat in reversed(topn_class2):\n",
    "        print((class_labels[1], coef, feat))\n",
    "\n",
    "\n",
    "most_informative_feature_for_binanry_classification(tfidf_vectorizer, nb, n=10)"
   ]
  },
  {
   "cell_type": "markdown",
   "metadata": {},
   "source": [
    "It appears **HR** reviews tend to contain such terms as **workers, hire, paid leave, employe, ... **"
   ]
  },
  {
   "cell_type": "markdown",
   "metadata": {},
   "source": [
    "- Explain about your best model (e.g., algorithm, parameters)\n",
    "Split the dataset by using the function train_test_split(). you need to pass 3 parameters features, target, and test_set size. Additionally, you can use random_state to select records randomly.\n",
    "Generating Model\n",
    "Let's build support vector machine model. First, import the SVM module and create support vector classifier object by passing argument kernel as the linear kernel in SVC() function.\n",
    "Then, fit your model on train set using fit() and perform prediction on the test set using predict().\n",
    "Evaluating the Model\n",
    "Let's estimate how accurately the classifier or model can predict the negative or positive reviews.\n",
    "Well, you got a classification rate of 99.7%, considered as very good accuracy.\n",
    "Advantages\n",
    "SVM Classifiers offer good accuracy and perform faster prediction compared to Naïve Bayes algorithm. They also use less memory because they use a subset of training points in the decision phase. \n",
    "Disadvantages\n",
    "SVM is not suitable for large datasets because of its high training time and it also takes more time in training compared to Naïve Bayes. It works poorly with overlapping classes and is also sensitive to the type of kernel used."
   ]
  },
  {
   "cell_type": "markdown",
   "metadata": {},
   "source": [
    "## Fourth, applying your best model to a new (unlabeled) dataset:small dataset (10 to 20 news articles) containing texts only (without labels):"
   ]
  },
  {
   "cell_type": "markdown",
   "metadata": {},
   "source": [
    "load dataset"
   ]
  },
  {
   "cell_type": "code",
   "execution_count": 60,
   "metadata": {},
   "outputs": [],
   "source": [
    "# first column\n",
    "docs_new = []\n",
    "openfile = open('..//TextClassification/soumana.csv', 'r')\n",
    "r = csv.reader(openfile)\n",
    "for i in r: \n",
    "    docs_new.append(i[0])\n",
    "openfile.close()"
   ]
  },
  {
   "cell_type": "code",
   "execution_count": 61,
   "metadata": {},
   "outputs": [
    {
     "data": {
      "text/plain": [
       "['ï»¿\"CVS eyes virtual interviews',\n",
       " 'EEOC: Manufacturer violated ADA in firing worker returning from hospitalization',\n",
       " 'Employees confident they can do their jobs effectively from home during COVID-19 pandemic',\n",
       " 'Court revives coachs suit, citing need to consider the overall likelihood of discrimination',\n",
       " 'From manufacturing to HR: One womans journey through Honda',\n",
       " 'NLRB suspends representation elections due to coronavirus',\n",
       " 'Free trainings, resources aim to ease the transition to remote work',\n",
       " '5 things to know about the new coronavirus paid leave law',\n",
       " 'Soft skills training is a priority, but lack of time and resources stands in the way',\n",
       " 'Metals company settles EEOC claim it refused to hire workers over 40',\n",
       " 'DOL to observe 30-day temporary non-enforcement of coronavirus paid leave law',\n",
       " 'McDonalds names new chief people officer',\n",
       " 'Employers can screen workers, applicants for fevers, EEOC says',\n",
       " 'Collaborative apps boost remote work productivity but cause distractions',\n",
       " \"screen story by kevin yagher and andrew kevin walker . screenplay by andrew kevin walker . inspired by the short story the legend of sleepy hollow by washington irving . directed by tim burton . starring johnny depp , christina ricci , and casper van dien . special appearances by christopher lee and christopher walken . synopsis : investigator ichabod crane journeys to 1799 sleepy hollow to investigate a series of murders involving decapitation . townspeople believe the spirit of a dead german mercenary is threatening them . cute blonde katrina and a listless orphan help crane solve the mystery . comments : tim burton has directed a number of entertaining and groundbreaking films over the years . batman , of course , is perhaps his best-known film and led to a string of less successful sequels . he's done biographical work ( on the director ed wood ) , children's movies ( nightmare before christmas ) , and a homage to alien invasion movies ( mars attacks ! ) . sleepy hollow , his newest feature which fans have been anticipating for a while , shares the similar dark and atmospheric style of his earlier work and counts among his better movies . sleepy hollow quite obviously draws its inspiration from the old period horror films of the 1950s and 1960s , especially hammer studios' reworkings of dracula and frankenstein , and american international's series of movies based on the works of edgar allan poe . christopher lee , in fact , star of many hammer productions over the years , appears at the beginning of sleepy hollow as a judge who sends ichabod crane out to investigate the murders . the movie also borrows from the universal monster movies of the 1930s . one of the climatic scenes involves a windmill and obviously takes its cue from frankenstein . i mention these allusions for a reason . seasoned horror film fans , including myself , will smile at their inclusion in this film . with the recent disappointments in theatrically released horror movies , especially the blair witch project ( the most overblown turkey of the decade ) , we needed a film like this . not only does it have a sense of history , but burton's skillful use of setting and mood make this an entertaining exercise in horror . the film's eerie landscapes and foggy towns , indeed , overshadow the actors and the plot as the most noteworthy aspect of the movie . johnny depp , a veteran tim burton actor who has appeared both in ed wood and edward scissorhands , plays ichabod crane , who has apparently changed occupations from irving's original story and is now an investigator . depp is adequate in his role . no more ; no less . equally adequate is christina ricci , who plays the love interest in the film . she's a good witch too . how cute . one of the few weak parts of sleepy hollow is the wooden and cliched dialogue between the main characters . the two actors , however , carry the movie well enough , but the supporting cast is what makes this movie shine . veteran actors such as jeffrey jones and michael gough ( who played the butler alfred in all four recent batman flicks ) are terrific as the aging townsfolk involved in the conspiracy which depp uncovers . while i do not wish to reveal crucial plot points , i can say that the storyline becomes quite confusing . you have to pay attention . andrew kevin walker wrote the screenplay . he's the one who also wrote 8 mm and seven . walker is quickly becoming one of the premiere suspense writers in hollywood , and sleepy hollow certainly doesn't hurt his growing reputation . as one might imagine from a gentleman like walker , sleepy hollow is quite graphic . there's a lot of blood and a lot of beheadings . this is definately not a flick to take the young kids to . a lady in front of us took her two young sons to see it and spent about 25 - 30 minutes covering the youngest's eyes with her hand . he was obviously upset by the movie's intense violence . if you're looking for a good scare , however , sleepy hollow is definately recommended .,0\",\n",
       " 'mpaa : not rated ( though i feel it would likely be pg , for martial-arts violence . ) with three movies already ( re ) released theatrically in america , and at least three more on their way , jackie chan is one of the newest \" hot properties \" in action adventure stardom , and it\\'s just about time . for over twenty-five years , jackie\\'s been starring in martial arts and action movies in hong kong , thrilling audiences with both an incredible grasp of acrobatics and martial arts and a wonderful sense of comedy . \" drunken master \" has the distinction of being the first jackie chan movie to \" make it big \" --this is the movie that supposedly set jackie up for big stardom in hong kong . i\\'m not entirely sure why , exactly . in many ways , \" drunken master \" is similar to most of jackie\\'s other early films , such as \" fearless hyena \" i and ii , \" master with cracked fingers \" , \" half a loaf of kung fu \" , \" spiritual kung fu \" , and others . in fact , looking at all these early films together , one gets the impression that they were stamped out , cookie-cutter style , at a rate of four to six per year , all using the same casts and telling very similar stories . to be honest , i think that early jackie chan movies are something of an acquired taste . they\\'re quite different from action movies as we know them in america . these films tend to be set in the chinese countryside in an indeterminate period sometime in the distant past , with fairly slow plots that often meander far afield and sometimes seem to exist only for the intention of stringing comedy and fight scenes together . \" drunken master \" , though its plot is tighter than some , is no exception . ( as an aside , \" drunken master \" was the first jackie chan movie i ever saw , and i saw it the way it was meant to be seen . . . in a movie theater in seattle , as part of an asian film festival . at the time , i didn\\'t really think it was anything special . . . but after having seen more films like it , it\\'s kind of grown on me . ) \" drunken master \" \\'s storyline is very similar to that of other early jackie chan movies , such as \" fearless hyena \" i and ii and \" master with cracked fingers \" --slacker martial arts student is taught the martial arts by a harsh-seeming master , and has a big fight with an evil bad guy in the end ( a formula that has been \" adapted , \" to put it kindly , by american films such as karate kid ) . more specifically , jackie chan plays the part of wong fei-hong , aka \" naughty panther , \" a fun-loving , practical-joking kung fu student who is too good at kung fu for his own good , but not _quite_ good enough . after embarrassing his instructor\\'s assistant by beating him roundly , then beating up a bully in a marketplace , wong fei-hong tries to hit on a pretty girl , but discovers that she , and her mother , can hit back , better than he can . . . and is further chagrinned to discover that the two women are his cousin and aunt , respectively . his father , wong kei-ying , is unhappy about this , and is further annoyed when the father and brother of the bully show up to sue for damages . kei-ying soon institutes a harsh regimen of punishment , which fei-hong does not like at all . while escaping from this punishment , fei-hong meets up with a drunken old man , who proceeds to thrash him soundly , then take him on as a student and thrash him some more . this turns out to be su hua-chi , a legendary master of drunken-style kung fu . he assigns fei-hong a series of bizarre tasks , such as filling jugs with water while hanging upside down from a frame , cracking walnuts with his hands , and other such exercises , that seem like more pointless cruelty but are actually strengthening him up . then , when he\\'s ready , he teaches him the seven styles of drunken kung fu . unfortunately , the lazy fei-hong only practices six of them . . . \" drunken master \" features some wonderful martial arts sequences , with jackie winning some fights and losing others . it\\'s been said before , but i\\'ll say it again--these fights don\\'t just _happen_ , they\\'re as carefully choreographed as any ballet performance , and it shows . in his fights , jackie often makes use of objects found in his environment-- benches , jugs , cups , bowls , fruits and vegetables--often in new and surprising ways . the fight scenes , particularly those toward the end of the film , are unparallelled in most american films . whether jackie wins or loses , it\\'s really something to see . . . and it\\'s often as funny as anything , too . and funny is the other thing jackie chan is very , very good at . there\\'s very little that\\'s new in this movie--jackie winning fights , jackie getting beaten badly by a master , jackie going through punishment or training . . . these schticks have all been seen before , in any one of several dozen similar jackie movies from the seventies and early eighties . but they\\'re still hilarious as ever . likewise , jackie has a _great_ supporting cast , many of whom were also in other early jackie films , and they\\'re often the source of plenty of hilarity on their own . the really big thing about \" drunken master \" , though , that inspired several copycats ( including a couple starring jackie himself ) and a sequel fifteen years later , was the drunken-style kung fu . i\\'m not certain whether or not this is actually a genuine style of kung fu , but the principle behind it is to imitate the wobbly movements of a drunkard to lull the enemy into a false sense of security . . . and it apparently helps if you\\'re drunk while you\\'re doing it . genuine or not , i have to admit , there\\'s just something incredibly fun about watching a fellow who looks utterly sloshed wading into a group of startled opponents and making mincemeat out of them before they even realize what\\'s going on . come to think of it , perhaps this element is what accounts for this film\\'s success over any of the other jackie films . . . it\\'s not just martial arts , it\\'s the kind of martial arts that makes you stop and go , \" whoa . . . \" on the negative side , the cinematography in this film is nothing special , the film stock is rather primitive , the plot is often rather slow , and the subtitles are sometimes extremely hard to read against the background . \" gone with the wind \" , this isn\\'t . still , if you like martial arts films , or like what you\\'ve seen so far of jackie chan and want to see more , give it a shot . it\\'s much more \" real \" than chuck norris or jean-claude van damme . you might very well like it . another interesting thing about \" drunken master \" has to do with its video availability in the us . \" drunken master \" is the only early jackie chan movie that i know of that you can find in its original , letterboxed , hong kong subtitled form , commercially available on vhs ( from magnum video , in a gold box , for about $10 ) . there are plenty of other early jackie films around , but these are typically either in dubbed , pan-and-scanned form or else import tapes priced for rental instead of purchase . thankfully , \" drunken master \" , at least , is available in the aspect ratio in which it was meant to be seen , at a very affordable price . if you like \" drunken master \" , take a look at the numerous other early jackie chan films that are out there ( even the dubbed ones aren\\'t really _too_ bad . . . if nothing else , you can enjoy the martial arts choreography while making fun of the dialogue ) . i particularly recommend \" spiritual kung fu \" , \" half a loaf of kung fu \" , the \" fearless hyena \" movies , and \" snake & crane arts of shaolin \" . also , the mostly-unrelated-storywise sequel , \" drunken master ii \" , will hit theaters in american release sometime later this year ( though what its american-release title will be is still uncertain ) and comes _highly_ recommended by this reviewer . also , for a rather different interpretation of the character wong fei-hong ( who is in fact a popular figure from chinese folklore ) , i\\'ve been told to suggest the \" once upon a time in china \" series starring jet li ( though i haven\\'t personally seen any of them yet ) . if you choose to watch \" drunken master \" , i really hope you enjoy it , and i hope it starts to open your eyes to the wonderful world of asian cinema that\\'s out there . all in all , i give this film an .,0',\n",
       " \"well , i know that stallone is 50 years old now , but in daylight he doesn't look it ! daylight is a great disaster movie . if you've seen cliffhanger , you'll know stallone's character already . a guy with a bad past , but is in the right place at the wrong time . a tunnel connecting new york and new jersey has both sides collapses when a group of robbers collide with a truck carrying * very * flammable toxic waste . a dozen or so people survive the collapses and the incinerating fireball ( and what a fire ball it was ! ) stallone , a former emergency medical service man , is chauffeuring a rich couple around , when they reach the outside of the tunnel , before the explosion . then , 30 minutes into the movie , boom ! >from here on , the plot takes a back seat , and we are treated to some of the best camera work and action staged . most all the action is plausible and will hold you at the edge of your seat . there are a few melodramatic parts here , but , they tend to work out well . there is no general antagonist in this film , but the action and suspense makes you forget all about that . daylight is a great film , i saw a non-matinee showing of it , and i thought it was worth every penny . the characterizations are mostly flat , one dimesional , but they have enough in them to get you to care for some of the characters . rob cohen ( dragonheart ) does a great job with this film .,0\",\n",
       " 'logical time travel movies are a near-impossibility . considering that the skeptic\\'s best argument against the possibility of time travel is the idea of altered realities , writing a script that deals with this problem is an imposing task . occasionally , we get a film that does manage it . terry gilliam\\'s \" 12 monkeys \" was one such film . but more frequently , we get films that don\\'t much deal with it at all . there is one question to ask in this case : does the film have other virtues that override the existing logical inconsistencies ? the \" terminator \" films made up for them with exciting action , \" back to the future \" did it with an entertaining story , and the new film \" frequency \" pulls off the trick with a strong package of its own . is \" frequency \" filled with plot holes ? yes . does it matter ? not really . the film opens in october of 1969 . firefighter frank sullivan ( dennis quaid ) puts his life on the line every time he suits up for his job , then goes home to his loving wife julia ( elizabeth mitchell ) and son johnny ( daniel henson ) . the double-pronged story flashes forward to 1999 , where johnny ( now jim caviezel ) is all grown up and working as a police detective . a strange occurrence -- the appearance of aurora borealis over new york city -- allows father and son to communicate through the same ham radio frank used in \\'69 and that john has found in the present day . though both are initially skeptical of the idea , john eventually takes this opportunity to warn his father against his impending death in a warehouse fire , and he succeeds in saving frank from certain doom . now flooded with memories of a full life with his father alive , john is initially overjoyed , until he discovers that the changes to the timeline have been disastrous : a serial killer that would have died has instead lived to kill seven more women . frank and john now must work together to set things right , with john using the information he has gathered in the future to instruct frank on what to do in the past . the premise of \" frequency \" is unusual , and requires getting over one very important mental hurdle to fully accept : john and frank are the only ones conscious of how the timeline has been changed as a result of their actions . this isn\\'t explained ; you just have to go with it . when frank doesn\\'t die in a fire , john is the only one who remembers it differently , while everyone else remembers it the new way . the concept also runs into problems concerning just how synchronous the two realities -- 1969 and 1999 -- are to each other . sometimes frank\\'s changing the past results in something happening right away in john\\'s world , and sometimes john gets the changes ahead of time . now , the filmmakers might have perfectly good explanations for this , and i could probably come up with something fairly convoluted ( but nevertheless logical ) if i thought about it hard enough ( for example , the reason john gets advance information of the serial killer\\'s murders was because the change had already happened in frank\\'s world , and john is only witnessing the * projection * of that change ) , but explanations aren\\'t really the point . when \" frequency \" gets cooking , it\\'s a riveting little thriller , even if it is confusing . what matters to a film like this is if the plot makes sense in the moment , and \" frequency \" works as long as it keeps moving . the film manages to be engaging despite the logical confusion . director gregory hoblit and screenwriter toby emmerich structure \" frequency \" as good hollywood entertainment , establishing decent , likable characters , making us care for them , and setting up a goal to be reached and a conflict to be resolved . i liked many of the creative touches : the split screens , allowing us to see how the universe is being affected in both realities , and the greater framework of baseball to drive the action forward . it actually uses the 1969 mets-orioles world series ( the one that featured the amazin\\' mets ) to great effect -- frank uses john\\'s advance knowledge of the series outcome to convince his friends to believe him . ( admittedly , this device may only be of interest to a baseball fan like myself . ) i even liked the final scene , which features frank and john both fighting the same man simultaneously in different time periods . some may find this scene blindingly confusing , as the reality shifts start coming fast and furious , but it does make sense if you think about it ( and give the script a lot of leeway ) , and let\\'s face it : it\\'s a darn cool way to end the film . there are enough surprises and plot twists in \" frequency \" to keep you on your toes , and as a result the movie avoids growing stagnant . the other major thing to appreciate about \" frequency \" is the handling of the father-son relationship . quaid and caviezel carry off their parts easily ; it\\'s a rock-solid job from both actors . the relationship is instantly credible because they find the human truth behind the high concept : how would one react to being able to communicate with a dead relative , or with a future descendant ? watching the exchanges between frank and john will give you a pretty good idea of how to answer that question . the credibility of the human relationship is absolutely crucial to the rest of the film ; if we don\\'t believe in the characters , we don\\'t care about the outcome of the thriller plot . here , we do care , because we like the lead actors . i also liked some of the supporting cast members . elizabeth mitchell gets stuck with two thankless roles , playing julia the doting wife * and * mother , but still performs admirably . andre braugher , late of the television show \" homicide : life on the street , \" gives a nice supporting turn as frank\\'s best friend and future colleague of john . he has a lovely scene in a diner in which he tries to explain the situation to julia while frank\\'s world series predictions come true before his very eyes . braugher strikes the perfect facial expression here , simultaneously dismayed and amused . perhaps the only thing i didn\\'t like about \" frequency \" is the overly sentimental coda , during which the camera\\'s focus goes a little too soft and the baseball theme gets carried overboard . but that\\'s only because the film had already earned a poignancy without resorting to cheap tactics . i freely acknowledge that \" frequency \" may best work as a \" guy \" movie , since it focuses on the very male-oriented idea of father-son relationships ( echoes of \" field of dreams \" can be easily heard ) , but the underlying concept is universally applicable . who wouldn\\'t want to speak with a long-dead parent ? or see how their children turn out ? \" tell me about your life , son \" -- excuse me while i mist up . and don\\'t call me a sissy .,0',\n",
       " \"blade is the movie that shows that wesley snipes really can live up to his potential as one of hollywood's premier leading men . blade is based on the comic book character of the same name and has that comic book kind of feel to it . it is a very stylish movie and for the most part that style works very well . although , at a few points i thought i was watching a music video as opposed to a movie . the ideas behind blade are good , as is the basic plot of the story . but at times , things seem to get a bit muddled , and the writers appear to want to do too many things at once . that really doesn't take away from the story too much , but it does hurt it a little bit . blade ( snipes ) is half man , half vampire . his mother was bitten by a vampire when she was pregnant with him and as a result he has many of the classic traits of a vampire . including a thirst for human blood that must be kept under control by a special serum which quenches his blood lust . blade has spent his life hunting down and killing vampires as a sort of revenge for the fact that one of their kind killed his mother . but this isn't as easy as it seems , because the vampires in blade's world are more sophisticated than the ones that you find in most films . the government and other authorities know of the existence of vampires , but they let them feast of the population at large because they are taking bribes from the vampires . where do vampires get money ? well , in blade , they run multinational companies in order to finance their vampire organizations . i personally thought that this whole secret corporate world run by vampires to be a very clever idea , and a great addition to the movie . blade runs up against the evil deacon frost ( stephen dorff ) a maverick in the vampire community . he isn't content to live among humans , and is convinced that the vampire race is the superior one and he means to insure its superiority . he has managed to translate the ancient vampire scrolls that tell of the method of making him an all-powerful vampire -- rendering him virtually unstoppable . it's up to blade to see that this doesn't transpire . admittedly , blade is style over substance through and through . the story is a relatively forgettable one , but it is fun none the less . the acting in blade is just about what you would expect from a movie of this type . this isn't a film that is going to win accolades for its performances , and the actors know this . the movie is played for fun and nobody seems to think otherwise . it's a popcorn movie , and no one involved has any illusions otherwise . blade's production values are as slick as any that you will find in your typical summer blockbuster . the combat sequences between blade and his vampire targets are incredibly well done . although , the mtv-style cuts did get on my nerves after a while during long sequences . blade is a fun movie with an interesting take on the vampire genre . this is not the movie for those of you who like your vampires in tuxedos and living in coffins in the basement of some gothic castle . what blade excels at is bringing the classic lore of the vampire into the next century with a fresh outlook on life . very cool .,0\",\n",
       " 'the truman show ( paramount pictures ) running time : 1 hour 42 minutes starring jim carrey and ed harris directed by peter weir after a long wait , jim carrey\\'s dramatic debut finally makes it to the big screen . in case you\\'ve been asleep for the last few months , the plot centres on truman burbank ( carrey ) who leads an seemingly idyllic life in the beautiful town of seahaven . his life seems so perfect , however , because it\\'s controlled by christoff ( harris ) creator of the truman show , the program burbank is unwittingly the hero of . that\\'s right , burbank\\'s life is being broadcast live to the american public , and seahaven and all it\\'s inhabitants are inclosed in a massive sound stage . the film takes the jerry springer format one step too far . . . with an idea so different , it would be easy for the director and screenwriter to dumb it down and appeal to the lowest common denominator . luckily , the film remains sensible enough to appeal to all ages , yet never seems to be a dumb carrey movie . talking of carrey , he\\'s perfect in this movie , enjoying the best role in his career . his character is a re-inforced stanley ipkiss from the mask ( 1994 ) and is completely suited to carrey\\'s persona . he occasionally falls into ace ventura mode , shrieking and being silly , but generally the audience is watching subdued carrey . he\\'s not completely dramatic like the film promises , however . ed harris brings an extreme intensity to christoff , the megalomaniac creator of the show . quiet and well spoken , he burns an image into the viewer . unfortunately , he\\'s barely in the film , and for the first hour dosen\\'t appear at all ! also disappointing is natascha mcelhone\\'s character sylvia . she plays the role well , but her character is sadly underwritten and is pushed to the sidelines just when the audience is used to her . the supporting cast is excellent , and the town of seahaven looks delightfully perfect , so perfect it\\'s creepy . the philip glass soundtrack is also superb , and is used to great effect during the film . peter weir keeps the film going , clearly having fun . the film is far more upbeat than his previous films dead poets society and green card . although it is slightly slow to begin with , about half an hour into film the pace really picks up , and when christoff is introduced fully the film is on a roll . sadly , though , the film is practically over when the film is in full steam . also , concerning the ending , it is slightly too ambiguous , which was disappointing . the screenwriter , andrew niccol , who bought us gattaca ( 1997 ) delivers an entertaining script , and manages to keep the plot in trim . while christoff\\'s plans to keep truman in do get increasingly silly , they never go over the line , which would have been easy for niccol to do . also , there\\'s some funny gags involving product placement and the people who watch the show . overall , the truman show is excellent entertainment . certainly different from the usual crap hollywood produces , it should be viewed by everyone . it offers something to every member of the audience , and you would almost certainly not come out disappointed . overall rating= review by david wilcock ? 1998 \" you know , for kids \" - norville barnes,0']"
      ]
     },
     "execution_count": 61,
     "metadata": {},
     "output_type": "execute_result"
    }
   ],
   "source": [
    "docs_new"
   ]
  },
  {
   "cell_type": "code",
   "execution_count": 62,
   "metadata": {},
   "outputs": [
    {
     "name": "stdout",
     "output_type": "stream",
     "text": [
      "'ï»¿\"CVS eyes virtual interviews' => 0\n",
      "'EEOC: Manufacturer violated ADA in firing worker returning from hospitalization' => 1\n",
      "'Employees confident they can do their jobs effectively from home during COVID-19 pandemic' => 1\n",
      "'Court revives coachs suit, citing need to consider the overall likelihood of discrimination' => 1\n",
      "'From manufacturing to HR: One womans journey through Honda' => 1\n",
      "'NLRB suspends representation elections due to coronavirus' => 1\n",
      "'Free trainings, resources aim to ease the transition to remote work' => 1\n",
      "'5 things to know about the new coronavirus paid leave law' => 1\n",
      "'Soft skills training is a priority, but lack of time and resources stands in the way' => 1\n",
      "'Metals company settles EEOC claim it refused to hire workers over 40' => 1\n",
      "'DOL to observe 30-day temporary non-enforcement of coronavirus paid leave law' => 1\n",
      "'McDonalds names new chief people officer' => 1\n",
      "'Employers can screen workers, applicants for fevers, EEOC says' => 1\n",
      "'Collaborative apps boost remote work productivity but cause distractions' => 1\n",
      "\"screen story by kevin yagher and andrew kevin walker . screenplay by andrew kevin walker . inspired by the short story the legend of sleepy hollow by washington irving . directed by tim burton . starring johnny depp , christina ricci , and casper van dien . special appearances by christopher lee and christopher walken . synopsis : investigator ichabod crane journeys to 1799 sleepy hollow to investigate a series of murders involving decapitation . townspeople believe the spirit of a dead german mercenary is threatening them . cute blonde katrina and a listless orphan help crane solve the mystery . comments : tim burton has directed a number of entertaining and groundbreaking films over the years . batman , of course , is perhaps his best-known film and led to a string of less successful sequels . he's done biographical work ( on the director ed wood ) , children's movies ( nightmare before christmas ) , and a homage to alien invasion movies ( mars attacks ! ) . sleepy hollow , his newest feature which fans have been anticipating for a while , shares the similar dark and atmospheric style of his earlier work and counts among his better movies . sleepy hollow quite obviously draws its inspiration from the old period horror films of the 1950s and 1960s , especially hammer studios' reworkings of dracula and frankenstein , and american international's series of movies based on the works of edgar allan poe . christopher lee , in fact , star of many hammer productions over the years , appears at the beginning of sleepy hollow as a judge who sends ichabod crane out to investigate the murders . the movie also borrows from the universal monster movies of the 1930s . one of the climatic scenes involves a windmill and obviously takes its cue from frankenstein . i mention these allusions for a reason . seasoned horror film fans , including myself , will smile at their inclusion in this film . with the recent disappointments in theatrically released horror movies , especially the blair witch project ( the most overblown turkey of the decade ) , we needed a film like this . not only does it have a sense of history , but burton's skillful use of setting and mood make this an entertaining exercise in horror . the film's eerie landscapes and foggy towns , indeed , overshadow the actors and the plot as the most noteworthy aspect of the movie . johnny depp , a veteran tim burton actor who has appeared both in ed wood and edward scissorhands , plays ichabod crane , who has apparently changed occupations from irving's original story and is now an investigator . depp is adequate in his role . no more ; no less . equally adequate is christina ricci , who plays the love interest in the film . she's a good witch too . how cute . one of the few weak parts of sleepy hollow is the wooden and cliched dialogue between the main characters . the two actors , however , carry the movie well enough , but the supporting cast is what makes this movie shine . veteran actors such as jeffrey jones and michael gough ( who played the butler alfred in all four recent batman flicks ) are terrific as the aging townsfolk involved in the conspiracy which depp uncovers . while i do not wish to reveal crucial plot points , i can say that the storyline becomes quite confusing . you have to pay attention . andrew kevin walker wrote the screenplay . he's the one who also wrote 8 mm and seven . walker is quickly becoming one of the premiere suspense writers in hollywood , and sleepy hollow certainly doesn't hurt his growing reputation . as one might imagine from a gentleman like walker , sleepy hollow is quite graphic . there's a lot of blood and a lot of beheadings . this is definately not a flick to take the young kids to . a lady in front of us took her two young sons to see it and spent about 25 - 30 minutes covering the youngest's eyes with her hand . he was obviously upset by the movie's intense violence . if you're looking for a good scare , however , sleepy hollow is definately recommended .,0\" => 0\n",
      "'mpaa : not rated ( though i feel it would likely be pg , for martial-arts violence . ) with three movies already ( re ) released theatrically in america , and at least three more on their way , jackie chan is one of the newest \" hot properties \" in action adventure stardom , and it\\'s just about time . for over twenty-five years , jackie\\'s been starring in martial arts and action movies in hong kong , thrilling audiences with both an incredible grasp of acrobatics and martial arts and a wonderful sense of comedy . \" drunken master \" has the distinction of being the first jackie chan movie to \" make it big \" --this is the movie that supposedly set jackie up for big stardom in hong kong . i\\'m not entirely sure why , exactly . in many ways , \" drunken master \" is similar to most of jackie\\'s other early films , such as \" fearless hyena \" i and ii , \" master with cracked fingers \" , \" half a loaf of kung fu \" , \" spiritual kung fu \" , and others . in fact , looking at all these early films together , one gets the impression that they were stamped out , cookie-cutter style , at a rate of four to six per year , all using the same casts and telling very similar stories . to be honest , i think that early jackie chan movies are something of an acquired taste . they\\'re quite different from action movies as we know them in america . these films tend to be set in the chinese countryside in an indeterminate period sometime in the distant past , with fairly slow plots that often meander far afield and sometimes seem to exist only for the intention of stringing comedy and fight scenes together . \" drunken master \" , though its plot is tighter than some , is no exception . ( as an aside , \" drunken master \" was the first jackie chan movie i ever saw , and i saw it the way it was meant to be seen . . . in a movie theater in seattle , as part of an asian film festival . at the time , i didn\\'t really think it was anything special . . . but after having seen more films like it , it\\'s kind of grown on me . ) \" drunken master \" \\'s storyline is very similar to that of other early jackie chan movies , such as \" fearless hyena \" i and ii and \" master with cracked fingers \" --slacker martial arts student is taught the martial arts by a harsh-seeming master , and has a big fight with an evil bad guy in the end ( a formula that has been \" adapted , \" to put it kindly , by american films such as karate kid ) . more specifically , jackie chan plays the part of wong fei-hong , aka \" naughty panther , \" a fun-loving , practical-joking kung fu student who is too good at kung fu for his own good , but not _quite_ good enough . after embarrassing his instructor\\'s assistant by beating him roundly , then beating up a bully in a marketplace , wong fei-hong tries to hit on a pretty girl , but discovers that she , and her mother , can hit back , better than he can . . . and is further chagrinned to discover that the two women are his cousin and aunt , respectively . his father , wong kei-ying , is unhappy about this , and is further annoyed when the father and brother of the bully show up to sue for damages . kei-ying soon institutes a harsh regimen of punishment , which fei-hong does not like at all . while escaping from this punishment , fei-hong meets up with a drunken old man , who proceeds to thrash him soundly , then take him on as a student and thrash him some more . this turns out to be su hua-chi , a legendary master of drunken-style kung fu . he assigns fei-hong a series of bizarre tasks , such as filling jugs with water while hanging upside down from a frame , cracking walnuts with his hands , and other such exercises , that seem like more pointless cruelty but are actually strengthening him up . then , when he\\'s ready , he teaches him the seven styles of drunken kung fu . unfortunately , the lazy fei-hong only practices six of them . . . \" drunken master \" features some wonderful martial arts sequences , with jackie winning some fights and losing others . it\\'s been said before , but i\\'ll say it again--these fights don\\'t just _happen_ , they\\'re as carefully choreographed as any ballet performance , and it shows . in his fights , jackie often makes use of objects found in his environment-- benches , jugs , cups , bowls , fruits and vegetables--often in new and surprising ways . the fight scenes , particularly those toward the end of the film , are unparallelled in most american films . whether jackie wins or loses , it\\'s really something to see . . . and it\\'s often as funny as anything , too . and funny is the other thing jackie chan is very , very good at . there\\'s very little that\\'s new in this movie--jackie winning fights , jackie getting beaten badly by a master , jackie going through punishment or training . . . these schticks have all been seen before , in any one of several dozen similar jackie movies from the seventies and early eighties . but they\\'re still hilarious as ever . likewise , jackie has a _great_ supporting cast , many of whom were also in other early jackie films , and they\\'re often the source of plenty of hilarity on their own . the really big thing about \" drunken master \" , though , that inspired several copycats ( including a couple starring jackie himself ) and a sequel fifteen years later , was the drunken-style kung fu . i\\'m not certain whether or not this is actually a genuine style of kung fu , but the principle behind it is to imitate the wobbly movements of a drunkard to lull the enemy into a false sense of security . . . and it apparently helps if you\\'re drunk while you\\'re doing it . genuine or not , i have to admit , there\\'s just something incredibly fun about watching a fellow who looks utterly sloshed wading into a group of startled opponents and making mincemeat out of them before they even realize what\\'s going on . come to think of it , perhaps this element is what accounts for this film\\'s success over any of the other jackie films . . . it\\'s not just martial arts , it\\'s the kind of martial arts that makes you stop and go , \" whoa . . . \" on the negative side , the cinematography in this film is nothing special , the film stock is rather primitive , the plot is often rather slow , and the subtitles are sometimes extremely hard to read against the background . \" gone with the wind \" , this isn\\'t . still , if you like martial arts films , or like what you\\'ve seen so far of jackie chan and want to see more , give it a shot . it\\'s much more \" real \" than chuck norris or jean-claude van damme . you might very well like it . another interesting thing about \" drunken master \" has to do with its video availability in the us . \" drunken master \" is the only early jackie chan movie that i know of that you can find in its original , letterboxed , hong kong subtitled form , commercially available on vhs ( from magnum video , in a gold box , for about $10 ) . there are plenty of other early jackie films around , but these are typically either in dubbed , pan-and-scanned form or else import tapes priced for rental instead of purchase . thankfully , \" drunken master \" , at least , is available in the aspect ratio in which it was meant to be seen , at a very affordable price . if you like \" drunken master \" , take a look at the numerous other early jackie chan films that are out there ( even the dubbed ones aren\\'t really _too_ bad . . . if nothing else , you can enjoy the martial arts choreography while making fun of the dialogue ) . i particularly recommend \" spiritual kung fu \" , \" half a loaf of kung fu \" , the \" fearless hyena \" movies , and \" snake & crane arts of shaolin \" . also , the mostly-unrelated-storywise sequel , \" drunken master ii \" , will hit theaters in american release sometime later this year ( though what its american-release title will be is still uncertain ) and comes _highly_ recommended by this reviewer . also , for a rather different interpretation of the character wong fei-hong ( who is in fact a popular figure from chinese folklore ) , i\\'ve been told to suggest the \" once upon a time in china \" series starring jet li ( though i haven\\'t personally seen any of them yet ) . if you choose to watch \" drunken master \" , i really hope you enjoy it , and i hope it starts to open your eyes to the wonderful world of asian cinema that\\'s out there . all in all , i give this film an .,0' => 0\n",
      "\"well , i know that stallone is 50 years old now , but in daylight he doesn't look it ! daylight is a great disaster movie . if you've seen cliffhanger , you'll know stallone's character already . a guy with a bad past , but is in the right place at the wrong time . a tunnel connecting new york and new jersey has both sides collapses when a group of robbers collide with a truck carrying * very * flammable toxic waste . a dozen or so people survive the collapses and the incinerating fireball ( and what a fire ball it was ! ) stallone , a former emergency medical service man , is chauffeuring a rich couple around , when they reach the outside of the tunnel , before the explosion . then , 30 minutes into the movie , boom ! >from here on , the plot takes a back seat , and we are treated to some of the best camera work and action staged . most all the action is plausible and will hold you at the edge of your seat . there are a few melodramatic parts here , but , they tend to work out well . there is no general antagonist in this film , but the action and suspense makes you forget all about that . daylight is a great film , i saw a non-matinee showing of it , and i thought it was worth every penny . the characterizations are mostly flat , one dimesional , but they have enough in them to get you to care for some of the characters . rob cohen ( dragonheart ) does a great job with this film .,0\" => 0\n",
      "'logical time travel movies are a near-impossibility . considering that the skeptic\\'s best argument against the possibility of time travel is the idea of altered realities , writing a script that deals with this problem is an imposing task . occasionally , we get a film that does manage it . terry gilliam\\'s \" 12 monkeys \" was one such film . but more frequently , we get films that don\\'t much deal with it at all . there is one question to ask in this case : does the film have other virtues that override the existing logical inconsistencies ? the \" terminator \" films made up for them with exciting action , \" back to the future \" did it with an entertaining story , and the new film \" frequency \" pulls off the trick with a strong package of its own . is \" frequency \" filled with plot holes ? yes . does it matter ? not really . the film opens in october of 1969 . firefighter frank sullivan ( dennis quaid ) puts his life on the line every time he suits up for his job , then goes home to his loving wife julia ( elizabeth mitchell ) and son johnny ( daniel henson ) . the double-pronged story flashes forward to 1999 , where johnny ( now jim caviezel ) is all grown up and working as a police detective . a strange occurrence -- the appearance of aurora borealis over new york city -- allows father and son to communicate through the same ham radio frank used in \\'69 and that john has found in the present day . though both are initially skeptical of the idea , john eventually takes this opportunity to warn his father against his impending death in a warehouse fire , and he succeeds in saving frank from certain doom . now flooded with memories of a full life with his father alive , john is initially overjoyed , until he discovers that the changes to the timeline have been disastrous : a serial killer that would have died has instead lived to kill seven more women . frank and john now must work together to set things right , with john using the information he has gathered in the future to instruct frank on what to do in the past . the premise of \" frequency \" is unusual , and requires getting over one very important mental hurdle to fully accept : john and frank are the only ones conscious of how the timeline has been changed as a result of their actions . this isn\\'t explained ; you just have to go with it . when frank doesn\\'t die in a fire , john is the only one who remembers it differently , while everyone else remembers it the new way . the concept also runs into problems concerning just how synchronous the two realities -- 1969 and 1999 -- are to each other . sometimes frank\\'s changing the past results in something happening right away in john\\'s world , and sometimes john gets the changes ahead of time . now , the filmmakers might have perfectly good explanations for this , and i could probably come up with something fairly convoluted ( but nevertheless logical ) if i thought about it hard enough ( for example , the reason john gets advance information of the serial killer\\'s murders was because the change had already happened in frank\\'s world , and john is only witnessing the * projection * of that change ) , but explanations aren\\'t really the point . when \" frequency \" gets cooking , it\\'s a riveting little thriller , even if it is confusing . what matters to a film like this is if the plot makes sense in the moment , and \" frequency \" works as long as it keeps moving . the film manages to be engaging despite the logical confusion . director gregory hoblit and screenwriter toby emmerich structure \" frequency \" as good hollywood entertainment , establishing decent , likable characters , making us care for them , and setting up a goal to be reached and a conflict to be resolved . i liked many of the creative touches : the split screens , allowing us to see how the universe is being affected in both realities , and the greater framework of baseball to drive the action forward . it actually uses the 1969 mets-orioles world series ( the one that featured the amazin\\' mets ) to great effect -- frank uses john\\'s advance knowledge of the series outcome to convince his friends to believe him . ( admittedly , this device may only be of interest to a baseball fan like myself . ) i even liked the final scene , which features frank and john both fighting the same man simultaneously in different time periods . some may find this scene blindingly confusing , as the reality shifts start coming fast and furious , but it does make sense if you think about it ( and give the script a lot of leeway ) , and let\\'s face it : it\\'s a darn cool way to end the film . there are enough surprises and plot twists in \" frequency \" to keep you on your toes , and as a result the movie avoids growing stagnant . the other major thing to appreciate about \" frequency \" is the handling of the father-son relationship . quaid and caviezel carry off their parts easily ; it\\'s a rock-solid job from both actors . the relationship is instantly credible because they find the human truth behind the high concept : how would one react to being able to communicate with a dead relative , or with a future descendant ? watching the exchanges between frank and john will give you a pretty good idea of how to answer that question . the credibility of the human relationship is absolutely crucial to the rest of the film ; if we don\\'t believe in the characters , we don\\'t care about the outcome of the thriller plot . here , we do care , because we like the lead actors . i also liked some of the supporting cast members . elizabeth mitchell gets stuck with two thankless roles , playing julia the doting wife * and * mother , but still performs admirably . andre braugher , late of the television show \" homicide : life on the street , \" gives a nice supporting turn as frank\\'s best friend and future colleague of john . he has a lovely scene in a diner in which he tries to explain the situation to julia while frank\\'s world series predictions come true before his very eyes . braugher strikes the perfect facial expression here , simultaneously dismayed and amused . perhaps the only thing i didn\\'t like about \" frequency \" is the overly sentimental coda , during which the camera\\'s focus goes a little too soft and the baseball theme gets carried overboard . but that\\'s only because the film had already earned a poignancy without resorting to cheap tactics . i freely acknowledge that \" frequency \" may best work as a \" guy \" movie , since it focuses on the very male-oriented idea of father-son relationships ( echoes of \" field of dreams \" can be easily heard ) , but the underlying concept is universally applicable . who wouldn\\'t want to speak with a long-dead parent ? or see how their children turn out ? \" tell me about your life , son \" -- excuse me while i mist up . and don\\'t call me a sissy .,0' => 0\n",
      "\"blade is the movie that shows that wesley snipes really can live up to his potential as one of hollywood's premier leading men . blade is based on the comic book character of the same name and has that comic book kind of feel to it . it is a very stylish movie and for the most part that style works very well . although , at a few points i thought i was watching a music video as opposed to a movie . the ideas behind blade are good , as is the basic plot of the story . but at times , things seem to get a bit muddled , and the writers appear to want to do too many things at once . that really doesn't take away from the story too much , but it does hurt it a little bit . blade ( snipes ) is half man , half vampire . his mother was bitten by a vampire when she was pregnant with him and as a result he has many of the classic traits of a vampire . including a thirst for human blood that must be kept under control by a special serum which quenches his blood lust . blade has spent his life hunting down and killing vampires as a sort of revenge for the fact that one of their kind killed his mother . but this isn't as easy as it seems , because the vampires in blade's world are more sophisticated than the ones that you find in most films . the government and other authorities know of the existence of vampires , but they let them feast of the population at large because they are taking bribes from the vampires . where do vampires get money ? well , in blade , they run multinational companies in order to finance their vampire organizations . i personally thought that this whole secret corporate world run by vampires to be a very clever idea , and a great addition to the movie . blade runs up against the evil deacon frost ( stephen dorff ) a maverick in the vampire community . he isn't content to live among humans , and is convinced that the vampire race is the superior one and he means to insure its superiority . he has managed to translate the ancient vampire scrolls that tell of the method of making him an all-powerful vampire -- rendering him virtually unstoppable . it's up to blade to see that this doesn't transpire . admittedly , blade is style over substance through and through . the story is a relatively forgettable one , but it is fun none the less . the acting in blade is just about what you would expect from a movie of this type . this isn't a film that is going to win accolades for its performances , and the actors know this . the movie is played for fun and nobody seems to think otherwise . it's a popcorn movie , and no one involved has any illusions otherwise . blade's production values are as slick as any that you will find in your typical summer blockbuster . the combat sequences between blade and his vampire targets are incredibly well done . although , the mtv-style cuts did get on my nerves after a while during long sequences . blade is a fun movie with an interesting take on the vampire genre . this is not the movie for those of you who like your vampires in tuxedos and living in coffins in the basement of some gothic castle . what blade excels at is bringing the classic lore of the vampire into the next century with a fresh outlook on life . very cool .,0\" => 0\n",
      "'the truman show ( paramount pictures ) running time : 1 hour 42 minutes starring jim carrey and ed harris directed by peter weir after a long wait , jim carrey\\'s dramatic debut finally makes it to the big screen . in case you\\'ve been asleep for the last few months , the plot centres on truman burbank ( carrey ) who leads an seemingly idyllic life in the beautiful town of seahaven . his life seems so perfect , however , because it\\'s controlled by christoff ( harris ) creator of the truman show , the program burbank is unwittingly the hero of . that\\'s right , burbank\\'s life is being broadcast live to the american public , and seahaven and all it\\'s inhabitants are inclosed in a massive sound stage . the film takes the jerry springer format one step too far . . . with an idea so different , it would be easy for the director and screenwriter to dumb it down and appeal to the lowest common denominator . luckily , the film remains sensible enough to appeal to all ages , yet never seems to be a dumb carrey movie . talking of carrey , he\\'s perfect in this movie , enjoying the best role in his career . his character is a re-inforced stanley ipkiss from the mask ( 1994 ) and is completely suited to carrey\\'s persona . he occasionally falls into ace ventura mode , shrieking and being silly , but generally the audience is watching subdued carrey . he\\'s not completely dramatic like the film promises , however . ed harris brings an extreme intensity to christoff , the megalomaniac creator of the show . quiet and well spoken , he burns an image into the viewer . unfortunately , he\\'s barely in the film , and for the first hour dosen\\'t appear at all ! also disappointing is natascha mcelhone\\'s character sylvia . she plays the role well , but her character is sadly underwritten and is pushed to the sidelines just when the audience is used to her . the supporting cast is excellent , and the town of seahaven looks delightfully perfect , so perfect it\\'s creepy . the philip glass soundtrack is also superb , and is used to great effect during the film . peter weir keeps the film going , clearly having fun . the film is far more upbeat than his previous films dead poets society and green card . although it is slightly slow to begin with , about half an hour into film the pace really picks up , and when christoff is introduced fully the film is on a roll . sadly , though , the film is practically over when the film is in full steam . also , concerning the ending , it is slightly too ambiguous , which was disappointing . the screenwriter , andrew niccol , who bought us gattaca ( 1997 ) delivers an entertaining script , and manages to keep the plot in trim . while christoff\\'s plans to keep truman in do get increasingly silly , they never go over the line , which would have been easy for niccol to do . also , there\\'s some funny gags involving product placement and the people who watch the show . overall , the truman show is excellent entertainment . certainly different from the usual crap hollywood produces , it should be viewed by everyone . it offers something to every member of the audience , and you would almost certainly not come out disappointed . overall rating= review by david wilcock ? 1998 \" you know , for kids \" - norville barnes,0' => 0\n"
     ]
    }
   ],
   "source": [
    "\n",
    "\n",
    "#unlabeled_tfidf = tfidf_vectorizer.transform(docs_new)\n",
    "predicted = svm_pipeline.predict(docs_new)\n",
    "\n",
    "for doc, category in zip(docs_new, predicted):\n",
    "    print(('%r => %s' % (doc, category)))"
   ]
  },
  {
   "cell_type": "code",
   "execution_count": 63,
   "metadata": {},
   "outputs": [
    {
     "name": "stdout",
     "output_type": "stream",
     "text": [
      "ï»¿\"CVS eyes virtual interviews => [0.8933652 0.1066348]\n",
      "EEOC: Manufacturer violated ADA in firing worker returning from hospitalization => [1.39792262e-05 9.99986021e-01]\n",
      "Employees confident they can do their jobs effectively from home during COVID-19 pandemic => [1.43757339e-09 9.99999999e-01]\n",
      "Court revives coachs suit, citing need to consider the overall likelihood of discrimination => [0.00829435 0.99170565]\n",
      "From manufacturing to HR: One womans journey through Honda => [0.09981489 0.90018511]\n",
      "NLRB suspends representation elections due to coronavirus => [2.9256289e-13 1.0000000e+00]\n",
      "Free trainings, resources aim to ease the transition to remote work => [4.36737778e-09 9.99999996e-01]\n",
      "5 things to know about the new coronavirus paid leave law => [4.55926092e-08 9.99999954e-01]\n",
      "Soft skills training is a priority, but lack of time and resources stands in the way => [0.058048 0.941952]\n",
      "Metals company settles EEOC claim it refused to hire workers over 40 => [2.44162602e-08 9.99999976e-01]\n",
      "DOL to observe 30-day temporary non-enforcement of coronavirus paid leave law => [1.14600860e-09 9.99999999e-01]\n",
      "McDonalds names new chief people officer => [0.05304268 0.94695732]\n",
      "Employers can screen workers, applicants for fevers, EEOC says => [7.56033715e-11 1.00000000e+00]\n",
      "Collaborative apps boost remote work productivity but cause distractions => [9.67234367e-09 9.99999990e-01]\n",
      "screen story by kevin yagher and andrew kevin walker . screenplay by andrew kevin walker . inspired by the short story the legend of sleepy hollow by washington irving . directed by tim burton . starring johnny depp , christina ricci , and casper van dien . special appearances by christopher lee and christopher walken . synopsis : investigator ichabod crane journeys to 1799 sleepy hollow to investigate a series of murders involving decapitation . townspeople believe the spirit of a dead german mercenary is threatening them . cute blonde katrina and a listless orphan help crane solve the mystery . comments : tim burton has directed a number of entertaining and groundbreaking films over the years . batman , of course , is perhaps his best-known film and led to a string of less successful sequels . he's done biographical work ( on the director ed wood ) , children's movies ( nightmare before christmas ) , and a homage to alien invasion movies ( mars attacks ! ) . sleepy hollow , his newest feature which fans have been anticipating for a while , shares the similar dark and atmospheric style of his earlier work and counts among his better movies . sleepy hollow quite obviously draws its inspiration from the old period horror films of the 1950s and 1960s , especially hammer studios' reworkings of dracula and frankenstein , and american international's series of movies based on the works of edgar allan poe . christopher lee , in fact , star of many hammer productions over the years , appears at the beginning of sleepy hollow as a judge who sends ichabod crane out to investigate the murders . the movie also borrows from the universal monster movies of the 1930s . one of the climatic scenes involves a windmill and obviously takes its cue from frankenstein . i mention these allusions for a reason . seasoned horror film fans , including myself , will smile at their inclusion in this film . with the recent disappointments in theatrically released horror movies , especially the blair witch project ( the most overblown turkey of the decade ) , we needed a film like this . not only does it have a sense of history , but burton's skillful use of setting and mood make this an entertaining exercise in horror . the film's eerie landscapes and foggy towns , indeed , overshadow the actors and the plot as the most noteworthy aspect of the movie . johnny depp , a veteran tim burton actor who has appeared both in ed wood and edward scissorhands , plays ichabod crane , who has apparently changed occupations from irving's original story and is now an investigator . depp is adequate in his role . no more ; no less . equally adequate is christina ricci , who plays the love interest in the film . she's a good witch too . how cute . one of the few weak parts of sleepy hollow is the wooden and cliched dialogue between the main characters . the two actors , however , carry the movie well enough , but the supporting cast is what makes this movie shine . veteran actors such as jeffrey jones and michael gough ( who played the butler alfred in all four recent batman flicks ) are terrific as the aging townsfolk involved in the conspiracy which depp uncovers . while i do not wish to reveal crucial plot points , i can say that the storyline becomes quite confusing . you have to pay attention . andrew kevin walker wrote the screenplay . he's the one who also wrote 8 mm and seven . walker is quickly becoming one of the premiere suspense writers in hollywood , and sleepy hollow certainly doesn't hurt his growing reputation . as one might imagine from a gentleman like walker , sleepy hollow is quite graphic . there's a lot of blood and a lot of beheadings . this is definately not a flick to take the young kids to . a lady in front of us took her two young sons to see it and spent about 25 - 30 minutes covering the youngest's eyes with her hand . he was obviously upset by the movie's intense violence . if you're looking for a good scare , however , sleepy hollow is definately recommended .,0 => [9.9999990e-01 1.0000001e-07]\n",
      "mpaa : not rated ( though i feel it would likely be pg , for martial-arts violence . ) with three movies already ( re ) released theatrically in america , and at least three more on their way , jackie chan is one of the newest \" hot properties \" in action adventure stardom , and it's just about time . for over twenty-five years , jackie's been starring in martial arts and action movies in hong kong , thrilling audiences with both an incredible grasp of acrobatics and martial arts and a wonderful sense of comedy . \" drunken master \" has the distinction of being the first jackie chan movie to \" make it big \" --this is the movie that supposedly set jackie up for big stardom in hong kong . i'm not entirely sure why , exactly . in many ways , \" drunken master \" is similar to most of jackie's other early films , such as \" fearless hyena \" i and ii , \" master with cracked fingers \" , \" half a loaf of kung fu \" , \" spiritual kung fu \" , and others . in fact , looking at all these early films together , one gets the impression that they were stamped out , cookie-cutter style , at a rate of four to six per year , all using the same casts and telling very similar stories . to be honest , i think that early jackie chan movies are something of an acquired taste . they're quite different from action movies as we know them in america . these films tend to be set in the chinese countryside in an indeterminate period sometime in the distant past , with fairly slow plots that often meander far afield and sometimes seem to exist only for the intention of stringing comedy and fight scenes together . \" drunken master \" , though its plot is tighter than some , is no exception . ( as an aside , \" drunken master \" was the first jackie chan movie i ever saw , and i saw it the way it was meant to be seen . . . in a movie theater in seattle , as part of an asian film festival . at the time , i didn't really think it was anything special . . . but after having seen more films like it , it's kind of grown on me . ) \" drunken master \" 's storyline is very similar to that of other early jackie chan movies , such as \" fearless hyena \" i and ii and \" master with cracked fingers \" --slacker martial arts student is taught the martial arts by a harsh-seeming master , and has a big fight with an evil bad guy in the end ( a formula that has been \" adapted , \" to put it kindly , by american films such as karate kid ) . more specifically , jackie chan plays the part of wong fei-hong , aka \" naughty panther , \" a fun-loving , practical-joking kung fu student who is too good at kung fu for his own good , but not _quite_ good enough . after embarrassing his instructor's assistant by beating him roundly , then beating up a bully in a marketplace , wong fei-hong tries to hit on a pretty girl , but discovers that she , and her mother , can hit back , better than he can . . . and is further chagrinned to discover that the two women are his cousin and aunt , respectively . his father , wong kei-ying , is unhappy about this , and is further annoyed when the father and brother of the bully show up to sue for damages . kei-ying soon institutes a harsh regimen of punishment , which fei-hong does not like at all . while escaping from this punishment , fei-hong meets up with a drunken old man , who proceeds to thrash him soundly , then take him on as a student and thrash him some more . this turns out to be su hua-chi , a legendary master of drunken-style kung fu . he assigns fei-hong a series of bizarre tasks , such as filling jugs with water while hanging upside down from a frame , cracking walnuts with his hands , and other such exercises , that seem like more pointless cruelty but are actually strengthening him up . then , when he's ready , he teaches him the seven styles of drunken kung fu . unfortunately , the lazy fei-hong only practices six of them . . . \" drunken master \" features some wonderful martial arts sequences , with jackie winning some fights and losing others . it's been said before , but i'll say it again--these fights don't just _happen_ , they're as carefully choreographed as any ballet performance , and it shows . in his fights , jackie often makes use of objects found in his environment-- benches , jugs , cups , bowls , fruits and vegetables--often in new and surprising ways . the fight scenes , particularly those toward the end of the film , are unparallelled in most american films . whether jackie wins or loses , it's really something to see . . . and it's often as funny as anything , too . and funny is the other thing jackie chan is very , very good at . there's very little that's new in this movie--jackie winning fights , jackie getting beaten badly by a master , jackie going through punishment or training . . . these schticks have all been seen before , in any one of several dozen similar jackie movies from the seventies and early eighties . but they're still hilarious as ever . likewise , jackie has a _great_ supporting cast , many of whom were also in other early jackie films , and they're often the source of plenty of hilarity on their own . the really big thing about \" drunken master \" , though , that inspired several copycats ( including a couple starring jackie himself ) and a sequel fifteen years later , was the drunken-style kung fu . i'm not certain whether or not this is actually a genuine style of kung fu , but the principle behind it is to imitate the wobbly movements of a drunkard to lull the enemy into a false sense of security . . . and it apparently helps if you're drunk while you're doing it . genuine or not , i have to admit , there's just something incredibly fun about watching a fellow who looks utterly sloshed wading into a group of startled opponents and making mincemeat out of them before they even realize what's going on . come to think of it , perhaps this element is what accounts for this film's success over any of the other jackie films . . . it's not just martial arts , it's the kind of martial arts that makes you stop and go , \" whoa . . . \" on the negative side , the cinematography in this film is nothing special , the film stock is rather primitive , the plot is often rather slow , and the subtitles are sometimes extremely hard to read against the background . \" gone with the wind \" , this isn't . still , if you like martial arts films , or like what you've seen so far of jackie chan and want to see more , give it a shot . it's much more \" real \" than chuck norris or jean-claude van damme . you might very well like it . another interesting thing about \" drunken master \" has to do with its video availability in the us . \" drunken master \" is the only early jackie chan movie that i know of that you can find in its original , letterboxed , hong kong subtitled form , commercially available on vhs ( from magnum video , in a gold box , for about $10 ) . there are plenty of other early jackie films around , but these are typically either in dubbed , pan-and-scanned form or else import tapes priced for rental instead of purchase . thankfully , \" drunken master \" , at least , is available in the aspect ratio in which it was meant to be seen , at a very affordable price . if you like \" drunken master \" , take a look at the numerous other early jackie chan films that are out there ( even the dubbed ones aren't really _too_ bad . . . if nothing else , you can enjoy the martial arts choreography while making fun of the dialogue ) . i particularly recommend \" spiritual kung fu \" , \" half a loaf of kung fu \" , the \" fearless hyena \" movies , and \" snake & crane arts of shaolin \" . also , the mostly-unrelated-storywise sequel , \" drunken master ii \" , will hit theaters in american release sometime later this year ( though what its american-release title will be is still uncertain ) and comes _highly_ recommended by this reviewer . also , for a rather different interpretation of the character wong fei-hong ( who is in fact a popular figure from chinese folklore ) , i've been told to suggest the \" once upon a time in china \" series starring jet li ( though i haven't personally seen any of them yet ) . if you choose to watch \" drunken master \" , i really hope you enjoy it , and i hope it starts to open your eyes to the wonderful world of asian cinema that's out there . all in all , i give this film an .,0 => [9.99977674e-01 2.23261088e-05]\n",
      "well , i know that stallone is 50 years old now , but in daylight he doesn't look it ! daylight is a great disaster movie . if you've seen cliffhanger , you'll know stallone's character already . a guy with a bad past , but is in the right place at the wrong time . a tunnel connecting new york and new jersey has both sides collapses when a group of robbers collide with a truck carrying * very * flammable toxic waste . a dozen or so people survive the collapses and the incinerating fireball ( and what a fire ball it was ! ) stallone , a former emergency medical service man , is chauffeuring a rich couple around , when they reach the outside of the tunnel , before the explosion . then , 30 minutes into the movie , boom ! >from here on , the plot takes a back seat , and we are treated to some of the best camera work and action staged . most all the action is plausible and will hold you at the edge of your seat . there are a few melodramatic parts here , but , they tend to work out well . there is no general antagonist in this film , but the action and suspense makes you forget all about that . daylight is a great film , i saw a non-matinee showing of it , and i thought it was worth every penny . the characterizations are mostly flat , one dimesional , but they have enough in them to get you to care for some of the characters . rob cohen ( dragonheart ) does a great job with this film .,0 => [9.99994138e-01 5.86239817e-06]\n",
      "logical time travel movies are a near-impossibility . considering that the skeptic's best argument against the possibility of time travel is the idea of altered realities , writing a script that deals with this problem is an imposing task . occasionally , we get a film that does manage it . terry gilliam's \" 12 monkeys \" was one such film . but more frequently , we get films that don't much deal with it at all . there is one question to ask in this case : does the film have other virtues that override the existing logical inconsistencies ? the \" terminator \" films made up for them with exciting action , \" back to the future \" did it with an entertaining story , and the new film \" frequency \" pulls off the trick with a strong package of its own . is \" frequency \" filled with plot holes ? yes . does it matter ? not really . the film opens in october of 1969 . firefighter frank sullivan ( dennis quaid ) puts his life on the line every time he suits up for his job , then goes home to his loving wife julia ( elizabeth mitchell ) and son johnny ( daniel henson ) . the double-pronged story flashes forward to 1999 , where johnny ( now jim caviezel ) is all grown up and working as a police detective . a strange occurrence -- the appearance of aurora borealis over new york city -- allows father and son to communicate through the same ham radio frank used in '69 and that john has found in the present day . though both are initially skeptical of the idea , john eventually takes this opportunity to warn his father against his impending death in a warehouse fire , and he succeeds in saving frank from certain doom . now flooded with memories of a full life with his father alive , john is initially overjoyed , until he discovers that the changes to the timeline have been disastrous : a serial killer that would have died has instead lived to kill seven more women . frank and john now must work together to set things right , with john using the information he has gathered in the future to instruct frank on what to do in the past . the premise of \" frequency \" is unusual , and requires getting over one very important mental hurdle to fully accept : john and frank are the only ones conscious of how the timeline has been changed as a result of their actions . this isn't explained ; you just have to go with it . when frank doesn't die in a fire , john is the only one who remembers it differently , while everyone else remembers it the new way . the concept also runs into problems concerning just how synchronous the two realities -- 1969 and 1999 -- are to each other . sometimes frank's changing the past results in something happening right away in john's world , and sometimes john gets the changes ahead of time . now , the filmmakers might have perfectly good explanations for this , and i could probably come up with something fairly convoluted ( but nevertheless logical ) if i thought about it hard enough ( for example , the reason john gets advance information of the serial killer's murders was because the change had already happened in frank's world , and john is only witnessing the * projection * of that change ) , but explanations aren't really the point . when \" frequency \" gets cooking , it's a riveting little thriller , even if it is confusing . what matters to a film like this is if the plot makes sense in the moment , and \" frequency \" works as long as it keeps moving . the film manages to be engaging despite the logical confusion . director gregory hoblit and screenwriter toby emmerich structure \" frequency \" as good hollywood entertainment , establishing decent , likable characters , making us care for them , and setting up a goal to be reached and a conflict to be resolved . i liked many of the creative touches : the split screens , allowing us to see how the universe is being affected in both realities , and the greater framework of baseball to drive the action forward . it actually uses the 1969 mets-orioles world series ( the one that featured the amazin' mets ) to great effect -- frank uses john's advance knowledge of the series outcome to convince his friends to believe him . ( admittedly , this device may only be of interest to a baseball fan like myself . ) i even liked the final scene , which features frank and john both fighting the same man simultaneously in different time periods . some may find this scene blindingly confusing , as the reality shifts start coming fast and furious , but it does make sense if you think about it ( and give the script a lot of leeway ) , and let's face it : it's a darn cool way to end the film . there are enough surprises and plot twists in \" frequency \" to keep you on your toes , and as a result the movie avoids growing stagnant . the other major thing to appreciate about \" frequency \" is the handling of the father-son relationship . quaid and caviezel carry off their parts easily ; it's a rock-solid job from both actors . the relationship is instantly credible because they find the human truth behind the high concept : how would one react to being able to communicate with a dead relative , or with a future descendant ? watching the exchanges between frank and john will give you a pretty good idea of how to answer that question . the credibility of the human relationship is absolutely crucial to the rest of the film ; if we don't believe in the characters , we don't care about the outcome of the thriller plot . here , we do care , because we like the lead actors . i also liked some of the supporting cast members . elizabeth mitchell gets stuck with two thankless roles , playing julia the doting wife * and * mother , but still performs admirably . andre braugher , late of the television show \" homicide : life on the street , \" gives a nice supporting turn as frank's best friend and future colleague of john . he has a lovely scene in a diner in which he tries to explain the situation to julia while frank's world series predictions come true before his very eyes . braugher strikes the perfect facial expression here , simultaneously dismayed and amused . perhaps the only thing i didn't like about \" frequency \" is the overly sentimental coda , during which the camera's focus goes a little too soft and the baseball theme gets carried overboard . but that's only because the film had already earned a poignancy without resorting to cheap tactics . i freely acknowledge that \" frequency \" may best work as a \" guy \" movie , since it focuses on the very male-oriented idea of father-son relationships ( echoes of \" field of dreams \" can be easily heard ) , but the underlying concept is universally applicable . who wouldn't want to speak with a long-dead parent ? or see how their children turn out ? \" tell me about your life , son \" -- excuse me while i mist up . and don't call me a sissy .,0 => [9.99998352e-01 1.64809132e-06]\n",
      "blade is the movie that shows that wesley snipes really can live up to his potential as one of hollywood's premier leading men . blade is based on the comic book character of the same name and has that comic book kind of feel to it . it is a very stylish movie and for the most part that style works very well . although , at a few points i thought i was watching a music video as opposed to a movie . the ideas behind blade are good , as is the basic plot of the story . but at times , things seem to get a bit muddled , and the writers appear to want to do too many things at once . that really doesn't take away from the story too much , but it does hurt it a little bit . blade ( snipes ) is half man , half vampire . his mother was bitten by a vampire when she was pregnant with him and as a result he has many of the classic traits of a vampire . including a thirst for human blood that must be kept under control by a special serum which quenches his blood lust . blade has spent his life hunting down and killing vampires as a sort of revenge for the fact that one of their kind killed his mother . but this isn't as easy as it seems , because the vampires in blade's world are more sophisticated than the ones that you find in most films . the government and other authorities know of the existence of vampires , but they let them feast of the population at large because they are taking bribes from the vampires . where do vampires get money ? well , in blade , they run multinational companies in order to finance their vampire organizations . i personally thought that this whole secret corporate world run by vampires to be a very clever idea , and a great addition to the movie . blade runs up against the evil deacon frost ( stephen dorff ) a maverick in the vampire community . he isn't content to live among humans , and is convinced that the vampire race is the superior one and he means to insure its superiority . he has managed to translate the ancient vampire scrolls that tell of the method of making him an all-powerful vampire -- rendering him virtually unstoppable . it's up to blade to see that this doesn't transpire . admittedly , blade is style over substance through and through . the story is a relatively forgettable one , but it is fun none the less . the acting in blade is just about what you would expect from a movie of this type . this isn't a film that is going to win accolades for its performances , and the actors know this . the movie is played for fun and nobody seems to think otherwise . it's a popcorn movie , and no one involved has any illusions otherwise . blade's production values are as slick as any that you will find in your typical summer blockbuster . the combat sequences between blade and his vampire targets are incredibly well done . although , the mtv-style cuts did get on my nerves after a while during long sequences . blade is a fun movie with an interesting take on the vampire genre . this is not the movie for those of you who like your vampires in tuxedos and living in coffins in the basement of some gothic castle . what blade excels at is bringing the classic lore of the vampire into the next century with a fresh outlook on life . very cool .,0 => [9.99999692e-01 3.07945424e-07]\n",
      "the truman show ( paramount pictures ) running time : 1 hour 42 minutes starring jim carrey and ed harris directed by peter weir after a long wait , jim carrey's dramatic debut finally makes it to the big screen . in case you've been asleep for the last few months , the plot centres on truman burbank ( carrey ) who leads an seemingly idyllic life in the beautiful town of seahaven . his life seems so perfect , however , because it's controlled by christoff ( harris ) creator of the truman show , the program burbank is unwittingly the hero of . that's right , burbank's life is being broadcast live to the american public , and seahaven and all it's inhabitants are inclosed in a massive sound stage . the film takes the jerry springer format one step too far . . . with an idea so different , it would be easy for the director and screenwriter to dumb it down and appeal to the lowest common denominator . luckily , the film remains sensible enough to appeal to all ages , yet never seems to be a dumb carrey movie . talking of carrey , he's perfect in this movie , enjoying the best role in his career . his character is a re-inforced stanley ipkiss from the mask ( 1994 ) and is completely suited to carrey's persona . he occasionally falls into ace ventura mode , shrieking and being silly , but generally the audience is watching subdued carrey . he's not completely dramatic like the film promises , however . ed harris brings an extreme intensity to christoff , the megalomaniac creator of the show . quiet and well spoken , he burns an image into the viewer . unfortunately , he's barely in the film , and for the first hour dosen't appear at all ! also disappointing is natascha mcelhone's character sylvia . she plays the role well , but her character is sadly underwritten and is pushed to the sidelines just when the audience is used to her . the supporting cast is excellent , and the town of seahaven looks delightfully perfect , so perfect it's creepy . the philip glass soundtrack is also superb , and is used to great effect during the film . peter weir keeps the film going , clearly having fun . the film is far more upbeat than his previous films dead poets society and green card . although it is slightly slow to begin with , about half an hour into film the pace really picks up , and when christoff is introduced fully the film is on a roll . sadly , though , the film is practically over when the film is in full steam . also , concerning the ending , it is slightly too ambiguous , which was disappointing . the screenwriter , andrew niccol , who bought us gattaca ( 1997 ) delivers an entertaining script , and manages to keep the plot in trim . while christoff's plans to keep truman in do get increasingly silly , they never go over the line , which would have been easy for niccol to do . also , there's some funny gags involving product placement and the people who watch the show . overall , the truman show is excellent entertainment . certainly different from the usual crap hollywood produces , it should be viewed by everyone . it offers something to every member of the audience , and you would almost certainly not come out disappointed . overall rating= review by david wilcock ? 1998 \" you know , for kids \" - norville barnes,0 => [9.9999990e-01 1.0000001e-07]\n"
     ]
    }
   ],
   "source": [
    "#let's find the probability\n",
    "\n",
    "predicted_prob = svm_pipeline.predict_proba(docs_new)\n",
    "\n",
    "for doc, category in zip(docs_new, predicted_prob):\n",
    "    print(('%s => %s' % (doc, (category))))"
   ]
  },
  {
   "cell_type": "code",
   "execution_count": 84,
   "metadata": {},
   "outputs": [
    {
     "name": "stdout",
     "output_type": "stream",
     "text": [
      "(20, 1523)\n",
      "  (0, 701)\t0.5324019036382707\n",
      "  (0, 1443)\t0.5324019036382707\n",
      "  (0, 469)\t0.3868392935148088\n",
      "  (0, 320)\t0.5324019036382707\n",
      "  (1, 642)\t0.34914886471876844\n",
      "  (1, 545)\t0.18147637899500693\n",
      "  (1, 1107)\t0.34914886471876844\n",
      "  (1, 1500)\t0.34914886471876844\n",
      "  (1, 511)\t0.34914886471876844\n",
      "  (1, 671)\t0.19245291895408312\n",
      "  (1, 39)\t0.34914886471876844\n",
      "  (1, 1441)\t0.34914886471876844\n",
      "  (1, 821)\t0.34914886471876844\n",
      "  (1, 411)\t0.27693625568364877\n",
      "  (2, 968)\t0.3131280820217139\n",
      "  (2, 3)\t0.3131280820217139\n",
      "  (2, 303)\t0.3131280820217139\n",
      "  (2, 398)\t0.22751655319254135\n",
      "  (2, 635)\t0.27524437700919485\n",
      "  (2, 414)\t0.3131280820217139\n",
      "  (2, 724)\t0.3131280820217139\n",
      "  (2, 1333)\t0.2104817555320658\n",
      "  (2, 372)\t0.19607903932967125\n",
      "  (2, 194)\t0.19607903932967125\n",
      "  (2, 1339)\t0.19607903932967125\n",
      "  :\t:\n",
      "  (19, 1247)\t0.020737038221248165\n",
      "  (19, 358)\t0.022981267820847803\n",
      "  (19, 82)\t0.022981267820847803\n",
      "  (19, 191)\t0.07598511401988481\n",
      "  (19, 524)\t0.07664872327503107\n",
      "  (19, 1141)\t0.020737038221248165\n",
      "  (19, 978)\t0.020737038221248165\n",
      "  (19, 955)\t0.032742866291064626\n",
      "  (19, 714)\t0.15329744655006214\n",
      "  (19, 80)\t0.26060565913510564\n",
      "  (19, 1356)\t0.017573974254605853\n",
      "  (19, 189)\t0.028821820575927092\n",
      "  (19, 712)\t0.3065948931001243\n",
      "  (19, 24)\t0.015329744655006215\n",
      "  (19, 750)\t0.017573974254605853\n",
      "  (19, 933)\t0.015329744655006215\n",
      "  (19, 925)\t0.09512289457110477\n",
      "  (19, 956)\t0.045962535641695605\n",
      "  (19, 1329)\t0.5780458358739284\n",
      "  (19, 1360)\t0.18639037284793616\n",
      "  (19, 398)\t0.018996278504971202\n",
      "  (19, 372)\t0.032742866291064626\n",
      "  (19, 1339)\t0.016371433145532313\n",
      "  (19, 545)\t0.02717796987745851\n",
      "  (19, 671)\t0.1296981925916719\n"
     ]
    }
   ],
   "source": [
    "tfidf_vectorizer = TfidfVectorizer(decode_error ='ignore')\n",
    "tfidf = tfidf_vectorizer.fit_transform(docs_new)\n",
    "print(tfidf.shape)\n",
    "print(tfidf)"
   ]
  },
  {
   "cell_type": "code",
   "execution_count": 85,
   "metadata": {},
   "outputs": [
    {
     "data": {
      "text/plain": [
       "['10', '12', '1799', '19', '1930s', '1950s', '1960s', '1969', '1994', '1997']"
      ]
     },
     "execution_count": 85,
     "metadata": {},
     "output_type": "execute_result"
    }
   ],
   "source": [
    "tfidf_vectorizer.get_feature_names()[0:10]"
   ]
  },
  {
   "cell_type": "code",
   "execution_count": 86,
   "metadata": {},
   "outputs": [
    {
     "data": {
      "text/plain": [
       "['year',\n",
       " 'years',\n",
       " 'yes',\n",
       " 'yet',\n",
       " 'ying',\n",
       " 'york',\n",
       " 'you',\n",
       " 'young',\n",
       " 'youngest',\n",
       " 'your']"
      ]
     },
     "execution_count": 86,
     "metadata": {},
     "output_type": "execute_result"
    }
   ],
   "source": [
    "tfidf_vectorizer.get_feature_names()[-10:]"
   ]
  },
  {
   "cell_type": "code",
   "execution_count": 87,
   "metadata": {},
   "outputs": [
    {
     "data": {
      "text/plain": [
       "array([[0.        , 0.        , 0.        , ..., 0.        , 0.        ,\n",
       "        0.        ],\n",
       "       [0.        , 0.        , 0.        , ..., 0.        , 0.        ,\n",
       "        0.        ],\n",
       "       [0.        , 0.        , 0.        , ..., 0.        , 0.        ,\n",
       "        0.        ],\n",
       "       ...,\n",
       "       [0.        , 0.01455286, 0.        , ..., 0.        , 0.        ,\n",
       "        0.021148  ],\n",
       "       [0.        , 0.        , 0.        , ..., 0.        , 0.        ,\n",
       "        0.03560784],\n",
       "       [0.        , 0.        , 0.        , ..., 0.        , 0.        ,\n",
       "        0.        ]])"
      ]
     },
     "execution_count": 87,
     "metadata": {},
     "output_type": "execute_result"
    }
   ],
   "source": [
    "tfidf_matrix = tfidf_vectorizer.fit_transform(docs_new).toarray()\n",
    "tfidf_matrix"
   ]
  },
  {
   "cell_type": "code",
   "execution_count": 88,
   "metadata": {},
   "outputs": [
    {
     "data": {
      "text/html": [
       "<div>\n",
       "<style scoped>\n",
       "    .dataframe tbody tr th:only-of-type {\n",
       "        vertical-align: middle;\n",
       "    }\n",
       "\n",
       "    .dataframe tbody tr th {\n",
       "        vertical-align: top;\n",
       "    }\n",
       "\n",
       "    .dataframe thead th {\n",
       "        text-align: right;\n",
       "    }\n",
       "</style>\n",
       "<table border=\"1\" class=\"dataframe\">\n",
       "  <thead>\n",
       "    <tr style=\"text-align: right;\">\n",
       "      <th></th>\n",
       "      <th>10</th>\n",
       "      <th>12</th>\n",
       "      <th>1799</th>\n",
       "      <th>19</th>\n",
       "      <th>1930s</th>\n",
       "      <th>1950s</th>\n",
       "      <th>1960s</th>\n",
       "      <th>1969</th>\n",
       "      <th>1994</th>\n",
       "      <th>1997</th>\n",
       "      <th>...</th>\n",
       "      <th>year</th>\n",
       "      <th>years</th>\n",
       "      <th>yes</th>\n",
       "      <th>yet</th>\n",
       "      <th>ying</th>\n",
       "      <th>york</th>\n",
       "      <th>you</th>\n",
       "      <th>young</th>\n",
       "      <th>youngest</th>\n",
       "      <th>your</th>\n",
       "    </tr>\n",
       "  </thead>\n",
       "  <tbody>\n",
       "    <tr>\n",
       "      <td>ï»¿\"CVS eyes virtual interviews</td>\n",
       "      <td>0.0</td>\n",
       "      <td>0.0</td>\n",
       "      <td>0.0</td>\n",
       "      <td>0.000000</td>\n",
       "      <td>0.0</td>\n",
       "      <td>0.0</td>\n",
       "      <td>0.0</td>\n",
       "      <td>0.0</td>\n",
       "      <td>0.0</td>\n",
       "      <td>0.0</td>\n",
       "      <td>...</td>\n",
       "      <td>0.0</td>\n",
       "      <td>0.0</td>\n",
       "      <td>0.0</td>\n",
       "      <td>0.0</td>\n",
       "      <td>0.0</td>\n",
       "      <td>0.0</td>\n",
       "      <td>0.0</td>\n",
       "      <td>0.0</td>\n",
       "      <td>0.0</td>\n",
       "      <td>0.0</td>\n",
       "    </tr>\n",
       "    <tr>\n",
       "      <td>EEOC: Manufacturer violated ADA in firing worker returning from hospitalization</td>\n",
       "      <td>0.0</td>\n",
       "      <td>0.0</td>\n",
       "      <td>0.0</td>\n",
       "      <td>0.000000</td>\n",
       "      <td>0.0</td>\n",
       "      <td>0.0</td>\n",
       "      <td>0.0</td>\n",
       "      <td>0.0</td>\n",
       "      <td>0.0</td>\n",
       "      <td>0.0</td>\n",
       "      <td>...</td>\n",
       "      <td>0.0</td>\n",
       "      <td>0.0</td>\n",
       "      <td>0.0</td>\n",
       "      <td>0.0</td>\n",
       "      <td>0.0</td>\n",
       "      <td>0.0</td>\n",
       "      <td>0.0</td>\n",
       "      <td>0.0</td>\n",
       "      <td>0.0</td>\n",
       "      <td>0.0</td>\n",
       "    </tr>\n",
       "    <tr>\n",
       "      <td>Employees confident they can do their jobs effectively from home during COVID-19 pandemic</td>\n",
       "      <td>0.0</td>\n",
       "      <td>0.0</td>\n",
       "      <td>0.0</td>\n",
       "      <td>0.313128</td>\n",
       "      <td>0.0</td>\n",
       "      <td>0.0</td>\n",
       "      <td>0.0</td>\n",
       "      <td>0.0</td>\n",
       "      <td>0.0</td>\n",
       "      <td>0.0</td>\n",
       "      <td>...</td>\n",
       "      <td>0.0</td>\n",
       "      <td>0.0</td>\n",
       "      <td>0.0</td>\n",
       "      <td>0.0</td>\n",
       "      <td>0.0</td>\n",
       "      <td>0.0</td>\n",
       "      <td>0.0</td>\n",
       "      <td>0.0</td>\n",
       "      <td>0.0</td>\n",
       "      <td>0.0</td>\n",
       "    </tr>\n",
       "    <tr>\n",
       "      <td>Court revives coachs suit, citing need to consider the overall likelihood of discrimination</td>\n",
       "      <td>0.0</td>\n",
       "      <td>0.0</td>\n",
       "      <td>0.0</td>\n",
       "      <td>0.000000</td>\n",
       "      <td>0.0</td>\n",
       "      <td>0.0</td>\n",
       "      <td>0.0</td>\n",
       "      <td>0.0</td>\n",
       "      <td>0.0</td>\n",
       "      <td>0.0</td>\n",
       "      <td>...</td>\n",
       "      <td>0.0</td>\n",
       "      <td>0.0</td>\n",
       "      <td>0.0</td>\n",
       "      <td>0.0</td>\n",
       "      <td>0.0</td>\n",
       "      <td>0.0</td>\n",
       "      <td>0.0</td>\n",
       "      <td>0.0</td>\n",
       "      <td>0.0</td>\n",
       "      <td>0.0</td>\n",
       "    </tr>\n",
       "    <tr>\n",
       "      <td>From manufacturing to HR: One womans journey through Honda</td>\n",
       "      <td>0.0</td>\n",
       "      <td>0.0</td>\n",
       "      <td>0.0</td>\n",
       "      <td>0.000000</td>\n",
       "      <td>0.0</td>\n",
       "      <td>0.0</td>\n",
       "      <td>0.0</td>\n",
       "      <td>0.0</td>\n",
       "      <td>0.0</td>\n",
       "      <td>0.0</td>\n",
       "      <td>...</td>\n",
       "      <td>0.0</td>\n",
       "      <td>0.0</td>\n",
       "      <td>0.0</td>\n",
       "      <td>0.0</td>\n",
       "      <td>0.0</td>\n",
       "      <td>0.0</td>\n",
       "      <td>0.0</td>\n",
       "      <td>0.0</td>\n",
       "      <td>0.0</td>\n",
       "      <td>0.0</td>\n",
       "    </tr>\n",
       "  </tbody>\n",
       "</table>\n",
       "<p>5 rows × 1523 columns</p>\n",
       "</div>"
      ],
      "text/plain": [
       "                                                     10   12  1799        19  \\\n",
       "ï»¿\"CVS eyes virtual interviews                     0.0  0.0   0.0  0.000000   \n",
       "EEOC: Manufacturer violated ADA in firing worke...  0.0  0.0   0.0  0.000000   \n",
       "Employees confident they can do their jobs effe...  0.0  0.0   0.0  0.313128   \n",
       "Court revives coachs suit, citing need to consi...  0.0  0.0   0.0  0.000000   \n",
       "From manufacturing to HR: One womans journey th...  0.0  0.0   0.0  0.000000   \n",
       "\n",
       "                                                    1930s  1950s  1960s  1969  \\\n",
       "ï»¿\"CVS eyes virtual interviews                       0.0    0.0    0.0   0.0   \n",
       "EEOC: Manufacturer violated ADA in firing worke...    0.0    0.0    0.0   0.0   \n",
       "Employees confident they can do their jobs effe...    0.0    0.0    0.0   0.0   \n",
       "Court revives coachs suit, citing need to consi...    0.0    0.0    0.0   0.0   \n",
       "From manufacturing to HR: One womans journey th...    0.0    0.0    0.0   0.0   \n",
       "\n",
       "                                                    1994  1997  ...  year  \\\n",
       "ï»¿\"CVS eyes virtual interviews                      0.0   0.0  ...   0.0   \n",
       "EEOC: Manufacturer violated ADA in firing worke...   0.0   0.0  ...   0.0   \n",
       "Employees confident they can do their jobs effe...   0.0   0.0  ...   0.0   \n",
       "Court revives coachs suit, citing need to consi...   0.0   0.0  ...   0.0   \n",
       "From manufacturing to HR: One womans journey th...   0.0   0.0  ...   0.0   \n",
       "\n",
       "                                                    years  yes  yet  ying  \\\n",
       "ï»¿\"CVS eyes virtual interviews                       0.0  0.0  0.0   0.0   \n",
       "EEOC: Manufacturer violated ADA in firing worke...    0.0  0.0  0.0   0.0   \n",
       "Employees confident they can do their jobs effe...    0.0  0.0  0.0   0.0   \n",
       "Court revives coachs suit, citing need to consi...    0.0  0.0  0.0   0.0   \n",
       "From manufacturing to HR: One womans journey th...    0.0  0.0  0.0   0.0   \n",
       "\n",
       "                                                    york  you  young  \\\n",
       "ï»¿\"CVS eyes virtual interviews                      0.0  0.0    0.0   \n",
       "EEOC: Manufacturer violated ADA in firing worke...   0.0  0.0    0.0   \n",
       "Employees confident they can do their jobs effe...   0.0  0.0    0.0   \n",
       "Court revives coachs suit, citing need to consi...   0.0  0.0    0.0   \n",
       "From manufacturing to HR: One womans journey th...   0.0  0.0    0.0   \n",
       "\n",
       "                                                    youngest  your  \n",
       "ï»¿\"CVS eyes virtual interviews                          0.0   0.0  \n",
       "EEOC: Manufacturer violated ADA in firing worke...       0.0   0.0  \n",
       "Employees confident they can do their jobs effe...       0.0   0.0  \n",
       "Court revives coachs suit, citing need to consi...       0.0   0.0  \n",
       "From manufacturing to HR: One womans journey th...       0.0   0.0  \n",
       "\n",
       "[5 rows x 1523 columns]"
      ]
     },
     "execution_count": 88,
     "metadata": {},
     "output_type": "execute_result"
    }
   ],
   "source": [
    "# Document Term Matrix\n",
    "pd.DataFrame(tfidf_matrix,index=docs_new,columns=tfidf_vectorizer.get_feature_names()).head()"
   ]
  },
  {
   "cell_type": "code",
   "execution_count": 89,
   "metadata": {},
   "outputs": [
    {
     "data": {
      "text/plain": [
       "0.9545454545454546"
      ]
     },
     "execution_count": 89,
     "metadata": {},
     "output_type": "execute_result"
    }
   ],
   "source": [
    "#SVm removing stopwords & using bigram as well\n",
    "svm_pipeline = Pipeline([('tfidf', TfidfVectorizer(decode_error ='ignore', stop_words='english', ngram_range=(1, 2))), ('clf', SVC(kernel='linear', probability=True))])\n",
    "svm_pipeline = svm_pipeline.fit(x_train, y_train)\n",
    "predicted = svm_pipeline.predict(x_test)\n",
    "np.mean(predicted == y_test)"
   ]
  },
  {
   "cell_type": "code",
   "execution_count": 90,
   "metadata": {},
   "outputs": [
    {
     "name": "stdout",
     "output_type": "stream",
     "text": [
      "[[27  2]\n",
      " [ 1 36]]\n",
      "              precision    recall  f1-score   support\n",
      "\n",
      "           0       0.96      0.93      0.95        29\n",
      "           1       0.95      0.97      0.96        37\n",
      "\n",
      "    accuracy                           0.95        66\n",
      "   macro avg       0.96      0.95      0.95        66\n",
      "weighted avg       0.95      0.95      0.95        66\n",
      "\n"
     ]
    }
   ],
   "source": [
    "print(confusion_matrix(y_test,predicted))\n",
    "print(classification_report(y_test,predicted))"
   ]
  },
  {
   "cell_type": "code",
   "execution_count": 92,
   "metadata": {},
   "outputs": [
    {
     "name": "stdout",
     "output_type": "stream",
     "text": [
      "10\n",
      "12\n",
      "1799\n",
      "19\n",
      "1930s\n",
      "1950s\n",
      "1960s\n",
      "1969\n",
      "1994\n",
      "1997\n"
     ]
    }
   ],
   "source": [
    "feature_names = tfidf_vectorizer.get_feature_names()\n",
    "for i in feature_names[:10]:\n",
    "    print(i)"
   ]
  },
  {
   "cell_type": "code",
   "execution_count": 93,
   "metadata": {},
   "outputs": [
    {
     "name": "stdout",
     "output_type": "stream",
     "text": [
      "('0', -7.689104593737298, '10')\n",
      "('0', -7.689104593737298, '12')\n",
      "('0', -7.689104593737298, '1994')\n",
      "('0', -7.689104593737298, '1997')\n",
      "('0', -7.689104593737298, '1998')\n",
      "('0', -7.689104593737298, '1999')\n",
      "('0', -7.689104593737298, '_too_')\n",
      "('0', -7.689104593737298, 'able')\n",
      "('0', -7.689104593737298, 'accept')\n",
      "('0', -7.689104593737298, 'accolades')\n",
      "=========================================\n",
      "('1', -6.395168681257706, 'directed')\n",
      "('1', -6.527998289826769, 'ventura')\n",
      "('1', -6.563551407510135, 'will')\n",
      "('1', -6.694746359103001, 'storyline')\n",
      "('1', -6.721870338491834, 'content')\n",
      "('1', -6.738521127155324, 'karate')\n",
      "('1', -6.7623563976730185, 'veteran')\n",
      "('1', -6.767056321012385, 'flick')\n",
      "('1', -6.810558980298979, 'glass')\n",
      "('1', -6.839012004938961, 'convince')\n"
     ]
    }
   ],
   "source": [
    "#https://stackoverflow.com/questions/26976362/how-to-get-most-informative-features-for-scikit-learn-classifier-for-different-c\n",
    "\n",
    "def most_informative_feature_for_binanry_classification(vectorizer, classifier, n=50):\n",
    "    \n",
    "    class_labels = classifier.classes_\n",
    "    feature_names = vectorizer.get_feature_names()\n",
    "    topn_class1 = sorted(zip(classifier.coef_[0], feature_names))[:n]\n",
    "    topn_class2 = sorted(zip(classifier.coef_[0], feature_names))[-n:]\n",
    "\n",
    "    for coef, feat in topn_class1:\n",
    "        print((class_labels[0], coef, feat))\n",
    "\n",
    "    print(\"=========================================\")\n",
    "\n",
    "    for coef, feat in reversed(topn_class2):\n",
    "        print((class_labels[1], coef, feat))\n",
    "\n",
    "\n",
    "most_informative_feature_for_binanry_classification(tfidf_vectorizer, nb, n=10)"
   ]
  },
  {
   "cell_type": "markdown",
   "metadata": {},
   "source": [
    "## Fifth “storytelling”."
   ]
  },
  {
   "cell_type": "markdown",
   "metadata": {},
   "source": [
    "The objective of this homework is To build a text classification (or predictive) model, that contains texts (news articles) and labels (either HR[1] or non-HR[0]). \n",
    "Based on reviews analysis whether it is HR or NON-HR by the used of sentence-level classification.\n",
    "Specifically, it aims to:apply sklearn, NLP, classifier,the Naive Bayes algorithm KNN and SVM\n",
    " Support Vector Machines Algorithm\n",
    "The Support Vector Machines algorithm verifies to be the utmost effective among three (3) algorithms (k-nearest neighbors , Naïve Bayes and Support Vector Machines) for classification of text of review mining.\n",
    "The performance of classification approaches can be created out by using the following metrics: (1) recall is the\n",
    "count of true positive and describes as the proportion of correct instances that classified as the given class over the\n",
    "number of actual total in that class; (2) precision describes as the ratio of the correctly classified over number of the all experimental classifications; while (3) F-Measure is the combined portion for precision and recall.\n",
    "\n",
    "\n",
    "This this homework is To build a text classification (or predictive) model, that contains texts (news articles) and labels (either HR[1] or non-HR[0]). \n",
    "reviews from https://www.hrdive.com/ and movie reviews from IMDB.com. \n",
    "It uses algorithm such as Support Vector Machines algorithm to categorize the review as HR, or NON-HR. \n",
    "This module contains texts (news articles) and labels (either HR[1] or non-HR[0]) word lists which will be saved in the two (2) separate text file and later it will be used for the reviews analysis.\n",
    " - Training Data\n",
    "The sentences were further processed to remove stop words (Common words that have a little value in the “a”,\n",
    "“ay” “the”,”ang”) and stemming (words that carry\n",
    "similar meanings, but in different grammatical forms such as “runner”, and “running” was combine into one\n",
    "word “run”) was applied also in the sentence preprocessing.\n",
    " - Support Vector Machines Classifier\n",
    "Support Vector Machines classifier algorithm is created on applying SVC’ theorem. Document analysis and text\n",
    "classification are around of the applications of this set of rules.\n",
    "\n",
    "Methodology of text classification (or predictive) model\n",
    " - Data gathering\n",
    "were extractied reviews from https://www.hrdive.com/ and movie reviews from IMDB.com.There were\n",
    "2653 movies reviews and HR articles \n",
    "  Measures and Analysis\n",
    "The effectiveness of the web reviews analysis was evaluated based on accuracy, precision, recall and F-score.\n",
    "Accuracy is the total correctness of the classification . An accuracy of one-hundred percent (99.7%)\n",
    "means that the predicted instances are precisely the same as the actual instances.\n",
    "- The 769 sample reviews or (30%) were randomly picked. To determine the numerical findings of the result per metric.\n",
    "- 143 positive reviews correctly predicted as positive & 0 false positive ==> This indicates that you would expect some neutral in the review. \n",
    "- 624 negative reviews correctly as negative & 2 false negative ==> This indicates that you would expect some neutral in the review.\n",
    "\n",
    "\n",
    " overall accuracy:\n",
    "0.9973992197659298\n",
    "\n",
    " confusion_matrix:\n",
    "[624   2]\n",
    " [  0 143]\n",
    "\n",
    " Here is the classification report:\n",
    "              precision    recall  f1-score   support\n",
    "\n",
    "           0       1.00      1.00      1.00       626\n",
    "           1       0.99      1.00      0.99       143\n",
    "\n",
    "    accuracy                           1.00       769\n",
    "   macro avg       0.99      1.00      1.00       769\n",
    "weighted avg       1.00      1.00      1.00       769\n",
    "\n",
    "- I achieved 99.7% accuracy\n",
    "\n",
    " - Limitations.\n",
    "My machine learning model did not take much time to execute. One of the reasons for the quick training time is the fact that i had a relatively smaller training set. I had 2653 documents, of which we used 70% (1764) for training. However, in real-world scenarios, there can be millions of documents. In such cases, it can take hours or even days  to train the algorithms. Therefore."
   ]
  },
  {
   "cell_type": "markdown",
   "metadata": {},
   "source": [
    "## Neural Network2 (NN)"
   ]
  },
  {
   "cell_type": "code",
   "execution_count": 59,
   "metadata": {},
   "outputs": [
    {
     "data": {
      "text/plain": [
       "0.9973992197659298"
      ]
     },
     "execution_count": 59,
     "metadata": {},
     "output_type": "execute_result"
    }
   ],
   "source": [
    "from sklearn.neural_network import MLPClassifier\n",
    "# build naive baysian model for text classification & evaluation overall accuracy\n",
    "mlp = MLPClassifier(hidden_layer_sizes=(8,8,8), activation='relu', solver='adam', max_iter=500)\n",
    "mlp.fit(X_train, y_train)\n",
    "predicted = mlp.predict(X_test)\n",
    "np.mean(predicted == y_test)"
   ]
  },
  {
   "cell_type": "code",
   "execution_count": 62,
   "metadata": {},
   "outputs": [
    {
     "name": "stdout",
     "output_type": "stream",
     "text": [
      "[[624   2]\n",
      " [  0 143]]\n",
      "              precision    recall  f1-score   support\n",
      "\n",
      "           0       1.00      1.00      1.00       626\n",
      "           1       0.99      1.00      0.99       143\n",
      "\n",
      "    accuracy                           1.00       769\n",
      "   macro avg       0.99      1.00      1.00       769\n",
      "weighted avg       1.00      1.00      1.00       769\n",
      "\n"
     ]
    }
   ],
   "source": [
    "print(confusion_matrix(y_test,predicted))\n",
    "print(classification_report(y_test,predicted))"
   ]
  },
  {
   "cell_type": "markdown",
   "metadata": {},
   "source": [
    "To summarize the confusion matrix : TRUE POSITIVES (TP)= 2,TRUE NEGATIVES (TN)= 624,FALSE POSITIVES (FP)= 0, FALSE NEGATIVES (FN)= 143"
   ]
  }
 ],
 "metadata": {
  "kernelspec": {
   "display_name": "Python 3",
   "language": "python",
   "name": "python3"
  },
  "language_info": {
   "codemirror_mode": {
    "name": "ipython",
    "version": 3
   },
   "file_extension": ".py",
   "mimetype": "text/x-python",
   "name": "python",
   "nbconvert_exporter": "python",
   "pygments_lexer": "ipython3",
   "version": "3.7.4"
  },
  "toc": {
   "base_numbering": 1,
   "nav_menu": {},
   "number_sections": true,
   "sideBar": true,
   "skip_h1_title": false,
   "title_cell": "Table of Contents",
   "title_sidebar": "Contents",
   "toc_cell": false,
   "toc_position": {},
   "toc_section_display": true,
   "toc_window_display": false
  }
 },
 "nbformat": 4,
 "nbformat_minor": 4
}
